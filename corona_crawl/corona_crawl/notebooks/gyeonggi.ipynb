{
 "cells": [
  {
   "cell_type": "code",
   "execution_count": 1,
   "metadata": {
    "ExecuteTime": {
     "end_time": "2020-04-18T06:57:32.128750Z",
     "start_time": "2020-04-18T06:57:31.869120Z"
    }
   },
   "outputs": [],
   "source": [
    "import pandas as pd\n",
    "import re\n",
    "import datetime\n",
    "import numpy as np"
   ]
  },
  {
   "cell_type": "code",
   "execution_count": 2,
   "metadata": {
    "ExecuteTime": {
     "end_time": "2020-04-18T07:17:10.894952Z",
     "start_time": "2020-04-18T07:17:10.881656Z"
    }
   },
   "outputs": [],
   "source": [
    "gyeonggi = pd.read_csv('./data/gyeonggi.csv')"
   ]
  },
  {
   "cell_type": "code",
   "execution_count": 3,
   "metadata": {
    "ExecuteTime": {
     "end_time": "2020-04-18T07:17:15.224639Z",
     "start_time": "2020-04-18T07:17:15.201604Z"
    }
   },
   "outputs": [
    {
     "data": {
      "text/html": [
       "<div>\n",
       "<style scoped>\n",
       "    .dataframe tbody tr th:only-of-type {\n",
       "        vertical-align: middle;\n",
       "    }\n",
       "\n",
       "    .dataframe tbody tr th {\n",
       "        vertical-align: top;\n",
       "    }\n",
       "\n",
       "    .dataframe thead th {\n",
       "        text-align: right;\n",
       "    }\n",
       "</style>\n",
       "<table border=\"1\" class=\"dataframe\">\n",
       "  <thead>\n",
       "    <tr style=\"text-align: right;\">\n",
       "      <th></th>\n",
       "      <th>confirmed_date</th>\n",
       "      <th>province</th>\n",
       "      <th>city</th>\n",
       "      <th>sex</th>\n",
       "      <th>age</th>\n",
       "    </tr>\n",
       "  </thead>\n",
       "  <tbody>\n",
       "    <tr>\n",
       "      <th>0</th>\n",
       "      <td>4.12</td>\n",
       "      <td>경기</td>\n",
       "      <td>김포시</td>\n",
       "      <td>여</td>\n",
       "      <td>22</td>\n",
       "    </tr>\n",
       "    <tr>\n",
       "      <th>1</th>\n",
       "      <td>4.12</td>\n",
       "      <td>경기</td>\n",
       "      <td>구리시</td>\n",
       "      <td>여</td>\n",
       "      <td>79</td>\n",
       "    </tr>\n",
       "    <tr>\n",
       "      <th>2</th>\n",
       "      <td>4.12</td>\n",
       "      <td>경기</td>\n",
       "      <td>안성시</td>\n",
       "      <td>여</td>\n",
       "      <td>69</td>\n",
       "    </tr>\n",
       "    <tr>\n",
       "      <th>3</th>\n",
       "      <td>4.12</td>\n",
       "      <td>경기</td>\n",
       "      <td>양주시</td>\n",
       "      <td>여</td>\n",
       "      <td>53</td>\n",
       "    </tr>\n",
       "    <tr>\n",
       "      <th>4</th>\n",
       "      <td>4.12</td>\n",
       "      <td>경기</td>\n",
       "      <td>성남시</td>\n",
       "      <td>여</td>\n",
       "      <td>25</td>\n",
       "    </tr>\n",
       "  </tbody>\n",
       "</table>\n",
       "</div>"
      ],
      "text/plain": [
       "  confirmed_date province city sex  age\n",
       "0           4.12       경기  김포시   여   22\n",
       "1           4.12       경기  구리시   여   79\n",
       "2           4.12       경기  안성시   여   69\n",
       "3           4.12       경기  양주시   여   53\n",
       "4           4.12       경기  성남시   여   25"
      ]
     },
     "execution_count": 3,
     "metadata": {},
     "output_type": "execute_result"
    }
   ],
   "source": [
    "gyeonggi.head()"
   ]
  },
  {
   "cell_type": "code",
   "execution_count": 4,
   "metadata": {
    "ExecuteTime": {
     "end_time": "2020-04-18T07:33:34.557393Z",
     "start_time": "2020-04-18T07:33:34.543174Z"
    }
   },
   "outputs": [],
   "source": [
    "regex = re.compile('\\d.\\d+')\n",
    "\n",
    "gyeonggi['confirmed_date'] = gyeonggi['confirmed_date'].apply(lambda x: regex.search(x.strip()).group())\n",
    "gyeonggi['confirmed_date'] = gyeonggi['confirmed_date'].apply(lambda x: '2020.'+x)\n",
    "gyeonggi['confirmed_date']= pd.to_datetime(gyeonggi['confirmed_date'], format='%Y.%m.%d')"
   ]
  },
  {
   "cell_type": "code",
   "execution_count": 5,
   "metadata": {
    "ExecuteTime": {
     "end_time": "2020-04-18T07:33:43.911498Z",
     "start_time": "2020-04-18T07:33:43.902917Z"
    }
   },
   "outputs": [
    {
     "data": {
      "text/html": [
       "<div>\n",
       "<style scoped>\n",
       "    .dataframe tbody tr th:only-of-type {\n",
       "        vertical-align: middle;\n",
       "    }\n",
       "\n",
       "    .dataframe tbody tr th {\n",
       "        vertical-align: top;\n",
       "    }\n",
       "\n",
       "    .dataframe thead th {\n",
       "        text-align: right;\n",
       "    }\n",
       "</style>\n",
       "<table border=\"1\" class=\"dataframe\">\n",
       "  <thead>\n",
       "    <tr style=\"text-align: right;\">\n",
       "      <th></th>\n",
       "      <th>confirmed_date</th>\n",
       "      <th>province</th>\n",
       "      <th>city</th>\n",
       "      <th>sex</th>\n",
       "      <th>age</th>\n",
       "    </tr>\n",
       "  </thead>\n",
       "  <tbody>\n",
       "    <tr>\n",
       "      <th>0</th>\n",
       "      <td>2020-04-12</td>\n",
       "      <td>경기</td>\n",
       "      <td>김포시</td>\n",
       "      <td>여</td>\n",
       "      <td>22</td>\n",
       "    </tr>\n",
       "    <tr>\n",
       "      <th>1</th>\n",
       "      <td>2020-04-12</td>\n",
       "      <td>경기</td>\n",
       "      <td>구리시</td>\n",
       "      <td>여</td>\n",
       "      <td>79</td>\n",
       "    </tr>\n",
       "    <tr>\n",
       "      <th>2</th>\n",
       "      <td>2020-04-12</td>\n",
       "      <td>경기</td>\n",
       "      <td>안성시</td>\n",
       "      <td>여</td>\n",
       "      <td>69</td>\n",
       "    </tr>\n",
       "    <tr>\n",
       "      <th>3</th>\n",
       "      <td>2020-04-12</td>\n",
       "      <td>경기</td>\n",
       "      <td>양주시</td>\n",
       "      <td>여</td>\n",
       "      <td>53</td>\n",
       "    </tr>\n",
       "    <tr>\n",
       "      <th>4</th>\n",
       "      <td>2020-04-12</td>\n",
       "      <td>경기</td>\n",
       "      <td>성남시</td>\n",
       "      <td>여</td>\n",
       "      <td>25</td>\n",
       "    </tr>\n",
       "  </tbody>\n",
       "</table>\n",
       "</div>"
      ],
      "text/plain": [
       "  confirmed_date province city sex  age\n",
       "0     2020-04-12       경기  김포시   여   22\n",
       "1     2020-04-12       경기  구리시   여   79\n",
       "2     2020-04-12       경기  안성시   여   69\n",
       "3     2020-04-12       경기  양주시   여   53\n",
       "4     2020-04-12       경기  성남시   여   25"
      ]
     },
     "execution_count": 5,
     "metadata": {},
     "output_type": "execute_result"
    }
   ],
   "source": [
    "gyeonggi.head()"
   ]
  },
  {
   "cell_type": "code",
   "execution_count": 9,
   "metadata": {
    "ExecuteTime": {
     "end_time": "2020-04-18T07:38:31.186995Z",
     "start_time": "2020-04-18T07:38:31.183484Z"
    }
   },
   "outputs": [
    {
     "data": {
      "text/plain": [
       "{'가평군',\n",
       " '고양시',\n",
       " '과천시',\n",
       " '광명시',\n",
       " '광주시',\n",
       " '구리시',\n",
       " '군포시',\n",
       " '김포시',\n",
       " '남양주시',\n",
       " '동두천시',\n",
       " '부천시',\n",
       " '성남시',\n",
       " '수원시',\n",
       " '시흥시',\n",
       " '안산시',\n",
       " '안성시',\n",
       " '안양시',\n",
       " '양주시',\n",
       " '오산시',\n",
       " '용인시',\n",
       " '의왕시',\n",
       " '의정부시',\n",
       " '이천시',\n",
       " '파주시',\n",
       " '평택시',\n",
       " '포천시',\n",
       " '하남시',\n",
       " '화성시'}"
      ]
     },
     "execution_count": 9,
     "metadata": {},
     "output_type": "execute_result"
    }
   ],
   "source": [
    "set(gyeonggi['city'])"
   ]
  },
  {
   "cell_type": "code",
   "execution_count": 10,
   "metadata": {
    "ExecuteTime": {
     "end_time": "2020-04-18T07:40:44.362089Z",
     "start_time": "2020-04-18T07:40:44.343835Z"
    }
   },
   "outputs": [],
   "source": [
    "day_gyeonggi = gyeonggi.groupby(['confirmed_date', 'city'])['city'].count().reset_index(name=\"count\")\n",
    "day_gyeonggi['cum_count'] = day_gyeonggi['count'].iloc[::1].groupby(day_gyeonggi['city']).cumsum()\n",
    "\n",
    "day_gyeonggi = day_gyeonggi.pivot(index='confirmed_date', columns='city', values='cum_count')\n",
    "day_gyeonggi = day_gyeonggi.fillna(method='pad').fillna(0)\n",
    "\n",
    "idx = pd.date_range(day_gyeonggi.index.min(), day_gyeonggi.index.max())\n",
    "day_gyeonggi = day_gyeonggi.reindex(idx, method='pad')\n",
    "\n",
    "day_gyeonggi = day_gyeonggi.stack().reset_index()\n",
    "day_gyeonggi.columns = ['confirmed_date', 'city', 'cum_count']"
   ]
  },
  {
   "cell_type": "code",
   "execution_count": 11,
   "metadata": {
    "ExecuteTime": {
     "end_time": "2020-04-18T07:41:05.813379Z",
     "start_time": "2020-04-18T07:41:05.788824Z"
    }
   },
   "outputs": [],
   "source": [
    "day3_idx = pd.date_range(start=day_gyeonggi['confirmed_date'].min(),\n",
    "                        periods=len(day_gyeonggi.set_index('confirmed_date').resample('3D').first()), \n",
    "                        freq='3D')\n",
    "day7_idx = pd.date_range(day_gyeonggi['confirmed_date'].min(), \n",
    "                        periods=len(day_gyeonggi.set_index('confirmed_date').resample('7D').first()), \n",
    "                        freq='7D')\n",
    "day15_idx = pd.date_range(day_gyeonggi['confirmed_date'].min(), \n",
    "                        periods=len(day_gyeonggi.set_index('confirmed_date').resample('15D').first()), \n",
    "                        freq='15D')"
   ]
  },
  {
   "cell_type": "code",
   "execution_count": 12,
   "metadata": {
    "ExecuteTime": {
     "end_time": "2020-04-18T07:41:27.812024Z",
     "start_time": "2020-04-18T07:41:27.778840Z"
    }
   },
   "outputs": [],
   "source": [
    "day3_gyeonggi= day_gyeonggi.set_index('confirmed_date').loc[day3_idx].reset_index()\n",
    "day7_gyeonggi= day_gyeonggi.set_index('confirmed_date').loc[day7_idx].reset_index()\n",
    "day15_gyeonggi= day_gyeonggi.set_index('confirmed_date').loc[day15_idx].reset_index()\n",
    "\n",
    "\n",
    "day_gyeonggi['confirmed_date'] = day_gyeonggi['confirmed_date'].astype(str)\n",
    "day3_gyeonggi['confirmed_date'] = day3_gyeonggi['confirmed_date'].astype(str)\n",
    "day7_gyeonggi['confirmed_date'] = day7_gyeonggi['confirmed_date'].astype(str)\n",
    "day15_gyeonggi['confirmed_date'] = day15_gyeonggi['confirmed_date'].astype(str)"
   ]
  },
  {
   "cell_type": "code",
   "execution_count": 19,
   "metadata": {
    "ExecuteTime": {
     "end_time": "2020-04-18T07:45:57.238415Z",
     "start_time": "2020-04-18T07:45:57.234245Z"
    }
   },
   "outputs": [],
   "source": [
    "def plot_confirmed(df):\n",
    "    fig = px.bar(df,\n",
    "             x=\"city\", y=\"cum_count\",\n",
    "             animation_frame=\"confirmed_date\",\n",
    "             animation_group=\"city\",\n",
    "             range_y=[0, df['cum_count'].max()+5])\n",
    "    fig.update_layout(title_text='Inferenced Peoples In Seoul City With Animation Bar Plot', showlegend=False)\n",
    "    fig.update_xaxes(tickangle=45, title_text=\"Time Axis\")\n",
    "    fig.update_yaxes(tickangle=15, ticksuffix=\"명\", title_text=\"Inferenced Peoples\")\n",
    "\n",
    "    return fig"
   ]
  },
  {
   "cell_type": "code",
   "execution_count": 16,
   "metadata": {
    "ExecuteTime": {
     "end_time": "2020-04-18T07:42:49.562841Z",
     "start_time": "2020-04-18T07:42:49.247738Z"
    }
   },
   "outputs": [],
   "source": [
    "import plotly.express as px"
   ]
  },
  {
   "cell_type": "code",
   "execution_count": 20,
   "metadata": {
    "ExecuteTime": {
     "end_time": "2020-04-18T07:46:01.509178Z",
     "start_time": "2020-04-18T07:46:01.148489Z"
    }
   },
   "outputs": [
    {
     "data": {
      "application/vnd.plotly.v1+json": {
       "config": {
        "plotlyServerURL": "https://plot.ly"
       },
       "data": [
        {
         "alignmentgroup": "True",
         "hovertemplate": "confirmed_date=2020-01-26<br>city=%{x}<br>cum_count=%{y}<extra></extra>",
         "ids": [
          "가평군",
          "고양시",
          "과천시",
          "광명시",
          "광주시",
          "구리시",
          "군포시",
          "김포시",
          "남양주시",
          "동두천시",
          "부천시",
          "성남시",
          "수원시",
          "시흥시",
          "안산시",
          "안성시",
          "안양시",
          "양주시",
          "오산시",
          "용인시",
          "의왕시",
          "의정부시",
          "이천시",
          "파주시",
          "평택시",
          "포천시",
          "하남시",
          "화성시"
         ],
         "legendgroup": "",
         "marker": {
          "color": "#636efa"
         },
         "name": "",
         "offsetgroup": "",
         "orientation": "v",
         "showlegend": false,
         "textposition": "auto",
         "type": "bar",
         "x": [
          "가평군",
          "고양시",
          "과천시",
          "광명시",
          "광주시",
          "구리시",
          "군포시",
          "김포시",
          "남양주시",
          "동두천시",
          "부천시",
          "성남시",
          "수원시",
          "시흥시",
          "안산시",
          "안성시",
          "안양시",
          "양주시",
          "오산시",
          "용인시",
          "의왕시",
          "의정부시",
          "이천시",
          "파주시",
          "평택시",
          "포천시",
          "하남시",
          "화성시"
         ],
         "xaxis": "x",
         "y": [
          0,
          1,
          0,
          0,
          0,
          0,
          0,
          0,
          0,
          0,
          0,
          0,
          0,
          0,
          0,
          0,
          0,
          0,
          0,
          0,
          0,
          0,
          0,
          0,
          0,
          0,
          0,
          0
         ],
         "yaxis": "y"
        }
       ],
       "frames": [
        {
         "data": [
          {
           "alignmentgroup": "True",
           "hovertemplate": "confirmed_date=2020-01-26<br>city=%{x}<br>cum_count=%{y}<extra></extra>",
           "ids": [
            "가평군",
            "고양시",
            "과천시",
            "광명시",
            "광주시",
            "구리시",
            "군포시",
            "김포시",
            "남양주시",
            "동두천시",
            "부천시",
            "성남시",
            "수원시",
            "시흥시",
            "안산시",
            "안성시",
            "안양시",
            "양주시",
            "오산시",
            "용인시",
            "의왕시",
            "의정부시",
            "이천시",
            "파주시",
            "평택시",
            "포천시",
            "하남시",
            "화성시"
           ],
           "legendgroup": "",
           "marker": {
            "color": "#636efa"
           },
           "name": "",
           "offsetgroup": "",
           "orientation": "v",
           "showlegend": false,
           "textposition": "auto",
           "type": "bar",
           "x": [
            "가평군",
            "고양시",
            "과천시",
            "광명시",
            "광주시",
            "구리시",
            "군포시",
            "김포시",
            "남양주시",
            "동두천시",
            "부천시",
            "성남시",
            "수원시",
            "시흥시",
            "안산시",
            "안성시",
            "안양시",
            "양주시",
            "오산시",
            "용인시",
            "의왕시",
            "의정부시",
            "이천시",
            "파주시",
            "평택시",
            "포천시",
            "하남시",
            "화성시"
           ],
           "xaxis": "x",
           "y": [
            0,
            1,
            0,
            0,
            0,
            0,
            0,
            0,
            0,
            0,
            0,
            0,
            0,
            0,
            0,
            0,
            0,
            0,
            0,
            0,
            0,
            0,
            0,
            0,
            0,
            0,
            0,
            0
           ],
           "yaxis": "y"
          }
         ],
         "name": "2020-01-26"
        },
        {
         "data": [
          {
           "alignmentgroup": "True",
           "hovertemplate": "confirmed_date=2020-02-02<br>city=%{x}<br>cum_count=%{y}<extra></extra>",
           "ids": [
            "가평군",
            "고양시",
            "과천시",
            "광명시",
            "광주시",
            "구리시",
            "군포시",
            "김포시",
            "남양주시",
            "동두천시",
            "부천시",
            "성남시",
            "수원시",
            "시흥시",
            "안산시",
            "안성시",
            "안양시",
            "양주시",
            "오산시",
            "용인시",
            "의왕시",
            "의정부시",
            "이천시",
            "파주시",
            "평택시",
            "포천시",
            "하남시",
            "화성시"
           ],
           "legendgroup": "",
           "marker": {
            "color": "#636efa"
           },
           "name": "",
           "offsetgroup": "",
           "orientation": "v",
           "showlegend": false,
           "textposition": "auto",
           "type": "bar",
           "x": [
            "가평군",
            "고양시",
            "과천시",
            "광명시",
            "광주시",
            "구리시",
            "군포시",
            "김포시",
            "남양주시",
            "동두천시",
            "부천시",
            "성남시",
            "수원시",
            "시흥시",
            "안산시",
            "안성시",
            "안양시",
            "양주시",
            "오산시",
            "용인시",
            "의왕시",
            "의정부시",
            "이천시",
            "파주시",
            "평택시",
            "포천시",
            "하남시",
            "화성시"
           ],
           "xaxis": "x",
           "y": [
            0,
            1,
            0,
            0,
            0,
            0,
            0,
            0,
            0,
            0,
            2,
            0,
            1,
            0,
            0,
            0,
            0,
            0,
            0,
            0,
            0,
            0,
            0,
            0,
            1,
            0,
            0,
            0
           ],
           "yaxis": "y"
          }
         ],
         "name": "2020-02-02"
        },
        {
         "data": [
          {
           "alignmentgroup": "True",
           "hovertemplate": "confirmed_date=2020-02-09<br>city=%{x}<br>cum_count=%{y}<extra></extra>",
           "ids": [
            "가평군",
            "고양시",
            "과천시",
            "광명시",
            "광주시",
            "구리시",
            "군포시",
            "김포시",
            "남양주시",
            "동두천시",
            "부천시",
            "성남시",
            "수원시",
            "시흥시",
            "안산시",
            "안성시",
            "안양시",
            "양주시",
            "오산시",
            "용인시",
            "의왕시",
            "의정부시",
            "이천시",
            "파주시",
            "평택시",
            "포천시",
            "하남시",
            "화성시"
           ],
           "legendgroup": "",
           "marker": {
            "color": "#636efa"
           },
           "name": "",
           "offsetgroup": "",
           "orientation": "v",
           "showlegend": false,
           "textposition": "auto",
           "type": "bar",
           "x": [
            "가평군",
            "고양시",
            "과천시",
            "광명시",
            "광주시",
            "구리시",
            "군포시",
            "김포시",
            "남양주시",
            "동두천시",
            "부천시",
            "성남시",
            "수원시",
            "시흥시",
            "안산시",
            "안성시",
            "안양시",
            "양주시",
            "오산시",
            "용인시",
            "의왕시",
            "의정부시",
            "이천시",
            "파주시",
            "평택시",
            "포천시",
            "하남시",
            "화성시"
           ],
           "xaxis": "x",
           "y": [
            0,
            1,
            0,
            0,
            0,
            1,
            0,
            0,
            0,
            0,
            2,
            0,
            2,
            3,
            0,
            0,
            0,
            0,
            0,
            0,
            0,
            0,
            0,
            0,
            1,
            0,
            0,
            0
           ],
           "yaxis": "y"
          }
         ],
         "name": "2020-02-09"
        },
        {
         "data": [
          {
           "alignmentgroup": "True",
           "hovertemplate": "confirmed_date=2020-02-16<br>city=%{x}<br>cum_count=%{y}<extra></extra>",
           "ids": [
            "가평군",
            "고양시",
            "과천시",
            "광명시",
            "광주시",
            "구리시",
            "군포시",
            "김포시",
            "남양주시",
            "동두천시",
            "부천시",
            "성남시",
            "수원시",
            "시흥시",
            "안산시",
            "안성시",
            "안양시",
            "양주시",
            "오산시",
            "용인시",
            "의왕시",
            "의정부시",
            "이천시",
            "파주시",
            "평택시",
            "포천시",
            "하남시",
            "화성시"
           ],
           "legendgroup": "",
           "marker": {
            "color": "#636efa"
           },
           "name": "",
           "offsetgroup": "",
           "orientation": "v",
           "showlegend": false,
           "textposition": "auto",
           "type": "bar",
           "x": [
            "가평군",
            "고양시",
            "과천시",
            "광명시",
            "광주시",
            "구리시",
            "군포시",
            "김포시",
            "남양주시",
            "동두천시",
            "부천시",
            "성남시",
            "수원시",
            "시흥시",
            "안산시",
            "안성시",
            "안양시",
            "양주시",
            "오산시",
            "용인시",
            "의왕시",
            "의정부시",
            "이천시",
            "파주시",
            "평택시",
            "포천시",
            "하남시",
            "화성시"
           ],
           "xaxis": "x",
           "y": [
            0,
            2,
            0,
            0,
            0,
            1,
            0,
            0,
            0,
            0,
            2,
            0,
            2,
            3,
            0,
            0,
            0,
            0,
            0,
            0,
            0,
            0,
            0,
            0,
            1,
            0,
            0,
            0
           ],
           "yaxis": "y"
          }
         ],
         "name": "2020-02-16"
        },
        {
         "data": [
          {
           "alignmentgroup": "True",
           "hovertemplate": "confirmed_date=2020-02-23<br>city=%{x}<br>cum_count=%{y}<extra></extra>",
           "ids": [
            "가평군",
            "고양시",
            "과천시",
            "광명시",
            "광주시",
            "구리시",
            "군포시",
            "김포시",
            "남양주시",
            "동두천시",
            "부천시",
            "성남시",
            "수원시",
            "시흥시",
            "안산시",
            "안성시",
            "안양시",
            "양주시",
            "오산시",
            "용인시",
            "의왕시",
            "의정부시",
            "이천시",
            "파주시",
            "평택시",
            "포천시",
            "하남시",
            "화성시"
           ],
           "legendgroup": "",
           "marker": {
            "color": "#636efa"
           },
           "name": "",
           "offsetgroup": "",
           "orientation": "v",
           "showlegend": false,
           "textposition": "auto",
           "type": "bar",
           "x": [
            "가평군",
            "고양시",
            "과천시",
            "광명시",
            "광주시",
            "구리시",
            "군포시",
            "김포시",
            "남양주시",
            "동두천시",
            "부천시",
            "성남시",
            "수원시",
            "시흥시",
            "안산시",
            "안성시",
            "안양시",
            "양주시",
            "오산시",
            "용인시",
            "의왕시",
            "의정부시",
            "이천시",
            "파주시",
            "평택시",
            "포천시",
            "하남시",
            "화성시"
           ],
           "xaxis": "x",
           "y": [
            0,
            2,
            0,
            0,
            0,
            1,
            0,
            5,
            0,
            0,
            7,
            0,
            5,
            3,
            0,
            0,
            1,
            0,
            0,
            1,
            0,
            0,
            2,
            0,
            2,
            4,
            0,
            0
           ],
           "yaxis": "y"
          }
         ],
         "name": "2020-02-23"
        },
        {
         "data": [
          {
           "alignmentgroup": "True",
           "hovertemplate": "confirmed_date=2020-03-01<br>city=%{x}<br>cum_count=%{y}<extra></extra>",
           "ids": [
            "가평군",
            "고양시",
            "과천시",
            "광명시",
            "광주시",
            "구리시",
            "군포시",
            "김포시",
            "남양주시",
            "동두천시",
            "부천시",
            "성남시",
            "수원시",
            "시흥시",
            "안산시",
            "안성시",
            "안양시",
            "양주시",
            "오산시",
            "용인시",
            "의왕시",
            "의정부시",
            "이천시",
            "파주시",
            "평택시",
            "포천시",
            "하남시",
            "화성시"
           ],
           "legendgroup": "",
           "marker": {
            "color": "#636efa"
           },
           "name": "",
           "offsetgroup": "",
           "orientation": "v",
           "showlegend": false,
           "textposition": "auto",
           "type": "bar",
           "x": [
            "가평군",
            "고양시",
            "과천시",
            "광명시",
            "광주시",
            "구리시",
            "군포시",
            "김포시",
            "남양주시",
            "동두천시",
            "부천시",
            "성남시",
            "수원시",
            "시흥시",
            "안산시",
            "안성시",
            "안양시",
            "양주시",
            "오산시",
            "용인시",
            "의왕시",
            "의정부시",
            "이천시",
            "파주시",
            "평택시",
            "포천시",
            "하남시",
            "화성시"
           ],
           "xaxis": "x",
           "y": [
            0,
            4,
            4,
            1,
            0,
            1,
            0,
            5,
            4,
            0,
            9,
            3,
            12,
            5,
            0,
            0,
            6,
            0,
            2,
            6,
            0,
            0,
            9,
            3,
            4,
            5,
            0,
            8
           ],
           "yaxis": "y"
          }
         ],
         "name": "2020-03-01"
        },
        {
         "data": [
          {
           "alignmentgroup": "True",
           "hovertemplate": "confirmed_date=2020-03-08<br>city=%{x}<br>cum_count=%{y}<extra></extra>",
           "ids": [
            "가평군",
            "고양시",
            "과천시",
            "광명시",
            "광주시",
            "구리시",
            "군포시",
            "김포시",
            "남양주시",
            "동두천시",
            "부천시",
            "성남시",
            "수원시",
            "시흥시",
            "안산시",
            "안성시",
            "안양시",
            "양주시",
            "오산시",
            "용인시",
            "의왕시",
            "의정부시",
            "이천시",
            "파주시",
            "평택시",
            "포천시",
            "하남시",
            "화성시"
           ],
           "legendgroup": "",
           "marker": {
            "color": "#636efa"
           },
           "name": "",
           "offsetgroup": "",
           "orientation": "v",
           "showlegend": false,
           "textposition": "auto",
           "type": "bar",
           "x": [
            "가평군",
            "고양시",
            "과천시",
            "광명시",
            "광주시",
            "구리시",
            "군포시",
            "김포시",
            "남양주시",
            "동두천시",
            "부천시",
            "성남시",
            "수원시",
            "시흥시",
            "안산시",
            "안성시",
            "안양시",
            "양주시",
            "오산시",
            "용인시",
            "의왕시",
            "의정부시",
            "이천시",
            "파주시",
            "평택시",
            "포천시",
            "하남시",
            "화성시"
           ],
           "xaxis": "x",
           "y": [
            0,
            7,
            4,
            4,
            1,
            1,
            4,
            5,
            7,
            0,
            15,
            17,
            18,
            5,
            3,
            1,
            7,
            0,
            2,
            16,
            2,
            0,
            9,
            3,
            5,
            6,
            0,
            11
           ],
           "yaxis": "y"
          }
         ],
         "name": "2020-03-08"
        },
        {
         "data": [
          {
           "alignmentgroup": "True",
           "hovertemplate": "confirmed_date=2020-03-15<br>city=%{x}<br>cum_count=%{y}<extra></extra>",
           "ids": [
            "가평군",
            "고양시",
            "과천시",
            "광명시",
            "광주시",
            "구리시",
            "군포시",
            "김포시",
            "남양주시",
            "동두천시",
            "부천시",
            "성남시",
            "수원시",
            "시흥시",
            "안산시",
            "안성시",
            "안양시",
            "양주시",
            "오산시",
            "용인시",
            "의왕시",
            "의정부시",
            "이천시",
            "파주시",
            "평택시",
            "포천시",
            "하남시",
            "화성시"
           ],
           "legendgroup": "",
           "marker": {
            "color": "#636efa"
           },
           "name": "",
           "offsetgroup": "",
           "orientation": "v",
           "showlegend": false,
           "textposition": "auto",
           "type": "bar",
           "x": [
            "가평군",
            "고양시",
            "과천시",
            "광명시",
            "광주시",
            "구리시",
            "군포시",
            "김포시",
            "남양주시",
            "동두천시",
            "부천시",
            "성남시",
            "수원시",
            "시흥시",
            "안산시",
            "안성시",
            "안양시",
            "양주시",
            "오산시",
            "용인시",
            "의왕시",
            "의정부시",
            "이천시",
            "파주시",
            "평택시",
            "포천시",
            "하남시",
            "화성시"
           ],
           "xaxis": "x",
           "y": [
            0,
            10,
            4,
            5,
            4,
            1,
            4,
            8,
            7,
            0,
            37,
            44,
            20,
            5,
            4,
            1,
            14,
            0,
            2,
            19,
            2,
            3,
            9,
            4,
            7,
            6,
            0,
            11
           ],
           "yaxis": "y"
          }
         ],
         "name": "2020-03-15"
        },
        {
         "data": [
          {
           "alignmentgroup": "True",
           "hovertemplate": "confirmed_date=2020-03-22<br>city=%{x}<br>cum_count=%{y}<extra></extra>",
           "ids": [
            "가평군",
            "고양시",
            "과천시",
            "광명시",
            "광주시",
            "구리시",
            "군포시",
            "김포시",
            "남양주시",
            "동두천시",
            "부천시",
            "성남시",
            "수원시",
            "시흥시",
            "안산시",
            "안성시",
            "안양시",
            "양주시",
            "오산시",
            "용인시",
            "의왕시",
            "의정부시",
            "이천시",
            "파주시",
            "평택시",
            "포천시",
            "하남시",
            "화성시"
           ],
           "legendgroup": "",
           "marker": {
            "color": "#636efa"
           },
           "name": "",
           "offsetgroup": "",
           "orientation": "v",
           "showlegend": false,
           "textposition": "auto",
           "type": "bar",
           "x": [
            "가평군",
            "고양시",
            "과천시",
            "광명시",
            "광주시",
            "구리시",
            "군포시",
            "김포시",
            "남양주시",
            "동두천시",
            "부천시",
            "성남시",
            "수원시",
            "시흥시",
            "안산시",
            "안성시",
            "안양시",
            "양주시",
            "오산시",
            "용인시",
            "의왕시",
            "의정부시",
            "이천시",
            "파주시",
            "평택시",
            "포천시",
            "하남시",
            "화성시"
           ],
           "xaxis": "x",
           "y": [
            0,
            12,
            5,
            5,
            9,
            2,
            10,
            8,
            13,
            0,
            51,
            99,
            23,
            6,
            6,
            1,
            15,
            0,
            3,
            34,
            3,
            3,
            9,
            4,
            11,
            6,
            1,
            14
           ],
           "yaxis": "y"
          }
         ],
         "name": "2020-03-22"
        },
        {
         "data": [
          {
           "alignmentgroup": "True",
           "hovertemplate": "confirmed_date=2020-03-29<br>city=%{x}<br>cum_count=%{y}<extra></extra>",
           "ids": [
            "가평군",
            "고양시",
            "과천시",
            "광명시",
            "광주시",
            "구리시",
            "군포시",
            "김포시",
            "남양주시",
            "동두천시",
            "부천시",
            "성남시",
            "수원시",
            "시흥시",
            "안산시",
            "안성시",
            "안양시",
            "양주시",
            "오산시",
            "용인시",
            "의왕시",
            "의정부시",
            "이천시",
            "파주시",
            "평택시",
            "포천시",
            "하남시",
            "화성시"
           ],
           "legendgroup": "",
           "marker": {
            "color": "#636efa"
           },
           "name": "",
           "offsetgroup": "",
           "orientation": "v",
           "showlegend": false,
           "textposition": "auto",
           "type": "bar",
           "x": [
            "가평군",
            "고양시",
            "과천시",
            "광명시",
            "광주시",
            "구리시",
            "군포시",
            "김포시",
            "남양주시",
            "동두천시",
            "부천시",
            "성남시",
            "수원시",
            "시흥시",
            "안산시",
            "안성시",
            "안양시",
            "양주시",
            "오산시",
            "용인시",
            "의왕시",
            "의정부시",
            "이천시",
            "파주시",
            "평택시",
            "포천시",
            "하남시",
            "화성시"
           ],
           "xaxis": "x",
           "y": [
            0,
            17,
            6,
            8,
            12,
            3,
            24,
            10,
            13,
            0,
            69,
            109,
            37,
            7,
            15,
            1,
            16,
            0,
            4,
            51,
            5,
            5,
            9,
            5,
            16,
            6,
            1,
            17
           ],
           "yaxis": "y"
          }
         ],
         "name": "2020-03-29"
        },
        {
         "data": [
          {
           "alignmentgroup": "True",
           "hovertemplate": "confirmed_date=2020-04-05<br>city=%{x}<br>cum_count=%{y}<extra></extra>",
           "ids": [
            "가평군",
            "고양시",
            "과천시",
            "광명시",
            "광주시",
            "구리시",
            "군포시",
            "김포시",
            "남양주시",
            "동두천시",
            "부천시",
            "성남시",
            "수원시",
            "시흥시",
            "안산시",
            "안성시",
            "안양시",
            "양주시",
            "오산시",
            "용인시",
            "의왕시",
            "의정부시",
            "이천시",
            "파주시",
            "평택시",
            "포천시",
            "하남시",
            "화성시"
           ],
           "legendgroup": "",
           "marker": {
            "color": "#636efa"
           },
           "name": "",
           "offsetgroup": "",
           "orientation": "v",
           "showlegend": false,
           "textposition": "auto",
           "type": "bar",
           "x": [
            "가평군",
            "고양시",
            "과천시",
            "광명시",
            "광주시",
            "구리시",
            "군포시",
            "김포시",
            "남양주시",
            "동두천시",
            "부천시",
            "성남시",
            "수원시",
            "시흥시",
            "안산시",
            "안성시",
            "안양시",
            "양주시",
            "오산시",
            "용인시",
            "의왕시",
            "의정부시",
            "이천시",
            "파주시",
            "평택시",
            "포천시",
            "하남시",
            "화성시"
           ],
           "xaxis": "x",
           "y": [
            1,
            23,
            6,
            10,
            13,
            3,
            29,
            13,
            20,
            2,
            72,
            119,
            48,
            9,
            16,
            2,
            18,
            1,
            7,
            56,
            5,
            27,
            10,
            5,
            35,
            11,
            3,
            19
           ],
           "yaxis": "y"
          }
         ],
         "name": "2020-04-05"
        },
        {
         "data": [
          {
           "alignmentgroup": "True",
           "hovertemplate": "confirmed_date=2020-04-12<br>city=%{x}<br>cum_count=%{y}<extra></extra>",
           "ids": [
            "가평군",
            "고양시",
            "과천시",
            "광명시",
            "광주시",
            "구리시",
            "군포시",
            "김포시",
            "남양주시",
            "동두천시",
            "부천시",
            "성남시",
            "수원시",
            "시흥시",
            "안산시",
            "안성시",
            "안양시",
            "양주시",
            "오산시",
            "용인시",
            "의왕시",
            "의정부시",
            "이천시",
            "파주시",
            "평택시",
            "포천시",
            "하남시",
            "화성시"
           ],
           "legendgroup": "",
           "marker": {
            "color": "#636efa"
           },
           "name": "",
           "offsetgroup": "",
           "orientation": "v",
           "showlegend": false,
           "textposition": "auto",
           "type": "bar",
           "x": [
            "가평군",
            "고양시",
            "과천시",
            "광명시",
            "광주시",
            "구리시",
            "군포시",
            "김포시",
            "남양주시",
            "동두천시",
            "부천시",
            "성남시",
            "수원시",
            "시흥시",
            "안산시",
            "안성시",
            "안양시",
            "양주시",
            "오산시",
            "용인시",
            "의왕시",
            "의정부시",
            "이천시",
            "파주시",
            "평택시",
            "포천시",
            "하남시",
            "화성시"
           ],
           "xaxis": "x",
           "y": [
            1,
            23,
            6,
            10,
            16,
            6,
            31,
            15,
            25,
            5,
            75,
            124,
            51,
            9,
            16,
            3,
            21,
            3,
            7,
            57,
            5,
            32,
            10,
            5,
            40,
            11,
            4,
            23
           ],
           "yaxis": "y"
          }
         ],
         "name": "2020-04-12"
        }
       ],
       "layout": {
        "barmode": "relative",
        "legend": {
         "tracegroupgap": 0
        },
        "margin": {
         "t": 60
        },
        "showlegend": false,
        "sliders": [
         {
          "active": 0,
          "currentvalue": {
           "prefix": "confirmed_date="
          },
          "len": 0.9,
          "pad": {
           "b": 10,
           "t": 60
          },
          "steps": [
           {
            "args": [
             [
              "2020-01-26"
             ],
             {
              "frame": {
               "duration": 0,
               "redraw": true
              },
              "fromcurrent": true,
              "mode": "immediate",
              "transition": {
               "duration": 0,
               "easing": "linear"
              }
             }
            ],
            "label": "2020-01-26",
            "method": "animate"
           },
           {
            "args": [
             [
              "2020-02-02"
             ],
             {
              "frame": {
               "duration": 0,
               "redraw": true
              },
              "fromcurrent": true,
              "mode": "immediate",
              "transition": {
               "duration": 0,
               "easing": "linear"
              }
             }
            ],
            "label": "2020-02-02",
            "method": "animate"
           },
           {
            "args": [
             [
              "2020-02-09"
             ],
             {
              "frame": {
               "duration": 0,
               "redraw": true
              },
              "fromcurrent": true,
              "mode": "immediate",
              "transition": {
               "duration": 0,
               "easing": "linear"
              }
             }
            ],
            "label": "2020-02-09",
            "method": "animate"
           },
           {
            "args": [
             [
              "2020-02-16"
             ],
             {
              "frame": {
               "duration": 0,
               "redraw": true
              },
              "fromcurrent": true,
              "mode": "immediate",
              "transition": {
               "duration": 0,
               "easing": "linear"
              }
             }
            ],
            "label": "2020-02-16",
            "method": "animate"
           },
           {
            "args": [
             [
              "2020-02-23"
             ],
             {
              "frame": {
               "duration": 0,
               "redraw": true
              },
              "fromcurrent": true,
              "mode": "immediate",
              "transition": {
               "duration": 0,
               "easing": "linear"
              }
             }
            ],
            "label": "2020-02-23",
            "method": "animate"
           },
           {
            "args": [
             [
              "2020-03-01"
             ],
             {
              "frame": {
               "duration": 0,
               "redraw": true
              },
              "fromcurrent": true,
              "mode": "immediate",
              "transition": {
               "duration": 0,
               "easing": "linear"
              }
             }
            ],
            "label": "2020-03-01",
            "method": "animate"
           },
           {
            "args": [
             [
              "2020-03-08"
             ],
             {
              "frame": {
               "duration": 0,
               "redraw": true
              },
              "fromcurrent": true,
              "mode": "immediate",
              "transition": {
               "duration": 0,
               "easing": "linear"
              }
             }
            ],
            "label": "2020-03-08",
            "method": "animate"
           },
           {
            "args": [
             [
              "2020-03-15"
             ],
             {
              "frame": {
               "duration": 0,
               "redraw": true
              },
              "fromcurrent": true,
              "mode": "immediate",
              "transition": {
               "duration": 0,
               "easing": "linear"
              }
             }
            ],
            "label": "2020-03-15",
            "method": "animate"
           },
           {
            "args": [
             [
              "2020-03-22"
             ],
             {
              "frame": {
               "duration": 0,
               "redraw": true
              },
              "fromcurrent": true,
              "mode": "immediate",
              "transition": {
               "duration": 0,
               "easing": "linear"
              }
             }
            ],
            "label": "2020-03-22",
            "method": "animate"
           },
           {
            "args": [
             [
              "2020-03-29"
             ],
             {
              "frame": {
               "duration": 0,
               "redraw": true
              },
              "fromcurrent": true,
              "mode": "immediate",
              "transition": {
               "duration": 0,
               "easing": "linear"
              }
             }
            ],
            "label": "2020-03-29",
            "method": "animate"
           },
           {
            "args": [
             [
              "2020-04-05"
             ],
             {
              "frame": {
               "duration": 0,
               "redraw": true
              },
              "fromcurrent": true,
              "mode": "immediate",
              "transition": {
               "duration": 0,
               "easing": "linear"
              }
             }
            ],
            "label": "2020-04-05",
            "method": "animate"
           },
           {
            "args": [
             [
              "2020-04-12"
             ],
             {
              "frame": {
               "duration": 0,
               "redraw": true
              },
              "fromcurrent": true,
              "mode": "immediate",
              "transition": {
               "duration": 0,
               "easing": "linear"
              }
             }
            ],
            "label": "2020-04-12",
            "method": "animate"
           }
          ],
          "x": 0.1,
          "xanchor": "left",
          "y": 0,
          "yanchor": "top"
         }
        ],
        "template": {
         "data": {
          "bar": [
           {
            "error_x": {
             "color": "#2a3f5f"
            },
            "error_y": {
             "color": "#2a3f5f"
            },
            "marker": {
             "line": {
              "color": "#E5ECF6",
              "width": 0.5
             }
            },
            "type": "bar"
           }
          ],
          "barpolar": [
           {
            "marker": {
             "line": {
              "color": "#E5ECF6",
              "width": 0.5
             }
            },
            "type": "barpolar"
           }
          ],
          "carpet": [
           {
            "aaxis": {
             "endlinecolor": "#2a3f5f",
             "gridcolor": "white",
             "linecolor": "white",
             "minorgridcolor": "white",
             "startlinecolor": "#2a3f5f"
            },
            "baxis": {
             "endlinecolor": "#2a3f5f",
             "gridcolor": "white",
             "linecolor": "white",
             "minorgridcolor": "white",
             "startlinecolor": "#2a3f5f"
            },
            "type": "carpet"
           }
          ],
          "choropleth": [
           {
            "colorbar": {
             "outlinewidth": 0,
             "ticks": ""
            },
            "type": "choropleth"
           }
          ],
          "contour": [
           {
            "colorbar": {
             "outlinewidth": 0,
             "ticks": ""
            },
            "colorscale": [
             [
              0,
              "#0d0887"
             ],
             [
              0.1111111111111111,
              "#46039f"
             ],
             [
              0.2222222222222222,
              "#7201a8"
             ],
             [
              0.3333333333333333,
              "#9c179e"
             ],
             [
              0.4444444444444444,
              "#bd3786"
             ],
             [
              0.5555555555555556,
              "#d8576b"
             ],
             [
              0.6666666666666666,
              "#ed7953"
             ],
             [
              0.7777777777777778,
              "#fb9f3a"
             ],
             [
              0.8888888888888888,
              "#fdca26"
             ],
             [
              1,
              "#f0f921"
             ]
            ],
            "type": "contour"
           }
          ],
          "contourcarpet": [
           {
            "colorbar": {
             "outlinewidth": 0,
             "ticks": ""
            },
            "type": "contourcarpet"
           }
          ],
          "heatmap": [
           {
            "colorbar": {
             "outlinewidth": 0,
             "ticks": ""
            },
            "colorscale": [
             [
              0,
              "#0d0887"
             ],
             [
              0.1111111111111111,
              "#46039f"
             ],
             [
              0.2222222222222222,
              "#7201a8"
             ],
             [
              0.3333333333333333,
              "#9c179e"
             ],
             [
              0.4444444444444444,
              "#bd3786"
             ],
             [
              0.5555555555555556,
              "#d8576b"
             ],
             [
              0.6666666666666666,
              "#ed7953"
             ],
             [
              0.7777777777777778,
              "#fb9f3a"
             ],
             [
              0.8888888888888888,
              "#fdca26"
             ],
             [
              1,
              "#f0f921"
             ]
            ],
            "type": "heatmap"
           }
          ],
          "heatmapgl": [
           {
            "colorbar": {
             "outlinewidth": 0,
             "ticks": ""
            },
            "colorscale": [
             [
              0,
              "#0d0887"
             ],
             [
              0.1111111111111111,
              "#46039f"
             ],
             [
              0.2222222222222222,
              "#7201a8"
             ],
             [
              0.3333333333333333,
              "#9c179e"
             ],
             [
              0.4444444444444444,
              "#bd3786"
             ],
             [
              0.5555555555555556,
              "#d8576b"
             ],
             [
              0.6666666666666666,
              "#ed7953"
             ],
             [
              0.7777777777777778,
              "#fb9f3a"
             ],
             [
              0.8888888888888888,
              "#fdca26"
             ],
             [
              1,
              "#f0f921"
             ]
            ],
            "type": "heatmapgl"
           }
          ],
          "histogram": [
           {
            "marker": {
             "colorbar": {
              "outlinewidth": 0,
              "ticks": ""
             }
            },
            "type": "histogram"
           }
          ],
          "histogram2d": [
           {
            "colorbar": {
             "outlinewidth": 0,
             "ticks": ""
            },
            "colorscale": [
             [
              0,
              "#0d0887"
             ],
             [
              0.1111111111111111,
              "#46039f"
             ],
             [
              0.2222222222222222,
              "#7201a8"
             ],
             [
              0.3333333333333333,
              "#9c179e"
             ],
             [
              0.4444444444444444,
              "#bd3786"
             ],
             [
              0.5555555555555556,
              "#d8576b"
             ],
             [
              0.6666666666666666,
              "#ed7953"
             ],
             [
              0.7777777777777778,
              "#fb9f3a"
             ],
             [
              0.8888888888888888,
              "#fdca26"
             ],
             [
              1,
              "#f0f921"
             ]
            ],
            "type": "histogram2d"
           }
          ],
          "histogram2dcontour": [
           {
            "colorbar": {
             "outlinewidth": 0,
             "ticks": ""
            },
            "colorscale": [
             [
              0,
              "#0d0887"
             ],
             [
              0.1111111111111111,
              "#46039f"
             ],
             [
              0.2222222222222222,
              "#7201a8"
             ],
             [
              0.3333333333333333,
              "#9c179e"
             ],
             [
              0.4444444444444444,
              "#bd3786"
             ],
             [
              0.5555555555555556,
              "#d8576b"
             ],
             [
              0.6666666666666666,
              "#ed7953"
             ],
             [
              0.7777777777777778,
              "#fb9f3a"
             ],
             [
              0.8888888888888888,
              "#fdca26"
             ],
             [
              1,
              "#f0f921"
             ]
            ],
            "type": "histogram2dcontour"
           }
          ],
          "mesh3d": [
           {
            "colorbar": {
             "outlinewidth": 0,
             "ticks": ""
            },
            "type": "mesh3d"
           }
          ],
          "parcoords": [
           {
            "line": {
             "colorbar": {
              "outlinewidth": 0,
              "ticks": ""
             }
            },
            "type": "parcoords"
           }
          ],
          "pie": [
           {
            "automargin": true,
            "type": "pie"
           }
          ],
          "scatter": [
           {
            "marker": {
             "colorbar": {
              "outlinewidth": 0,
              "ticks": ""
             }
            },
            "type": "scatter"
           }
          ],
          "scatter3d": [
           {
            "line": {
             "colorbar": {
              "outlinewidth": 0,
              "ticks": ""
             }
            },
            "marker": {
             "colorbar": {
              "outlinewidth": 0,
              "ticks": ""
             }
            },
            "type": "scatter3d"
           }
          ],
          "scattercarpet": [
           {
            "marker": {
             "colorbar": {
              "outlinewidth": 0,
              "ticks": ""
             }
            },
            "type": "scattercarpet"
           }
          ],
          "scattergeo": [
           {
            "marker": {
             "colorbar": {
              "outlinewidth": 0,
              "ticks": ""
             }
            },
            "type": "scattergeo"
           }
          ],
          "scattergl": [
           {
            "marker": {
             "colorbar": {
              "outlinewidth": 0,
              "ticks": ""
             }
            },
            "type": "scattergl"
           }
          ],
          "scattermapbox": [
           {
            "marker": {
             "colorbar": {
              "outlinewidth": 0,
              "ticks": ""
             }
            },
            "type": "scattermapbox"
           }
          ],
          "scatterpolar": [
           {
            "marker": {
             "colorbar": {
              "outlinewidth": 0,
              "ticks": ""
             }
            },
            "type": "scatterpolar"
           }
          ],
          "scatterpolargl": [
           {
            "marker": {
             "colorbar": {
              "outlinewidth": 0,
              "ticks": ""
             }
            },
            "type": "scatterpolargl"
           }
          ],
          "scatterternary": [
           {
            "marker": {
             "colorbar": {
              "outlinewidth": 0,
              "ticks": ""
             }
            },
            "type": "scatterternary"
           }
          ],
          "surface": [
           {
            "colorbar": {
             "outlinewidth": 0,
             "ticks": ""
            },
            "colorscale": [
             [
              0,
              "#0d0887"
             ],
             [
              0.1111111111111111,
              "#46039f"
             ],
             [
              0.2222222222222222,
              "#7201a8"
             ],
             [
              0.3333333333333333,
              "#9c179e"
             ],
             [
              0.4444444444444444,
              "#bd3786"
             ],
             [
              0.5555555555555556,
              "#d8576b"
             ],
             [
              0.6666666666666666,
              "#ed7953"
             ],
             [
              0.7777777777777778,
              "#fb9f3a"
             ],
             [
              0.8888888888888888,
              "#fdca26"
             ],
             [
              1,
              "#f0f921"
             ]
            ],
            "type": "surface"
           }
          ],
          "table": [
           {
            "cells": {
             "fill": {
              "color": "#EBF0F8"
             },
             "line": {
              "color": "white"
             }
            },
            "header": {
             "fill": {
              "color": "#C8D4E3"
             },
             "line": {
              "color": "white"
             }
            },
            "type": "table"
           }
          ]
         },
         "layout": {
          "annotationdefaults": {
           "arrowcolor": "#2a3f5f",
           "arrowhead": 0,
           "arrowwidth": 1
          },
          "coloraxis": {
           "colorbar": {
            "outlinewidth": 0,
            "ticks": ""
           }
          },
          "colorscale": {
           "diverging": [
            [
             0,
             "#8e0152"
            ],
            [
             0.1,
             "#c51b7d"
            ],
            [
             0.2,
             "#de77ae"
            ],
            [
             0.3,
             "#f1b6da"
            ],
            [
             0.4,
             "#fde0ef"
            ],
            [
             0.5,
             "#f7f7f7"
            ],
            [
             0.6,
             "#e6f5d0"
            ],
            [
             0.7,
             "#b8e186"
            ],
            [
             0.8,
             "#7fbc41"
            ],
            [
             0.9,
             "#4d9221"
            ],
            [
             1,
             "#276419"
            ]
           ],
           "sequential": [
            [
             0,
             "#0d0887"
            ],
            [
             0.1111111111111111,
             "#46039f"
            ],
            [
             0.2222222222222222,
             "#7201a8"
            ],
            [
             0.3333333333333333,
             "#9c179e"
            ],
            [
             0.4444444444444444,
             "#bd3786"
            ],
            [
             0.5555555555555556,
             "#d8576b"
            ],
            [
             0.6666666666666666,
             "#ed7953"
            ],
            [
             0.7777777777777778,
             "#fb9f3a"
            ],
            [
             0.8888888888888888,
             "#fdca26"
            ],
            [
             1,
             "#f0f921"
            ]
           ],
           "sequentialminus": [
            [
             0,
             "#0d0887"
            ],
            [
             0.1111111111111111,
             "#46039f"
            ],
            [
             0.2222222222222222,
             "#7201a8"
            ],
            [
             0.3333333333333333,
             "#9c179e"
            ],
            [
             0.4444444444444444,
             "#bd3786"
            ],
            [
             0.5555555555555556,
             "#d8576b"
            ],
            [
             0.6666666666666666,
             "#ed7953"
            ],
            [
             0.7777777777777778,
             "#fb9f3a"
            ],
            [
             0.8888888888888888,
             "#fdca26"
            ],
            [
             1,
             "#f0f921"
            ]
           ]
          },
          "colorway": [
           "#636efa",
           "#EF553B",
           "#00cc96",
           "#ab63fa",
           "#FFA15A",
           "#19d3f3",
           "#FF6692",
           "#B6E880",
           "#FF97FF",
           "#FECB52"
          ],
          "font": {
           "color": "#2a3f5f"
          },
          "geo": {
           "bgcolor": "white",
           "lakecolor": "white",
           "landcolor": "#E5ECF6",
           "showlakes": true,
           "showland": true,
           "subunitcolor": "white"
          },
          "hoverlabel": {
           "align": "left"
          },
          "hovermode": "closest",
          "mapbox": {
           "style": "light"
          },
          "paper_bgcolor": "white",
          "plot_bgcolor": "#E5ECF6",
          "polar": {
           "angularaxis": {
            "gridcolor": "white",
            "linecolor": "white",
            "ticks": ""
           },
           "bgcolor": "#E5ECF6",
           "radialaxis": {
            "gridcolor": "white",
            "linecolor": "white",
            "ticks": ""
           }
          },
          "scene": {
           "xaxis": {
            "backgroundcolor": "#E5ECF6",
            "gridcolor": "white",
            "gridwidth": 2,
            "linecolor": "white",
            "showbackground": true,
            "ticks": "",
            "zerolinecolor": "white"
           },
           "yaxis": {
            "backgroundcolor": "#E5ECF6",
            "gridcolor": "white",
            "gridwidth": 2,
            "linecolor": "white",
            "showbackground": true,
            "ticks": "",
            "zerolinecolor": "white"
           },
           "zaxis": {
            "backgroundcolor": "#E5ECF6",
            "gridcolor": "white",
            "gridwidth": 2,
            "linecolor": "white",
            "showbackground": true,
            "ticks": "",
            "zerolinecolor": "white"
           }
          },
          "shapedefaults": {
           "line": {
            "color": "#2a3f5f"
           }
          },
          "ternary": {
           "aaxis": {
            "gridcolor": "white",
            "linecolor": "white",
            "ticks": ""
           },
           "baxis": {
            "gridcolor": "white",
            "linecolor": "white",
            "ticks": ""
           },
           "bgcolor": "#E5ECF6",
           "caxis": {
            "gridcolor": "white",
            "linecolor": "white",
            "ticks": ""
           }
          },
          "title": {
           "x": 0.05
          },
          "xaxis": {
           "automargin": true,
           "gridcolor": "white",
           "linecolor": "white",
           "ticks": "",
           "title": {
            "standoff": 15
           },
           "zerolinecolor": "white",
           "zerolinewidth": 2
          },
          "yaxis": {
           "automargin": true,
           "gridcolor": "white",
           "linecolor": "white",
           "ticks": "",
           "title": {
            "standoff": 15
           },
           "zerolinecolor": "white",
           "zerolinewidth": 2
          }
         }
        },
        "title": {
         "text": "Inferenced Peoples In Seoul City With Animation Bar Plot"
        },
        "updatemenus": [
         {
          "buttons": [
           {
            "args": [
             null,
             {
              "frame": {
               "duration": 500,
               "redraw": true
              },
              "fromcurrent": true,
              "mode": "immediate",
              "transition": {
               "duration": 500,
               "easing": "linear"
              }
             }
            ],
            "label": "&#9654;",
            "method": "animate"
           },
           {
            "args": [
             [
              null
             ],
             {
              "frame": {
               "duration": 0,
               "redraw": true
              },
              "fromcurrent": true,
              "mode": "immediate",
              "transition": {
               "duration": 0,
               "easing": "linear"
              }
             }
            ],
            "label": "&#9724;",
            "method": "animate"
           }
          ],
          "direction": "left",
          "pad": {
           "r": 10,
           "t": 70
          },
          "showactive": false,
          "type": "buttons",
          "x": 0.1,
          "xanchor": "right",
          "y": 0,
          "yanchor": "top"
         }
        ],
        "xaxis": {
         "anchor": "y",
         "domain": [
          0,
          1
         ],
         "tickangle": 45,
         "title": {
          "text": "Time Axis"
         }
        },
        "yaxis": {
         "anchor": "x",
         "domain": [
          0,
          1
         ],
         "range": [
          0,
          129
         ],
         "tickangle": 15,
         "ticksuffix": "명",
         "title": {
          "text": "Inferenced Peoples"
         }
        }
       }
      },
      "text/html": [
       "<div>\n",
       "        \n",
       "        \n",
       "            <div id=\"a9215308-ca60-426a-bccb-8ff826d9e98e\" class=\"plotly-graph-div\" style=\"height:525px; width:100%;\"></div>\n",
       "            <script type=\"text/javascript\">\n",
       "                require([\"plotly\"], function(Plotly) {\n",
       "                    window.PLOTLYENV=window.PLOTLYENV || {};\n",
       "                    \n",
       "                if (document.getElementById(\"a9215308-ca60-426a-bccb-8ff826d9e98e\")) {\n",
       "                    Plotly.newPlot(\n",
       "                        'a9215308-ca60-426a-bccb-8ff826d9e98e',\n",
       "                        [{\"alignmentgroup\": \"True\", \"hovertemplate\": \"confirmed_date=2020-01-26<br>city=%{x}<br>cum_count=%{y}<extra></extra>\", \"ids\": [\"\\uac00\\ud3c9\\uad70\", \"\\uace0\\uc591\\uc2dc\", \"\\uacfc\\ucc9c\\uc2dc\", \"\\uad11\\uba85\\uc2dc\", \"\\uad11\\uc8fc\\uc2dc\", \"\\uad6c\\ub9ac\\uc2dc\", \"\\uad70\\ud3ec\\uc2dc\", \"\\uae40\\ud3ec\\uc2dc\", \"\\ub0a8\\uc591\\uc8fc\\uc2dc\", \"\\ub3d9\\ub450\\ucc9c\\uc2dc\", \"\\ubd80\\ucc9c\\uc2dc\", \"\\uc131\\ub0a8\\uc2dc\", \"\\uc218\\uc6d0\\uc2dc\", \"\\uc2dc\\ud765\\uc2dc\", \"\\uc548\\uc0b0\\uc2dc\", \"\\uc548\\uc131\\uc2dc\", \"\\uc548\\uc591\\uc2dc\", \"\\uc591\\uc8fc\\uc2dc\", \"\\uc624\\uc0b0\\uc2dc\", \"\\uc6a9\\uc778\\uc2dc\", \"\\uc758\\uc655\\uc2dc\", \"\\uc758\\uc815\\ubd80\\uc2dc\", \"\\uc774\\ucc9c\\uc2dc\", \"\\ud30c\\uc8fc\\uc2dc\", \"\\ud3c9\\ud0dd\\uc2dc\", \"\\ud3ec\\ucc9c\\uc2dc\", \"\\ud558\\ub0a8\\uc2dc\", \"\\ud654\\uc131\\uc2dc\"], \"legendgroup\": \"\", \"marker\": {\"color\": \"#636efa\"}, \"name\": \"\", \"offsetgroup\": \"\", \"orientation\": \"v\", \"showlegend\": false, \"textposition\": \"auto\", \"type\": \"bar\", \"x\": [\"\\uac00\\ud3c9\\uad70\", \"\\uace0\\uc591\\uc2dc\", \"\\uacfc\\ucc9c\\uc2dc\", \"\\uad11\\uba85\\uc2dc\", \"\\uad11\\uc8fc\\uc2dc\", \"\\uad6c\\ub9ac\\uc2dc\", \"\\uad70\\ud3ec\\uc2dc\", \"\\uae40\\ud3ec\\uc2dc\", \"\\ub0a8\\uc591\\uc8fc\\uc2dc\", \"\\ub3d9\\ub450\\ucc9c\\uc2dc\", \"\\ubd80\\ucc9c\\uc2dc\", \"\\uc131\\ub0a8\\uc2dc\", \"\\uc218\\uc6d0\\uc2dc\", \"\\uc2dc\\ud765\\uc2dc\", \"\\uc548\\uc0b0\\uc2dc\", \"\\uc548\\uc131\\uc2dc\", \"\\uc548\\uc591\\uc2dc\", \"\\uc591\\uc8fc\\uc2dc\", \"\\uc624\\uc0b0\\uc2dc\", \"\\uc6a9\\uc778\\uc2dc\", \"\\uc758\\uc655\\uc2dc\", \"\\uc758\\uc815\\ubd80\\uc2dc\", \"\\uc774\\ucc9c\\uc2dc\", \"\\ud30c\\uc8fc\\uc2dc\", \"\\ud3c9\\ud0dd\\uc2dc\", \"\\ud3ec\\ucc9c\\uc2dc\", \"\\ud558\\ub0a8\\uc2dc\", \"\\ud654\\uc131\\uc2dc\"], \"xaxis\": \"x\", \"y\": [0.0, 1.0, 0.0, 0.0, 0.0, 0.0, 0.0, 0.0, 0.0, 0.0, 0.0, 0.0, 0.0, 0.0, 0.0, 0.0, 0.0, 0.0, 0.0, 0.0, 0.0, 0.0, 0.0, 0.0, 0.0, 0.0, 0.0, 0.0], \"yaxis\": \"y\"}],\n",
       "                        {\"barmode\": \"relative\", \"legend\": {\"tracegroupgap\": 0}, \"margin\": {\"t\": 60}, \"showlegend\": false, \"sliders\": [{\"active\": 0, \"currentvalue\": {\"prefix\": \"confirmed_date=\"}, \"len\": 0.9, \"pad\": {\"b\": 10, \"t\": 60}, \"steps\": [{\"args\": [[\"2020-01-26\"], {\"frame\": {\"duration\": 0, \"redraw\": true}, \"fromcurrent\": true, \"mode\": \"immediate\", \"transition\": {\"duration\": 0, \"easing\": \"linear\"}}], \"label\": \"2020-01-26\", \"method\": \"animate\"}, {\"args\": [[\"2020-02-02\"], {\"frame\": {\"duration\": 0, \"redraw\": true}, \"fromcurrent\": true, \"mode\": \"immediate\", \"transition\": {\"duration\": 0, \"easing\": \"linear\"}}], \"label\": \"2020-02-02\", \"method\": \"animate\"}, {\"args\": [[\"2020-02-09\"], {\"frame\": {\"duration\": 0, \"redraw\": true}, \"fromcurrent\": true, \"mode\": \"immediate\", \"transition\": {\"duration\": 0, \"easing\": \"linear\"}}], \"label\": \"2020-02-09\", \"method\": \"animate\"}, {\"args\": [[\"2020-02-16\"], {\"frame\": {\"duration\": 0, \"redraw\": true}, \"fromcurrent\": true, \"mode\": \"immediate\", \"transition\": {\"duration\": 0, \"easing\": \"linear\"}}], \"label\": \"2020-02-16\", \"method\": \"animate\"}, {\"args\": [[\"2020-02-23\"], {\"frame\": {\"duration\": 0, \"redraw\": true}, \"fromcurrent\": true, \"mode\": \"immediate\", \"transition\": {\"duration\": 0, \"easing\": \"linear\"}}], \"label\": \"2020-02-23\", \"method\": \"animate\"}, {\"args\": [[\"2020-03-01\"], {\"frame\": {\"duration\": 0, \"redraw\": true}, \"fromcurrent\": true, \"mode\": \"immediate\", \"transition\": {\"duration\": 0, \"easing\": \"linear\"}}], \"label\": \"2020-03-01\", \"method\": \"animate\"}, {\"args\": [[\"2020-03-08\"], {\"frame\": {\"duration\": 0, \"redraw\": true}, \"fromcurrent\": true, \"mode\": \"immediate\", \"transition\": {\"duration\": 0, \"easing\": \"linear\"}}], \"label\": \"2020-03-08\", \"method\": \"animate\"}, {\"args\": [[\"2020-03-15\"], {\"frame\": {\"duration\": 0, \"redraw\": true}, \"fromcurrent\": true, \"mode\": \"immediate\", \"transition\": {\"duration\": 0, \"easing\": \"linear\"}}], \"label\": \"2020-03-15\", \"method\": \"animate\"}, {\"args\": [[\"2020-03-22\"], {\"frame\": {\"duration\": 0, \"redraw\": true}, \"fromcurrent\": true, \"mode\": \"immediate\", \"transition\": {\"duration\": 0, \"easing\": \"linear\"}}], \"label\": \"2020-03-22\", \"method\": \"animate\"}, {\"args\": [[\"2020-03-29\"], {\"frame\": {\"duration\": 0, \"redraw\": true}, \"fromcurrent\": true, \"mode\": \"immediate\", \"transition\": {\"duration\": 0, \"easing\": \"linear\"}}], \"label\": \"2020-03-29\", \"method\": \"animate\"}, {\"args\": [[\"2020-04-05\"], {\"frame\": {\"duration\": 0, \"redraw\": true}, \"fromcurrent\": true, \"mode\": \"immediate\", \"transition\": {\"duration\": 0, \"easing\": \"linear\"}}], \"label\": \"2020-04-05\", \"method\": \"animate\"}, {\"args\": [[\"2020-04-12\"], {\"frame\": {\"duration\": 0, \"redraw\": true}, \"fromcurrent\": true, \"mode\": \"immediate\", \"transition\": {\"duration\": 0, \"easing\": \"linear\"}}], \"label\": \"2020-04-12\", \"method\": \"animate\"}], \"x\": 0.1, \"xanchor\": \"left\", \"y\": 0, \"yanchor\": \"top\"}], \"template\": {\"data\": {\"bar\": [{\"error_x\": {\"color\": \"#2a3f5f\"}, \"error_y\": {\"color\": \"#2a3f5f\"}, \"marker\": {\"line\": {\"color\": \"#E5ECF6\", \"width\": 0.5}}, \"type\": \"bar\"}], \"barpolar\": [{\"marker\": {\"line\": {\"color\": \"#E5ECF6\", \"width\": 0.5}}, \"type\": \"barpolar\"}], \"carpet\": [{\"aaxis\": {\"endlinecolor\": \"#2a3f5f\", \"gridcolor\": \"white\", \"linecolor\": \"white\", \"minorgridcolor\": \"white\", \"startlinecolor\": \"#2a3f5f\"}, \"baxis\": {\"endlinecolor\": \"#2a3f5f\", \"gridcolor\": \"white\", \"linecolor\": \"white\", \"minorgridcolor\": \"white\", \"startlinecolor\": \"#2a3f5f\"}, \"type\": \"carpet\"}], \"choropleth\": [{\"colorbar\": {\"outlinewidth\": 0, \"ticks\": \"\"}, \"type\": \"choropleth\"}], \"contour\": [{\"colorbar\": {\"outlinewidth\": 0, \"ticks\": \"\"}, \"colorscale\": [[0.0, \"#0d0887\"], [0.1111111111111111, \"#46039f\"], [0.2222222222222222, \"#7201a8\"], [0.3333333333333333, \"#9c179e\"], [0.4444444444444444, \"#bd3786\"], [0.5555555555555556, \"#d8576b\"], [0.6666666666666666, \"#ed7953\"], [0.7777777777777778, \"#fb9f3a\"], [0.8888888888888888, \"#fdca26\"], [1.0, \"#f0f921\"]], \"type\": \"contour\"}], \"contourcarpet\": [{\"colorbar\": {\"outlinewidth\": 0, \"ticks\": \"\"}, \"type\": \"contourcarpet\"}], \"heatmap\": [{\"colorbar\": {\"outlinewidth\": 0, \"ticks\": \"\"}, \"colorscale\": [[0.0, \"#0d0887\"], [0.1111111111111111, \"#46039f\"], [0.2222222222222222, \"#7201a8\"], [0.3333333333333333, \"#9c179e\"], [0.4444444444444444, \"#bd3786\"], [0.5555555555555556, \"#d8576b\"], [0.6666666666666666, \"#ed7953\"], [0.7777777777777778, \"#fb9f3a\"], [0.8888888888888888, \"#fdca26\"], [1.0, \"#f0f921\"]], \"type\": \"heatmap\"}], \"heatmapgl\": [{\"colorbar\": {\"outlinewidth\": 0, \"ticks\": \"\"}, \"colorscale\": [[0.0, \"#0d0887\"], [0.1111111111111111, \"#46039f\"], [0.2222222222222222, \"#7201a8\"], [0.3333333333333333, \"#9c179e\"], [0.4444444444444444, \"#bd3786\"], [0.5555555555555556, \"#d8576b\"], [0.6666666666666666, \"#ed7953\"], [0.7777777777777778, \"#fb9f3a\"], [0.8888888888888888, \"#fdca26\"], [1.0, \"#f0f921\"]], \"type\": \"heatmapgl\"}], \"histogram\": [{\"marker\": {\"colorbar\": {\"outlinewidth\": 0, \"ticks\": \"\"}}, \"type\": \"histogram\"}], \"histogram2d\": [{\"colorbar\": {\"outlinewidth\": 0, \"ticks\": \"\"}, \"colorscale\": [[0.0, \"#0d0887\"], [0.1111111111111111, \"#46039f\"], [0.2222222222222222, \"#7201a8\"], [0.3333333333333333, \"#9c179e\"], [0.4444444444444444, \"#bd3786\"], [0.5555555555555556, \"#d8576b\"], [0.6666666666666666, \"#ed7953\"], [0.7777777777777778, \"#fb9f3a\"], [0.8888888888888888, \"#fdca26\"], [1.0, \"#f0f921\"]], \"type\": \"histogram2d\"}], \"histogram2dcontour\": [{\"colorbar\": {\"outlinewidth\": 0, \"ticks\": \"\"}, \"colorscale\": [[0.0, \"#0d0887\"], [0.1111111111111111, \"#46039f\"], [0.2222222222222222, \"#7201a8\"], [0.3333333333333333, \"#9c179e\"], [0.4444444444444444, \"#bd3786\"], [0.5555555555555556, \"#d8576b\"], [0.6666666666666666, \"#ed7953\"], [0.7777777777777778, \"#fb9f3a\"], [0.8888888888888888, \"#fdca26\"], [1.0, \"#f0f921\"]], \"type\": \"histogram2dcontour\"}], \"mesh3d\": [{\"colorbar\": {\"outlinewidth\": 0, \"ticks\": \"\"}, \"type\": \"mesh3d\"}], \"parcoords\": [{\"line\": {\"colorbar\": {\"outlinewidth\": 0, \"ticks\": \"\"}}, \"type\": \"parcoords\"}], \"pie\": [{\"automargin\": true, \"type\": \"pie\"}], \"scatter\": [{\"marker\": {\"colorbar\": {\"outlinewidth\": 0, \"ticks\": \"\"}}, \"type\": \"scatter\"}], \"scatter3d\": [{\"line\": {\"colorbar\": {\"outlinewidth\": 0, \"ticks\": \"\"}}, \"marker\": {\"colorbar\": {\"outlinewidth\": 0, \"ticks\": \"\"}}, \"type\": \"scatter3d\"}], \"scattercarpet\": [{\"marker\": {\"colorbar\": {\"outlinewidth\": 0, \"ticks\": \"\"}}, \"type\": \"scattercarpet\"}], \"scattergeo\": [{\"marker\": {\"colorbar\": {\"outlinewidth\": 0, \"ticks\": \"\"}}, \"type\": \"scattergeo\"}], \"scattergl\": [{\"marker\": {\"colorbar\": {\"outlinewidth\": 0, \"ticks\": \"\"}}, \"type\": \"scattergl\"}], \"scattermapbox\": [{\"marker\": {\"colorbar\": {\"outlinewidth\": 0, \"ticks\": \"\"}}, \"type\": \"scattermapbox\"}], \"scatterpolar\": [{\"marker\": {\"colorbar\": {\"outlinewidth\": 0, \"ticks\": \"\"}}, \"type\": \"scatterpolar\"}], \"scatterpolargl\": [{\"marker\": {\"colorbar\": {\"outlinewidth\": 0, \"ticks\": \"\"}}, \"type\": \"scatterpolargl\"}], \"scatterternary\": [{\"marker\": {\"colorbar\": {\"outlinewidth\": 0, \"ticks\": \"\"}}, \"type\": \"scatterternary\"}], \"surface\": [{\"colorbar\": {\"outlinewidth\": 0, \"ticks\": \"\"}, \"colorscale\": [[0.0, \"#0d0887\"], [0.1111111111111111, \"#46039f\"], [0.2222222222222222, \"#7201a8\"], [0.3333333333333333, \"#9c179e\"], [0.4444444444444444, \"#bd3786\"], [0.5555555555555556, \"#d8576b\"], [0.6666666666666666, \"#ed7953\"], [0.7777777777777778, \"#fb9f3a\"], [0.8888888888888888, \"#fdca26\"], [1.0, \"#f0f921\"]], \"type\": \"surface\"}], \"table\": [{\"cells\": {\"fill\": {\"color\": \"#EBF0F8\"}, \"line\": {\"color\": \"white\"}}, \"header\": {\"fill\": {\"color\": \"#C8D4E3\"}, \"line\": {\"color\": \"white\"}}, \"type\": \"table\"}]}, \"layout\": {\"annotationdefaults\": {\"arrowcolor\": \"#2a3f5f\", \"arrowhead\": 0, \"arrowwidth\": 1}, \"coloraxis\": {\"colorbar\": {\"outlinewidth\": 0, \"ticks\": \"\"}}, \"colorscale\": {\"diverging\": [[0, \"#8e0152\"], [0.1, \"#c51b7d\"], [0.2, \"#de77ae\"], [0.3, \"#f1b6da\"], [0.4, \"#fde0ef\"], [0.5, \"#f7f7f7\"], [0.6, \"#e6f5d0\"], [0.7, \"#b8e186\"], [0.8, \"#7fbc41\"], [0.9, \"#4d9221\"], [1, \"#276419\"]], \"sequential\": [[0.0, \"#0d0887\"], [0.1111111111111111, \"#46039f\"], [0.2222222222222222, \"#7201a8\"], [0.3333333333333333, \"#9c179e\"], [0.4444444444444444, \"#bd3786\"], [0.5555555555555556, \"#d8576b\"], [0.6666666666666666, \"#ed7953\"], [0.7777777777777778, \"#fb9f3a\"], [0.8888888888888888, \"#fdca26\"], [1.0, \"#f0f921\"]], \"sequentialminus\": [[0.0, \"#0d0887\"], [0.1111111111111111, \"#46039f\"], [0.2222222222222222, \"#7201a8\"], [0.3333333333333333, \"#9c179e\"], [0.4444444444444444, \"#bd3786\"], [0.5555555555555556, \"#d8576b\"], [0.6666666666666666, \"#ed7953\"], [0.7777777777777778, \"#fb9f3a\"], [0.8888888888888888, \"#fdca26\"], [1.0, \"#f0f921\"]]}, \"colorway\": [\"#636efa\", \"#EF553B\", \"#00cc96\", \"#ab63fa\", \"#FFA15A\", \"#19d3f3\", \"#FF6692\", \"#B6E880\", \"#FF97FF\", \"#FECB52\"], \"font\": {\"color\": \"#2a3f5f\"}, \"geo\": {\"bgcolor\": \"white\", \"lakecolor\": \"white\", \"landcolor\": \"#E5ECF6\", \"showlakes\": true, \"showland\": true, \"subunitcolor\": \"white\"}, \"hoverlabel\": {\"align\": \"left\"}, \"hovermode\": \"closest\", \"mapbox\": {\"style\": \"light\"}, \"paper_bgcolor\": \"white\", \"plot_bgcolor\": \"#E5ECF6\", \"polar\": {\"angularaxis\": {\"gridcolor\": \"white\", \"linecolor\": \"white\", \"ticks\": \"\"}, \"bgcolor\": \"#E5ECF6\", \"radialaxis\": {\"gridcolor\": \"white\", \"linecolor\": \"white\", \"ticks\": \"\"}}, \"scene\": {\"xaxis\": {\"backgroundcolor\": \"#E5ECF6\", \"gridcolor\": \"white\", \"gridwidth\": 2, \"linecolor\": \"white\", \"showbackground\": true, \"ticks\": \"\", \"zerolinecolor\": \"white\"}, \"yaxis\": {\"backgroundcolor\": \"#E5ECF6\", \"gridcolor\": \"white\", \"gridwidth\": 2, \"linecolor\": \"white\", \"showbackground\": true, \"ticks\": \"\", \"zerolinecolor\": \"white\"}, \"zaxis\": {\"backgroundcolor\": \"#E5ECF6\", \"gridcolor\": \"white\", \"gridwidth\": 2, \"linecolor\": \"white\", \"showbackground\": true, \"ticks\": \"\", \"zerolinecolor\": \"white\"}}, \"shapedefaults\": {\"line\": {\"color\": \"#2a3f5f\"}}, \"ternary\": {\"aaxis\": {\"gridcolor\": \"white\", \"linecolor\": \"white\", \"ticks\": \"\"}, \"baxis\": {\"gridcolor\": \"white\", \"linecolor\": \"white\", \"ticks\": \"\"}, \"bgcolor\": \"#E5ECF6\", \"caxis\": {\"gridcolor\": \"white\", \"linecolor\": \"white\", \"ticks\": \"\"}}, \"title\": {\"x\": 0.05}, \"xaxis\": {\"automargin\": true, \"gridcolor\": \"white\", \"linecolor\": \"white\", \"ticks\": \"\", \"title\": {\"standoff\": 15}, \"zerolinecolor\": \"white\", \"zerolinewidth\": 2}, \"yaxis\": {\"automargin\": true, \"gridcolor\": \"white\", \"linecolor\": \"white\", \"ticks\": \"\", \"title\": {\"standoff\": 15}, \"zerolinecolor\": \"white\", \"zerolinewidth\": 2}}}, \"title\": {\"text\": \"Inferenced Peoples In Seoul City With Animation Bar Plot\"}, \"updatemenus\": [{\"buttons\": [{\"args\": [null, {\"frame\": {\"duration\": 500, \"redraw\": true}, \"fromcurrent\": true, \"mode\": \"immediate\", \"transition\": {\"duration\": 500, \"easing\": \"linear\"}}], \"label\": \"&#9654;\", \"method\": \"animate\"}, {\"args\": [[null], {\"frame\": {\"duration\": 0, \"redraw\": true}, \"fromcurrent\": true, \"mode\": \"immediate\", \"transition\": {\"duration\": 0, \"easing\": \"linear\"}}], \"label\": \"&#9724;\", \"method\": \"animate\"}], \"direction\": \"left\", \"pad\": {\"r\": 10, \"t\": 70}, \"showactive\": false, \"type\": \"buttons\", \"x\": 0.1, \"xanchor\": \"right\", \"y\": 0, \"yanchor\": \"top\"}], \"xaxis\": {\"anchor\": \"y\", \"domain\": [0.0, 1.0], \"tickangle\": 45, \"title\": {\"text\": \"Time Axis\"}}, \"yaxis\": {\"anchor\": \"x\", \"domain\": [0.0, 1.0], \"range\": [0, 129.0], \"tickangle\": 15, \"ticksuffix\": \"\\uba85\", \"title\": {\"text\": \"Inferenced Peoples\"}}},\n",
       "                        {\"responsive\": true}\n",
       "                    ).then(function(){\n",
       "                            Plotly.addFrames('a9215308-ca60-426a-bccb-8ff826d9e98e', [{\"data\": [{\"alignmentgroup\": \"True\", \"hovertemplate\": \"confirmed_date=2020-01-26<br>city=%{x}<br>cum_count=%{y}<extra></extra>\", \"ids\": [\"\\uac00\\ud3c9\\uad70\", \"\\uace0\\uc591\\uc2dc\", \"\\uacfc\\ucc9c\\uc2dc\", \"\\uad11\\uba85\\uc2dc\", \"\\uad11\\uc8fc\\uc2dc\", \"\\uad6c\\ub9ac\\uc2dc\", \"\\uad70\\ud3ec\\uc2dc\", \"\\uae40\\ud3ec\\uc2dc\", \"\\ub0a8\\uc591\\uc8fc\\uc2dc\", \"\\ub3d9\\ub450\\ucc9c\\uc2dc\", \"\\ubd80\\ucc9c\\uc2dc\", \"\\uc131\\ub0a8\\uc2dc\", \"\\uc218\\uc6d0\\uc2dc\", \"\\uc2dc\\ud765\\uc2dc\", \"\\uc548\\uc0b0\\uc2dc\", \"\\uc548\\uc131\\uc2dc\", \"\\uc548\\uc591\\uc2dc\", \"\\uc591\\uc8fc\\uc2dc\", \"\\uc624\\uc0b0\\uc2dc\", \"\\uc6a9\\uc778\\uc2dc\", \"\\uc758\\uc655\\uc2dc\", \"\\uc758\\uc815\\ubd80\\uc2dc\", \"\\uc774\\ucc9c\\uc2dc\", \"\\ud30c\\uc8fc\\uc2dc\", \"\\ud3c9\\ud0dd\\uc2dc\", \"\\ud3ec\\ucc9c\\uc2dc\", \"\\ud558\\ub0a8\\uc2dc\", \"\\ud654\\uc131\\uc2dc\"], \"legendgroup\": \"\", \"marker\": {\"color\": \"#636efa\"}, \"name\": \"\", \"offsetgroup\": \"\", \"orientation\": \"v\", \"showlegend\": false, \"textposition\": \"auto\", \"x\": [\"\\uac00\\ud3c9\\uad70\", \"\\uace0\\uc591\\uc2dc\", \"\\uacfc\\ucc9c\\uc2dc\", \"\\uad11\\uba85\\uc2dc\", \"\\uad11\\uc8fc\\uc2dc\", \"\\uad6c\\ub9ac\\uc2dc\", \"\\uad70\\ud3ec\\uc2dc\", \"\\uae40\\ud3ec\\uc2dc\", \"\\ub0a8\\uc591\\uc8fc\\uc2dc\", \"\\ub3d9\\ub450\\ucc9c\\uc2dc\", \"\\ubd80\\ucc9c\\uc2dc\", \"\\uc131\\ub0a8\\uc2dc\", \"\\uc218\\uc6d0\\uc2dc\", \"\\uc2dc\\ud765\\uc2dc\", \"\\uc548\\uc0b0\\uc2dc\", \"\\uc548\\uc131\\uc2dc\", \"\\uc548\\uc591\\uc2dc\", \"\\uc591\\uc8fc\\uc2dc\", \"\\uc624\\uc0b0\\uc2dc\", \"\\uc6a9\\uc778\\uc2dc\", \"\\uc758\\uc655\\uc2dc\", \"\\uc758\\uc815\\ubd80\\uc2dc\", \"\\uc774\\ucc9c\\uc2dc\", \"\\ud30c\\uc8fc\\uc2dc\", \"\\ud3c9\\ud0dd\\uc2dc\", \"\\ud3ec\\ucc9c\\uc2dc\", \"\\ud558\\ub0a8\\uc2dc\", \"\\ud654\\uc131\\uc2dc\"], \"xaxis\": \"x\", \"y\": [0.0, 1.0, 0.0, 0.0, 0.0, 0.0, 0.0, 0.0, 0.0, 0.0, 0.0, 0.0, 0.0, 0.0, 0.0, 0.0, 0.0, 0.0, 0.0, 0.0, 0.0, 0.0, 0.0, 0.0, 0.0, 0.0, 0.0, 0.0], \"yaxis\": \"y\", \"type\": \"bar\"}], \"name\": \"2020-01-26\"}, {\"data\": [{\"alignmentgroup\": \"True\", \"hovertemplate\": \"confirmed_date=2020-02-02<br>city=%{x}<br>cum_count=%{y}<extra></extra>\", \"ids\": [\"\\uac00\\ud3c9\\uad70\", \"\\uace0\\uc591\\uc2dc\", \"\\uacfc\\ucc9c\\uc2dc\", \"\\uad11\\uba85\\uc2dc\", \"\\uad11\\uc8fc\\uc2dc\", \"\\uad6c\\ub9ac\\uc2dc\", \"\\uad70\\ud3ec\\uc2dc\", \"\\uae40\\ud3ec\\uc2dc\", \"\\ub0a8\\uc591\\uc8fc\\uc2dc\", \"\\ub3d9\\ub450\\ucc9c\\uc2dc\", \"\\ubd80\\ucc9c\\uc2dc\", \"\\uc131\\ub0a8\\uc2dc\", \"\\uc218\\uc6d0\\uc2dc\", \"\\uc2dc\\ud765\\uc2dc\", \"\\uc548\\uc0b0\\uc2dc\", \"\\uc548\\uc131\\uc2dc\", \"\\uc548\\uc591\\uc2dc\", \"\\uc591\\uc8fc\\uc2dc\", \"\\uc624\\uc0b0\\uc2dc\", \"\\uc6a9\\uc778\\uc2dc\", \"\\uc758\\uc655\\uc2dc\", \"\\uc758\\uc815\\ubd80\\uc2dc\", \"\\uc774\\ucc9c\\uc2dc\", \"\\ud30c\\uc8fc\\uc2dc\", \"\\ud3c9\\ud0dd\\uc2dc\", \"\\ud3ec\\ucc9c\\uc2dc\", \"\\ud558\\ub0a8\\uc2dc\", \"\\ud654\\uc131\\uc2dc\"], \"legendgroup\": \"\", \"marker\": {\"color\": \"#636efa\"}, \"name\": \"\", \"offsetgroup\": \"\", \"orientation\": \"v\", \"showlegend\": false, \"textposition\": \"auto\", \"x\": [\"\\uac00\\ud3c9\\uad70\", \"\\uace0\\uc591\\uc2dc\", \"\\uacfc\\ucc9c\\uc2dc\", \"\\uad11\\uba85\\uc2dc\", \"\\uad11\\uc8fc\\uc2dc\", \"\\uad6c\\ub9ac\\uc2dc\", \"\\uad70\\ud3ec\\uc2dc\", \"\\uae40\\ud3ec\\uc2dc\", \"\\ub0a8\\uc591\\uc8fc\\uc2dc\", \"\\ub3d9\\ub450\\ucc9c\\uc2dc\", \"\\ubd80\\ucc9c\\uc2dc\", \"\\uc131\\ub0a8\\uc2dc\", \"\\uc218\\uc6d0\\uc2dc\", \"\\uc2dc\\ud765\\uc2dc\", \"\\uc548\\uc0b0\\uc2dc\", \"\\uc548\\uc131\\uc2dc\", \"\\uc548\\uc591\\uc2dc\", \"\\uc591\\uc8fc\\uc2dc\", \"\\uc624\\uc0b0\\uc2dc\", \"\\uc6a9\\uc778\\uc2dc\", \"\\uc758\\uc655\\uc2dc\", \"\\uc758\\uc815\\ubd80\\uc2dc\", \"\\uc774\\ucc9c\\uc2dc\", \"\\ud30c\\uc8fc\\uc2dc\", \"\\ud3c9\\ud0dd\\uc2dc\", \"\\ud3ec\\ucc9c\\uc2dc\", \"\\ud558\\ub0a8\\uc2dc\", \"\\ud654\\uc131\\uc2dc\"], \"xaxis\": \"x\", \"y\": [0.0, 1.0, 0.0, 0.0, 0.0, 0.0, 0.0, 0.0, 0.0, 0.0, 2.0, 0.0, 1.0, 0.0, 0.0, 0.0, 0.0, 0.0, 0.0, 0.0, 0.0, 0.0, 0.0, 0.0, 1.0, 0.0, 0.0, 0.0], \"yaxis\": \"y\", \"type\": \"bar\"}], \"name\": \"2020-02-02\"}, {\"data\": [{\"alignmentgroup\": \"True\", \"hovertemplate\": \"confirmed_date=2020-02-09<br>city=%{x}<br>cum_count=%{y}<extra></extra>\", \"ids\": [\"\\uac00\\ud3c9\\uad70\", \"\\uace0\\uc591\\uc2dc\", \"\\uacfc\\ucc9c\\uc2dc\", \"\\uad11\\uba85\\uc2dc\", \"\\uad11\\uc8fc\\uc2dc\", \"\\uad6c\\ub9ac\\uc2dc\", \"\\uad70\\ud3ec\\uc2dc\", \"\\uae40\\ud3ec\\uc2dc\", \"\\ub0a8\\uc591\\uc8fc\\uc2dc\", \"\\ub3d9\\ub450\\ucc9c\\uc2dc\", \"\\ubd80\\ucc9c\\uc2dc\", \"\\uc131\\ub0a8\\uc2dc\", \"\\uc218\\uc6d0\\uc2dc\", \"\\uc2dc\\ud765\\uc2dc\", \"\\uc548\\uc0b0\\uc2dc\", \"\\uc548\\uc131\\uc2dc\", \"\\uc548\\uc591\\uc2dc\", \"\\uc591\\uc8fc\\uc2dc\", \"\\uc624\\uc0b0\\uc2dc\", \"\\uc6a9\\uc778\\uc2dc\", \"\\uc758\\uc655\\uc2dc\", \"\\uc758\\uc815\\ubd80\\uc2dc\", \"\\uc774\\ucc9c\\uc2dc\", \"\\ud30c\\uc8fc\\uc2dc\", \"\\ud3c9\\ud0dd\\uc2dc\", \"\\ud3ec\\ucc9c\\uc2dc\", \"\\ud558\\ub0a8\\uc2dc\", \"\\ud654\\uc131\\uc2dc\"], \"legendgroup\": \"\", \"marker\": {\"color\": \"#636efa\"}, \"name\": \"\", \"offsetgroup\": \"\", \"orientation\": \"v\", \"showlegend\": false, \"textposition\": \"auto\", \"x\": [\"\\uac00\\ud3c9\\uad70\", \"\\uace0\\uc591\\uc2dc\", \"\\uacfc\\ucc9c\\uc2dc\", \"\\uad11\\uba85\\uc2dc\", \"\\uad11\\uc8fc\\uc2dc\", \"\\uad6c\\ub9ac\\uc2dc\", \"\\uad70\\ud3ec\\uc2dc\", \"\\uae40\\ud3ec\\uc2dc\", \"\\ub0a8\\uc591\\uc8fc\\uc2dc\", \"\\ub3d9\\ub450\\ucc9c\\uc2dc\", \"\\ubd80\\ucc9c\\uc2dc\", \"\\uc131\\ub0a8\\uc2dc\", \"\\uc218\\uc6d0\\uc2dc\", \"\\uc2dc\\ud765\\uc2dc\", \"\\uc548\\uc0b0\\uc2dc\", \"\\uc548\\uc131\\uc2dc\", \"\\uc548\\uc591\\uc2dc\", \"\\uc591\\uc8fc\\uc2dc\", \"\\uc624\\uc0b0\\uc2dc\", \"\\uc6a9\\uc778\\uc2dc\", \"\\uc758\\uc655\\uc2dc\", \"\\uc758\\uc815\\ubd80\\uc2dc\", \"\\uc774\\ucc9c\\uc2dc\", \"\\ud30c\\uc8fc\\uc2dc\", \"\\ud3c9\\ud0dd\\uc2dc\", \"\\ud3ec\\ucc9c\\uc2dc\", \"\\ud558\\ub0a8\\uc2dc\", \"\\ud654\\uc131\\uc2dc\"], \"xaxis\": \"x\", \"y\": [0.0, 1.0, 0.0, 0.0, 0.0, 1.0, 0.0, 0.0, 0.0, 0.0, 2.0, 0.0, 2.0, 3.0, 0.0, 0.0, 0.0, 0.0, 0.0, 0.0, 0.0, 0.0, 0.0, 0.0, 1.0, 0.0, 0.0, 0.0], \"yaxis\": \"y\", \"type\": \"bar\"}], \"name\": \"2020-02-09\"}, {\"data\": [{\"alignmentgroup\": \"True\", \"hovertemplate\": \"confirmed_date=2020-02-16<br>city=%{x}<br>cum_count=%{y}<extra></extra>\", \"ids\": [\"\\uac00\\ud3c9\\uad70\", \"\\uace0\\uc591\\uc2dc\", \"\\uacfc\\ucc9c\\uc2dc\", \"\\uad11\\uba85\\uc2dc\", \"\\uad11\\uc8fc\\uc2dc\", \"\\uad6c\\ub9ac\\uc2dc\", \"\\uad70\\ud3ec\\uc2dc\", \"\\uae40\\ud3ec\\uc2dc\", \"\\ub0a8\\uc591\\uc8fc\\uc2dc\", \"\\ub3d9\\ub450\\ucc9c\\uc2dc\", \"\\ubd80\\ucc9c\\uc2dc\", \"\\uc131\\ub0a8\\uc2dc\", \"\\uc218\\uc6d0\\uc2dc\", \"\\uc2dc\\ud765\\uc2dc\", \"\\uc548\\uc0b0\\uc2dc\", \"\\uc548\\uc131\\uc2dc\", \"\\uc548\\uc591\\uc2dc\", \"\\uc591\\uc8fc\\uc2dc\", \"\\uc624\\uc0b0\\uc2dc\", \"\\uc6a9\\uc778\\uc2dc\", \"\\uc758\\uc655\\uc2dc\", \"\\uc758\\uc815\\ubd80\\uc2dc\", \"\\uc774\\ucc9c\\uc2dc\", \"\\ud30c\\uc8fc\\uc2dc\", \"\\ud3c9\\ud0dd\\uc2dc\", \"\\ud3ec\\ucc9c\\uc2dc\", \"\\ud558\\ub0a8\\uc2dc\", \"\\ud654\\uc131\\uc2dc\"], \"legendgroup\": \"\", \"marker\": {\"color\": \"#636efa\"}, \"name\": \"\", \"offsetgroup\": \"\", \"orientation\": \"v\", \"showlegend\": false, \"textposition\": \"auto\", \"x\": [\"\\uac00\\ud3c9\\uad70\", \"\\uace0\\uc591\\uc2dc\", \"\\uacfc\\ucc9c\\uc2dc\", \"\\uad11\\uba85\\uc2dc\", \"\\uad11\\uc8fc\\uc2dc\", \"\\uad6c\\ub9ac\\uc2dc\", \"\\uad70\\ud3ec\\uc2dc\", \"\\uae40\\ud3ec\\uc2dc\", \"\\ub0a8\\uc591\\uc8fc\\uc2dc\", \"\\ub3d9\\ub450\\ucc9c\\uc2dc\", \"\\ubd80\\ucc9c\\uc2dc\", \"\\uc131\\ub0a8\\uc2dc\", \"\\uc218\\uc6d0\\uc2dc\", \"\\uc2dc\\ud765\\uc2dc\", \"\\uc548\\uc0b0\\uc2dc\", \"\\uc548\\uc131\\uc2dc\", \"\\uc548\\uc591\\uc2dc\", \"\\uc591\\uc8fc\\uc2dc\", \"\\uc624\\uc0b0\\uc2dc\", \"\\uc6a9\\uc778\\uc2dc\", \"\\uc758\\uc655\\uc2dc\", \"\\uc758\\uc815\\ubd80\\uc2dc\", \"\\uc774\\ucc9c\\uc2dc\", \"\\ud30c\\uc8fc\\uc2dc\", \"\\ud3c9\\ud0dd\\uc2dc\", \"\\ud3ec\\ucc9c\\uc2dc\", \"\\ud558\\ub0a8\\uc2dc\", \"\\ud654\\uc131\\uc2dc\"], \"xaxis\": \"x\", \"y\": [0.0, 2.0, 0.0, 0.0, 0.0, 1.0, 0.0, 0.0, 0.0, 0.0, 2.0, 0.0, 2.0, 3.0, 0.0, 0.0, 0.0, 0.0, 0.0, 0.0, 0.0, 0.0, 0.0, 0.0, 1.0, 0.0, 0.0, 0.0], \"yaxis\": \"y\", \"type\": \"bar\"}], \"name\": \"2020-02-16\"}, {\"data\": [{\"alignmentgroup\": \"True\", \"hovertemplate\": \"confirmed_date=2020-02-23<br>city=%{x}<br>cum_count=%{y}<extra></extra>\", \"ids\": [\"\\uac00\\ud3c9\\uad70\", \"\\uace0\\uc591\\uc2dc\", \"\\uacfc\\ucc9c\\uc2dc\", \"\\uad11\\uba85\\uc2dc\", \"\\uad11\\uc8fc\\uc2dc\", \"\\uad6c\\ub9ac\\uc2dc\", \"\\uad70\\ud3ec\\uc2dc\", \"\\uae40\\ud3ec\\uc2dc\", \"\\ub0a8\\uc591\\uc8fc\\uc2dc\", \"\\ub3d9\\ub450\\ucc9c\\uc2dc\", \"\\ubd80\\ucc9c\\uc2dc\", \"\\uc131\\ub0a8\\uc2dc\", \"\\uc218\\uc6d0\\uc2dc\", \"\\uc2dc\\ud765\\uc2dc\", \"\\uc548\\uc0b0\\uc2dc\", \"\\uc548\\uc131\\uc2dc\", \"\\uc548\\uc591\\uc2dc\", \"\\uc591\\uc8fc\\uc2dc\", \"\\uc624\\uc0b0\\uc2dc\", \"\\uc6a9\\uc778\\uc2dc\", \"\\uc758\\uc655\\uc2dc\", \"\\uc758\\uc815\\ubd80\\uc2dc\", \"\\uc774\\ucc9c\\uc2dc\", \"\\ud30c\\uc8fc\\uc2dc\", \"\\ud3c9\\ud0dd\\uc2dc\", \"\\ud3ec\\ucc9c\\uc2dc\", \"\\ud558\\ub0a8\\uc2dc\", \"\\ud654\\uc131\\uc2dc\"], \"legendgroup\": \"\", \"marker\": {\"color\": \"#636efa\"}, \"name\": \"\", \"offsetgroup\": \"\", \"orientation\": \"v\", \"showlegend\": false, \"textposition\": \"auto\", \"x\": [\"\\uac00\\ud3c9\\uad70\", \"\\uace0\\uc591\\uc2dc\", \"\\uacfc\\ucc9c\\uc2dc\", \"\\uad11\\uba85\\uc2dc\", \"\\uad11\\uc8fc\\uc2dc\", \"\\uad6c\\ub9ac\\uc2dc\", \"\\uad70\\ud3ec\\uc2dc\", \"\\uae40\\ud3ec\\uc2dc\", \"\\ub0a8\\uc591\\uc8fc\\uc2dc\", \"\\ub3d9\\ub450\\ucc9c\\uc2dc\", \"\\ubd80\\ucc9c\\uc2dc\", \"\\uc131\\ub0a8\\uc2dc\", \"\\uc218\\uc6d0\\uc2dc\", \"\\uc2dc\\ud765\\uc2dc\", \"\\uc548\\uc0b0\\uc2dc\", \"\\uc548\\uc131\\uc2dc\", \"\\uc548\\uc591\\uc2dc\", \"\\uc591\\uc8fc\\uc2dc\", \"\\uc624\\uc0b0\\uc2dc\", \"\\uc6a9\\uc778\\uc2dc\", \"\\uc758\\uc655\\uc2dc\", \"\\uc758\\uc815\\ubd80\\uc2dc\", \"\\uc774\\ucc9c\\uc2dc\", \"\\ud30c\\uc8fc\\uc2dc\", \"\\ud3c9\\ud0dd\\uc2dc\", \"\\ud3ec\\ucc9c\\uc2dc\", \"\\ud558\\ub0a8\\uc2dc\", \"\\ud654\\uc131\\uc2dc\"], \"xaxis\": \"x\", \"y\": [0.0, 2.0, 0.0, 0.0, 0.0, 1.0, 0.0, 5.0, 0.0, 0.0, 7.0, 0.0, 5.0, 3.0, 0.0, 0.0, 1.0, 0.0, 0.0, 1.0, 0.0, 0.0, 2.0, 0.0, 2.0, 4.0, 0.0, 0.0], \"yaxis\": \"y\", \"type\": \"bar\"}], \"name\": \"2020-02-23\"}, {\"data\": [{\"alignmentgroup\": \"True\", \"hovertemplate\": \"confirmed_date=2020-03-01<br>city=%{x}<br>cum_count=%{y}<extra></extra>\", \"ids\": [\"\\uac00\\ud3c9\\uad70\", \"\\uace0\\uc591\\uc2dc\", \"\\uacfc\\ucc9c\\uc2dc\", \"\\uad11\\uba85\\uc2dc\", \"\\uad11\\uc8fc\\uc2dc\", \"\\uad6c\\ub9ac\\uc2dc\", \"\\uad70\\ud3ec\\uc2dc\", \"\\uae40\\ud3ec\\uc2dc\", \"\\ub0a8\\uc591\\uc8fc\\uc2dc\", \"\\ub3d9\\ub450\\ucc9c\\uc2dc\", \"\\ubd80\\ucc9c\\uc2dc\", \"\\uc131\\ub0a8\\uc2dc\", \"\\uc218\\uc6d0\\uc2dc\", \"\\uc2dc\\ud765\\uc2dc\", \"\\uc548\\uc0b0\\uc2dc\", \"\\uc548\\uc131\\uc2dc\", \"\\uc548\\uc591\\uc2dc\", \"\\uc591\\uc8fc\\uc2dc\", \"\\uc624\\uc0b0\\uc2dc\", \"\\uc6a9\\uc778\\uc2dc\", \"\\uc758\\uc655\\uc2dc\", \"\\uc758\\uc815\\ubd80\\uc2dc\", \"\\uc774\\ucc9c\\uc2dc\", \"\\ud30c\\uc8fc\\uc2dc\", \"\\ud3c9\\ud0dd\\uc2dc\", \"\\ud3ec\\ucc9c\\uc2dc\", \"\\ud558\\ub0a8\\uc2dc\", \"\\ud654\\uc131\\uc2dc\"], \"legendgroup\": \"\", \"marker\": {\"color\": \"#636efa\"}, \"name\": \"\", \"offsetgroup\": \"\", \"orientation\": \"v\", \"showlegend\": false, \"textposition\": \"auto\", \"x\": [\"\\uac00\\ud3c9\\uad70\", \"\\uace0\\uc591\\uc2dc\", \"\\uacfc\\ucc9c\\uc2dc\", \"\\uad11\\uba85\\uc2dc\", \"\\uad11\\uc8fc\\uc2dc\", \"\\uad6c\\ub9ac\\uc2dc\", \"\\uad70\\ud3ec\\uc2dc\", \"\\uae40\\ud3ec\\uc2dc\", \"\\ub0a8\\uc591\\uc8fc\\uc2dc\", \"\\ub3d9\\ub450\\ucc9c\\uc2dc\", \"\\ubd80\\ucc9c\\uc2dc\", \"\\uc131\\ub0a8\\uc2dc\", \"\\uc218\\uc6d0\\uc2dc\", \"\\uc2dc\\ud765\\uc2dc\", \"\\uc548\\uc0b0\\uc2dc\", \"\\uc548\\uc131\\uc2dc\", \"\\uc548\\uc591\\uc2dc\", \"\\uc591\\uc8fc\\uc2dc\", \"\\uc624\\uc0b0\\uc2dc\", \"\\uc6a9\\uc778\\uc2dc\", \"\\uc758\\uc655\\uc2dc\", \"\\uc758\\uc815\\ubd80\\uc2dc\", \"\\uc774\\ucc9c\\uc2dc\", \"\\ud30c\\uc8fc\\uc2dc\", \"\\ud3c9\\ud0dd\\uc2dc\", \"\\ud3ec\\ucc9c\\uc2dc\", \"\\ud558\\ub0a8\\uc2dc\", \"\\ud654\\uc131\\uc2dc\"], \"xaxis\": \"x\", \"y\": [0.0, 4.0, 4.0, 1.0, 0.0, 1.0, 0.0, 5.0, 4.0, 0.0, 9.0, 3.0, 12.0, 5.0, 0.0, 0.0, 6.0, 0.0, 2.0, 6.0, 0.0, 0.0, 9.0, 3.0, 4.0, 5.0, 0.0, 8.0], \"yaxis\": \"y\", \"type\": \"bar\"}], \"name\": \"2020-03-01\"}, {\"data\": [{\"alignmentgroup\": \"True\", \"hovertemplate\": \"confirmed_date=2020-03-08<br>city=%{x}<br>cum_count=%{y}<extra></extra>\", \"ids\": [\"\\uac00\\ud3c9\\uad70\", \"\\uace0\\uc591\\uc2dc\", \"\\uacfc\\ucc9c\\uc2dc\", \"\\uad11\\uba85\\uc2dc\", \"\\uad11\\uc8fc\\uc2dc\", \"\\uad6c\\ub9ac\\uc2dc\", \"\\uad70\\ud3ec\\uc2dc\", \"\\uae40\\ud3ec\\uc2dc\", \"\\ub0a8\\uc591\\uc8fc\\uc2dc\", \"\\ub3d9\\ub450\\ucc9c\\uc2dc\", \"\\ubd80\\ucc9c\\uc2dc\", \"\\uc131\\ub0a8\\uc2dc\", \"\\uc218\\uc6d0\\uc2dc\", \"\\uc2dc\\ud765\\uc2dc\", \"\\uc548\\uc0b0\\uc2dc\", \"\\uc548\\uc131\\uc2dc\", \"\\uc548\\uc591\\uc2dc\", \"\\uc591\\uc8fc\\uc2dc\", \"\\uc624\\uc0b0\\uc2dc\", \"\\uc6a9\\uc778\\uc2dc\", \"\\uc758\\uc655\\uc2dc\", \"\\uc758\\uc815\\ubd80\\uc2dc\", \"\\uc774\\ucc9c\\uc2dc\", \"\\ud30c\\uc8fc\\uc2dc\", \"\\ud3c9\\ud0dd\\uc2dc\", \"\\ud3ec\\ucc9c\\uc2dc\", \"\\ud558\\ub0a8\\uc2dc\", \"\\ud654\\uc131\\uc2dc\"], \"legendgroup\": \"\", \"marker\": {\"color\": \"#636efa\"}, \"name\": \"\", \"offsetgroup\": \"\", \"orientation\": \"v\", \"showlegend\": false, \"textposition\": \"auto\", \"x\": [\"\\uac00\\ud3c9\\uad70\", \"\\uace0\\uc591\\uc2dc\", \"\\uacfc\\ucc9c\\uc2dc\", \"\\uad11\\uba85\\uc2dc\", \"\\uad11\\uc8fc\\uc2dc\", \"\\uad6c\\ub9ac\\uc2dc\", \"\\uad70\\ud3ec\\uc2dc\", \"\\uae40\\ud3ec\\uc2dc\", \"\\ub0a8\\uc591\\uc8fc\\uc2dc\", \"\\ub3d9\\ub450\\ucc9c\\uc2dc\", \"\\ubd80\\ucc9c\\uc2dc\", \"\\uc131\\ub0a8\\uc2dc\", \"\\uc218\\uc6d0\\uc2dc\", \"\\uc2dc\\ud765\\uc2dc\", \"\\uc548\\uc0b0\\uc2dc\", \"\\uc548\\uc131\\uc2dc\", \"\\uc548\\uc591\\uc2dc\", \"\\uc591\\uc8fc\\uc2dc\", \"\\uc624\\uc0b0\\uc2dc\", \"\\uc6a9\\uc778\\uc2dc\", \"\\uc758\\uc655\\uc2dc\", \"\\uc758\\uc815\\ubd80\\uc2dc\", \"\\uc774\\ucc9c\\uc2dc\", \"\\ud30c\\uc8fc\\uc2dc\", \"\\ud3c9\\ud0dd\\uc2dc\", \"\\ud3ec\\ucc9c\\uc2dc\", \"\\ud558\\ub0a8\\uc2dc\", \"\\ud654\\uc131\\uc2dc\"], \"xaxis\": \"x\", \"y\": [0.0, 7.0, 4.0, 4.0, 1.0, 1.0, 4.0, 5.0, 7.0, 0.0, 15.0, 17.0, 18.0, 5.0, 3.0, 1.0, 7.0, 0.0, 2.0, 16.0, 2.0, 0.0, 9.0, 3.0, 5.0, 6.0, 0.0, 11.0], \"yaxis\": \"y\", \"type\": \"bar\"}], \"name\": \"2020-03-08\"}, {\"data\": [{\"alignmentgroup\": \"True\", \"hovertemplate\": \"confirmed_date=2020-03-15<br>city=%{x}<br>cum_count=%{y}<extra></extra>\", \"ids\": [\"\\uac00\\ud3c9\\uad70\", \"\\uace0\\uc591\\uc2dc\", \"\\uacfc\\ucc9c\\uc2dc\", \"\\uad11\\uba85\\uc2dc\", \"\\uad11\\uc8fc\\uc2dc\", \"\\uad6c\\ub9ac\\uc2dc\", \"\\uad70\\ud3ec\\uc2dc\", \"\\uae40\\ud3ec\\uc2dc\", \"\\ub0a8\\uc591\\uc8fc\\uc2dc\", \"\\ub3d9\\ub450\\ucc9c\\uc2dc\", \"\\ubd80\\ucc9c\\uc2dc\", \"\\uc131\\ub0a8\\uc2dc\", \"\\uc218\\uc6d0\\uc2dc\", \"\\uc2dc\\ud765\\uc2dc\", \"\\uc548\\uc0b0\\uc2dc\", \"\\uc548\\uc131\\uc2dc\", \"\\uc548\\uc591\\uc2dc\", \"\\uc591\\uc8fc\\uc2dc\", \"\\uc624\\uc0b0\\uc2dc\", \"\\uc6a9\\uc778\\uc2dc\", \"\\uc758\\uc655\\uc2dc\", \"\\uc758\\uc815\\ubd80\\uc2dc\", \"\\uc774\\ucc9c\\uc2dc\", \"\\ud30c\\uc8fc\\uc2dc\", \"\\ud3c9\\ud0dd\\uc2dc\", \"\\ud3ec\\ucc9c\\uc2dc\", \"\\ud558\\ub0a8\\uc2dc\", \"\\ud654\\uc131\\uc2dc\"], \"legendgroup\": \"\", \"marker\": {\"color\": \"#636efa\"}, \"name\": \"\", \"offsetgroup\": \"\", \"orientation\": \"v\", \"showlegend\": false, \"textposition\": \"auto\", \"x\": [\"\\uac00\\ud3c9\\uad70\", \"\\uace0\\uc591\\uc2dc\", \"\\uacfc\\ucc9c\\uc2dc\", \"\\uad11\\uba85\\uc2dc\", \"\\uad11\\uc8fc\\uc2dc\", \"\\uad6c\\ub9ac\\uc2dc\", \"\\uad70\\ud3ec\\uc2dc\", \"\\uae40\\ud3ec\\uc2dc\", \"\\ub0a8\\uc591\\uc8fc\\uc2dc\", \"\\ub3d9\\ub450\\ucc9c\\uc2dc\", \"\\ubd80\\ucc9c\\uc2dc\", \"\\uc131\\ub0a8\\uc2dc\", \"\\uc218\\uc6d0\\uc2dc\", \"\\uc2dc\\ud765\\uc2dc\", \"\\uc548\\uc0b0\\uc2dc\", \"\\uc548\\uc131\\uc2dc\", \"\\uc548\\uc591\\uc2dc\", \"\\uc591\\uc8fc\\uc2dc\", \"\\uc624\\uc0b0\\uc2dc\", \"\\uc6a9\\uc778\\uc2dc\", \"\\uc758\\uc655\\uc2dc\", \"\\uc758\\uc815\\ubd80\\uc2dc\", \"\\uc774\\ucc9c\\uc2dc\", \"\\ud30c\\uc8fc\\uc2dc\", \"\\ud3c9\\ud0dd\\uc2dc\", \"\\ud3ec\\ucc9c\\uc2dc\", \"\\ud558\\ub0a8\\uc2dc\", \"\\ud654\\uc131\\uc2dc\"], \"xaxis\": \"x\", \"y\": [0.0, 10.0, 4.0, 5.0, 4.0, 1.0, 4.0, 8.0, 7.0, 0.0, 37.0, 44.0, 20.0, 5.0, 4.0, 1.0, 14.0, 0.0, 2.0, 19.0, 2.0, 3.0, 9.0, 4.0, 7.0, 6.0, 0.0, 11.0], \"yaxis\": \"y\", \"type\": \"bar\"}], \"name\": \"2020-03-15\"}, {\"data\": [{\"alignmentgroup\": \"True\", \"hovertemplate\": \"confirmed_date=2020-03-22<br>city=%{x}<br>cum_count=%{y}<extra></extra>\", \"ids\": [\"\\uac00\\ud3c9\\uad70\", \"\\uace0\\uc591\\uc2dc\", \"\\uacfc\\ucc9c\\uc2dc\", \"\\uad11\\uba85\\uc2dc\", \"\\uad11\\uc8fc\\uc2dc\", \"\\uad6c\\ub9ac\\uc2dc\", \"\\uad70\\ud3ec\\uc2dc\", \"\\uae40\\ud3ec\\uc2dc\", \"\\ub0a8\\uc591\\uc8fc\\uc2dc\", \"\\ub3d9\\ub450\\ucc9c\\uc2dc\", \"\\ubd80\\ucc9c\\uc2dc\", \"\\uc131\\ub0a8\\uc2dc\", \"\\uc218\\uc6d0\\uc2dc\", \"\\uc2dc\\ud765\\uc2dc\", \"\\uc548\\uc0b0\\uc2dc\", \"\\uc548\\uc131\\uc2dc\", \"\\uc548\\uc591\\uc2dc\", \"\\uc591\\uc8fc\\uc2dc\", \"\\uc624\\uc0b0\\uc2dc\", \"\\uc6a9\\uc778\\uc2dc\", \"\\uc758\\uc655\\uc2dc\", \"\\uc758\\uc815\\ubd80\\uc2dc\", \"\\uc774\\ucc9c\\uc2dc\", \"\\ud30c\\uc8fc\\uc2dc\", \"\\ud3c9\\ud0dd\\uc2dc\", \"\\ud3ec\\ucc9c\\uc2dc\", \"\\ud558\\ub0a8\\uc2dc\", \"\\ud654\\uc131\\uc2dc\"], \"legendgroup\": \"\", \"marker\": {\"color\": \"#636efa\"}, \"name\": \"\", \"offsetgroup\": \"\", \"orientation\": \"v\", \"showlegend\": false, \"textposition\": \"auto\", \"x\": [\"\\uac00\\ud3c9\\uad70\", \"\\uace0\\uc591\\uc2dc\", \"\\uacfc\\ucc9c\\uc2dc\", \"\\uad11\\uba85\\uc2dc\", \"\\uad11\\uc8fc\\uc2dc\", \"\\uad6c\\ub9ac\\uc2dc\", \"\\uad70\\ud3ec\\uc2dc\", \"\\uae40\\ud3ec\\uc2dc\", \"\\ub0a8\\uc591\\uc8fc\\uc2dc\", \"\\ub3d9\\ub450\\ucc9c\\uc2dc\", \"\\ubd80\\ucc9c\\uc2dc\", \"\\uc131\\ub0a8\\uc2dc\", \"\\uc218\\uc6d0\\uc2dc\", \"\\uc2dc\\ud765\\uc2dc\", \"\\uc548\\uc0b0\\uc2dc\", \"\\uc548\\uc131\\uc2dc\", \"\\uc548\\uc591\\uc2dc\", \"\\uc591\\uc8fc\\uc2dc\", \"\\uc624\\uc0b0\\uc2dc\", \"\\uc6a9\\uc778\\uc2dc\", \"\\uc758\\uc655\\uc2dc\", \"\\uc758\\uc815\\ubd80\\uc2dc\", \"\\uc774\\ucc9c\\uc2dc\", \"\\ud30c\\uc8fc\\uc2dc\", \"\\ud3c9\\ud0dd\\uc2dc\", \"\\ud3ec\\ucc9c\\uc2dc\", \"\\ud558\\ub0a8\\uc2dc\", \"\\ud654\\uc131\\uc2dc\"], \"xaxis\": \"x\", \"y\": [0.0, 12.0, 5.0, 5.0, 9.0, 2.0, 10.0, 8.0, 13.0, 0.0, 51.0, 99.0, 23.0, 6.0, 6.0, 1.0, 15.0, 0.0, 3.0, 34.0, 3.0, 3.0, 9.0, 4.0, 11.0, 6.0, 1.0, 14.0], \"yaxis\": \"y\", \"type\": \"bar\"}], \"name\": \"2020-03-22\"}, {\"data\": [{\"alignmentgroup\": \"True\", \"hovertemplate\": \"confirmed_date=2020-03-29<br>city=%{x}<br>cum_count=%{y}<extra></extra>\", \"ids\": [\"\\uac00\\ud3c9\\uad70\", \"\\uace0\\uc591\\uc2dc\", \"\\uacfc\\ucc9c\\uc2dc\", \"\\uad11\\uba85\\uc2dc\", \"\\uad11\\uc8fc\\uc2dc\", \"\\uad6c\\ub9ac\\uc2dc\", \"\\uad70\\ud3ec\\uc2dc\", \"\\uae40\\ud3ec\\uc2dc\", \"\\ub0a8\\uc591\\uc8fc\\uc2dc\", \"\\ub3d9\\ub450\\ucc9c\\uc2dc\", \"\\ubd80\\ucc9c\\uc2dc\", \"\\uc131\\ub0a8\\uc2dc\", \"\\uc218\\uc6d0\\uc2dc\", \"\\uc2dc\\ud765\\uc2dc\", \"\\uc548\\uc0b0\\uc2dc\", \"\\uc548\\uc131\\uc2dc\", \"\\uc548\\uc591\\uc2dc\", \"\\uc591\\uc8fc\\uc2dc\", \"\\uc624\\uc0b0\\uc2dc\", \"\\uc6a9\\uc778\\uc2dc\", \"\\uc758\\uc655\\uc2dc\", \"\\uc758\\uc815\\ubd80\\uc2dc\", \"\\uc774\\ucc9c\\uc2dc\", \"\\ud30c\\uc8fc\\uc2dc\", \"\\ud3c9\\ud0dd\\uc2dc\", \"\\ud3ec\\ucc9c\\uc2dc\", \"\\ud558\\ub0a8\\uc2dc\", \"\\ud654\\uc131\\uc2dc\"], \"legendgroup\": \"\", \"marker\": {\"color\": \"#636efa\"}, \"name\": \"\", \"offsetgroup\": \"\", \"orientation\": \"v\", \"showlegend\": false, \"textposition\": \"auto\", \"x\": [\"\\uac00\\ud3c9\\uad70\", \"\\uace0\\uc591\\uc2dc\", \"\\uacfc\\ucc9c\\uc2dc\", \"\\uad11\\uba85\\uc2dc\", \"\\uad11\\uc8fc\\uc2dc\", \"\\uad6c\\ub9ac\\uc2dc\", \"\\uad70\\ud3ec\\uc2dc\", \"\\uae40\\ud3ec\\uc2dc\", \"\\ub0a8\\uc591\\uc8fc\\uc2dc\", \"\\ub3d9\\ub450\\ucc9c\\uc2dc\", \"\\ubd80\\ucc9c\\uc2dc\", \"\\uc131\\ub0a8\\uc2dc\", \"\\uc218\\uc6d0\\uc2dc\", \"\\uc2dc\\ud765\\uc2dc\", \"\\uc548\\uc0b0\\uc2dc\", \"\\uc548\\uc131\\uc2dc\", \"\\uc548\\uc591\\uc2dc\", \"\\uc591\\uc8fc\\uc2dc\", \"\\uc624\\uc0b0\\uc2dc\", \"\\uc6a9\\uc778\\uc2dc\", \"\\uc758\\uc655\\uc2dc\", \"\\uc758\\uc815\\ubd80\\uc2dc\", \"\\uc774\\ucc9c\\uc2dc\", \"\\ud30c\\uc8fc\\uc2dc\", \"\\ud3c9\\ud0dd\\uc2dc\", \"\\ud3ec\\ucc9c\\uc2dc\", \"\\ud558\\ub0a8\\uc2dc\", \"\\ud654\\uc131\\uc2dc\"], \"xaxis\": \"x\", \"y\": [0.0, 17.0, 6.0, 8.0, 12.0, 3.0, 24.0, 10.0, 13.0, 0.0, 69.0, 109.0, 37.0, 7.0, 15.0, 1.0, 16.0, 0.0, 4.0, 51.0, 5.0, 5.0, 9.0, 5.0, 16.0, 6.0, 1.0, 17.0], \"yaxis\": \"y\", \"type\": \"bar\"}], \"name\": \"2020-03-29\"}, {\"data\": [{\"alignmentgroup\": \"True\", \"hovertemplate\": \"confirmed_date=2020-04-05<br>city=%{x}<br>cum_count=%{y}<extra></extra>\", \"ids\": [\"\\uac00\\ud3c9\\uad70\", \"\\uace0\\uc591\\uc2dc\", \"\\uacfc\\ucc9c\\uc2dc\", \"\\uad11\\uba85\\uc2dc\", \"\\uad11\\uc8fc\\uc2dc\", \"\\uad6c\\ub9ac\\uc2dc\", \"\\uad70\\ud3ec\\uc2dc\", \"\\uae40\\ud3ec\\uc2dc\", \"\\ub0a8\\uc591\\uc8fc\\uc2dc\", \"\\ub3d9\\ub450\\ucc9c\\uc2dc\", \"\\ubd80\\ucc9c\\uc2dc\", \"\\uc131\\ub0a8\\uc2dc\", \"\\uc218\\uc6d0\\uc2dc\", \"\\uc2dc\\ud765\\uc2dc\", \"\\uc548\\uc0b0\\uc2dc\", \"\\uc548\\uc131\\uc2dc\", \"\\uc548\\uc591\\uc2dc\", \"\\uc591\\uc8fc\\uc2dc\", \"\\uc624\\uc0b0\\uc2dc\", \"\\uc6a9\\uc778\\uc2dc\", \"\\uc758\\uc655\\uc2dc\", \"\\uc758\\uc815\\ubd80\\uc2dc\", \"\\uc774\\ucc9c\\uc2dc\", \"\\ud30c\\uc8fc\\uc2dc\", \"\\ud3c9\\ud0dd\\uc2dc\", \"\\ud3ec\\ucc9c\\uc2dc\", \"\\ud558\\ub0a8\\uc2dc\", \"\\ud654\\uc131\\uc2dc\"], \"legendgroup\": \"\", \"marker\": {\"color\": \"#636efa\"}, \"name\": \"\", \"offsetgroup\": \"\", \"orientation\": \"v\", \"showlegend\": false, \"textposition\": \"auto\", \"x\": [\"\\uac00\\ud3c9\\uad70\", \"\\uace0\\uc591\\uc2dc\", \"\\uacfc\\ucc9c\\uc2dc\", \"\\uad11\\uba85\\uc2dc\", \"\\uad11\\uc8fc\\uc2dc\", \"\\uad6c\\ub9ac\\uc2dc\", \"\\uad70\\ud3ec\\uc2dc\", \"\\uae40\\ud3ec\\uc2dc\", \"\\ub0a8\\uc591\\uc8fc\\uc2dc\", \"\\ub3d9\\ub450\\ucc9c\\uc2dc\", \"\\ubd80\\ucc9c\\uc2dc\", \"\\uc131\\ub0a8\\uc2dc\", \"\\uc218\\uc6d0\\uc2dc\", \"\\uc2dc\\ud765\\uc2dc\", \"\\uc548\\uc0b0\\uc2dc\", \"\\uc548\\uc131\\uc2dc\", \"\\uc548\\uc591\\uc2dc\", \"\\uc591\\uc8fc\\uc2dc\", \"\\uc624\\uc0b0\\uc2dc\", \"\\uc6a9\\uc778\\uc2dc\", \"\\uc758\\uc655\\uc2dc\", \"\\uc758\\uc815\\ubd80\\uc2dc\", \"\\uc774\\ucc9c\\uc2dc\", \"\\ud30c\\uc8fc\\uc2dc\", \"\\ud3c9\\ud0dd\\uc2dc\", \"\\ud3ec\\ucc9c\\uc2dc\", \"\\ud558\\ub0a8\\uc2dc\", \"\\ud654\\uc131\\uc2dc\"], \"xaxis\": \"x\", \"y\": [1.0, 23.0, 6.0, 10.0, 13.0, 3.0, 29.0, 13.0, 20.0, 2.0, 72.0, 119.0, 48.0, 9.0, 16.0, 2.0, 18.0, 1.0, 7.0, 56.0, 5.0, 27.0, 10.0, 5.0, 35.0, 11.0, 3.0, 19.0], \"yaxis\": \"y\", \"type\": \"bar\"}], \"name\": \"2020-04-05\"}, {\"data\": [{\"alignmentgroup\": \"True\", \"hovertemplate\": \"confirmed_date=2020-04-12<br>city=%{x}<br>cum_count=%{y}<extra></extra>\", \"ids\": [\"\\uac00\\ud3c9\\uad70\", \"\\uace0\\uc591\\uc2dc\", \"\\uacfc\\ucc9c\\uc2dc\", \"\\uad11\\uba85\\uc2dc\", \"\\uad11\\uc8fc\\uc2dc\", \"\\uad6c\\ub9ac\\uc2dc\", \"\\uad70\\ud3ec\\uc2dc\", \"\\uae40\\ud3ec\\uc2dc\", \"\\ub0a8\\uc591\\uc8fc\\uc2dc\", \"\\ub3d9\\ub450\\ucc9c\\uc2dc\", \"\\ubd80\\ucc9c\\uc2dc\", \"\\uc131\\ub0a8\\uc2dc\", \"\\uc218\\uc6d0\\uc2dc\", \"\\uc2dc\\ud765\\uc2dc\", \"\\uc548\\uc0b0\\uc2dc\", \"\\uc548\\uc131\\uc2dc\", \"\\uc548\\uc591\\uc2dc\", \"\\uc591\\uc8fc\\uc2dc\", \"\\uc624\\uc0b0\\uc2dc\", \"\\uc6a9\\uc778\\uc2dc\", \"\\uc758\\uc655\\uc2dc\", \"\\uc758\\uc815\\ubd80\\uc2dc\", \"\\uc774\\ucc9c\\uc2dc\", \"\\ud30c\\uc8fc\\uc2dc\", \"\\ud3c9\\ud0dd\\uc2dc\", \"\\ud3ec\\ucc9c\\uc2dc\", \"\\ud558\\ub0a8\\uc2dc\", \"\\ud654\\uc131\\uc2dc\"], \"legendgroup\": \"\", \"marker\": {\"color\": \"#636efa\"}, \"name\": \"\", \"offsetgroup\": \"\", \"orientation\": \"v\", \"showlegend\": false, \"textposition\": \"auto\", \"x\": [\"\\uac00\\ud3c9\\uad70\", \"\\uace0\\uc591\\uc2dc\", \"\\uacfc\\ucc9c\\uc2dc\", \"\\uad11\\uba85\\uc2dc\", \"\\uad11\\uc8fc\\uc2dc\", \"\\uad6c\\ub9ac\\uc2dc\", \"\\uad70\\ud3ec\\uc2dc\", \"\\uae40\\ud3ec\\uc2dc\", \"\\ub0a8\\uc591\\uc8fc\\uc2dc\", \"\\ub3d9\\ub450\\ucc9c\\uc2dc\", \"\\ubd80\\ucc9c\\uc2dc\", \"\\uc131\\ub0a8\\uc2dc\", \"\\uc218\\uc6d0\\uc2dc\", \"\\uc2dc\\ud765\\uc2dc\", \"\\uc548\\uc0b0\\uc2dc\", \"\\uc548\\uc131\\uc2dc\", \"\\uc548\\uc591\\uc2dc\", \"\\uc591\\uc8fc\\uc2dc\", \"\\uc624\\uc0b0\\uc2dc\", \"\\uc6a9\\uc778\\uc2dc\", \"\\uc758\\uc655\\uc2dc\", \"\\uc758\\uc815\\ubd80\\uc2dc\", \"\\uc774\\ucc9c\\uc2dc\", \"\\ud30c\\uc8fc\\uc2dc\", \"\\ud3c9\\ud0dd\\uc2dc\", \"\\ud3ec\\ucc9c\\uc2dc\", \"\\ud558\\ub0a8\\uc2dc\", \"\\ud654\\uc131\\uc2dc\"], \"xaxis\": \"x\", \"y\": [1.0, 23.0, 6.0, 10.0, 16.0, 6.0, 31.0, 15.0, 25.0, 5.0, 75.0, 124.0, 51.0, 9.0, 16.0, 3.0, 21.0, 3.0, 7.0, 57.0, 5.0, 32.0, 10.0, 5.0, 40.0, 11.0, 4.0, 23.0], \"yaxis\": \"y\", \"type\": \"bar\"}], \"name\": \"2020-04-12\"}]);\n",
       "                        }).then(function(){\n",
       "                            \n",
       "var gd = document.getElementById('a9215308-ca60-426a-bccb-8ff826d9e98e');\n",
       "var x = new MutationObserver(function (mutations, observer) {{\n",
       "        var display = window.getComputedStyle(gd).display;\n",
       "        if (!display || display === 'none') {{\n",
       "            console.log([gd, 'removed!']);\n",
       "            Plotly.purge(gd);\n",
       "            observer.disconnect();\n",
       "        }}\n",
       "}});\n",
       "\n",
       "// Listen for the removal of the full notebook cells\n",
       "var notebookContainer = gd.closest('#notebook-container');\n",
       "if (notebookContainer) {{\n",
       "    x.observe(notebookContainer, {childList: true});\n",
       "}}\n",
       "\n",
       "// Listen for the clearing of the current output cell\n",
       "var outputEl = gd.closest('.output');\n",
       "if (outputEl) {{\n",
       "    x.observe(outputEl, {childList: true});\n",
       "}}\n",
       "\n",
       "                        })\n",
       "                };\n",
       "                });\n",
       "            </script>\n",
       "        </div>"
      ]
     },
     "metadata": {},
     "output_type": "display_data"
    }
   ],
   "source": [
    "plot_confirmed(day7_gyeonggi)"
   ]
  },
  {
   "cell_type": "code",
   "execution_count": null,
   "metadata": {},
   "outputs": [],
   "source": []
  },
  {
   "cell_type": "code",
   "execution_count": 48,
   "metadata": {
    "ExecuteTime": {
     "end_time": "2020-04-18T08:13:18.961641Z",
     "start_time": "2020-04-18T08:13:18.957056Z"
    }
   },
   "outputs": [],
   "source": [
    "incheon = pd.read_csv('./data/incheon.csv')"
   ]
  },
  {
   "cell_type": "code",
   "execution_count": null,
   "metadata": {},
   "outputs": [],
   "source": []
  },
  {
   "cell_type": "code",
   "execution_count": 50,
   "metadata": {
    "ExecuteTime": {
     "end_time": "2020-04-18T08:18:36.766336Z",
     "start_time": "2020-04-18T08:18:36.757995Z"
    }
   },
   "outputs": [
    {
     "data": {
      "text/html": [
       "<div>\n",
       "<style scoped>\n",
       "    .dataframe tbody tr th:only-of-type {\n",
       "        vertical-align: middle;\n",
       "    }\n",
       "\n",
       "    .dataframe tbody tr th {\n",
       "        vertical-align: top;\n",
       "    }\n",
       "\n",
       "    .dataframe thead th {\n",
       "        text-align: right;\n",
       "    }\n",
       "</style>\n",
       "<table border=\"1\" class=\"dataframe\">\n",
       "  <thead>\n",
       "    <tr style=\"text-align: right;\">\n",
       "      <th></th>\n",
       "      <th>confirmed_date</th>\n",
       "      <th>province</th>\n",
       "      <th>city</th>\n",
       "      <th>sex</th>\n",
       "      <th>age</th>\n",
       "    </tr>\n",
       "  </thead>\n",
       "  <tbody>\n",
       "    <tr>\n",
       "      <th>1</th>\n",
       "      <td>2020.04.10</td>\n",
       "      <td>인천</td>\n",
       "      <td>강화군</td>\n",
       "      <td>남</td>\n",
       "      <td>29</td>\n",
       "    </tr>\n",
       "  </tbody>\n",
       "</table>\n",
       "</div>"
      ],
      "text/plain": [
       "  confirmed_date province city sex age\n",
       "1     2020.04.10       인천  강화군   남  29"
      ]
     },
     "execution_count": 50,
     "metadata": {},
     "output_type": "execute_result"
    }
   ],
   "source": [
    "incheon.loc[incheon['city']=='강화군']"
   ]
  },
  {
   "cell_type": "code",
   "execution_count": 30,
   "metadata": {
    "ExecuteTime": {
     "end_time": "2020-04-18T07:48:11.047925Z",
     "start_time": "2020-04-18T07:48:11.039210Z"
    }
   },
   "outputs": [
    {
     "data": {
      "text/html": [
       "<div>\n",
       "<style scoped>\n",
       "    .dataframe tbody tr th:only-of-type {\n",
       "        vertical-align: middle;\n",
       "    }\n",
       "\n",
       "    .dataframe tbody tr th {\n",
       "        vertical-align: top;\n",
       "    }\n",
       "\n",
       "    .dataframe thead th {\n",
       "        text-align: right;\n",
       "    }\n",
       "</style>\n",
       "<table border=\"1\" class=\"dataframe\">\n",
       "  <thead>\n",
       "    <tr style=\"text-align: right;\">\n",
       "      <th></th>\n",
       "      <th>confirmed_date</th>\n",
       "      <th>province</th>\n",
       "      <th>city</th>\n",
       "      <th>sex</th>\n",
       "      <th>age</th>\n",
       "    </tr>\n",
       "  </thead>\n",
       "  <tbody>\n",
       "    <tr>\n",
       "      <th>0</th>\n",
       "      <td>2020.04.12</td>\n",
       "      <td>인천</td>\n",
       "      <td>연수구</td>\n",
       "      <td>남</td>\n",
       "      <td>62</td>\n",
       "    </tr>\n",
       "    <tr>\n",
       "      <th>1</th>\n",
       "      <td>2020.04.10</td>\n",
       "      <td>인천</td>\n",
       "      <td>강화군</td>\n",
       "      <td>남</td>\n",
       "      <td>29</td>\n",
       "    </tr>\n",
       "    <tr>\n",
       "      <th>2</th>\n",
       "      <td>2020.04.09</td>\n",
       "      <td>인천</td>\n",
       "      <td>부평구</td>\n",
       "      <td>남</td>\n",
       "      <td>93</td>\n",
       "    </tr>\n",
       "    <tr>\n",
       "      <th>3</th>\n",
       "      <td>2020.04.09</td>\n",
       "      <td>인천</td>\n",
       "      <td>남동구</td>\n",
       "      <td>여</td>\n",
       "      <td>68</td>\n",
       "    </tr>\n",
       "    <tr>\n",
       "      <th>4</th>\n",
       "      <td>2020.04.07</td>\n",
       "      <td>인천</td>\n",
       "      <td>부평구</td>\n",
       "      <td>여</td>\n",
       "      <td>43</td>\n",
       "    </tr>\n",
       "  </tbody>\n",
       "</table>\n",
       "</div>"
      ],
      "text/plain": [
       "  confirmed_date province city sex age\n",
       "0     2020.04.12       인천  연수구   남  62\n",
       "1     2020.04.10       인천  강화군   남  29\n",
       "2     2020.04.09       인천  부평구   남  93\n",
       "3     2020.04.09       인천  남동구   여  68\n",
       "4     2020.04.07       인천  부평구   여  43"
      ]
     },
     "execution_count": 30,
     "metadata": {},
     "output_type": "execute_result"
    }
   ],
   "source": [
    "incheon.head()"
   ]
  },
  {
   "cell_type": "code",
   "execution_count": 38,
   "metadata": {
    "ExecuteTime": {
     "end_time": "2020-04-18T07:53:43.878002Z",
     "start_time": "2020-04-18T07:53:43.873638Z"
    }
   },
   "outputs": [
    {
     "data": {
      "text/plain": [
       "Index(['연수구', '부평구', '서구', '남동구', '미추홀구', '계양구', '중구', '동구', '미추홀', '경기도시흥시',\n",
       "       '강화군'],\n",
       "      dtype='object')"
      ]
     },
     "execution_count": 38,
     "metadata": {},
     "output_type": "execute_result"
    }
   ],
   "source": [
    "incheon['city'].value_counts().index"
   ]
  },
  {
   "cell_type": "code",
   "execution_count": 39,
   "metadata": {
    "ExecuteTime": {
     "end_time": "2020-04-18T07:55:59.940535Z",
     "start_time": "2020-04-18T07:55:59.937980Z"
    }
   },
   "outputs": [],
   "source": [
    "incheon_gu =['연수구', '부평구', '서구', '남동구', '미추홀구', '계양구', '중구', '동구', '부평구','강화군','웅진군']"
   ]
  },
  {
   "cell_type": "code",
   "execution_count": null,
   "metadata": {},
   "outputs": [],
   "source": []
  },
  {
   "cell_type": "code",
   "execution_count": null,
   "metadata": {},
   "outputs": [],
   "source": []
  },
  {
   "cell_type": "code",
   "execution_count": 34,
   "metadata": {
    "ExecuteTime": {
     "end_time": "2020-04-18T07:49:37.103091Z",
     "start_time": "2020-04-18T07:49:37.097471Z"
    }
   },
   "outputs": [],
   "source": [
    "regex = re.compile('\\d+.\\d+.\\d+')\n",
    "incheon['confirmed_date'] = incheon['confirmed_date'].apply(lambda x: regex.search(x.strip()).group())\n",
    "incheon['confirmed_date']= pd.to_datetime(incheon['confirmed_date'], format='%Y.%m.%d')"
   ]
  },
  {
   "cell_type": "code",
   "execution_count": 35,
   "metadata": {
    "ExecuteTime": {
     "end_time": "2020-04-18T07:49:44.128402Z",
     "start_time": "2020-04-18T07:49:44.119489Z"
    }
   },
   "outputs": [
    {
     "data": {
      "text/html": [
       "<div>\n",
       "<style scoped>\n",
       "    .dataframe tbody tr th:only-of-type {\n",
       "        vertical-align: middle;\n",
       "    }\n",
       "\n",
       "    .dataframe tbody tr th {\n",
       "        vertical-align: top;\n",
       "    }\n",
       "\n",
       "    .dataframe thead th {\n",
       "        text-align: right;\n",
       "    }\n",
       "</style>\n",
       "<table border=\"1\" class=\"dataframe\">\n",
       "  <thead>\n",
       "    <tr style=\"text-align: right;\">\n",
       "      <th></th>\n",
       "      <th>confirmed_date</th>\n",
       "      <th>province</th>\n",
       "      <th>city</th>\n",
       "      <th>sex</th>\n",
       "      <th>age</th>\n",
       "    </tr>\n",
       "  </thead>\n",
       "  <tbody>\n",
       "    <tr>\n",
       "      <th>0</th>\n",
       "      <td>2020-04-12</td>\n",
       "      <td>인천</td>\n",
       "      <td>연수구</td>\n",
       "      <td>남</td>\n",
       "      <td>62</td>\n",
       "    </tr>\n",
       "    <tr>\n",
       "      <th>1</th>\n",
       "      <td>2020-04-10</td>\n",
       "      <td>인천</td>\n",
       "      <td>강화군</td>\n",
       "      <td>남</td>\n",
       "      <td>29</td>\n",
       "    </tr>\n",
       "    <tr>\n",
       "      <th>2</th>\n",
       "      <td>2020-04-09</td>\n",
       "      <td>인천</td>\n",
       "      <td>부평구</td>\n",
       "      <td>남</td>\n",
       "      <td>93</td>\n",
       "    </tr>\n",
       "    <tr>\n",
       "      <th>3</th>\n",
       "      <td>2020-04-09</td>\n",
       "      <td>인천</td>\n",
       "      <td>남동구</td>\n",
       "      <td>여</td>\n",
       "      <td>68</td>\n",
       "    </tr>\n",
       "    <tr>\n",
       "      <th>4</th>\n",
       "      <td>2020-04-07</td>\n",
       "      <td>인천</td>\n",
       "      <td>부평구</td>\n",
       "      <td>여</td>\n",
       "      <td>43</td>\n",
       "    </tr>\n",
       "  </tbody>\n",
       "</table>\n",
       "</div>"
      ],
      "text/plain": [
       "  confirmed_date province city sex age\n",
       "0     2020-04-12       인천  연수구   남  62\n",
       "1     2020-04-10       인천  강화군   남  29\n",
       "2     2020-04-09       인천  부평구   남  93\n",
       "3     2020-04-09       인천  남동구   여  68\n",
       "4     2020-04-07       인천  부평구   여  43"
      ]
     },
     "execution_count": 35,
     "metadata": {},
     "output_type": "execute_result"
    }
   ],
   "source": [
    "incheon.head()"
   ]
  },
  {
   "cell_type": "code",
   "execution_count": 40,
   "metadata": {
    "ExecuteTime": {
     "end_time": "2020-04-18T07:56:42.385869Z",
     "start_time": "2020-04-18T07:56:42.382815Z"
    }
   },
   "outputs": [],
   "source": [
    "incheon['city'] = np.where(incheon['city'].isin(incheon_gu), incheon['city'], '기타')"
   ]
  },
  {
   "cell_type": "code",
   "execution_count": 41,
   "metadata": {
    "ExecuteTime": {
     "end_time": "2020-04-18T07:56:51.712213Z",
     "start_time": "2020-04-18T07:56:51.707258Z"
    }
   },
   "outputs": [
    {
     "data": {
      "text/plain": [
       "연수구     22\n",
       "부평구     17\n",
       "서구      11\n",
       "남동구     10\n",
       "미추홀구    10\n",
       "계양구      6\n",
       "중구       5\n",
       "기타       3\n",
       "동구       2\n",
       "강화군      1\n",
       "Name: city, dtype: int64"
      ]
     },
     "execution_count": 41,
     "metadata": {},
     "output_type": "execute_result"
    }
   ],
   "source": [
    "incheon['city'].value_counts()"
   ]
  },
  {
   "cell_type": "code",
   "execution_count": 42,
   "metadata": {
    "ExecuteTime": {
     "end_time": "2020-04-18T07:57:30.863208Z",
     "start_time": "2020-04-18T07:57:30.845768Z"
    }
   },
   "outputs": [],
   "source": [
    "day_incheon = incheon.groupby(['confirmed_date', 'city'])['city'].count().reset_index(name=\"count\")\n",
    "day_incheon['cum_count'] = day_incheon['count'].iloc[::1].groupby(day_incheon['city']).cumsum()\n",
    "\n",
    "day_incheon = day_incheon.pivot(index='confirmed_date', columns='city', values='cum_count')\n",
    "day_incheon = day_incheon.fillna(method='pad').fillna(0)\n",
    "\n",
    "idx = pd.date_range(day_incheon.index.min(), day_incheon.index.max())\n",
    "day_incheon = day_incheon.reindex(idx, method='pad')\n",
    "\n",
    "day_incheon = day_incheon.stack().reset_index()\n",
    "day_incheon.columns = ['confirmed_date', 'city', 'cum_count']"
   ]
  },
  {
   "cell_type": "code",
   "execution_count": 43,
   "metadata": {
    "ExecuteTime": {
     "end_time": "2020-04-18T07:58:04.101589Z",
     "start_time": "2020-04-18T07:58:04.087728Z"
    }
   },
   "outputs": [],
   "source": [
    "day3_idx = pd.date_range(start=day_incheon['confirmed_date'].min(),\n",
    "                        periods=len(day_incheon.set_index('confirmed_date').resample('3D').first()), \n",
    "                        freq='3D')\n",
    "day7_idx = pd.date_range(day_incheon['confirmed_date'].min(), \n",
    "                        periods=len(day_incheon.set_index('confirmed_date').resample('7D').first()), \n",
    "                        freq='7D')\n",
    "day15_idx = pd.date_range(day_incheon['confirmed_date'].min(), \n",
    "                        periods=len(day_incheon.set_index('confirmed_date').resample('15D').first()), \n",
    "                        freq='15D')"
   ]
  },
  {
   "cell_type": "code",
   "execution_count": 44,
   "metadata": {
    "ExecuteTime": {
     "end_time": "2020-04-18T07:58:22.557664Z",
     "start_time": "2020-04-18T07:58:22.543549Z"
    }
   },
   "outputs": [],
   "source": [
    "day3_idx = pd.date_range(start=day_incheon['confirmed_date'].min(),\n",
    "                            periods=len(day_incheon.set_index('confirmed_date').resample('3D').first()), \n",
    "                            freq='3D')\n",
    "day7_idx = pd.date_range(day_incheon['confirmed_date'].min(), \n",
    "                        periods=len(day_incheon.set_index('confirmed_date').resample('7D').first()), \n",
    "                        freq='7D')\n",
    "day15_idx = pd.date_range(day_incheon['confirmed_date'].min(), \n",
    "                        periods=len(day_incheon.set_index('confirmed_date').resample('15D').first()), \n",
    "                        freq='15D')"
   ]
  },
  {
   "cell_type": "code",
   "execution_count": 46,
   "metadata": {
    "ExecuteTime": {
     "end_time": "2020-04-18T07:59:18.370973Z",
     "start_time": "2020-04-18T07:59:18.352194Z"
    }
   },
   "outputs": [],
   "source": [
    "day3_incheon= day_incheon.set_index('confirmed_date').loc[day3_idx].reset_index()\n",
    "day7_incheon= day_incheon.set_index('confirmed_date').loc[day7_idx].reset_index()\n",
    "day15_incheon= day_incheon.set_index('confirmed_date').loc[day15_idx].reset_index()\n",
    "\n",
    "\n",
    "day_incheon['confirmed_date'] = day_incheon['confirmed_date'].astype(str)\n",
    "day3_incheon['confirmed_date'] = day3_incheon['confirmed_date'].astype(str)\n",
    "day7_incheon['confirmed_date'] = day7_incheon['confirmed_date'].astype(str)\n",
    "day15_incheon['confirmed_date'] = day15_incheon['confirmed_date'].astype(str)"
   ]
  },
  {
   "cell_type": "code",
   "execution_count": 52,
   "metadata": {
    "ExecuteTime": {
     "end_time": "2020-04-18T08:19:13.285465Z",
     "start_time": "2020-04-18T08:19:11.386917Z"
    }
   },
   "outputs": [
    {
     "data": {
      "application/vnd.plotly.v1+json": {
       "config": {
        "plotlyServerURL": "https://plot.ly"
       },
       "data": [
        {
         "alignmentgroup": "True",
         "hovertemplate": "confirmed_date=2020-01-20<br>city=%{x}<br>cum_count=%{y}<extra></extra>",
         "ids": [
          "강화군",
          "계양구",
          "기타",
          "남동구",
          "동구",
          "미추홀구",
          "부평구",
          "서구",
          "연수구",
          "중구"
         ],
         "legendgroup": "",
         "marker": {
          "color": "#636efa"
         },
         "name": "",
         "offsetgroup": "",
         "orientation": "v",
         "showlegend": false,
         "textposition": "auto",
         "type": "bar",
         "x": [
          "강화군",
          "계양구",
          "기타",
          "남동구",
          "동구",
          "미추홀구",
          "부평구",
          "서구",
          "연수구",
          "중구"
         ],
         "xaxis": "x",
         "y": [
          0,
          0,
          1,
          0,
          0,
          0,
          0,
          0,
          0,
          0
         ],
         "yaxis": "y"
        }
       ],
       "frames": [
        {
         "data": [
          {
           "alignmentgroup": "True",
           "hovertemplate": "confirmed_date=2020-01-20<br>city=%{x}<br>cum_count=%{y}<extra></extra>",
           "ids": [
            "강화군",
            "계양구",
            "기타",
            "남동구",
            "동구",
            "미추홀구",
            "부평구",
            "서구",
            "연수구",
            "중구"
           ],
           "legendgroup": "",
           "marker": {
            "color": "#636efa"
           },
           "name": "",
           "offsetgroup": "",
           "orientation": "v",
           "showlegend": false,
           "textposition": "auto",
           "type": "bar",
           "x": [
            "강화군",
            "계양구",
            "기타",
            "남동구",
            "동구",
            "미추홀구",
            "부평구",
            "서구",
            "연수구",
            "중구"
           ],
           "xaxis": "x",
           "y": [
            0,
            0,
            1,
            0,
            0,
            0,
            0,
            0,
            0,
            0
           ],
           "yaxis": "y"
          }
         ],
         "name": "2020-01-20"
        },
        {
         "data": [
          {
           "alignmentgroup": "True",
           "hovertemplate": "confirmed_date=2020-01-21<br>city=%{x}<br>cum_count=%{y}<extra></extra>",
           "ids": [
            "강화군",
            "계양구",
            "기타",
            "남동구",
            "동구",
            "미추홀구",
            "부평구",
            "서구",
            "연수구",
            "중구"
           ],
           "legendgroup": "",
           "marker": {
            "color": "#636efa"
           },
           "name": "",
           "offsetgroup": "",
           "orientation": "v",
           "showlegend": false,
           "textposition": "auto",
           "type": "bar",
           "x": [
            "강화군",
            "계양구",
            "기타",
            "남동구",
            "동구",
            "미추홀구",
            "부평구",
            "서구",
            "연수구",
            "중구"
           ],
           "xaxis": "x",
           "y": [
            0,
            0,
            1,
            0,
            0,
            0,
            0,
            0,
            0,
            0
           ],
           "yaxis": "y"
          }
         ],
         "name": "2020-01-21"
        },
        {
         "data": [
          {
           "alignmentgroup": "True",
           "hovertemplate": "confirmed_date=2020-01-22<br>city=%{x}<br>cum_count=%{y}<extra></extra>",
           "ids": [
            "강화군",
            "계양구",
            "기타",
            "남동구",
            "동구",
            "미추홀구",
            "부평구",
            "서구",
            "연수구",
            "중구"
           ],
           "legendgroup": "",
           "marker": {
            "color": "#636efa"
           },
           "name": "",
           "offsetgroup": "",
           "orientation": "v",
           "showlegend": false,
           "textposition": "auto",
           "type": "bar",
           "x": [
            "강화군",
            "계양구",
            "기타",
            "남동구",
            "동구",
            "미추홀구",
            "부평구",
            "서구",
            "연수구",
            "중구"
           ],
           "xaxis": "x",
           "y": [
            0,
            0,
            1,
            0,
            0,
            0,
            0,
            0,
            0,
            0
           ],
           "yaxis": "y"
          }
         ],
         "name": "2020-01-22"
        },
        {
         "data": [
          {
           "alignmentgroup": "True",
           "hovertemplate": "confirmed_date=2020-01-23<br>city=%{x}<br>cum_count=%{y}<extra></extra>",
           "ids": [
            "강화군",
            "계양구",
            "기타",
            "남동구",
            "동구",
            "미추홀구",
            "부평구",
            "서구",
            "연수구",
            "중구"
           ],
           "legendgroup": "",
           "marker": {
            "color": "#636efa"
           },
           "name": "",
           "offsetgroup": "",
           "orientation": "v",
           "showlegend": false,
           "textposition": "auto",
           "type": "bar",
           "x": [
            "강화군",
            "계양구",
            "기타",
            "남동구",
            "동구",
            "미추홀구",
            "부평구",
            "서구",
            "연수구",
            "중구"
           ],
           "xaxis": "x",
           "y": [
            0,
            0,
            1,
            0,
            0,
            0,
            0,
            0,
            0,
            0
           ],
           "yaxis": "y"
          }
         ],
         "name": "2020-01-23"
        },
        {
         "data": [
          {
           "alignmentgroup": "True",
           "hovertemplate": "confirmed_date=2020-01-24<br>city=%{x}<br>cum_count=%{y}<extra></extra>",
           "ids": [
            "강화군",
            "계양구",
            "기타",
            "남동구",
            "동구",
            "미추홀구",
            "부평구",
            "서구",
            "연수구",
            "중구"
           ],
           "legendgroup": "",
           "marker": {
            "color": "#636efa"
           },
           "name": "",
           "offsetgroup": "",
           "orientation": "v",
           "showlegend": false,
           "textposition": "auto",
           "type": "bar",
           "x": [
            "강화군",
            "계양구",
            "기타",
            "남동구",
            "동구",
            "미추홀구",
            "부평구",
            "서구",
            "연수구",
            "중구"
           ],
           "xaxis": "x",
           "y": [
            0,
            0,
            1,
            0,
            0,
            0,
            0,
            0,
            0,
            0
           ],
           "yaxis": "y"
          }
         ],
         "name": "2020-01-24"
        },
        {
         "data": [
          {
           "alignmentgroup": "True",
           "hovertemplate": "confirmed_date=2020-01-25<br>city=%{x}<br>cum_count=%{y}<extra></extra>",
           "ids": [
            "강화군",
            "계양구",
            "기타",
            "남동구",
            "동구",
            "미추홀구",
            "부평구",
            "서구",
            "연수구",
            "중구"
           ],
           "legendgroup": "",
           "marker": {
            "color": "#636efa"
           },
           "name": "",
           "offsetgroup": "",
           "orientation": "v",
           "showlegend": false,
           "textposition": "auto",
           "type": "bar",
           "x": [
            "강화군",
            "계양구",
            "기타",
            "남동구",
            "동구",
            "미추홀구",
            "부평구",
            "서구",
            "연수구",
            "중구"
           ],
           "xaxis": "x",
           "y": [
            0,
            0,
            1,
            0,
            0,
            0,
            0,
            0,
            0,
            0
           ],
           "yaxis": "y"
          }
         ],
         "name": "2020-01-25"
        },
        {
         "data": [
          {
           "alignmentgroup": "True",
           "hovertemplate": "confirmed_date=2020-01-26<br>city=%{x}<br>cum_count=%{y}<extra></extra>",
           "ids": [
            "강화군",
            "계양구",
            "기타",
            "남동구",
            "동구",
            "미추홀구",
            "부평구",
            "서구",
            "연수구",
            "중구"
           ],
           "legendgroup": "",
           "marker": {
            "color": "#636efa"
           },
           "name": "",
           "offsetgroup": "",
           "orientation": "v",
           "showlegend": false,
           "textposition": "auto",
           "type": "bar",
           "x": [
            "강화군",
            "계양구",
            "기타",
            "남동구",
            "동구",
            "미추홀구",
            "부평구",
            "서구",
            "연수구",
            "중구"
           ],
           "xaxis": "x",
           "y": [
            0,
            0,
            1,
            0,
            0,
            0,
            0,
            0,
            0,
            0
           ],
           "yaxis": "y"
          }
         ],
         "name": "2020-01-26"
        },
        {
         "data": [
          {
           "alignmentgroup": "True",
           "hovertemplate": "confirmed_date=2020-01-27<br>city=%{x}<br>cum_count=%{y}<extra></extra>",
           "ids": [
            "강화군",
            "계양구",
            "기타",
            "남동구",
            "동구",
            "미추홀구",
            "부평구",
            "서구",
            "연수구",
            "중구"
           ],
           "legendgroup": "",
           "marker": {
            "color": "#636efa"
           },
           "name": "",
           "offsetgroup": "",
           "orientation": "v",
           "showlegend": false,
           "textposition": "auto",
           "type": "bar",
           "x": [
            "강화군",
            "계양구",
            "기타",
            "남동구",
            "동구",
            "미추홀구",
            "부평구",
            "서구",
            "연수구",
            "중구"
           ],
           "xaxis": "x",
           "y": [
            0,
            0,
            1,
            0,
            0,
            0,
            0,
            0,
            0,
            0
           ],
           "yaxis": "y"
          }
         ],
         "name": "2020-01-27"
        },
        {
         "data": [
          {
           "alignmentgroup": "True",
           "hovertemplate": "confirmed_date=2020-01-28<br>city=%{x}<br>cum_count=%{y}<extra></extra>",
           "ids": [
            "강화군",
            "계양구",
            "기타",
            "남동구",
            "동구",
            "미추홀구",
            "부평구",
            "서구",
            "연수구",
            "중구"
           ],
           "legendgroup": "",
           "marker": {
            "color": "#636efa"
           },
           "name": "",
           "offsetgroup": "",
           "orientation": "v",
           "showlegend": false,
           "textposition": "auto",
           "type": "bar",
           "x": [
            "강화군",
            "계양구",
            "기타",
            "남동구",
            "동구",
            "미추홀구",
            "부평구",
            "서구",
            "연수구",
            "중구"
           ],
           "xaxis": "x",
           "y": [
            0,
            0,
            1,
            0,
            0,
            0,
            0,
            0,
            0,
            0
           ],
           "yaxis": "y"
          }
         ],
         "name": "2020-01-28"
        },
        {
         "data": [
          {
           "alignmentgroup": "True",
           "hovertemplate": "confirmed_date=2020-01-29<br>city=%{x}<br>cum_count=%{y}<extra></extra>",
           "ids": [
            "강화군",
            "계양구",
            "기타",
            "남동구",
            "동구",
            "미추홀구",
            "부평구",
            "서구",
            "연수구",
            "중구"
           ],
           "legendgroup": "",
           "marker": {
            "color": "#636efa"
           },
           "name": "",
           "offsetgroup": "",
           "orientation": "v",
           "showlegend": false,
           "textposition": "auto",
           "type": "bar",
           "x": [
            "강화군",
            "계양구",
            "기타",
            "남동구",
            "동구",
            "미추홀구",
            "부평구",
            "서구",
            "연수구",
            "중구"
           ],
           "xaxis": "x",
           "y": [
            0,
            0,
            1,
            0,
            0,
            0,
            0,
            0,
            0,
            0
           ],
           "yaxis": "y"
          }
         ],
         "name": "2020-01-29"
        },
        {
         "data": [
          {
           "alignmentgroup": "True",
           "hovertemplate": "confirmed_date=2020-01-30<br>city=%{x}<br>cum_count=%{y}<extra></extra>",
           "ids": [
            "강화군",
            "계양구",
            "기타",
            "남동구",
            "동구",
            "미추홀구",
            "부평구",
            "서구",
            "연수구",
            "중구"
           ],
           "legendgroup": "",
           "marker": {
            "color": "#636efa"
           },
           "name": "",
           "offsetgroup": "",
           "orientation": "v",
           "showlegend": false,
           "textposition": "auto",
           "type": "bar",
           "x": [
            "강화군",
            "계양구",
            "기타",
            "남동구",
            "동구",
            "미추홀구",
            "부평구",
            "서구",
            "연수구",
            "중구"
           ],
           "xaxis": "x",
           "y": [
            0,
            0,
            1,
            0,
            0,
            0,
            0,
            0,
            0,
            0
           ],
           "yaxis": "y"
          }
         ],
         "name": "2020-01-30"
        },
        {
         "data": [
          {
           "alignmentgroup": "True",
           "hovertemplate": "confirmed_date=2020-01-31<br>city=%{x}<br>cum_count=%{y}<extra></extra>",
           "ids": [
            "강화군",
            "계양구",
            "기타",
            "남동구",
            "동구",
            "미추홀구",
            "부평구",
            "서구",
            "연수구",
            "중구"
           ],
           "legendgroup": "",
           "marker": {
            "color": "#636efa"
           },
           "name": "",
           "offsetgroup": "",
           "orientation": "v",
           "showlegend": false,
           "textposition": "auto",
           "type": "bar",
           "x": [
            "강화군",
            "계양구",
            "기타",
            "남동구",
            "동구",
            "미추홀구",
            "부평구",
            "서구",
            "연수구",
            "중구"
           ],
           "xaxis": "x",
           "y": [
            0,
            0,
            1,
            0,
            0,
            0,
            0,
            0,
            0,
            0
           ],
           "yaxis": "y"
          }
         ],
         "name": "2020-01-31"
        },
        {
         "data": [
          {
           "alignmentgroup": "True",
           "hovertemplate": "confirmed_date=2020-02-01<br>city=%{x}<br>cum_count=%{y}<extra></extra>",
           "ids": [
            "강화군",
            "계양구",
            "기타",
            "남동구",
            "동구",
            "미추홀구",
            "부평구",
            "서구",
            "연수구",
            "중구"
           ],
           "legendgroup": "",
           "marker": {
            "color": "#636efa"
           },
           "name": "",
           "offsetgroup": "",
           "orientation": "v",
           "showlegend": false,
           "textposition": "auto",
           "type": "bar",
           "x": [
            "강화군",
            "계양구",
            "기타",
            "남동구",
            "동구",
            "미추홀구",
            "부평구",
            "서구",
            "연수구",
            "중구"
           ],
           "xaxis": "x",
           "y": [
            0,
            0,
            1,
            0,
            0,
            0,
            0,
            0,
            0,
            0
           ],
           "yaxis": "y"
          }
         ],
         "name": "2020-02-01"
        },
        {
         "data": [
          {
           "alignmentgroup": "True",
           "hovertemplate": "confirmed_date=2020-02-02<br>city=%{x}<br>cum_count=%{y}<extra></extra>",
           "ids": [
            "강화군",
            "계양구",
            "기타",
            "남동구",
            "동구",
            "미추홀구",
            "부평구",
            "서구",
            "연수구",
            "중구"
           ],
           "legendgroup": "",
           "marker": {
            "color": "#636efa"
           },
           "name": "",
           "offsetgroup": "",
           "orientation": "v",
           "showlegend": false,
           "textposition": "auto",
           "type": "bar",
           "x": [
            "강화군",
            "계양구",
            "기타",
            "남동구",
            "동구",
            "미추홀구",
            "부평구",
            "서구",
            "연수구",
            "중구"
           ],
           "xaxis": "x",
           "y": [
            0,
            0,
            1,
            0,
            0,
            0,
            0,
            0,
            0,
            0
           ],
           "yaxis": "y"
          }
         ],
         "name": "2020-02-02"
        },
        {
         "data": [
          {
           "alignmentgroup": "True",
           "hovertemplate": "confirmed_date=2020-02-03<br>city=%{x}<br>cum_count=%{y}<extra></extra>",
           "ids": [
            "강화군",
            "계양구",
            "기타",
            "남동구",
            "동구",
            "미추홀구",
            "부평구",
            "서구",
            "연수구",
            "중구"
           ],
           "legendgroup": "",
           "marker": {
            "color": "#636efa"
           },
           "name": "",
           "offsetgroup": "",
           "orientation": "v",
           "showlegend": false,
           "textposition": "auto",
           "type": "bar",
           "x": [
            "강화군",
            "계양구",
            "기타",
            "남동구",
            "동구",
            "미추홀구",
            "부평구",
            "서구",
            "연수구",
            "중구"
           ],
           "xaxis": "x",
           "y": [
            0,
            0,
            1,
            0,
            0,
            0,
            0,
            0,
            0,
            0
           ],
           "yaxis": "y"
          }
         ],
         "name": "2020-02-03"
        },
        {
         "data": [
          {
           "alignmentgroup": "True",
           "hovertemplate": "confirmed_date=2020-02-04<br>city=%{x}<br>cum_count=%{y}<extra></extra>",
           "ids": [
            "강화군",
            "계양구",
            "기타",
            "남동구",
            "동구",
            "미추홀구",
            "부평구",
            "서구",
            "연수구",
            "중구"
           ],
           "legendgroup": "",
           "marker": {
            "color": "#636efa"
           },
           "name": "",
           "offsetgroup": "",
           "orientation": "v",
           "showlegend": false,
           "textposition": "auto",
           "type": "bar",
           "x": [
            "강화군",
            "계양구",
            "기타",
            "남동구",
            "동구",
            "미추홀구",
            "부평구",
            "서구",
            "연수구",
            "중구"
           ],
           "xaxis": "x",
           "y": [
            0,
            0,
            1,
            0,
            0,
            0,
            0,
            0,
            0,
            0
           ],
           "yaxis": "y"
          }
         ],
         "name": "2020-02-04"
        },
        {
         "data": [
          {
           "alignmentgroup": "True",
           "hovertemplate": "confirmed_date=2020-02-05<br>city=%{x}<br>cum_count=%{y}<extra></extra>",
           "ids": [
            "강화군",
            "계양구",
            "기타",
            "남동구",
            "동구",
            "미추홀구",
            "부평구",
            "서구",
            "연수구",
            "중구"
           ],
           "legendgroup": "",
           "marker": {
            "color": "#636efa"
           },
           "name": "",
           "offsetgroup": "",
           "orientation": "v",
           "showlegend": false,
           "textposition": "auto",
           "type": "bar",
           "x": [
            "강화군",
            "계양구",
            "기타",
            "남동구",
            "동구",
            "미추홀구",
            "부평구",
            "서구",
            "연수구",
            "중구"
           ],
           "xaxis": "x",
           "y": [
            0,
            0,
            1,
            0,
            0,
            0,
            0,
            0,
            0,
            0
           ],
           "yaxis": "y"
          }
         ],
         "name": "2020-02-05"
        },
        {
         "data": [
          {
           "alignmentgroup": "True",
           "hovertemplate": "confirmed_date=2020-02-06<br>city=%{x}<br>cum_count=%{y}<extra></extra>",
           "ids": [
            "강화군",
            "계양구",
            "기타",
            "남동구",
            "동구",
            "미추홀구",
            "부평구",
            "서구",
            "연수구",
            "중구"
           ],
           "legendgroup": "",
           "marker": {
            "color": "#636efa"
           },
           "name": "",
           "offsetgroup": "",
           "orientation": "v",
           "showlegend": false,
           "textposition": "auto",
           "type": "bar",
           "x": [
            "강화군",
            "계양구",
            "기타",
            "남동구",
            "동구",
            "미추홀구",
            "부평구",
            "서구",
            "연수구",
            "중구"
           ],
           "xaxis": "x",
           "y": [
            0,
            0,
            1,
            0,
            0,
            0,
            0,
            0,
            0,
            0
           ],
           "yaxis": "y"
          }
         ],
         "name": "2020-02-06"
        },
        {
         "data": [
          {
           "alignmentgroup": "True",
           "hovertemplate": "confirmed_date=2020-02-07<br>city=%{x}<br>cum_count=%{y}<extra></extra>",
           "ids": [
            "강화군",
            "계양구",
            "기타",
            "남동구",
            "동구",
            "미추홀구",
            "부평구",
            "서구",
            "연수구",
            "중구"
           ],
           "legendgroup": "",
           "marker": {
            "color": "#636efa"
           },
           "name": "",
           "offsetgroup": "",
           "orientation": "v",
           "showlegend": false,
           "textposition": "auto",
           "type": "bar",
           "x": [
            "강화군",
            "계양구",
            "기타",
            "남동구",
            "동구",
            "미추홀구",
            "부평구",
            "서구",
            "연수구",
            "중구"
           ],
           "xaxis": "x",
           "y": [
            0,
            0,
            1,
            0,
            0,
            0,
            0,
            0,
            0,
            0
           ],
           "yaxis": "y"
          }
         ],
         "name": "2020-02-07"
        },
        {
         "data": [
          {
           "alignmentgroup": "True",
           "hovertemplate": "confirmed_date=2020-02-08<br>city=%{x}<br>cum_count=%{y}<extra></extra>",
           "ids": [
            "강화군",
            "계양구",
            "기타",
            "남동구",
            "동구",
            "미추홀구",
            "부평구",
            "서구",
            "연수구",
            "중구"
           ],
           "legendgroup": "",
           "marker": {
            "color": "#636efa"
           },
           "name": "",
           "offsetgroup": "",
           "orientation": "v",
           "showlegend": false,
           "textposition": "auto",
           "type": "bar",
           "x": [
            "강화군",
            "계양구",
            "기타",
            "남동구",
            "동구",
            "미추홀구",
            "부평구",
            "서구",
            "연수구",
            "중구"
           ],
           "xaxis": "x",
           "y": [
            0,
            0,
            1,
            0,
            0,
            0,
            0,
            0,
            0,
            0
           ],
           "yaxis": "y"
          }
         ],
         "name": "2020-02-08"
        },
        {
         "data": [
          {
           "alignmentgroup": "True",
           "hovertemplate": "confirmed_date=2020-02-09<br>city=%{x}<br>cum_count=%{y}<extra></extra>",
           "ids": [
            "강화군",
            "계양구",
            "기타",
            "남동구",
            "동구",
            "미추홀구",
            "부평구",
            "서구",
            "연수구",
            "중구"
           ],
           "legendgroup": "",
           "marker": {
            "color": "#636efa"
           },
           "name": "",
           "offsetgroup": "",
           "orientation": "v",
           "showlegend": false,
           "textposition": "auto",
           "type": "bar",
           "x": [
            "강화군",
            "계양구",
            "기타",
            "남동구",
            "동구",
            "미추홀구",
            "부평구",
            "서구",
            "연수구",
            "중구"
           ],
           "xaxis": "x",
           "y": [
            0,
            0,
            1,
            0,
            0,
            0,
            0,
            0,
            0,
            0
           ],
           "yaxis": "y"
          }
         ],
         "name": "2020-02-09"
        },
        {
         "data": [
          {
           "alignmentgroup": "True",
           "hovertemplate": "confirmed_date=2020-02-10<br>city=%{x}<br>cum_count=%{y}<extra></extra>",
           "ids": [
            "강화군",
            "계양구",
            "기타",
            "남동구",
            "동구",
            "미추홀구",
            "부평구",
            "서구",
            "연수구",
            "중구"
           ],
           "legendgroup": "",
           "marker": {
            "color": "#636efa"
           },
           "name": "",
           "offsetgroup": "",
           "orientation": "v",
           "showlegend": false,
           "textposition": "auto",
           "type": "bar",
           "x": [
            "강화군",
            "계양구",
            "기타",
            "남동구",
            "동구",
            "미추홀구",
            "부평구",
            "서구",
            "연수구",
            "중구"
           ],
           "xaxis": "x",
           "y": [
            0,
            0,
            1,
            0,
            0,
            0,
            0,
            0,
            0,
            0
           ],
           "yaxis": "y"
          }
         ],
         "name": "2020-02-10"
        },
        {
         "data": [
          {
           "alignmentgroup": "True",
           "hovertemplate": "confirmed_date=2020-02-11<br>city=%{x}<br>cum_count=%{y}<extra></extra>",
           "ids": [
            "강화군",
            "계양구",
            "기타",
            "남동구",
            "동구",
            "미추홀구",
            "부평구",
            "서구",
            "연수구",
            "중구"
           ],
           "legendgroup": "",
           "marker": {
            "color": "#636efa"
           },
           "name": "",
           "offsetgroup": "",
           "orientation": "v",
           "showlegend": false,
           "textposition": "auto",
           "type": "bar",
           "x": [
            "강화군",
            "계양구",
            "기타",
            "남동구",
            "동구",
            "미추홀구",
            "부평구",
            "서구",
            "연수구",
            "중구"
           ],
           "xaxis": "x",
           "y": [
            0,
            0,
            1,
            0,
            0,
            0,
            0,
            0,
            0,
            0
           ],
           "yaxis": "y"
          }
         ],
         "name": "2020-02-11"
        },
        {
         "data": [
          {
           "alignmentgroup": "True",
           "hovertemplate": "confirmed_date=2020-02-12<br>city=%{x}<br>cum_count=%{y}<extra></extra>",
           "ids": [
            "강화군",
            "계양구",
            "기타",
            "남동구",
            "동구",
            "미추홀구",
            "부평구",
            "서구",
            "연수구",
            "중구"
           ],
           "legendgroup": "",
           "marker": {
            "color": "#636efa"
           },
           "name": "",
           "offsetgroup": "",
           "orientation": "v",
           "showlegend": false,
           "textposition": "auto",
           "type": "bar",
           "x": [
            "강화군",
            "계양구",
            "기타",
            "남동구",
            "동구",
            "미추홀구",
            "부평구",
            "서구",
            "연수구",
            "중구"
           ],
           "xaxis": "x",
           "y": [
            0,
            0,
            1,
            0,
            0,
            0,
            0,
            0,
            0,
            0
           ],
           "yaxis": "y"
          }
         ],
         "name": "2020-02-12"
        },
        {
         "data": [
          {
           "alignmentgroup": "True",
           "hovertemplate": "confirmed_date=2020-02-13<br>city=%{x}<br>cum_count=%{y}<extra></extra>",
           "ids": [
            "강화군",
            "계양구",
            "기타",
            "남동구",
            "동구",
            "미추홀구",
            "부평구",
            "서구",
            "연수구",
            "중구"
           ],
           "legendgroup": "",
           "marker": {
            "color": "#636efa"
           },
           "name": "",
           "offsetgroup": "",
           "orientation": "v",
           "showlegend": false,
           "textposition": "auto",
           "type": "bar",
           "x": [
            "강화군",
            "계양구",
            "기타",
            "남동구",
            "동구",
            "미추홀구",
            "부평구",
            "서구",
            "연수구",
            "중구"
           ],
           "xaxis": "x",
           "y": [
            0,
            0,
            1,
            0,
            0,
            0,
            0,
            0,
            0,
            0
           ],
           "yaxis": "y"
          }
         ],
         "name": "2020-02-13"
        },
        {
         "data": [
          {
           "alignmentgroup": "True",
           "hovertemplate": "confirmed_date=2020-02-14<br>city=%{x}<br>cum_count=%{y}<extra></extra>",
           "ids": [
            "강화군",
            "계양구",
            "기타",
            "남동구",
            "동구",
            "미추홀구",
            "부평구",
            "서구",
            "연수구",
            "중구"
           ],
           "legendgroup": "",
           "marker": {
            "color": "#636efa"
           },
           "name": "",
           "offsetgroup": "",
           "orientation": "v",
           "showlegend": false,
           "textposition": "auto",
           "type": "bar",
           "x": [
            "강화군",
            "계양구",
            "기타",
            "남동구",
            "동구",
            "미추홀구",
            "부평구",
            "서구",
            "연수구",
            "중구"
           ],
           "xaxis": "x",
           "y": [
            0,
            0,
            1,
            0,
            0,
            0,
            0,
            0,
            0,
            0
           ],
           "yaxis": "y"
          }
         ],
         "name": "2020-02-14"
        },
        {
         "data": [
          {
           "alignmentgroup": "True",
           "hovertemplate": "confirmed_date=2020-02-15<br>city=%{x}<br>cum_count=%{y}<extra></extra>",
           "ids": [
            "강화군",
            "계양구",
            "기타",
            "남동구",
            "동구",
            "미추홀구",
            "부평구",
            "서구",
            "연수구",
            "중구"
           ],
           "legendgroup": "",
           "marker": {
            "color": "#636efa"
           },
           "name": "",
           "offsetgroup": "",
           "orientation": "v",
           "showlegend": false,
           "textposition": "auto",
           "type": "bar",
           "x": [
            "강화군",
            "계양구",
            "기타",
            "남동구",
            "동구",
            "미추홀구",
            "부평구",
            "서구",
            "연수구",
            "중구"
           ],
           "xaxis": "x",
           "y": [
            0,
            0,
            1,
            0,
            0,
            0,
            0,
            0,
            0,
            0
           ],
           "yaxis": "y"
          }
         ],
         "name": "2020-02-15"
        },
        {
         "data": [
          {
           "alignmentgroup": "True",
           "hovertemplate": "confirmed_date=2020-02-16<br>city=%{x}<br>cum_count=%{y}<extra></extra>",
           "ids": [
            "강화군",
            "계양구",
            "기타",
            "남동구",
            "동구",
            "미추홀구",
            "부평구",
            "서구",
            "연수구",
            "중구"
           ],
           "legendgroup": "",
           "marker": {
            "color": "#636efa"
           },
           "name": "",
           "offsetgroup": "",
           "orientation": "v",
           "showlegend": false,
           "textposition": "auto",
           "type": "bar",
           "x": [
            "강화군",
            "계양구",
            "기타",
            "남동구",
            "동구",
            "미추홀구",
            "부평구",
            "서구",
            "연수구",
            "중구"
           ],
           "xaxis": "x",
           "y": [
            0,
            0,
            1,
            0,
            0,
            0,
            0,
            0,
            0,
            0
           ],
           "yaxis": "y"
          }
         ],
         "name": "2020-02-16"
        },
        {
         "data": [
          {
           "alignmentgroup": "True",
           "hovertemplate": "confirmed_date=2020-02-17<br>city=%{x}<br>cum_count=%{y}<extra></extra>",
           "ids": [
            "강화군",
            "계양구",
            "기타",
            "남동구",
            "동구",
            "미추홀구",
            "부평구",
            "서구",
            "연수구",
            "중구"
           ],
           "legendgroup": "",
           "marker": {
            "color": "#636efa"
           },
           "name": "",
           "offsetgroup": "",
           "orientation": "v",
           "showlegend": false,
           "textposition": "auto",
           "type": "bar",
           "x": [
            "강화군",
            "계양구",
            "기타",
            "남동구",
            "동구",
            "미추홀구",
            "부평구",
            "서구",
            "연수구",
            "중구"
           ],
           "xaxis": "x",
           "y": [
            0,
            0,
            1,
            0,
            0,
            0,
            0,
            0,
            0,
            0
           ],
           "yaxis": "y"
          }
         ],
         "name": "2020-02-17"
        },
        {
         "data": [
          {
           "alignmentgroup": "True",
           "hovertemplate": "confirmed_date=2020-02-18<br>city=%{x}<br>cum_count=%{y}<extra></extra>",
           "ids": [
            "강화군",
            "계양구",
            "기타",
            "남동구",
            "동구",
            "미추홀구",
            "부평구",
            "서구",
            "연수구",
            "중구"
           ],
           "legendgroup": "",
           "marker": {
            "color": "#636efa"
           },
           "name": "",
           "offsetgroup": "",
           "orientation": "v",
           "showlegend": false,
           "textposition": "auto",
           "type": "bar",
           "x": [
            "강화군",
            "계양구",
            "기타",
            "남동구",
            "동구",
            "미추홀구",
            "부평구",
            "서구",
            "연수구",
            "중구"
           ],
           "xaxis": "x",
           "y": [
            0,
            0,
            1,
            0,
            0,
            0,
            0,
            0,
            0,
            0
           ],
           "yaxis": "y"
          }
         ],
         "name": "2020-02-18"
        },
        {
         "data": [
          {
           "alignmentgroup": "True",
           "hovertemplate": "confirmed_date=2020-02-19<br>city=%{x}<br>cum_count=%{y}<extra></extra>",
           "ids": [
            "강화군",
            "계양구",
            "기타",
            "남동구",
            "동구",
            "미추홀구",
            "부평구",
            "서구",
            "연수구",
            "중구"
           ],
           "legendgroup": "",
           "marker": {
            "color": "#636efa"
           },
           "name": "",
           "offsetgroup": "",
           "orientation": "v",
           "showlegend": false,
           "textposition": "auto",
           "type": "bar",
           "x": [
            "강화군",
            "계양구",
            "기타",
            "남동구",
            "동구",
            "미추홀구",
            "부평구",
            "서구",
            "연수구",
            "중구"
           ],
           "xaxis": "x",
           "y": [
            0,
            0,
            1,
            0,
            0,
            0,
            0,
            0,
            0,
            0
           ],
           "yaxis": "y"
          }
         ],
         "name": "2020-02-19"
        },
        {
         "data": [
          {
           "alignmentgroup": "True",
           "hovertemplate": "confirmed_date=2020-02-20<br>city=%{x}<br>cum_count=%{y}<extra></extra>",
           "ids": [
            "강화군",
            "계양구",
            "기타",
            "남동구",
            "동구",
            "미추홀구",
            "부평구",
            "서구",
            "연수구",
            "중구"
           ],
           "legendgroup": "",
           "marker": {
            "color": "#636efa"
           },
           "name": "",
           "offsetgroup": "",
           "orientation": "v",
           "showlegend": false,
           "textposition": "auto",
           "type": "bar",
           "x": [
            "강화군",
            "계양구",
            "기타",
            "남동구",
            "동구",
            "미추홀구",
            "부평구",
            "서구",
            "연수구",
            "중구"
           ],
           "xaxis": "x",
           "y": [
            0,
            0,
            1,
            0,
            0,
            0,
            0,
            0,
            0,
            0
           ],
           "yaxis": "y"
          }
         ],
         "name": "2020-02-20"
        },
        {
         "data": [
          {
           "alignmentgroup": "True",
           "hovertemplate": "confirmed_date=2020-02-21<br>city=%{x}<br>cum_count=%{y}<extra></extra>",
           "ids": [
            "강화군",
            "계양구",
            "기타",
            "남동구",
            "동구",
            "미추홀구",
            "부평구",
            "서구",
            "연수구",
            "중구"
           ],
           "legendgroup": "",
           "marker": {
            "color": "#636efa"
           },
           "name": "",
           "offsetgroup": "",
           "orientation": "v",
           "showlegend": false,
           "textposition": "auto",
           "type": "bar",
           "x": [
            "강화군",
            "계양구",
            "기타",
            "남동구",
            "동구",
            "미추홀구",
            "부평구",
            "서구",
            "연수구",
            "중구"
           ],
           "xaxis": "x",
           "y": [
            0,
            0,
            1,
            0,
            0,
            0,
            0,
            0,
            0,
            0
           ],
           "yaxis": "y"
          }
         ],
         "name": "2020-02-21"
        },
        {
         "data": [
          {
           "alignmentgroup": "True",
           "hovertemplate": "confirmed_date=2020-02-22<br>city=%{x}<br>cum_count=%{y}<extra></extra>",
           "ids": [
            "강화군",
            "계양구",
            "기타",
            "남동구",
            "동구",
            "미추홀구",
            "부평구",
            "서구",
            "연수구",
            "중구"
           ],
           "legendgroup": "",
           "marker": {
            "color": "#636efa"
           },
           "name": "",
           "offsetgroup": "",
           "orientation": "v",
           "showlegend": false,
           "textposition": "auto",
           "type": "bar",
           "x": [
            "강화군",
            "계양구",
            "기타",
            "남동구",
            "동구",
            "미추홀구",
            "부평구",
            "서구",
            "연수구",
            "중구"
           ],
           "xaxis": "x",
           "y": [
            0,
            0,
            1,
            0,
            0,
            0,
            1,
            0,
            0,
            0
           ],
           "yaxis": "y"
          }
         ],
         "name": "2020-02-22"
        },
        {
         "data": [
          {
           "alignmentgroup": "True",
           "hovertemplate": "confirmed_date=2020-02-23<br>city=%{x}<br>cum_count=%{y}<extra></extra>",
           "ids": [
            "강화군",
            "계양구",
            "기타",
            "남동구",
            "동구",
            "미추홀구",
            "부평구",
            "서구",
            "연수구",
            "중구"
           ],
           "legendgroup": "",
           "marker": {
            "color": "#636efa"
           },
           "name": "",
           "offsetgroup": "",
           "orientation": "v",
           "showlegend": false,
           "textposition": "auto",
           "type": "bar",
           "x": [
            "강화군",
            "계양구",
            "기타",
            "남동구",
            "동구",
            "미추홀구",
            "부평구",
            "서구",
            "연수구",
            "중구"
           ],
           "xaxis": "x",
           "y": [
            0,
            0,
            1,
            0,
            0,
            0,
            1,
            0,
            0,
            0
           ],
           "yaxis": "y"
          }
         ],
         "name": "2020-02-23"
        },
        {
         "data": [
          {
           "alignmentgroup": "True",
           "hovertemplate": "confirmed_date=2020-02-24<br>city=%{x}<br>cum_count=%{y}<extra></extra>",
           "ids": [
            "강화군",
            "계양구",
            "기타",
            "남동구",
            "동구",
            "미추홀구",
            "부평구",
            "서구",
            "연수구",
            "중구"
           ],
           "legendgroup": "",
           "marker": {
            "color": "#636efa"
           },
           "name": "",
           "offsetgroup": "",
           "orientation": "v",
           "showlegend": false,
           "textposition": "auto",
           "type": "bar",
           "x": [
            "강화군",
            "계양구",
            "기타",
            "남동구",
            "동구",
            "미추홀구",
            "부평구",
            "서구",
            "연수구",
            "중구"
           ],
           "xaxis": "x",
           "y": [
            0,
            0,
            1,
            0,
            0,
            0,
            1,
            0,
            0,
            0
           ],
           "yaxis": "y"
          }
         ],
         "name": "2020-02-24"
        },
        {
         "data": [
          {
           "alignmentgroup": "True",
           "hovertemplate": "confirmed_date=2020-02-25<br>city=%{x}<br>cum_count=%{y}<extra></extra>",
           "ids": [
            "강화군",
            "계양구",
            "기타",
            "남동구",
            "동구",
            "미추홀구",
            "부평구",
            "서구",
            "연수구",
            "중구"
           ],
           "legendgroup": "",
           "marker": {
            "color": "#636efa"
           },
           "name": "",
           "offsetgroup": "",
           "orientation": "v",
           "showlegend": false,
           "textposition": "auto",
           "type": "bar",
           "x": [
            "강화군",
            "계양구",
            "기타",
            "남동구",
            "동구",
            "미추홀구",
            "부평구",
            "서구",
            "연수구",
            "중구"
           ],
           "xaxis": "x",
           "y": [
            0,
            0,
            1,
            0,
            0,
            1,
            1,
            0,
            0,
            0
           ],
           "yaxis": "y"
          }
         ],
         "name": "2020-02-25"
        },
        {
         "data": [
          {
           "alignmentgroup": "True",
           "hovertemplate": "confirmed_date=2020-02-26<br>city=%{x}<br>cum_count=%{y}<extra></extra>",
           "ids": [
            "강화군",
            "계양구",
            "기타",
            "남동구",
            "동구",
            "미추홀구",
            "부평구",
            "서구",
            "연수구",
            "중구"
           ],
           "legendgroup": "",
           "marker": {
            "color": "#636efa"
           },
           "name": "",
           "offsetgroup": "",
           "orientation": "v",
           "showlegend": false,
           "textposition": "auto",
           "type": "bar",
           "x": [
            "강화군",
            "계양구",
            "기타",
            "남동구",
            "동구",
            "미추홀구",
            "부평구",
            "서구",
            "연수구",
            "중구"
           ],
           "xaxis": "x",
           "y": [
            0,
            0,
            1,
            0,
            0,
            1,
            1,
            0,
            0,
            0
           ],
           "yaxis": "y"
          }
         ],
         "name": "2020-02-26"
        },
        {
         "data": [
          {
           "alignmentgroup": "True",
           "hovertemplate": "confirmed_date=2020-02-27<br>city=%{x}<br>cum_count=%{y}<extra></extra>",
           "ids": [
            "강화군",
            "계양구",
            "기타",
            "남동구",
            "동구",
            "미추홀구",
            "부평구",
            "서구",
            "연수구",
            "중구"
           ],
           "legendgroup": "",
           "marker": {
            "color": "#636efa"
           },
           "name": "",
           "offsetgroup": "",
           "orientation": "v",
           "showlegend": false,
           "textposition": "auto",
           "type": "bar",
           "x": [
            "강화군",
            "계양구",
            "기타",
            "남동구",
            "동구",
            "미추홀구",
            "부평구",
            "서구",
            "연수구",
            "중구"
           ],
           "xaxis": "x",
           "y": [
            0,
            0,
            1,
            0,
            0,
            1,
            1,
            0,
            0,
            0
           ],
           "yaxis": "y"
          }
         ],
         "name": "2020-02-27"
        },
        {
         "data": [
          {
           "alignmentgroup": "True",
           "hovertemplate": "confirmed_date=2020-02-28<br>city=%{x}<br>cum_count=%{y}<extra></extra>",
           "ids": [
            "강화군",
            "계양구",
            "기타",
            "남동구",
            "동구",
            "미추홀구",
            "부평구",
            "서구",
            "연수구",
            "중구"
           ],
           "legendgroup": "",
           "marker": {
            "color": "#636efa"
           },
           "name": "",
           "offsetgroup": "",
           "orientation": "v",
           "showlegend": false,
           "textposition": "auto",
           "type": "bar",
           "x": [
            "강화군",
            "계양구",
            "기타",
            "남동구",
            "동구",
            "미추홀구",
            "부평구",
            "서구",
            "연수구",
            "중구"
           ],
           "xaxis": "x",
           "y": [
            0,
            0,
            1,
            0,
            0,
            1,
            2,
            1,
            1,
            0
           ],
           "yaxis": "y"
          }
         ],
         "name": "2020-02-28"
        },
        {
         "data": [
          {
           "alignmentgroup": "True",
           "hovertemplate": "confirmed_date=2020-02-29<br>city=%{x}<br>cum_count=%{y}<extra></extra>",
           "ids": [
            "강화군",
            "계양구",
            "기타",
            "남동구",
            "동구",
            "미추홀구",
            "부평구",
            "서구",
            "연수구",
            "중구"
           ],
           "legendgroup": "",
           "marker": {
            "color": "#636efa"
           },
           "name": "",
           "offsetgroup": "",
           "orientation": "v",
           "showlegend": false,
           "textposition": "auto",
           "type": "bar",
           "x": [
            "강화군",
            "계양구",
            "기타",
            "남동구",
            "동구",
            "미추홀구",
            "부평구",
            "서구",
            "연수구",
            "중구"
           ],
           "xaxis": "x",
           "y": [
            0,
            0,
            1,
            0,
            0,
            1,
            2,
            1,
            1,
            0
           ],
           "yaxis": "y"
          }
         ],
         "name": "2020-02-29"
        },
        {
         "data": [
          {
           "alignmentgroup": "True",
           "hovertemplate": "confirmed_date=2020-03-01<br>city=%{x}<br>cum_count=%{y}<extra></extra>",
           "ids": [
            "강화군",
            "계양구",
            "기타",
            "남동구",
            "동구",
            "미추홀구",
            "부평구",
            "서구",
            "연수구",
            "중구"
           ],
           "legendgroup": "",
           "marker": {
            "color": "#636efa"
           },
           "name": "",
           "offsetgroup": "",
           "orientation": "v",
           "showlegend": false,
           "textposition": "auto",
           "type": "bar",
           "x": [
            "강화군",
            "계양구",
            "기타",
            "남동구",
            "동구",
            "미추홀구",
            "부평구",
            "서구",
            "연수구",
            "중구"
           ],
           "xaxis": "x",
           "y": [
            0,
            0,
            1,
            0,
            0,
            1,
            2,
            1,
            2,
            0
           ],
           "yaxis": "y"
          }
         ],
         "name": "2020-03-01"
        },
        {
         "data": [
          {
           "alignmentgroup": "True",
           "hovertemplate": "confirmed_date=2020-03-02<br>city=%{x}<br>cum_count=%{y}<extra></extra>",
           "ids": [
            "강화군",
            "계양구",
            "기타",
            "남동구",
            "동구",
            "미추홀구",
            "부평구",
            "서구",
            "연수구",
            "중구"
           ],
           "legendgroup": "",
           "marker": {
            "color": "#636efa"
           },
           "name": "",
           "offsetgroup": "",
           "orientation": "v",
           "showlegend": false,
           "textposition": "auto",
           "type": "bar",
           "x": [
            "강화군",
            "계양구",
            "기타",
            "남동구",
            "동구",
            "미추홀구",
            "부평구",
            "서구",
            "연수구",
            "중구"
           ],
           "xaxis": "x",
           "y": [
            0,
            0,
            1,
            0,
            0,
            1,
            2,
            1,
            2,
            0
           ],
           "yaxis": "y"
          }
         ],
         "name": "2020-03-02"
        },
        {
         "data": [
          {
           "alignmentgroup": "True",
           "hovertemplate": "confirmed_date=2020-03-03<br>city=%{x}<br>cum_count=%{y}<extra></extra>",
           "ids": [
            "강화군",
            "계양구",
            "기타",
            "남동구",
            "동구",
            "미추홀구",
            "부평구",
            "서구",
            "연수구",
            "중구"
           ],
           "legendgroup": "",
           "marker": {
            "color": "#636efa"
           },
           "name": "",
           "offsetgroup": "",
           "orientation": "v",
           "showlegend": false,
           "textposition": "auto",
           "type": "bar",
           "x": [
            "강화군",
            "계양구",
            "기타",
            "남동구",
            "동구",
            "미추홀구",
            "부평구",
            "서구",
            "연수구",
            "중구"
           ],
           "xaxis": "x",
           "y": [
            0,
            0,
            1,
            0,
            0,
            2,
            3,
            1,
            2,
            0
           ],
           "yaxis": "y"
          }
         ],
         "name": "2020-03-03"
        },
        {
         "data": [
          {
           "alignmentgroup": "True",
           "hovertemplate": "confirmed_date=2020-03-04<br>city=%{x}<br>cum_count=%{y}<extra></extra>",
           "ids": [
            "강화군",
            "계양구",
            "기타",
            "남동구",
            "동구",
            "미추홀구",
            "부평구",
            "서구",
            "연수구",
            "중구"
           ],
           "legendgroup": "",
           "marker": {
            "color": "#636efa"
           },
           "name": "",
           "offsetgroup": "",
           "orientation": "v",
           "showlegend": false,
           "textposition": "auto",
           "type": "bar",
           "x": [
            "강화군",
            "계양구",
            "기타",
            "남동구",
            "동구",
            "미추홀구",
            "부평구",
            "서구",
            "연수구",
            "중구"
           ],
           "xaxis": "x",
           "y": [
            0,
            0,
            1,
            0,
            0,
            2,
            3,
            1,
            2,
            0
           ],
           "yaxis": "y"
          }
         ],
         "name": "2020-03-04"
        },
        {
         "data": [
          {
           "alignmentgroup": "True",
           "hovertemplate": "confirmed_date=2020-03-05<br>city=%{x}<br>cum_count=%{y}<extra></extra>",
           "ids": [
            "강화군",
            "계양구",
            "기타",
            "남동구",
            "동구",
            "미추홀구",
            "부평구",
            "서구",
            "연수구",
            "중구"
           ],
           "legendgroup": "",
           "marker": {
            "color": "#636efa"
           },
           "name": "",
           "offsetgroup": "",
           "orientation": "v",
           "showlegend": false,
           "textposition": "auto",
           "type": "bar",
           "x": [
            "강화군",
            "계양구",
            "기타",
            "남동구",
            "동구",
            "미추홀구",
            "부평구",
            "서구",
            "연수구",
            "중구"
           ],
           "xaxis": "x",
           "y": [
            0,
            0,
            1,
            0,
            0,
            2,
            3,
            1,
            2,
            0
           ],
           "yaxis": "y"
          }
         ],
         "name": "2020-03-05"
        },
        {
         "data": [
          {
           "alignmentgroup": "True",
           "hovertemplate": "confirmed_date=2020-03-06<br>city=%{x}<br>cum_count=%{y}<extra></extra>",
           "ids": [
            "강화군",
            "계양구",
            "기타",
            "남동구",
            "동구",
            "미추홀구",
            "부평구",
            "서구",
            "연수구",
            "중구"
           ],
           "legendgroup": "",
           "marker": {
            "color": "#636efa"
           },
           "name": "",
           "offsetgroup": "",
           "orientation": "v",
           "showlegend": false,
           "textposition": "auto",
           "type": "bar",
           "x": [
            "강화군",
            "계양구",
            "기타",
            "남동구",
            "동구",
            "미추홀구",
            "부평구",
            "서구",
            "연수구",
            "중구"
           ],
           "xaxis": "x",
           "y": [
            0,
            0,
            1,
            0,
            0,
            2,
            3,
            1,
            2,
            0
           ],
           "yaxis": "y"
          }
         ],
         "name": "2020-03-06"
        },
        {
         "data": [
          {
           "alignmentgroup": "True",
           "hovertemplate": "confirmed_date=2020-03-07<br>city=%{x}<br>cum_count=%{y}<extra></extra>",
           "ids": [
            "강화군",
            "계양구",
            "기타",
            "남동구",
            "동구",
            "미추홀구",
            "부평구",
            "서구",
            "연수구",
            "중구"
           ],
           "legendgroup": "",
           "marker": {
            "color": "#636efa"
           },
           "name": "",
           "offsetgroup": "",
           "orientation": "v",
           "showlegend": false,
           "textposition": "auto",
           "type": "bar",
           "x": [
            "강화군",
            "계양구",
            "기타",
            "남동구",
            "동구",
            "미추홀구",
            "부평구",
            "서구",
            "연수구",
            "중구"
           ],
           "xaxis": "x",
           "y": [
            0,
            0,
            1,
            0,
            0,
            2,
            3,
            1,
            2,
            0
           ],
           "yaxis": "y"
          }
         ],
         "name": "2020-03-07"
        },
        {
         "data": [
          {
           "alignmentgroup": "True",
           "hovertemplate": "confirmed_date=2020-03-08<br>city=%{x}<br>cum_count=%{y}<extra></extra>",
           "ids": [
            "강화군",
            "계양구",
            "기타",
            "남동구",
            "동구",
            "미추홀구",
            "부평구",
            "서구",
            "연수구",
            "중구"
           ],
           "legendgroup": "",
           "marker": {
            "color": "#636efa"
           },
           "name": "",
           "offsetgroup": "",
           "orientation": "v",
           "showlegend": false,
           "textposition": "auto",
           "type": "bar",
           "x": [
            "강화군",
            "계양구",
            "기타",
            "남동구",
            "동구",
            "미추홀구",
            "부평구",
            "서구",
            "연수구",
            "중구"
           ],
           "xaxis": "x",
           "y": [
            0,
            0,
            1,
            0,
            0,
            2,
            3,
            1,
            2,
            0
           ],
           "yaxis": "y"
          }
         ],
         "name": "2020-03-08"
        },
        {
         "data": [
          {
           "alignmentgroup": "True",
           "hovertemplate": "confirmed_date=2020-03-09<br>city=%{x}<br>cum_count=%{y}<extra></extra>",
           "ids": [
            "강화군",
            "계양구",
            "기타",
            "남동구",
            "동구",
            "미추홀구",
            "부평구",
            "서구",
            "연수구",
            "중구"
           ],
           "legendgroup": "",
           "marker": {
            "color": "#636efa"
           },
           "name": "",
           "offsetgroup": "",
           "orientation": "v",
           "showlegend": false,
           "textposition": "auto",
           "type": "bar",
           "x": [
            "강화군",
            "계양구",
            "기타",
            "남동구",
            "동구",
            "미추홀구",
            "부평구",
            "서구",
            "연수구",
            "중구"
           ],
           "xaxis": "x",
           "y": [
            0,
            1,
            1,
            1,
            0,
            6,
            7,
            3,
            3,
            0
           ],
           "yaxis": "y"
          }
         ],
         "name": "2020-03-09"
        },
        {
         "data": [
          {
           "alignmentgroup": "True",
           "hovertemplate": "confirmed_date=2020-03-10<br>city=%{x}<br>cum_count=%{y}<extra></extra>",
           "ids": [
            "강화군",
            "계양구",
            "기타",
            "남동구",
            "동구",
            "미추홀구",
            "부평구",
            "서구",
            "연수구",
            "중구"
           ],
           "legendgroup": "",
           "marker": {
            "color": "#636efa"
           },
           "name": "",
           "offsetgroup": "",
           "orientation": "v",
           "showlegend": false,
           "textposition": "auto",
           "type": "bar",
           "x": [
            "강화군",
            "계양구",
            "기타",
            "남동구",
            "동구",
            "미추홀구",
            "부평구",
            "서구",
            "연수구",
            "중구"
           ],
           "xaxis": "x",
           "y": [
            0,
            2,
            1,
            1,
            0,
            7,
            7,
            3,
            4,
            0
           ],
           "yaxis": "y"
          }
         ],
         "name": "2020-03-10"
        },
        {
         "data": [
          {
           "alignmentgroup": "True",
           "hovertemplate": "confirmed_date=2020-03-11<br>city=%{x}<br>cum_count=%{y}<extra></extra>",
           "ids": [
            "강화군",
            "계양구",
            "기타",
            "남동구",
            "동구",
            "미추홀구",
            "부평구",
            "서구",
            "연수구",
            "중구"
           ],
           "legendgroup": "",
           "marker": {
            "color": "#636efa"
           },
           "name": "",
           "offsetgroup": "",
           "orientation": "v",
           "showlegend": false,
           "textposition": "auto",
           "type": "bar",
           "x": [
            "강화군",
            "계양구",
            "기타",
            "남동구",
            "동구",
            "미추홀구",
            "부평구",
            "서구",
            "연수구",
            "중구"
           ],
           "xaxis": "x",
           "y": [
            0,
            2,
            1,
            1,
            0,
            7,
            8,
            3,
            4,
            0
           ],
           "yaxis": "y"
          }
         ],
         "name": "2020-03-11"
        },
        {
         "data": [
          {
           "alignmentgroup": "True",
           "hovertemplate": "confirmed_date=2020-03-12<br>city=%{x}<br>cum_count=%{y}<extra></extra>",
           "ids": [
            "강화군",
            "계양구",
            "기타",
            "남동구",
            "동구",
            "미추홀구",
            "부평구",
            "서구",
            "연수구",
            "중구"
           ],
           "legendgroup": "",
           "marker": {
            "color": "#636efa"
           },
           "name": "",
           "offsetgroup": "",
           "orientation": "v",
           "showlegend": false,
           "textposition": "auto",
           "type": "bar",
           "x": [
            "강화군",
            "계양구",
            "기타",
            "남동구",
            "동구",
            "미추홀구",
            "부평구",
            "서구",
            "연수구",
            "중구"
           ],
           "xaxis": "x",
           "y": [
            0,
            2,
            1,
            2,
            0,
            7,
            8,
            3,
            4,
            0
           ],
           "yaxis": "y"
          }
         ],
         "name": "2020-03-12"
        },
        {
         "data": [
          {
           "alignmentgroup": "True",
           "hovertemplate": "confirmed_date=2020-03-13<br>city=%{x}<br>cum_count=%{y}<extra></extra>",
           "ids": [
            "강화군",
            "계양구",
            "기타",
            "남동구",
            "동구",
            "미추홀구",
            "부평구",
            "서구",
            "연수구",
            "중구"
           ],
           "legendgroup": "",
           "marker": {
            "color": "#636efa"
           },
           "name": "",
           "offsetgroup": "",
           "orientation": "v",
           "showlegend": false,
           "textposition": "auto",
           "type": "bar",
           "x": [
            "강화군",
            "계양구",
            "기타",
            "남동구",
            "동구",
            "미추홀구",
            "부평구",
            "서구",
            "연수구",
            "중구"
           ],
           "xaxis": "x",
           "y": [
            0,
            2,
            1,
            2,
            0,
            7,
            8,
            3,
            5,
            0
           ],
           "yaxis": "y"
          }
         ],
         "name": "2020-03-13"
        },
        {
         "data": [
          {
           "alignmentgroup": "True",
           "hovertemplate": "confirmed_date=2020-03-14<br>city=%{x}<br>cum_count=%{y}<extra></extra>",
           "ids": [
            "강화군",
            "계양구",
            "기타",
            "남동구",
            "동구",
            "미추홀구",
            "부평구",
            "서구",
            "연수구",
            "중구"
           ],
           "legendgroup": "",
           "marker": {
            "color": "#636efa"
           },
           "name": "",
           "offsetgroup": "",
           "orientation": "v",
           "showlegend": false,
           "textposition": "auto",
           "type": "bar",
           "x": [
            "강화군",
            "계양구",
            "기타",
            "남동구",
            "동구",
            "미추홀구",
            "부평구",
            "서구",
            "연수구",
            "중구"
           ],
           "xaxis": "x",
           "y": [
            0,
            2,
            1,
            3,
            0,
            7,
            8,
            3,
            5,
            0
           ],
           "yaxis": "y"
          }
         ],
         "name": "2020-03-14"
        },
        {
         "data": [
          {
           "alignmentgroup": "True",
           "hovertemplate": "confirmed_date=2020-03-15<br>city=%{x}<br>cum_count=%{y}<extra></extra>",
           "ids": [
            "강화군",
            "계양구",
            "기타",
            "남동구",
            "동구",
            "미추홀구",
            "부평구",
            "서구",
            "연수구",
            "중구"
           ],
           "legendgroup": "",
           "marker": {
            "color": "#636efa"
           },
           "name": "",
           "offsetgroup": "",
           "orientation": "v",
           "showlegend": false,
           "textposition": "auto",
           "type": "bar",
           "x": [
            "강화군",
            "계양구",
            "기타",
            "남동구",
            "동구",
            "미추홀구",
            "부평구",
            "서구",
            "연수구",
            "중구"
           ],
           "xaxis": "x",
           "y": [
            0,
            2,
            1,
            4,
            0,
            7,
            8,
            3,
            5,
            0
           ],
           "yaxis": "y"
          }
         ],
         "name": "2020-03-15"
        },
        {
         "data": [
          {
           "alignmentgroup": "True",
           "hovertemplate": "confirmed_date=2020-03-16<br>city=%{x}<br>cum_count=%{y}<extra></extra>",
           "ids": [
            "강화군",
            "계양구",
            "기타",
            "남동구",
            "동구",
            "미추홀구",
            "부평구",
            "서구",
            "연수구",
            "중구"
           ],
           "legendgroup": "",
           "marker": {
            "color": "#636efa"
           },
           "name": "",
           "offsetgroup": "",
           "orientation": "v",
           "showlegend": false,
           "textposition": "auto",
           "type": "bar",
           "x": [
            "강화군",
            "계양구",
            "기타",
            "남동구",
            "동구",
            "미추홀구",
            "부평구",
            "서구",
            "연수구",
            "중구"
           ],
           "xaxis": "x",
           "y": [
            0,
            2,
            1,
            4,
            0,
            7,
            8,
            3,
            6,
            0
           ],
           "yaxis": "y"
          }
         ],
         "name": "2020-03-16"
        },
        {
         "data": [
          {
           "alignmentgroup": "True",
           "hovertemplate": "confirmed_date=2020-03-17<br>city=%{x}<br>cum_count=%{y}<extra></extra>",
           "ids": [
            "강화군",
            "계양구",
            "기타",
            "남동구",
            "동구",
            "미추홀구",
            "부평구",
            "서구",
            "연수구",
            "중구"
           ],
           "legendgroup": "",
           "marker": {
            "color": "#636efa"
           },
           "name": "",
           "offsetgroup": "",
           "orientation": "v",
           "showlegend": false,
           "textposition": "auto",
           "type": "bar",
           "x": [
            "강화군",
            "계양구",
            "기타",
            "남동구",
            "동구",
            "미추홀구",
            "부평구",
            "서구",
            "연수구",
            "중구"
           ],
           "xaxis": "x",
           "y": [
            0,
            3,
            1,
            4,
            0,
            7,
            8,
            3,
            6,
            0
           ],
           "yaxis": "y"
          }
         ],
         "name": "2020-03-17"
        },
        {
         "data": [
          {
           "alignmentgroup": "True",
           "hovertemplate": "confirmed_date=2020-03-18<br>city=%{x}<br>cum_count=%{y}<extra></extra>",
           "ids": [
            "강화군",
            "계양구",
            "기타",
            "남동구",
            "동구",
            "미추홀구",
            "부평구",
            "서구",
            "연수구",
            "중구"
           ],
           "legendgroup": "",
           "marker": {
            "color": "#636efa"
           },
           "name": "",
           "offsetgroup": "",
           "orientation": "v",
           "showlegend": false,
           "textposition": "auto",
           "type": "bar",
           "x": [
            "강화군",
            "계양구",
            "기타",
            "남동구",
            "동구",
            "미추홀구",
            "부평구",
            "서구",
            "연수구",
            "중구"
           ],
           "xaxis": "x",
           "y": [
            0,
            3,
            1,
            4,
            0,
            7,
            8,
            3,
            6,
            0
           ],
           "yaxis": "y"
          }
         ],
         "name": "2020-03-18"
        },
        {
         "data": [
          {
           "alignmentgroup": "True",
           "hovertemplate": "confirmed_date=2020-03-19<br>city=%{x}<br>cum_count=%{y}<extra></extra>",
           "ids": [
            "강화군",
            "계양구",
            "기타",
            "남동구",
            "동구",
            "미추홀구",
            "부평구",
            "서구",
            "연수구",
            "중구"
           ],
           "legendgroup": "",
           "marker": {
            "color": "#636efa"
           },
           "name": "",
           "offsetgroup": "",
           "orientation": "v",
           "showlegend": false,
           "textposition": "auto",
           "type": "bar",
           "x": [
            "강화군",
            "계양구",
            "기타",
            "남동구",
            "동구",
            "미추홀구",
            "부평구",
            "서구",
            "연수구",
            "중구"
           ],
           "xaxis": "x",
           "y": [
            0,
            4,
            2,
            4,
            2,
            7,
            8,
            3,
            9,
            0
           ],
           "yaxis": "y"
          }
         ],
         "name": "2020-03-19"
        },
        {
         "data": [
          {
           "alignmentgroup": "True",
           "hovertemplate": "confirmed_date=2020-03-20<br>city=%{x}<br>cum_count=%{y}<extra></extra>",
           "ids": [
            "강화군",
            "계양구",
            "기타",
            "남동구",
            "동구",
            "미추홀구",
            "부평구",
            "서구",
            "연수구",
            "중구"
           ],
           "legendgroup": "",
           "marker": {
            "color": "#636efa"
           },
           "name": "",
           "offsetgroup": "",
           "orientation": "v",
           "showlegend": false,
           "textposition": "auto",
           "type": "bar",
           "x": [
            "강화군",
            "계양구",
            "기타",
            "남동구",
            "동구",
            "미추홀구",
            "부평구",
            "서구",
            "연수구",
            "중구"
           ],
           "xaxis": "x",
           "y": [
            0,
            4,
            2,
            4,
            2,
            7,
            8,
            3,
            10,
            0
           ],
           "yaxis": "y"
          }
         ],
         "name": "2020-03-20"
        },
        {
         "data": [
          {
           "alignmentgroup": "True",
           "hovertemplate": "confirmed_date=2020-03-21<br>city=%{x}<br>cum_count=%{y}<extra></extra>",
           "ids": [
            "강화군",
            "계양구",
            "기타",
            "남동구",
            "동구",
            "미추홀구",
            "부평구",
            "서구",
            "연수구",
            "중구"
           ],
           "legendgroup": "",
           "marker": {
            "color": "#636efa"
           },
           "name": "",
           "offsetgroup": "",
           "orientation": "v",
           "showlegend": false,
           "textposition": "auto",
           "type": "bar",
           "x": [
            "강화군",
            "계양구",
            "기타",
            "남동구",
            "동구",
            "미추홀구",
            "부평구",
            "서구",
            "연수구",
            "중구"
           ],
           "xaxis": "x",
           "y": [
            0,
            4,
            2,
            4,
            2,
            7,
            8,
            3,
            10,
            0
           ],
           "yaxis": "y"
          }
         ],
         "name": "2020-03-21"
        },
        {
         "data": [
          {
           "alignmentgroup": "True",
           "hovertemplate": "confirmed_date=2020-03-22<br>city=%{x}<br>cum_count=%{y}<extra></extra>",
           "ids": [
            "강화군",
            "계양구",
            "기타",
            "남동구",
            "동구",
            "미추홀구",
            "부평구",
            "서구",
            "연수구",
            "중구"
           ],
           "legendgroup": "",
           "marker": {
            "color": "#636efa"
           },
           "name": "",
           "offsetgroup": "",
           "orientation": "v",
           "showlegend": false,
           "textposition": "auto",
           "type": "bar",
           "x": [
            "강화군",
            "계양구",
            "기타",
            "남동구",
            "동구",
            "미추홀구",
            "부평구",
            "서구",
            "연수구",
            "중구"
           ],
           "xaxis": "x",
           "y": [
            0,
            4,
            2,
            4,
            2,
            7,
            8,
            3,
            10,
            0
           ],
           "yaxis": "y"
          }
         ],
         "name": "2020-03-22"
        },
        {
         "data": [
          {
           "alignmentgroup": "True",
           "hovertemplate": "confirmed_date=2020-03-23<br>city=%{x}<br>cum_count=%{y}<extra></extra>",
           "ids": [
            "강화군",
            "계양구",
            "기타",
            "남동구",
            "동구",
            "미추홀구",
            "부평구",
            "서구",
            "연수구",
            "중구"
           ],
           "legendgroup": "",
           "marker": {
            "color": "#636efa"
           },
           "name": "",
           "offsetgroup": "",
           "orientation": "v",
           "showlegend": false,
           "textposition": "auto",
           "type": "bar",
           "x": [
            "강화군",
            "계양구",
            "기타",
            "남동구",
            "동구",
            "미추홀구",
            "부평구",
            "서구",
            "연수구",
            "중구"
           ],
           "xaxis": "x",
           "y": [
            0,
            4,
            2,
            4,
            2,
            7,
            9,
            3,
            11,
            0
           ],
           "yaxis": "y"
          }
         ],
         "name": "2020-03-23"
        },
        {
         "data": [
          {
           "alignmentgroup": "True",
           "hovertemplate": "confirmed_date=2020-03-24<br>city=%{x}<br>cum_count=%{y}<extra></extra>",
           "ids": [
            "강화군",
            "계양구",
            "기타",
            "남동구",
            "동구",
            "미추홀구",
            "부평구",
            "서구",
            "연수구",
            "중구"
           ],
           "legendgroup": "",
           "marker": {
            "color": "#636efa"
           },
           "name": "",
           "offsetgroup": "",
           "orientation": "v",
           "showlegend": false,
           "textposition": "auto",
           "type": "bar",
           "x": [
            "강화군",
            "계양구",
            "기타",
            "남동구",
            "동구",
            "미추홀구",
            "부평구",
            "서구",
            "연수구",
            "중구"
           ],
           "xaxis": "x",
           "y": [
            0,
            4,
            2,
            4,
            2,
            7,
            9,
            3,
            11,
            0
           ],
           "yaxis": "y"
          }
         ],
         "name": "2020-03-24"
        },
        {
         "data": [
          {
           "alignmentgroup": "True",
           "hovertemplate": "confirmed_date=2020-03-25<br>city=%{x}<br>cum_count=%{y}<extra></extra>",
           "ids": [
            "강화군",
            "계양구",
            "기타",
            "남동구",
            "동구",
            "미추홀구",
            "부평구",
            "서구",
            "연수구",
            "중구"
           ],
           "legendgroup": "",
           "marker": {
            "color": "#636efa"
           },
           "name": "",
           "offsetgroup": "",
           "orientation": "v",
           "showlegend": false,
           "textposition": "auto",
           "type": "bar",
           "x": [
            "강화군",
            "계양구",
            "기타",
            "남동구",
            "동구",
            "미추홀구",
            "부평구",
            "서구",
            "연수구",
            "중구"
           ],
           "xaxis": "x",
           "y": [
            0,
            4,
            2,
            4,
            2,
            7,
            9,
            3,
            12,
            1
           ],
           "yaxis": "y"
          }
         ],
         "name": "2020-03-25"
        },
        {
         "data": [
          {
           "alignmentgroup": "True",
           "hovertemplate": "confirmed_date=2020-03-26<br>city=%{x}<br>cum_count=%{y}<extra></extra>",
           "ids": [
            "강화군",
            "계양구",
            "기타",
            "남동구",
            "동구",
            "미추홀구",
            "부평구",
            "서구",
            "연수구",
            "중구"
           ],
           "legendgroup": "",
           "marker": {
            "color": "#636efa"
           },
           "name": "",
           "offsetgroup": "",
           "orientation": "v",
           "showlegend": false,
           "textposition": "auto",
           "type": "bar",
           "x": [
            "강화군",
            "계양구",
            "기타",
            "남동구",
            "동구",
            "미추홀구",
            "부평구",
            "서구",
            "연수구",
            "중구"
           ],
           "xaxis": "x",
           "y": [
            0,
            4,
            2,
            5,
            2,
            7,
            10,
            3,
            13,
            1
           ],
           "yaxis": "y"
          }
         ],
         "name": "2020-03-26"
        },
        {
         "data": [
          {
           "alignmentgroup": "True",
           "hovertemplate": "confirmed_date=2020-03-27<br>city=%{x}<br>cum_count=%{y}<extra></extra>",
           "ids": [
            "강화군",
            "계양구",
            "기타",
            "남동구",
            "동구",
            "미추홀구",
            "부평구",
            "서구",
            "연수구",
            "중구"
           ],
           "legendgroup": "",
           "marker": {
            "color": "#636efa"
           },
           "name": "",
           "offsetgroup": "",
           "orientation": "v",
           "showlegend": false,
           "textposition": "auto",
           "type": "bar",
           "x": [
            "강화군",
            "계양구",
            "기타",
            "남동구",
            "동구",
            "미추홀구",
            "부평구",
            "서구",
            "연수구",
            "중구"
           ],
           "xaxis": "x",
           "y": [
            0,
            5,
            2,
            5,
            2,
            8,
            12,
            3,
            14,
            1
           ],
           "yaxis": "y"
          }
         ],
         "name": "2020-03-27"
        },
        {
         "data": [
          {
           "alignmentgroup": "True",
           "hovertemplate": "confirmed_date=2020-03-28<br>city=%{x}<br>cum_count=%{y}<extra></extra>",
           "ids": [
            "강화군",
            "계양구",
            "기타",
            "남동구",
            "동구",
            "미추홀구",
            "부평구",
            "서구",
            "연수구",
            "중구"
           ],
           "legendgroup": "",
           "marker": {
            "color": "#636efa"
           },
           "name": "",
           "offsetgroup": "",
           "orientation": "v",
           "showlegend": false,
           "textposition": "auto",
           "type": "bar",
           "x": [
            "강화군",
            "계양구",
            "기타",
            "남동구",
            "동구",
            "미추홀구",
            "부평구",
            "서구",
            "연수구",
            "중구"
           ],
           "xaxis": "x",
           "y": [
            0,
            5,
            2,
            6,
            2,
            8,
            14,
            3,
            16,
            3
           ],
           "yaxis": "y"
          }
         ],
         "name": "2020-03-28"
        },
        {
         "data": [
          {
           "alignmentgroup": "True",
           "hovertemplate": "confirmed_date=2020-03-29<br>city=%{x}<br>cum_count=%{y}<extra></extra>",
           "ids": [
            "강화군",
            "계양구",
            "기타",
            "남동구",
            "동구",
            "미추홀구",
            "부평구",
            "서구",
            "연수구",
            "중구"
           ],
           "legendgroup": "",
           "marker": {
            "color": "#636efa"
           },
           "name": "",
           "offsetgroup": "",
           "orientation": "v",
           "showlegend": false,
           "textposition": "auto",
           "type": "bar",
           "x": [
            "강화군",
            "계양구",
            "기타",
            "남동구",
            "동구",
            "미추홀구",
            "부평구",
            "서구",
            "연수구",
            "중구"
           ],
           "xaxis": "x",
           "y": [
            0,
            5,
            2,
            6,
            2,
            8,
            15,
            4,
            16,
            3
           ],
           "yaxis": "y"
          }
         ],
         "name": "2020-03-29"
        },
        {
         "data": [
          {
           "alignmentgroup": "True",
           "hovertemplate": "confirmed_date=2020-03-30<br>city=%{x}<br>cum_count=%{y}<extra></extra>",
           "ids": [
            "강화군",
            "계양구",
            "기타",
            "남동구",
            "동구",
            "미추홀구",
            "부평구",
            "서구",
            "연수구",
            "중구"
           ],
           "legendgroup": "",
           "marker": {
            "color": "#636efa"
           },
           "name": "",
           "offsetgroup": "",
           "orientation": "v",
           "showlegend": false,
           "textposition": "auto",
           "type": "bar",
           "x": [
            "강화군",
            "계양구",
            "기타",
            "남동구",
            "동구",
            "미추홀구",
            "부평구",
            "서구",
            "연수구",
            "중구"
           ],
           "xaxis": "x",
           "y": [
            0,
            5,
            2,
            8,
            2,
            9,
            15,
            4,
            16,
            5
           ],
           "yaxis": "y"
          }
         ],
         "name": "2020-03-30"
        },
        {
         "data": [
          {
           "alignmentgroup": "True",
           "hovertemplate": "confirmed_date=2020-03-31<br>city=%{x}<br>cum_count=%{y}<extra></extra>",
           "ids": [
            "강화군",
            "계양구",
            "기타",
            "남동구",
            "동구",
            "미추홀구",
            "부평구",
            "서구",
            "연수구",
            "중구"
           ],
           "legendgroup": "",
           "marker": {
            "color": "#636efa"
           },
           "name": "",
           "offsetgroup": "",
           "orientation": "v",
           "showlegend": false,
           "textposition": "auto",
           "type": "bar",
           "x": [
            "강화군",
            "계양구",
            "기타",
            "남동구",
            "동구",
            "미추홀구",
            "부평구",
            "서구",
            "연수구",
            "중구"
           ],
           "xaxis": "x",
           "y": [
            0,
            5,
            3,
            9,
            2,
            9,
            15,
            5,
            17,
            5
           ],
           "yaxis": "y"
          }
         ],
         "name": "2020-03-31"
        },
        {
         "data": [
          {
           "alignmentgroup": "True",
           "hovertemplate": "confirmed_date=2020-04-01<br>city=%{x}<br>cum_count=%{y}<extra></extra>",
           "ids": [
            "강화군",
            "계양구",
            "기타",
            "남동구",
            "동구",
            "미추홀구",
            "부평구",
            "서구",
            "연수구",
            "중구"
           ],
           "legendgroup": "",
           "marker": {
            "color": "#636efa"
           },
           "name": "",
           "offsetgroup": "",
           "orientation": "v",
           "showlegend": false,
           "textposition": "auto",
           "type": "bar",
           "x": [
            "강화군",
            "계양구",
            "기타",
            "남동구",
            "동구",
            "미추홀구",
            "부평구",
            "서구",
            "연수구",
            "중구"
           ],
           "xaxis": "x",
           "y": [
            0,
            5,
            3,
            9,
            2,
            10,
            15,
            5,
            20,
            5
           ],
           "yaxis": "y"
          }
         ],
         "name": "2020-04-01"
        },
        {
         "data": [
          {
           "alignmentgroup": "True",
           "hovertemplate": "confirmed_date=2020-04-02<br>city=%{x}<br>cum_count=%{y}<extra></extra>",
           "ids": [
            "강화군",
            "계양구",
            "기타",
            "남동구",
            "동구",
            "미추홀구",
            "부평구",
            "서구",
            "연수구",
            "중구"
           ],
           "legendgroup": "",
           "marker": {
            "color": "#636efa"
           },
           "name": "",
           "offsetgroup": "",
           "orientation": "v",
           "showlegend": false,
           "textposition": "auto",
           "type": "bar",
           "x": [
            "강화군",
            "계양구",
            "기타",
            "남동구",
            "동구",
            "미추홀구",
            "부평구",
            "서구",
            "연수구",
            "중구"
           ],
           "xaxis": "x",
           "y": [
            0,
            5,
            3,
            9,
            2,
            10,
            15,
            6,
            20,
            5
           ],
           "yaxis": "y"
          }
         ],
         "name": "2020-04-02"
        },
        {
         "data": [
          {
           "alignmentgroup": "True",
           "hovertemplate": "confirmed_date=2020-04-03<br>city=%{x}<br>cum_count=%{y}<extra></extra>",
           "ids": [
            "강화군",
            "계양구",
            "기타",
            "남동구",
            "동구",
            "미추홀구",
            "부평구",
            "서구",
            "연수구",
            "중구"
           ],
           "legendgroup": "",
           "marker": {
            "color": "#636efa"
           },
           "name": "",
           "offsetgroup": "",
           "orientation": "v",
           "showlegend": false,
           "textposition": "auto",
           "type": "bar",
           "x": [
            "강화군",
            "계양구",
            "기타",
            "남동구",
            "동구",
            "미추홀구",
            "부평구",
            "서구",
            "연수구",
            "중구"
           ],
           "xaxis": "x",
           "y": [
            0,
            5,
            3,
            9,
            2,
            10,
            15,
            9,
            20,
            5
           ],
           "yaxis": "y"
          }
         ],
         "name": "2020-04-03"
        },
        {
         "data": [
          {
           "alignmentgroup": "True",
           "hovertemplate": "confirmed_date=2020-04-04<br>city=%{x}<br>cum_count=%{y}<extra></extra>",
           "ids": [
            "강화군",
            "계양구",
            "기타",
            "남동구",
            "동구",
            "미추홀구",
            "부평구",
            "서구",
            "연수구",
            "중구"
           ],
           "legendgroup": "",
           "marker": {
            "color": "#636efa"
           },
           "name": "",
           "offsetgroup": "",
           "orientation": "v",
           "showlegend": false,
           "textposition": "auto",
           "type": "bar",
           "x": [
            "강화군",
            "계양구",
            "기타",
            "남동구",
            "동구",
            "미추홀구",
            "부평구",
            "서구",
            "연수구",
            "중구"
           ],
           "xaxis": "x",
           "y": [
            0,
            6,
            3,
            9,
            2,
            10,
            15,
            9,
            20,
            5
           ],
           "yaxis": "y"
          }
         ],
         "name": "2020-04-04"
        },
        {
         "data": [
          {
           "alignmentgroup": "True",
           "hovertemplate": "confirmed_date=2020-04-05<br>city=%{x}<br>cum_count=%{y}<extra></extra>",
           "ids": [
            "강화군",
            "계양구",
            "기타",
            "남동구",
            "동구",
            "미추홀구",
            "부평구",
            "서구",
            "연수구",
            "중구"
           ],
           "legendgroup": "",
           "marker": {
            "color": "#636efa"
           },
           "name": "",
           "offsetgroup": "",
           "orientation": "v",
           "showlegend": false,
           "textposition": "auto",
           "type": "bar",
           "x": [
            "강화군",
            "계양구",
            "기타",
            "남동구",
            "동구",
            "미추홀구",
            "부평구",
            "서구",
            "연수구",
            "중구"
           ],
           "xaxis": "x",
           "y": [
            0,
            6,
            3,
            9,
            2,
            10,
            15,
            9,
            21,
            5
           ],
           "yaxis": "y"
          }
         ],
         "name": "2020-04-05"
        },
        {
         "data": [
          {
           "alignmentgroup": "True",
           "hovertemplate": "confirmed_date=2020-04-06<br>city=%{x}<br>cum_count=%{y}<extra></extra>",
           "ids": [
            "강화군",
            "계양구",
            "기타",
            "남동구",
            "동구",
            "미추홀구",
            "부평구",
            "서구",
            "연수구",
            "중구"
           ],
           "legendgroup": "",
           "marker": {
            "color": "#636efa"
           },
           "name": "",
           "offsetgroup": "",
           "orientation": "v",
           "showlegend": false,
           "textposition": "auto",
           "type": "bar",
           "x": [
            "강화군",
            "계양구",
            "기타",
            "남동구",
            "동구",
            "미추홀구",
            "부평구",
            "서구",
            "연수구",
            "중구"
           ],
           "xaxis": "x",
           "y": [
            0,
            6,
            3,
            9,
            2,
            10,
            15,
            9,
            21,
            5
           ],
           "yaxis": "y"
          }
         ],
         "name": "2020-04-06"
        },
        {
         "data": [
          {
           "alignmentgroup": "True",
           "hovertemplate": "confirmed_date=2020-04-07<br>city=%{x}<br>cum_count=%{y}<extra></extra>",
           "ids": [
            "강화군",
            "계양구",
            "기타",
            "남동구",
            "동구",
            "미추홀구",
            "부평구",
            "서구",
            "연수구",
            "중구"
           ],
           "legendgroup": "",
           "marker": {
            "color": "#636efa"
           },
           "name": "",
           "offsetgroup": "",
           "orientation": "v",
           "showlegend": false,
           "textposition": "auto",
           "type": "bar",
           "x": [
            "강화군",
            "계양구",
            "기타",
            "남동구",
            "동구",
            "미추홀구",
            "부평구",
            "서구",
            "연수구",
            "중구"
           ],
           "xaxis": "x",
           "y": [
            0,
            6,
            3,
            9,
            2,
            10,
            16,
            11,
            21,
            5
           ],
           "yaxis": "y"
          }
         ],
         "name": "2020-04-07"
        },
        {
         "data": [
          {
           "alignmentgroup": "True",
           "hovertemplate": "confirmed_date=2020-04-08<br>city=%{x}<br>cum_count=%{y}<extra></extra>",
           "ids": [
            "강화군",
            "계양구",
            "기타",
            "남동구",
            "동구",
            "미추홀구",
            "부평구",
            "서구",
            "연수구",
            "중구"
           ],
           "legendgroup": "",
           "marker": {
            "color": "#636efa"
           },
           "name": "",
           "offsetgroup": "",
           "orientation": "v",
           "showlegend": false,
           "textposition": "auto",
           "type": "bar",
           "x": [
            "강화군",
            "계양구",
            "기타",
            "남동구",
            "동구",
            "미추홀구",
            "부평구",
            "서구",
            "연수구",
            "중구"
           ],
           "xaxis": "x",
           "y": [
            0,
            6,
            3,
            9,
            2,
            10,
            16,
            11,
            21,
            5
           ],
           "yaxis": "y"
          }
         ],
         "name": "2020-04-08"
        },
        {
         "data": [
          {
           "alignmentgroup": "True",
           "hovertemplate": "confirmed_date=2020-04-09<br>city=%{x}<br>cum_count=%{y}<extra></extra>",
           "ids": [
            "강화군",
            "계양구",
            "기타",
            "남동구",
            "동구",
            "미추홀구",
            "부평구",
            "서구",
            "연수구",
            "중구"
           ],
           "legendgroup": "",
           "marker": {
            "color": "#636efa"
           },
           "name": "",
           "offsetgroup": "",
           "orientation": "v",
           "showlegend": false,
           "textposition": "auto",
           "type": "bar",
           "x": [
            "강화군",
            "계양구",
            "기타",
            "남동구",
            "동구",
            "미추홀구",
            "부평구",
            "서구",
            "연수구",
            "중구"
           ],
           "xaxis": "x",
           "y": [
            0,
            6,
            3,
            10,
            2,
            10,
            17,
            11,
            21,
            5
           ],
           "yaxis": "y"
          }
         ],
         "name": "2020-04-09"
        },
        {
         "data": [
          {
           "alignmentgroup": "True",
           "hovertemplate": "confirmed_date=2020-04-10<br>city=%{x}<br>cum_count=%{y}<extra></extra>",
           "ids": [
            "강화군",
            "계양구",
            "기타",
            "남동구",
            "동구",
            "미추홀구",
            "부평구",
            "서구",
            "연수구",
            "중구"
           ],
           "legendgroup": "",
           "marker": {
            "color": "#636efa"
           },
           "name": "",
           "offsetgroup": "",
           "orientation": "v",
           "showlegend": false,
           "textposition": "auto",
           "type": "bar",
           "x": [
            "강화군",
            "계양구",
            "기타",
            "남동구",
            "동구",
            "미추홀구",
            "부평구",
            "서구",
            "연수구",
            "중구"
           ],
           "xaxis": "x",
           "y": [
            1,
            6,
            3,
            10,
            2,
            10,
            17,
            11,
            21,
            5
           ],
           "yaxis": "y"
          }
         ],
         "name": "2020-04-10"
        },
        {
         "data": [
          {
           "alignmentgroup": "True",
           "hovertemplate": "confirmed_date=2020-04-11<br>city=%{x}<br>cum_count=%{y}<extra></extra>",
           "ids": [
            "강화군",
            "계양구",
            "기타",
            "남동구",
            "동구",
            "미추홀구",
            "부평구",
            "서구",
            "연수구",
            "중구"
           ],
           "legendgroup": "",
           "marker": {
            "color": "#636efa"
           },
           "name": "",
           "offsetgroup": "",
           "orientation": "v",
           "showlegend": false,
           "textposition": "auto",
           "type": "bar",
           "x": [
            "강화군",
            "계양구",
            "기타",
            "남동구",
            "동구",
            "미추홀구",
            "부평구",
            "서구",
            "연수구",
            "중구"
           ],
           "xaxis": "x",
           "y": [
            1,
            6,
            3,
            10,
            2,
            10,
            17,
            11,
            21,
            5
           ],
           "yaxis": "y"
          }
         ],
         "name": "2020-04-11"
        },
        {
         "data": [
          {
           "alignmentgroup": "True",
           "hovertemplate": "confirmed_date=2020-04-12<br>city=%{x}<br>cum_count=%{y}<extra></extra>",
           "ids": [
            "강화군",
            "계양구",
            "기타",
            "남동구",
            "동구",
            "미추홀구",
            "부평구",
            "서구",
            "연수구",
            "중구"
           ],
           "legendgroup": "",
           "marker": {
            "color": "#636efa"
           },
           "name": "",
           "offsetgroup": "",
           "orientation": "v",
           "showlegend": false,
           "textposition": "auto",
           "type": "bar",
           "x": [
            "강화군",
            "계양구",
            "기타",
            "남동구",
            "동구",
            "미추홀구",
            "부평구",
            "서구",
            "연수구",
            "중구"
           ],
           "xaxis": "x",
           "y": [
            1,
            6,
            3,
            10,
            2,
            10,
            17,
            11,
            22,
            5
           ],
           "yaxis": "y"
          }
         ],
         "name": "2020-04-12"
        }
       ],
       "layout": {
        "barmode": "relative",
        "legend": {
         "tracegroupgap": 0
        },
        "margin": {
         "t": 60
        },
        "showlegend": false,
        "sliders": [
         {
          "active": 0,
          "currentvalue": {
           "prefix": "confirmed_date="
          },
          "len": 0.9,
          "pad": {
           "b": 10,
           "t": 60
          },
          "steps": [
           {
            "args": [
             [
              "2020-01-20"
             ],
             {
              "frame": {
               "duration": 0,
               "redraw": true
              },
              "fromcurrent": true,
              "mode": "immediate",
              "transition": {
               "duration": 0,
               "easing": "linear"
              }
             }
            ],
            "label": "2020-01-20",
            "method": "animate"
           },
           {
            "args": [
             [
              "2020-01-21"
             ],
             {
              "frame": {
               "duration": 0,
               "redraw": true
              },
              "fromcurrent": true,
              "mode": "immediate",
              "transition": {
               "duration": 0,
               "easing": "linear"
              }
             }
            ],
            "label": "2020-01-21",
            "method": "animate"
           },
           {
            "args": [
             [
              "2020-01-22"
             ],
             {
              "frame": {
               "duration": 0,
               "redraw": true
              },
              "fromcurrent": true,
              "mode": "immediate",
              "transition": {
               "duration": 0,
               "easing": "linear"
              }
             }
            ],
            "label": "2020-01-22",
            "method": "animate"
           },
           {
            "args": [
             [
              "2020-01-23"
             ],
             {
              "frame": {
               "duration": 0,
               "redraw": true
              },
              "fromcurrent": true,
              "mode": "immediate",
              "transition": {
               "duration": 0,
               "easing": "linear"
              }
             }
            ],
            "label": "2020-01-23",
            "method": "animate"
           },
           {
            "args": [
             [
              "2020-01-24"
             ],
             {
              "frame": {
               "duration": 0,
               "redraw": true
              },
              "fromcurrent": true,
              "mode": "immediate",
              "transition": {
               "duration": 0,
               "easing": "linear"
              }
             }
            ],
            "label": "2020-01-24",
            "method": "animate"
           },
           {
            "args": [
             [
              "2020-01-25"
             ],
             {
              "frame": {
               "duration": 0,
               "redraw": true
              },
              "fromcurrent": true,
              "mode": "immediate",
              "transition": {
               "duration": 0,
               "easing": "linear"
              }
             }
            ],
            "label": "2020-01-25",
            "method": "animate"
           },
           {
            "args": [
             [
              "2020-01-26"
             ],
             {
              "frame": {
               "duration": 0,
               "redraw": true
              },
              "fromcurrent": true,
              "mode": "immediate",
              "transition": {
               "duration": 0,
               "easing": "linear"
              }
             }
            ],
            "label": "2020-01-26",
            "method": "animate"
           },
           {
            "args": [
             [
              "2020-01-27"
             ],
             {
              "frame": {
               "duration": 0,
               "redraw": true
              },
              "fromcurrent": true,
              "mode": "immediate",
              "transition": {
               "duration": 0,
               "easing": "linear"
              }
             }
            ],
            "label": "2020-01-27",
            "method": "animate"
           },
           {
            "args": [
             [
              "2020-01-28"
             ],
             {
              "frame": {
               "duration": 0,
               "redraw": true
              },
              "fromcurrent": true,
              "mode": "immediate",
              "transition": {
               "duration": 0,
               "easing": "linear"
              }
             }
            ],
            "label": "2020-01-28",
            "method": "animate"
           },
           {
            "args": [
             [
              "2020-01-29"
             ],
             {
              "frame": {
               "duration": 0,
               "redraw": true
              },
              "fromcurrent": true,
              "mode": "immediate",
              "transition": {
               "duration": 0,
               "easing": "linear"
              }
             }
            ],
            "label": "2020-01-29",
            "method": "animate"
           },
           {
            "args": [
             [
              "2020-01-30"
             ],
             {
              "frame": {
               "duration": 0,
               "redraw": true
              },
              "fromcurrent": true,
              "mode": "immediate",
              "transition": {
               "duration": 0,
               "easing": "linear"
              }
             }
            ],
            "label": "2020-01-30",
            "method": "animate"
           },
           {
            "args": [
             [
              "2020-01-31"
             ],
             {
              "frame": {
               "duration": 0,
               "redraw": true
              },
              "fromcurrent": true,
              "mode": "immediate",
              "transition": {
               "duration": 0,
               "easing": "linear"
              }
             }
            ],
            "label": "2020-01-31",
            "method": "animate"
           },
           {
            "args": [
             [
              "2020-02-01"
             ],
             {
              "frame": {
               "duration": 0,
               "redraw": true
              },
              "fromcurrent": true,
              "mode": "immediate",
              "transition": {
               "duration": 0,
               "easing": "linear"
              }
             }
            ],
            "label": "2020-02-01",
            "method": "animate"
           },
           {
            "args": [
             [
              "2020-02-02"
             ],
             {
              "frame": {
               "duration": 0,
               "redraw": true
              },
              "fromcurrent": true,
              "mode": "immediate",
              "transition": {
               "duration": 0,
               "easing": "linear"
              }
             }
            ],
            "label": "2020-02-02",
            "method": "animate"
           },
           {
            "args": [
             [
              "2020-02-03"
             ],
             {
              "frame": {
               "duration": 0,
               "redraw": true
              },
              "fromcurrent": true,
              "mode": "immediate",
              "transition": {
               "duration": 0,
               "easing": "linear"
              }
             }
            ],
            "label": "2020-02-03",
            "method": "animate"
           },
           {
            "args": [
             [
              "2020-02-04"
             ],
             {
              "frame": {
               "duration": 0,
               "redraw": true
              },
              "fromcurrent": true,
              "mode": "immediate",
              "transition": {
               "duration": 0,
               "easing": "linear"
              }
             }
            ],
            "label": "2020-02-04",
            "method": "animate"
           },
           {
            "args": [
             [
              "2020-02-05"
             ],
             {
              "frame": {
               "duration": 0,
               "redraw": true
              },
              "fromcurrent": true,
              "mode": "immediate",
              "transition": {
               "duration": 0,
               "easing": "linear"
              }
             }
            ],
            "label": "2020-02-05",
            "method": "animate"
           },
           {
            "args": [
             [
              "2020-02-06"
             ],
             {
              "frame": {
               "duration": 0,
               "redraw": true
              },
              "fromcurrent": true,
              "mode": "immediate",
              "transition": {
               "duration": 0,
               "easing": "linear"
              }
             }
            ],
            "label": "2020-02-06",
            "method": "animate"
           },
           {
            "args": [
             [
              "2020-02-07"
             ],
             {
              "frame": {
               "duration": 0,
               "redraw": true
              },
              "fromcurrent": true,
              "mode": "immediate",
              "transition": {
               "duration": 0,
               "easing": "linear"
              }
             }
            ],
            "label": "2020-02-07",
            "method": "animate"
           },
           {
            "args": [
             [
              "2020-02-08"
             ],
             {
              "frame": {
               "duration": 0,
               "redraw": true
              },
              "fromcurrent": true,
              "mode": "immediate",
              "transition": {
               "duration": 0,
               "easing": "linear"
              }
             }
            ],
            "label": "2020-02-08",
            "method": "animate"
           },
           {
            "args": [
             [
              "2020-02-09"
             ],
             {
              "frame": {
               "duration": 0,
               "redraw": true
              },
              "fromcurrent": true,
              "mode": "immediate",
              "transition": {
               "duration": 0,
               "easing": "linear"
              }
             }
            ],
            "label": "2020-02-09",
            "method": "animate"
           },
           {
            "args": [
             [
              "2020-02-10"
             ],
             {
              "frame": {
               "duration": 0,
               "redraw": true
              },
              "fromcurrent": true,
              "mode": "immediate",
              "transition": {
               "duration": 0,
               "easing": "linear"
              }
             }
            ],
            "label": "2020-02-10",
            "method": "animate"
           },
           {
            "args": [
             [
              "2020-02-11"
             ],
             {
              "frame": {
               "duration": 0,
               "redraw": true
              },
              "fromcurrent": true,
              "mode": "immediate",
              "transition": {
               "duration": 0,
               "easing": "linear"
              }
             }
            ],
            "label": "2020-02-11",
            "method": "animate"
           },
           {
            "args": [
             [
              "2020-02-12"
             ],
             {
              "frame": {
               "duration": 0,
               "redraw": true
              },
              "fromcurrent": true,
              "mode": "immediate",
              "transition": {
               "duration": 0,
               "easing": "linear"
              }
             }
            ],
            "label": "2020-02-12",
            "method": "animate"
           },
           {
            "args": [
             [
              "2020-02-13"
             ],
             {
              "frame": {
               "duration": 0,
               "redraw": true
              },
              "fromcurrent": true,
              "mode": "immediate",
              "transition": {
               "duration": 0,
               "easing": "linear"
              }
             }
            ],
            "label": "2020-02-13",
            "method": "animate"
           },
           {
            "args": [
             [
              "2020-02-14"
             ],
             {
              "frame": {
               "duration": 0,
               "redraw": true
              },
              "fromcurrent": true,
              "mode": "immediate",
              "transition": {
               "duration": 0,
               "easing": "linear"
              }
             }
            ],
            "label": "2020-02-14",
            "method": "animate"
           },
           {
            "args": [
             [
              "2020-02-15"
             ],
             {
              "frame": {
               "duration": 0,
               "redraw": true
              },
              "fromcurrent": true,
              "mode": "immediate",
              "transition": {
               "duration": 0,
               "easing": "linear"
              }
             }
            ],
            "label": "2020-02-15",
            "method": "animate"
           },
           {
            "args": [
             [
              "2020-02-16"
             ],
             {
              "frame": {
               "duration": 0,
               "redraw": true
              },
              "fromcurrent": true,
              "mode": "immediate",
              "transition": {
               "duration": 0,
               "easing": "linear"
              }
             }
            ],
            "label": "2020-02-16",
            "method": "animate"
           },
           {
            "args": [
             [
              "2020-02-17"
             ],
             {
              "frame": {
               "duration": 0,
               "redraw": true
              },
              "fromcurrent": true,
              "mode": "immediate",
              "transition": {
               "duration": 0,
               "easing": "linear"
              }
             }
            ],
            "label": "2020-02-17",
            "method": "animate"
           },
           {
            "args": [
             [
              "2020-02-18"
             ],
             {
              "frame": {
               "duration": 0,
               "redraw": true
              },
              "fromcurrent": true,
              "mode": "immediate",
              "transition": {
               "duration": 0,
               "easing": "linear"
              }
             }
            ],
            "label": "2020-02-18",
            "method": "animate"
           },
           {
            "args": [
             [
              "2020-02-19"
             ],
             {
              "frame": {
               "duration": 0,
               "redraw": true
              },
              "fromcurrent": true,
              "mode": "immediate",
              "transition": {
               "duration": 0,
               "easing": "linear"
              }
             }
            ],
            "label": "2020-02-19",
            "method": "animate"
           },
           {
            "args": [
             [
              "2020-02-20"
             ],
             {
              "frame": {
               "duration": 0,
               "redraw": true
              },
              "fromcurrent": true,
              "mode": "immediate",
              "transition": {
               "duration": 0,
               "easing": "linear"
              }
             }
            ],
            "label": "2020-02-20",
            "method": "animate"
           },
           {
            "args": [
             [
              "2020-02-21"
             ],
             {
              "frame": {
               "duration": 0,
               "redraw": true
              },
              "fromcurrent": true,
              "mode": "immediate",
              "transition": {
               "duration": 0,
               "easing": "linear"
              }
             }
            ],
            "label": "2020-02-21",
            "method": "animate"
           },
           {
            "args": [
             [
              "2020-02-22"
             ],
             {
              "frame": {
               "duration": 0,
               "redraw": true
              },
              "fromcurrent": true,
              "mode": "immediate",
              "transition": {
               "duration": 0,
               "easing": "linear"
              }
             }
            ],
            "label": "2020-02-22",
            "method": "animate"
           },
           {
            "args": [
             [
              "2020-02-23"
             ],
             {
              "frame": {
               "duration": 0,
               "redraw": true
              },
              "fromcurrent": true,
              "mode": "immediate",
              "transition": {
               "duration": 0,
               "easing": "linear"
              }
             }
            ],
            "label": "2020-02-23",
            "method": "animate"
           },
           {
            "args": [
             [
              "2020-02-24"
             ],
             {
              "frame": {
               "duration": 0,
               "redraw": true
              },
              "fromcurrent": true,
              "mode": "immediate",
              "transition": {
               "duration": 0,
               "easing": "linear"
              }
             }
            ],
            "label": "2020-02-24",
            "method": "animate"
           },
           {
            "args": [
             [
              "2020-02-25"
             ],
             {
              "frame": {
               "duration": 0,
               "redraw": true
              },
              "fromcurrent": true,
              "mode": "immediate",
              "transition": {
               "duration": 0,
               "easing": "linear"
              }
             }
            ],
            "label": "2020-02-25",
            "method": "animate"
           },
           {
            "args": [
             [
              "2020-02-26"
             ],
             {
              "frame": {
               "duration": 0,
               "redraw": true
              },
              "fromcurrent": true,
              "mode": "immediate",
              "transition": {
               "duration": 0,
               "easing": "linear"
              }
             }
            ],
            "label": "2020-02-26",
            "method": "animate"
           },
           {
            "args": [
             [
              "2020-02-27"
             ],
             {
              "frame": {
               "duration": 0,
               "redraw": true
              },
              "fromcurrent": true,
              "mode": "immediate",
              "transition": {
               "duration": 0,
               "easing": "linear"
              }
             }
            ],
            "label": "2020-02-27",
            "method": "animate"
           },
           {
            "args": [
             [
              "2020-02-28"
             ],
             {
              "frame": {
               "duration": 0,
               "redraw": true
              },
              "fromcurrent": true,
              "mode": "immediate",
              "transition": {
               "duration": 0,
               "easing": "linear"
              }
             }
            ],
            "label": "2020-02-28",
            "method": "animate"
           },
           {
            "args": [
             [
              "2020-02-29"
             ],
             {
              "frame": {
               "duration": 0,
               "redraw": true
              },
              "fromcurrent": true,
              "mode": "immediate",
              "transition": {
               "duration": 0,
               "easing": "linear"
              }
             }
            ],
            "label": "2020-02-29",
            "method": "animate"
           },
           {
            "args": [
             [
              "2020-03-01"
             ],
             {
              "frame": {
               "duration": 0,
               "redraw": true
              },
              "fromcurrent": true,
              "mode": "immediate",
              "transition": {
               "duration": 0,
               "easing": "linear"
              }
             }
            ],
            "label": "2020-03-01",
            "method": "animate"
           },
           {
            "args": [
             [
              "2020-03-02"
             ],
             {
              "frame": {
               "duration": 0,
               "redraw": true
              },
              "fromcurrent": true,
              "mode": "immediate",
              "transition": {
               "duration": 0,
               "easing": "linear"
              }
             }
            ],
            "label": "2020-03-02",
            "method": "animate"
           },
           {
            "args": [
             [
              "2020-03-03"
             ],
             {
              "frame": {
               "duration": 0,
               "redraw": true
              },
              "fromcurrent": true,
              "mode": "immediate",
              "transition": {
               "duration": 0,
               "easing": "linear"
              }
             }
            ],
            "label": "2020-03-03",
            "method": "animate"
           },
           {
            "args": [
             [
              "2020-03-04"
             ],
             {
              "frame": {
               "duration": 0,
               "redraw": true
              },
              "fromcurrent": true,
              "mode": "immediate",
              "transition": {
               "duration": 0,
               "easing": "linear"
              }
             }
            ],
            "label": "2020-03-04",
            "method": "animate"
           },
           {
            "args": [
             [
              "2020-03-05"
             ],
             {
              "frame": {
               "duration": 0,
               "redraw": true
              },
              "fromcurrent": true,
              "mode": "immediate",
              "transition": {
               "duration": 0,
               "easing": "linear"
              }
             }
            ],
            "label": "2020-03-05",
            "method": "animate"
           },
           {
            "args": [
             [
              "2020-03-06"
             ],
             {
              "frame": {
               "duration": 0,
               "redraw": true
              },
              "fromcurrent": true,
              "mode": "immediate",
              "transition": {
               "duration": 0,
               "easing": "linear"
              }
             }
            ],
            "label": "2020-03-06",
            "method": "animate"
           },
           {
            "args": [
             [
              "2020-03-07"
             ],
             {
              "frame": {
               "duration": 0,
               "redraw": true
              },
              "fromcurrent": true,
              "mode": "immediate",
              "transition": {
               "duration": 0,
               "easing": "linear"
              }
             }
            ],
            "label": "2020-03-07",
            "method": "animate"
           },
           {
            "args": [
             [
              "2020-03-08"
             ],
             {
              "frame": {
               "duration": 0,
               "redraw": true
              },
              "fromcurrent": true,
              "mode": "immediate",
              "transition": {
               "duration": 0,
               "easing": "linear"
              }
             }
            ],
            "label": "2020-03-08",
            "method": "animate"
           },
           {
            "args": [
             [
              "2020-03-09"
             ],
             {
              "frame": {
               "duration": 0,
               "redraw": true
              },
              "fromcurrent": true,
              "mode": "immediate",
              "transition": {
               "duration": 0,
               "easing": "linear"
              }
             }
            ],
            "label": "2020-03-09",
            "method": "animate"
           },
           {
            "args": [
             [
              "2020-03-10"
             ],
             {
              "frame": {
               "duration": 0,
               "redraw": true
              },
              "fromcurrent": true,
              "mode": "immediate",
              "transition": {
               "duration": 0,
               "easing": "linear"
              }
             }
            ],
            "label": "2020-03-10",
            "method": "animate"
           },
           {
            "args": [
             [
              "2020-03-11"
             ],
             {
              "frame": {
               "duration": 0,
               "redraw": true
              },
              "fromcurrent": true,
              "mode": "immediate",
              "transition": {
               "duration": 0,
               "easing": "linear"
              }
             }
            ],
            "label": "2020-03-11",
            "method": "animate"
           },
           {
            "args": [
             [
              "2020-03-12"
             ],
             {
              "frame": {
               "duration": 0,
               "redraw": true
              },
              "fromcurrent": true,
              "mode": "immediate",
              "transition": {
               "duration": 0,
               "easing": "linear"
              }
             }
            ],
            "label": "2020-03-12",
            "method": "animate"
           },
           {
            "args": [
             [
              "2020-03-13"
             ],
             {
              "frame": {
               "duration": 0,
               "redraw": true
              },
              "fromcurrent": true,
              "mode": "immediate",
              "transition": {
               "duration": 0,
               "easing": "linear"
              }
             }
            ],
            "label": "2020-03-13",
            "method": "animate"
           },
           {
            "args": [
             [
              "2020-03-14"
             ],
             {
              "frame": {
               "duration": 0,
               "redraw": true
              },
              "fromcurrent": true,
              "mode": "immediate",
              "transition": {
               "duration": 0,
               "easing": "linear"
              }
             }
            ],
            "label": "2020-03-14",
            "method": "animate"
           },
           {
            "args": [
             [
              "2020-03-15"
             ],
             {
              "frame": {
               "duration": 0,
               "redraw": true
              },
              "fromcurrent": true,
              "mode": "immediate",
              "transition": {
               "duration": 0,
               "easing": "linear"
              }
             }
            ],
            "label": "2020-03-15",
            "method": "animate"
           },
           {
            "args": [
             [
              "2020-03-16"
             ],
             {
              "frame": {
               "duration": 0,
               "redraw": true
              },
              "fromcurrent": true,
              "mode": "immediate",
              "transition": {
               "duration": 0,
               "easing": "linear"
              }
             }
            ],
            "label": "2020-03-16",
            "method": "animate"
           },
           {
            "args": [
             [
              "2020-03-17"
             ],
             {
              "frame": {
               "duration": 0,
               "redraw": true
              },
              "fromcurrent": true,
              "mode": "immediate",
              "transition": {
               "duration": 0,
               "easing": "linear"
              }
             }
            ],
            "label": "2020-03-17",
            "method": "animate"
           },
           {
            "args": [
             [
              "2020-03-18"
             ],
             {
              "frame": {
               "duration": 0,
               "redraw": true
              },
              "fromcurrent": true,
              "mode": "immediate",
              "transition": {
               "duration": 0,
               "easing": "linear"
              }
             }
            ],
            "label": "2020-03-18",
            "method": "animate"
           },
           {
            "args": [
             [
              "2020-03-19"
             ],
             {
              "frame": {
               "duration": 0,
               "redraw": true
              },
              "fromcurrent": true,
              "mode": "immediate",
              "transition": {
               "duration": 0,
               "easing": "linear"
              }
             }
            ],
            "label": "2020-03-19",
            "method": "animate"
           },
           {
            "args": [
             [
              "2020-03-20"
             ],
             {
              "frame": {
               "duration": 0,
               "redraw": true
              },
              "fromcurrent": true,
              "mode": "immediate",
              "transition": {
               "duration": 0,
               "easing": "linear"
              }
             }
            ],
            "label": "2020-03-20",
            "method": "animate"
           },
           {
            "args": [
             [
              "2020-03-21"
             ],
             {
              "frame": {
               "duration": 0,
               "redraw": true
              },
              "fromcurrent": true,
              "mode": "immediate",
              "transition": {
               "duration": 0,
               "easing": "linear"
              }
             }
            ],
            "label": "2020-03-21",
            "method": "animate"
           },
           {
            "args": [
             [
              "2020-03-22"
             ],
             {
              "frame": {
               "duration": 0,
               "redraw": true
              },
              "fromcurrent": true,
              "mode": "immediate",
              "transition": {
               "duration": 0,
               "easing": "linear"
              }
             }
            ],
            "label": "2020-03-22",
            "method": "animate"
           },
           {
            "args": [
             [
              "2020-03-23"
             ],
             {
              "frame": {
               "duration": 0,
               "redraw": true
              },
              "fromcurrent": true,
              "mode": "immediate",
              "transition": {
               "duration": 0,
               "easing": "linear"
              }
             }
            ],
            "label": "2020-03-23",
            "method": "animate"
           },
           {
            "args": [
             [
              "2020-03-24"
             ],
             {
              "frame": {
               "duration": 0,
               "redraw": true
              },
              "fromcurrent": true,
              "mode": "immediate",
              "transition": {
               "duration": 0,
               "easing": "linear"
              }
             }
            ],
            "label": "2020-03-24",
            "method": "animate"
           },
           {
            "args": [
             [
              "2020-03-25"
             ],
             {
              "frame": {
               "duration": 0,
               "redraw": true
              },
              "fromcurrent": true,
              "mode": "immediate",
              "transition": {
               "duration": 0,
               "easing": "linear"
              }
             }
            ],
            "label": "2020-03-25",
            "method": "animate"
           },
           {
            "args": [
             [
              "2020-03-26"
             ],
             {
              "frame": {
               "duration": 0,
               "redraw": true
              },
              "fromcurrent": true,
              "mode": "immediate",
              "transition": {
               "duration": 0,
               "easing": "linear"
              }
             }
            ],
            "label": "2020-03-26",
            "method": "animate"
           },
           {
            "args": [
             [
              "2020-03-27"
             ],
             {
              "frame": {
               "duration": 0,
               "redraw": true
              },
              "fromcurrent": true,
              "mode": "immediate",
              "transition": {
               "duration": 0,
               "easing": "linear"
              }
             }
            ],
            "label": "2020-03-27",
            "method": "animate"
           },
           {
            "args": [
             [
              "2020-03-28"
             ],
             {
              "frame": {
               "duration": 0,
               "redraw": true
              },
              "fromcurrent": true,
              "mode": "immediate",
              "transition": {
               "duration": 0,
               "easing": "linear"
              }
             }
            ],
            "label": "2020-03-28",
            "method": "animate"
           },
           {
            "args": [
             [
              "2020-03-29"
             ],
             {
              "frame": {
               "duration": 0,
               "redraw": true
              },
              "fromcurrent": true,
              "mode": "immediate",
              "transition": {
               "duration": 0,
               "easing": "linear"
              }
             }
            ],
            "label": "2020-03-29",
            "method": "animate"
           },
           {
            "args": [
             [
              "2020-03-30"
             ],
             {
              "frame": {
               "duration": 0,
               "redraw": true
              },
              "fromcurrent": true,
              "mode": "immediate",
              "transition": {
               "duration": 0,
               "easing": "linear"
              }
             }
            ],
            "label": "2020-03-30",
            "method": "animate"
           },
           {
            "args": [
             [
              "2020-03-31"
             ],
             {
              "frame": {
               "duration": 0,
               "redraw": true
              },
              "fromcurrent": true,
              "mode": "immediate",
              "transition": {
               "duration": 0,
               "easing": "linear"
              }
             }
            ],
            "label": "2020-03-31",
            "method": "animate"
           },
           {
            "args": [
             [
              "2020-04-01"
             ],
             {
              "frame": {
               "duration": 0,
               "redraw": true
              },
              "fromcurrent": true,
              "mode": "immediate",
              "transition": {
               "duration": 0,
               "easing": "linear"
              }
             }
            ],
            "label": "2020-04-01",
            "method": "animate"
           },
           {
            "args": [
             [
              "2020-04-02"
             ],
             {
              "frame": {
               "duration": 0,
               "redraw": true
              },
              "fromcurrent": true,
              "mode": "immediate",
              "transition": {
               "duration": 0,
               "easing": "linear"
              }
             }
            ],
            "label": "2020-04-02",
            "method": "animate"
           },
           {
            "args": [
             [
              "2020-04-03"
             ],
             {
              "frame": {
               "duration": 0,
               "redraw": true
              },
              "fromcurrent": true,
              "mode": "immediate",
              "transition": {
               "duration": 0,
               "easing": "linear"
              }
             }
            ],
            "label": "2020-04-03",
            "method": "animate"
           },
           {
            "args": [
             [
              "2020-04-04"
             ],
             {
              "frame": {
               "duration": 0,
               "redraw": true
              },
              "fromcurrent": true,
              "mode": "immediate",
              "transition": {
               "duration": 0,
               "easing": "linear"
              }
             }
            ],
            "label": "2020-04-04",
            "method": "animate"
           },
           {
            "args": [
             [
              "2020-04-05"
             ],
             {
              "frame": {
               "duration": 0,
               "redraw": true
              },
              "fromcurrent": true,
              "mode": "immediate",
              "transition": {
               "duration": 0,
               "easing": "linear"
              }
             }
            ],
            "label": "2020-04-05",
            "method": "animate"
           },
           {
            "args": [
             [
              "2020-04-06"
             ],
             {
              "frame": {
               "duration": 0,
               "redraw": true
              },
              "fromcurrent": true,
              "mode": "immediate",
              "transition": {
               "duration": 0,
               "easing": "linear"
              }
             }
            ],
            "label": "2020-04-06",
            "method": "animate"
           },
           {
            "args": [
             [
              "2020-04-07"
             ],
             {
              "frame": {
               "duration": 0,
               "redraw": true
              },
              "fromcurrent": true,
              "mode": "immediate",
              "transition": {
               "duration": 0,
               "easing": "linear"
              }
             }
            ],
            "label": "2020-04-07",
            "method": "animate"
           },
           {
            "args": [
             [
              "2020-04-08"
             ],
             {
              "frame": {
               "duration": 0,
               "redraw": true
              },
              "fromcurrent": true,
              "mode": "immediate",
              "transition": {
               "duration": 0,
               "easing": "linear"
              }
             }
            ],
            "label": "2020-04-08",
            "method": "animate"
           },
           {
            "args": [
             [
              "2020-04-09"
             ],
             {
              "frame": {
               "duration": 0,
               "redraw": true
              },
              "fromcurrent": true,
              "mode": "immediate",
              "transition": {
               "duration": 0,
               "easing": "linear"
              }
             }
            ],
            "label": "2020-04-09",
            "method": "animate"
           },
           {
            "args": [
             [
              "2020-04-10"
             ],
             {
              "frame": {
               "duration": 0,
               "redraw": true
              },
              "fromcurrent": true,
              "mode": "immediate",
              "transition": {
               "duration": 0,
               "easing": "linear"
              }
             }
            ],
            "label": "2020-04-10",
            "method": "animate"
           },
           {
            "args": [
             [
              "2020-04-11"
             ],
             {
              "frame": {
               "duration": 0,
               "redraw": true
              },
              "fromcurrent": true,
              "mode": "immediate",
              "transition": {
               "duration": 0,
               "easing": "linear"
              }
             }
            ],
            "label": "2020-04-11",
            "method": "animate"
           },
           {
            "args": [
             [
              "2020-04-12"
             ],
             {
              "frame": {
               "duration": 0,
               "redraw": true
              },
              "fromcurrent": true,
              "mode": "immediate",
              "transition": {
               "duration": 0,
               "easing": "linear"
              }
             }
            ],
            "label": "2020-04-12",
            "method": "animate"
           }
          ],
          "x": 0.1,
          "xanchor": "left",
          "y": 0,
          "yanchor": "top"
         }
        ],
        "template": {
         "data": {
          "bar": [
           {
            "error_x": {
             "color": "#2a3f5f"
            },
            "error_y": {
             "color": "#2a3f5f"
            },
            "marker": {
             "line": {
              "color": "#E5ECF6",
              "width": 0.5
             }
            },
            "type": "bar"
           }
          ],
          "barpolar": [
           {
            "marker": {
             "line": {
              "color": "#E5ECF6",
              "width": 0.5
             }
            },
            "type": "barpolar"
           }
          ],
          "carpet": [
           {
            "aaxis": {
             "endlinecolor": "#2a3f5f",
             "gridcolor": "white",
             "linecolor": "white",
             "minorgridcolor": "white",
             "startlinecolor": "#2a3f5f"
            },
            "baxis": {
             "endlinecolor": "#2a3f5f",
             "gridcolor": "white",
             "linecolor": "white",
             "minorgridcolor": "white",
             "startlinecolor": "#2a3f5f"
            },
            "type": "carpet"
           }
          ],
          "choropleth": [
           {
            "colorbar": {
             "outlinewidth": 0,
             "ticks": ""
            },
            "type": "choropleth"
           }
          ],
          "contour": [
           {
            "colorbar": {
             "outlinewidth": 0,
             "ticks": ""
            },
            "colorscale": [
             [
              0,
              "#0d0887"
             ],
             [
              0.1111111111111111,
              "#46039f"
             ],
             [
              0.2222222222222222,
              "#7201a8"
             ],
             [
              0.3333333333333333,
              "#9c179e"
             ],
             [
              0.4444444444444444,
              "#bd3786"
             ],
             [
              0.5555555555555556,
              "#d8576b"
             ],
             [
              0.6666666666666666,
              "#ed7953"
             ],
             [
              0.7777777777777778,
              "#fb9f3a"
             ],
             [
              0.8888888888888888,
              "#fdca26"
             ],
             [
              1,
              "#f0f921"
             ]
            ],
            "type": "contour"
           }
          ],
          "contourcarpet": [
           {
            "colorbar": {
             "outlinewidth": 0,
             "ticks": ""
            },
            "type": "contourcarpet"
           }
          ],
          "heatmap": [
           {
            "colorbar": {
             "outlinewidth": 0,
             "ticks": ""
            },
            "colorscale": [
             [
              0,
              "#0d0887"
             ],
             [
              0.1111111111111111,
              "#46039f"
             ],
             [
              0.2222222222222222,
              "#7201a8"
             ],
             [
              0.3333333333333333,
              "#9c179e"
             ],
             [
              0.4444444444444444,
              "#bd3786"
             ],
             [
              0.5555555555555556,
              "#d8576b"
             ],
             [
              0.6666666666666666,
              "#ed7953"
             ],
             [
              0.7777777777777778,
              "#fb9f3a"
             ],
             [
              0.8888888888888888,
              "#fdca26"
             ],
             [
              1,
              "#f0f921"
             ]
            ],
            "type": "heatmap"
           }
          ],
          "heatmapgl": [
           {
            "colorbar": {
             "outlinewidth": 0,
             "ticks": ""
            },
            "colorscale": [
             [
              0,
              "#0d0887"
             ],
             [
              0.1111111111111111,
              "#46039f"
             ],
             [
              0.2222222222222222,
              "#7201a8"
             ],
             [
              0.3333333333333333,
              "#9c179e"
             ],
             [
              0.4444444444444444,
              "#bd3786"
             ],
             [
              0.5555555555555556,
              "#d8576b"
             ],
             [
              0.6666666666666666,
              "#ed7953"
             ],
             [
              0.7777777777777778,
              "#fb9f3a"
             ],
             [
              0.8888888888888888,
              "#fdca26"
             ],
             [
              1,
              "#f0f921"
             ]
            ],
            "type": "heatmapgl"
           }
          ],
          "histogram": [
           {
            "marker": {
             "colorbar": {
              "outlinewidth": 0,
              "ticks": ""
             }
            },
            "type": "histogram"
           }
          ],
          "histogram2d": [
           {
            "colorbar": {
             "outlinewidth": 0,
             "ticks": ""
            },
            "colorscale": [
             [
              0,
              "#0d0887"
             ],
             [
              0.1111111111111111,
              "#46039f"
             ],
             [
              0.2222222222222222,
              "#7201a8"
             ],
             [
              0.3333333333333333,
              "#9c179e"
             ],
             [
              0.4444444444444444,
              "#bd3786"
             ],
             [
              0.5555555555555556,
              "#d8576b"
             ],
             [
              0.6666666666666666,
              "#ed7953"
             ],
             [
              0.7777777777777778,
              "#fb9f3a"
             ],
             [
              0.8888888888888888,
              "#fdca26"
             ],
             [
              1,
              "#f0f921"
             ]
            ],
            "type": "histogram2d"
           }
          ],
          "histogram2dcontour": [
           {
            "colorbar": {
             "outlinewidth": 0,
             "ticks": ""
            },
            "colorscale": [
             [
              0,
              "#0d0887"
             ],
             [
              0.1111111111111111,
              "#46039f"
             ],
             [
              0.2222222222222222,
              "#7201a8"
             ],
             [
              0.3333333333333333,
              "#9c179e"
             ],
             [
              0.4444444444444444,
              "#bd3786"
             ],
             [
              0.5555555555555556,
              "#d8576b"
             ],
             [
              0.6666666666666666,
              "#ed7953"
             ],
             [
              0.7777777777777778,
              "#fb9f3a"
             ],
             [
              0.8888888888888888,
              "#fdca26"
             ],
             [
              1,
              "#f0f921"
             ]
            ],
            "type": "histogram2dcontour"
           }
          ],
          "mesh3d": [
           {
            "colorbar": {
             "outlinewidth": 0,
             "ticks": ""
            },
            "type": "mesh3d"
           }
          ],
          "parcoords": [
           {
            "line": {
             "colorbar": {
              "outlinewidth": 0,
              "ticks": ""
             }
            },
            "type": "parcoords"
           }
          ],
          "pie": [
           {
            "automargin": true,
            "type": "pie"
           }
          ],
          "scatter": [
           {
            "marker": {
             "colorbar": {
              "outlinewidth": 0,
              "ticks": ""
             }
            },
            "type": "scatter"
           }
          ],
          "scatter3d": [
           {
            "line": {
             "colorbar": {
              "outlinewidth": 0,
              "ticks": ""
             }
            },
            "marker": {
             "colorbar": {
              "outlinewidth": 0,
              "ticks": ""
             }
            },
            "type": "scatter3d"
           }
          ],
          "scattercarpet": [
           {
            "marker": {
             "colorbar": {
              "outlinewidth": 0,
              "ticks": ""
             }
            },
            "type": "scattercarpet"
           }
          ],
          "scattergeo": [
           {
            "marker": {
             "colorbar": {
              "outlinewidth": 0,
              "ticks": ""
             }
            },
            "type": "scattergeo"
           }
          ],
          "scattergl": [
           {
            "marker": {
             "colorbar": {
              "outlinewidth": 0,
              "ticks": ""
             }
            },
            "type": "scattergl"
           }
          ],
          "scattermapbox": [
           {
            "marker": {
             "colorbar": {
              "outlinewidth": 0,
              "ticks": ""
             }
            },
            "type": "scattermapbox"
           }
          ],
          "scatterpolar": [
           {
            "marker": {
             "colorbar": {
              "outlinewidth": 0,
              "ticks": ""
             }
            },
            "type": "scatterpolar"
           }
          ],
          "scatterpolargl": [
           {
            "marker": {
             "colorbar": {
              "outlinewidth": 0,
              "ticks": ""
             }
            },
            "type": "scatterpolargl"
           }
          ],
          "scatterternary": [
           {
            "marker": {
             "colorbar": {
              "outlinewidth": 0,
              "ticks": ""
             }
            },
            "type": "scatterternary"
           }
          ],
          "surface": [
           {
            "colorbar": {
             "outlinewidth": 0,
             "ticks": ""
            },
            "colorscale": [
             [
              0,
              "#0d0887"
             ],
             [
              0.1111111111111111,
              "#46039f"
             ],
             [
              0.2222222222222222,
              "#7201a8"
             ],
             [
              0.3333333333333333,
              "#9c179e"
             ],
             [
              0.4444444444444444,
              "#bd3786"
             ],
             [
              0.5555555555555556,
              "#d8576b"
             ],
             [
              0.6666666666666666,
              "#ed7953"
             ],
             [
              0.7777777777777778,
              "#fb9f3a"
             ],
             [
              0.8888888888888888,
              "#fdca26"
             ],
             [
              1,
              "#f0f921"
             ]
            ],
            "type": "surface"
           }
          ],
          "table": [
           {
            "cells": {
             "fill": {
              "color": "#EBF0F8"
             },
             "line": {
              "color": "white"
             }
            },
            "header": {
             "fill": {
              "color": "#C8D4E3"
             },
             "line": {
              "color": "white"
             }
            },
            "type": "table"
           }
          ]
         },
         "layout": {
          "annotationdefaults": {
           "arrowcolor": "#2a3f5f",
           "arrowhead": 0,
           "arrowwidth": 1
          },
          "coloraxis": {
           "colorbar": {
            "outlinewidth": 0,
            "ticks": ""
           }
          },
          "colorscale": {
           "diverging": [
            [
             0,
             "#8e0152"
            ],
            [
             0.1,
             "#c51b7d"
            ],
            [
             0.2,
             "#de77ae"
            ],
            [
             0.3,
             "#f1b6da"
            ],
            [
             0.4,
             "#fde0ef"
            ],
            [
             0.5,
             "#f7f7f7"
            ],
            [
             0.6,
             "#e6f5d0"
            ],
            [
             0.7,
             "#b8e186"
            ],
            [
             0.8,
             "#7fbc41"
            ],
            [
             0.9,
             "#4d9221"
            ],
            [
             1,
             "#276419"
            ]
           ],
           "sequential": [
            [
             0,
             "#0d0887"
            ],
            [
             0.1111111111111111,
             "#46039f"
            ],
            [
             0.2222222222222222,
             "#7201a8"
            ],
            [
             0.3333333333333333,
             "#9c179e"
            ],
            [
             0.4444444444444444,
             "#bd3786"
            ],
            [
             0.5555555555555556,
             "#d8576b"
            ],
            [
             0.6666666666666666,
             "#ed7953"
            ],
            [
             0.7777777777777778,
             "#fb9f3a"
            ],
            [
             0.8888888888888888,
             "#fdca26"
            ],
            [
             1,
             "#f0f921"
            ]
           ],
           "sequentialminus": [
            [
             0,
             "#0d0887"
            ],
            [
             0.1111111111111111,
             "#46039f"
            ],
            [
             0.2222222222222222,
             "#7201a8"
            ],
            [
             0.3333333333333333,
             "#9c179e"
            ],
            [
             0.4444444444444444,
             "#bd3786"
            ],
            [
             0.5555555555555556,
             "#d8576b"
            ],
            [
             0.6666666666666666,
             "#ed7953"
            ],
            [
             0.7777777777777778,
             "#fb9f3a"
            ],
            [
             0.8888888888888888,
             "#fdca26"
            ],
            [
             1,
             "#f0f921"
            ]
           ]
          },
          "colorway": [
           "#636efa",
           "#EF553B",
           "#00cc96",
           "#ab63fa",
           "#FFA15A",
           "#19d3f3",
           "#FF6692",
           "#B6E880",
           "#FF97FF",
           "#FECB52"
          ],
          "font": {
           "color": "#2a3f5f"
          },
          "geo": {
           "bgcolor": "white",
           "lakecolor": "white",
           "landcolor": "#E5ECF6",
           "showlakes": true,
           "showland": true,
           "subunitcolor": "white"
          },
          "hoverlabel": {
           "align": "left"
          },
          "hovermode": "closest",
          "mapbox": {
           "style": "light"
          },
          "paper_bgcolor": "white",
          "plot_bgcolor": "#E5ECF6",
          "polar": {
           "angularaxis": {
            "gridcolor": "white",
            "linecolor": "white",
            "ticks": ""
           },
           "bgcolor": "#E5ECF6",
           "radialaxis": {
            "gridcolor": "white",
            "linecolor": "white",
            "ticks": ""
           }
          },
          "scene": {
           "xaxis": {
            "backgroundcolor": "#E5ECF6",
            "gridcolor": "white",
            "gridwidth": 2,
            "linecolor": "white",
            "showbackground": true,
            "ticks": "",
            "zerolinecolor": "white"
           },
           "yaxis": {
            "backgroundcolor": "#E5ECF6",
            "gridcolor": "white",
            "gridwidth": 2,
            "linecolor": "white",
            "showbackground": true,
            "ticks": "",
            "zerolinecolor": "white"
           },
           "zaxis": {
            "backgroundcolor": "#E5ECF6",
            "gridcolor": "white",
            "gridwidth": 2,
            "linecolor": "white",
            "showbackground": true,
            "ticks": "",
            "zerolinecolor": "white"
           }
          },
          "shapedefaults": {
           "line": {
            "color": "#2a3f5f"
           }
          },
          "ternary": {
           "aaxis": {
            "gridcolor": "white",
            "linecolor": "white",
            "ticks": ""
           },
           "baxis": {
            "gridcolor": "white",
            "linecolor": "white",
            "ticks": ""
           },
           "bgcolor": "#E5ECF6",
           "caxis": {
            "gridcolor": "white",
            "linecolor": "white",
            "ticks": ""
           }
          },
          "title": {
           "x": 0.05
          },
          "xaxis": {
           "automargin": true,
           "gridcolor": "white",
           "linecolor": "white",
           "ticks": "",
           "title": {
            "standoff": 15
           },
           "zerolinecolor": "white",
           "zerolinewidth": 2
          },
          "yaxis": {
           "automargin": true,
           "gridcolor": "white",
           "linecolor": "white",
           "ticks": "",
           "title": {
            "standoff": 15
           },
           "zerolinecolor": "white",
           "zerolinewidth": 2
          }
         }
        },
        "title": {
         "text": "Inferenced Peoples In Seoul City With Animation Bar Plot"
        },
        "updatemenus": [
         {
          "buttons": [
           {
            "args": [
             null,
             {
              "frame": {
               "duration": 500,
               "redraw": true
              },
              "fromcurrent": true,
              "mode": "immediate",
              "transition": {
               "duration": 500,
               "easing": "linear"
              }
             }
            ],
            "label": "&#9654;",
            "method": "animate"
           },
           {
            "args": [
             [
              null
             ],
             {
              "frame": {
               "duration": 0,
               "redraw": true
              },
              "fromcurrent": true,
              "mode": "immediate",
              "transition": {
               "duration": 0,
               "easing": "linear"
              }
             }
            ],
            "label": "&#9724;",
            "method": "animate"
           }
          ],
          "direction": "left",
          "pad": {
           "r": 10,
           "t": 70
          },
          "showactive": false,
          "type": "buttons",
          "x": 0.1,
          "xanchor": "right",
          "y": 0,
          "yanchor": "top"
         }
        ],
        "xaxis": {
         "anchor": "y",
         "domain": [
          0,
          1
         ],
         "tickangle": 45,
         "title": {
          "text": "Time Axis"
         }
        },
        "yaxis": {
         "anchor": "x",
         "domain": [
          0,
          1
         ],
         "range": [
          0,
          27
         ],
         "tickangle": 15,
         "ticksuffix": "명",
         "title": {
          "text": "Inferenced Peoples"
         }
        }
       }
      },
      "text/html": [
       "<div>\n",
       "        \n",
       "        \n",
       "            <div id=\"ca73b996-bb66-4daf-8ae0-742208980dfb\" class=\"plotly-graph-div\" style=\"height:525px; width:100%;\"></div>\n",
       "            <script type=\"text/javascript\">\n",
       "                require([\"plotly\"], function(Plotly) {\n",
       "                    window.PLOTLYENV=window.PLOTLYENV || {};\n",
       "                    \n",
       "                if (document.getElementById(\"ca73b996-bb66-4daf-8ae0-742208980dfb\")) {\n",
       "                    Plotly.newPlot(\n",
       "                        'ca73b996-bb66-4daf-8ae0-742208980dfb',\n",
       "                        [{\"alignmentgroup\": \"True\", \"hovertemplate\": \"confirmed_date=2020-01-20<br>city=%{x}<br>cum_count=%{y}<extra></extra>\", \"ids\": [\"\\uac15\\ud654\\uad70\", \"\\uacc4\\uc591\\uad6c\", \"\\uae30\\ud0c0\", \"\\ub0a8\\ub3d9\\uad6c\", \"\\ub3d9\\uad6c\", \"\\ubbf8\\ucd94\\ud640\\uad6c\", \"\\ubd80\\ud3c9\\uad6c\", \"\\uc11c\\uad6c\", \"\\uc5f0\\uc218\\uad6c\", \"\\uc911\\uad6c\"], \"legendgroup\": \"\", \"marker\": {\"color\": \"#636efa\"}, \"name\": \"\", \"offsetgroup\": \"\", \"orientation\": \"v\", \"showlegend\": false, \"textposition\": \"auto\", \"type\": \"bar\", \"x\": [\"\\uac15\\ud654\\uad70\", \"\\uacc4\\uc591\\uad6c\", \"\\uae30\\ud0c0\", \"\\ub0a8\\ub3d9\\uad6c\", \"\\ub3d9\\uad6c\", \"\\ubbf8\\ucd94\\ud640\\uad6c\", \"\\ubd80\\ud3c9\\uad6c\", \"\\uc11c\\uad6c\", \"\\uc5f0\\uc218\\uad6c\", \"\\uc911\\uad6c\"], \"xaxis\": \"x\", \"y\": [0.0, 0.0, 1.0, 0.0, 0.0, 0.0, 0.0, 0.0, 0.0, 0.0], \"yaxis\": \"y\"}],\n",
       "                        {\"barmode\": \"relative\", \"legend\": {\"tracegroupgap\": 0}, \"margin\": {\"t\": 60}, \"showlegend\": false, \"sliders\": [{\"active\": 0, \"currentvalue\": {\"prefix\": \"confirmed_date=\"}, \"len\": 0.9, \"pad\": {\"b\": 10, \"t\": 60}, \"steps\": [{\"args\": [[\"2020-01-20\"], {\"frame\": {\"duration\": 0, \"redraw\": true}, \"fromcurrent\": true, \"mode\": \"immediate\", \"transition\": {\"duration\": 0, \"easing\": \"linear\"}}], \"label\": \"2020-01-20\", \"method\": \"animate\"}, {\"args\": [[\"2020-01-21\"], {\"frame\": {\"duration\": 0, \"redraw\": true}, \"fromcurrent\": true, \"mode\": \"immediate\", \"transition\": {\"duration\": 0, \"easing\": \"linear\"}}], \"label\": \"2020-01-21\", \"method\": \"animate\"}, {\"args\": [[\"2020-01-22\"], {\"frame\": {\"duration\": 0, \"redraw\": true}, \"fromcurrent\": true, \"mode\": \"immediate\", \"transition\": {\"duration\": 0, \"easing\": \"linear\"}}], \"label\": \"2020-01-22\", \"method\": \"animate\"}, {\"args\": [[\"2020-01-23\"], {\"frame\": {\"duration\": 0, \"redraw\": true}, \"fromcurrent\": true, \"mode\": \"immediate\", \"transition\": {\"duration\": 0, \"easing\": \"linear\"}}], \"label\": \"2020-01-23\", \"method\": \"animate\"}, {\"args\": [[\"2020-01-24\"], {\"frame\": {\"duration\": 0, \"redraw\": true}, \"fromcurrent\": true, \"mode\": \"immediate\", \"transition\": {\"duration\": 0, \"easing\": \"linear\"}}], \"label\": \"2020-01-24\", \"method\": \"animate\"}, {\"args\": [[\"2020-01-25\"], {\"frame\": {\"duration\": 0, \"redraw\": true}, \"fromcurrent\": true, \"mode\": \"immediate\", \"transition\": {\"duration\": 0, \"easing\": \"linear\"}}], \"label\": \"2020-01-25\", \"method\": \"animate\"}, {\"args\": [[\"2020-01-26\"], {\"frame\": {\"duration\": 0, \"redraw\": true}, \"fromcurrent\": true, \"mode\": \"immediate\", \"transition\": {\"duration\": 0, \"easing\": \"linear\"}}], \"label\": \"2020-01-26\", \"method\": \"animate\"}, {\"args\": [[\"2020-01-27\"], {\"frame\": {\"duration\": 0, \"redraw\": true}, \"fromcurrent\": true, \"mode\": \"immediate\", \"transition\": {\"duration\": 0, \"easing\": \"linear\"}}], \"label\": \"2020-01-27\", \"method\": \"animate\"}, {\"args\": [[\"2020-01-28\"], {\"frame\": {\"duration\": 0, \"redraw\": true}, \"fromcurrent\": true, \"mode\": \"immediate\", \"transition\": {\"duration\": 0, \"easing\": \"linear\"}}], \"label\": \"2020-01-28\", \"method\": \"animate\"}, {\"args\": [[\"2020-01-29\"], {\"frame\": {\"duration\": 0, \"redraw\": true}, \"fromcurrent\": true, \"mode\": \"immediate\", \"transition\": {\"duration\": 0, \"easing\": \"linear\"}}], \"label\": \"2020-01-29\", \"method\": \"animate\"}, {\"args\": [[\"2020-01-30\"], {\"frame\": {\"duration\": 0, \"redraw\": true}, \"fromcurrent\": true, \"mode\": \"immediate\", \"transition\": {\"duration\": 0, \"easing\": \"linear\"}}], \"label\": \"2020-01-30\", \"method\": \"animate\"}, {\"args\": [[\"2020-01-31\"], {\"frame\": {\"duration\": 0, \"redraw\": true}, \"fromcurrent\": true, \"mode\": \"immediate\", \"transition\": {\"duration\": 0, \"easing\": \"linear\"}}], \"label\": \"2020-01-31\", \"method\": \"animate\"}, {\"args\": [[\"2020-02-01\"], {\"frame\": {\"duration\": 0, \"redraw\": true}, \"fromcurrent\": true, \"mode\": \"immediate\", \"transition\": {\"duration\": 0, \"easing\": \"linear\"}}], \"label\": \"2020-02-01\", \"method\": \"animate\"}, {\"args\": [[\"2020-02-02\"], {\"frame\": {\"duration\": 0, \"redraw\": true}, \"fromcurrent\": true, \"mode\": \"immediate\", \"transition\": {\"duration\": 0, \"easing\": \"linear\"}}], \"label\": \"2020-02-02\", \"method\": \"animate\"}, {\"args\": [[\"2020-02-03\"], {\"frame\": {\"duration\": 0, \"redraw\": true}, \"fromcurrent\": true, \"mode\": \"immediate\", \"transition\": {\"duration\": 0, \"easing\": \"linear\"}}], \"label\": \"2020-02-03\", \"method\": \"animate\"}, {\"args\": [[\"2020-02-04\"], {\"frame\": {\"duration\": 0, \"redraw\": true}, \"fromcurrent\": true, \"mode\": \"immediate\", \"transition\": {\"duration\": 0, \"easing\": \"linear\"}}], \"label\": \"2020-02-04\", \"method\": \"animate\"}, {\"args\": [[\"2020-02-05\"], {\"frame\": {\"duration\": 0, \"redraw\": true}, \"fromcurrent\": true, \"mode\": \"immediate\", \"transition\": {\"duration\": 0, \"easing\": \"linear\"}}], \"label\": \"2020-02-05\", \"method\": \"animate\"}, {\"args\": [[\"2020-02-06\"], {\"frame\": {\"duration\": 0, \"redraw\": true}, \"fromcurrent\": true, \"mode\": \"immediate\", \"transition\": {\"duration\": 0, \"easing\": \"linear\"}}], \"label\": \"2020-02-06\", \"method\": \"animate\"}, {\"args\": [[\"2020-02-07\"], {\"frame\": {\"duration\": 0, \"redraw\": true}, \"fromcurrent\": true, \"mode\": \"immediate\", \"transition\": {\"duration\": 0, \"easing\": \"linear\"}}], \"label\": \"2020-02-07\", \"method\": \"animate\"}, {\"args\": [[\"2020-02-08\"], {\"frame\": {\"duration\": 0, \"redraw\": true}, \"fromcurrent\": true, \"mode\": \"immediate\", \"transition\": {\"duration\": 0, \"easing\": \"linear\"}}], \"label\": \"2020-02-08\", \"method\": \"animate\"}, {\"args\": [[\"2020-02-09\"], {\"frame\": {\"duration\": 0, \"redraw\": true}, \"fromcurrent\": true, \"mode\": \"immediate\", \"transition\": {\"duration\": 0, \"easing\": \"linear\"}}], \"label\": \"2020-02-09\", \"method\": \"animate\"}, {\"args\": [[\"2020-02-10\"], {\"frame\": {\"duration\": 0, \"redraw\": true}, \"fromcurrent\": true, \"mode\": \"immediate\", \"transition\": {\"duration\": 0, \"easing\": \"linear\"}}], \"label\": \"2020-02-10\", \"method\": \"animate\"}, {\"args\": [[\"2020-02-11\"], {\"frame\": {\"duration\": 0, \"redraw\": true}, \"fromcurrent\": true, \"mode\": \"immediate\", \"transition\": {\"duration\": 0, \"easing\": \"linear\"}}], \"label\": \"2020-02-11\", \"method\": \"animate\"}, {\"args\": [[\"2020-02-12\"], {\"frame\": {\"duration\": 0, \"redraw\": true}, \"fromcurrent\": true, \"mode\": \"immediate\", \"transition\": {\"duration\": 0, \"easing\": \"linear\"}}], \"label\": \"2020-02-12\", \"method\": \"animate\"}, {\"args\": [[\"2020-02-13\"], {\"frame\": {\"duration\": 0, \"redraw\": true}, \"fromcurrent\": true, \"mode\": \"immediate\", \"transition\": {\"duration\": 0, \"easing\": \"linear\"}}], \"label\": \"2020-02-13\", \"method\": \"animate\"}, {\"args\": [[\"2020-02-14\"], {\"frame\": {\"duration\": 0, \"redraw\": true}, \"fromcurrent\": true, \"mode\": \"immediate\", \"transition\": {\"duration\": 0, \"easing\": \"linear\"}}], \"label\": \"2020-02-14\", \"method\": \"animate\"}, {\"args\": [[\"2020-02-15\"], {\"frame\": {\"duration\": 0, \"redraw\": true}, \"fromcurrent\": true, \"mode\": \"immediate\", \"transition\": {\"duration\": 0, \"easing\": \"linear\"}}], \"label\": \"2020-02-15\", \"method\": \"animate\"}, {\"args\": [[\"2020-02-16\"], {\"frame\": {\"duration\": 0, \"redraw\": true}, \"fromcurrent\": true, \"mode\": \"immediate\", \"transition\": {\"duration\": 0, \"easing\": \"linear\"}}], \"label\": \"2020-02-16\", \"method\": \"animate\"}, {\"args\": [[\"2020-02-17\"], {\"frame\": {\"duration\": 0, \"redraw\": true}, \"fromcurrent\": true, \"mode\": \"immediate\", \"transition\": {\"duration\": 0, \"easing\": \"linear\"}}], \"label\": \"2020-02-17\", \"method\": \"animate\"}, {\"args\": [[\"2020-02-18\"], {\"frame\": {\"duration\": 0, \"redraw\": true}, \"fromcurrent\": true, \"mode\": \"immediate\", \"transition\": {\"duration\": 0, \"easing\": \"linear\"}}], \"label\": \"2020-02-18\", \"method\": \"animate\"}, {\"args\": [[\"2020-02-19\"], {\"frame\": {\"duration\": 0, \"redraw\": true}, \"fromcurrent\": true, \"mode\": \"immediate\", \"transition\": {\"duration\": 0, \"easing\": \"linear\"}}], \"label\": \"2020-02-19\", \"method\": \"animate\"}, {\"args\": [[\"2020-02-20\"], {\"frame\": {\"duration\": 0, \"redraw\": true}, \"fromcurrent\": true, \"mode\": \"immediate\", \"transition\": {\"duration\": 0, \"easing\": \"linear\"}}], \"label\": \"2020-02-20\", \"method\": \"animate\"}, {\"args\": [[\"2020-02-21\"], {\"frame\": {\"duration\": 0, \"redraw\": true}, \"fromcurrent\": true, \"mode\": \"immediate\", \"transition\": {\"duration\": 0, \"easing\": \"linear\"}}], \"label\": \"2020-02-21\", \"method\": \"animate\"}, {\"args\": [[\"2020-02-22\"], {\"frame\": {\"duration\": 0, \"redraw\": true}, \"fromcurrent\": true, \"mode\": \"immediate\", \"transition\": {\"duration\": 0, \"easing\": \"linear\"}}], \"label\": \"2020-02-22\", \"method\": \"animate\"}, {\"args\": [[\"2020-02-23\"], {\"frame\": {\"duration\": 0, \"redraw\": true}, \"fromcurrent\": true, \"mode\": \"immediate\", \"transition\": {\"duration\": 0, \"easing\": \"linear\"}}], \"label\": \"2020-02-23\", \"method\": \"animate\"}, {\"args\": [[\"2020-02-24\"], {\"frame\": {\"duration\": 0, \"redraw\": true}, \"fromcurrent\": true, \"mode\": \"immediate\", \"transition\": {\"duration\": 0, \"easing\": \"linear\"}}], \"label\": \"2020-02-24\", \"method\": \"animate\"}, {\"args\": [[\"2020-02-25\"], {\"frame\": {\"duration\": 0, \"redraw\": true}, \"fromcurrent\": true, \"mode\": \"immediate\", \"transition\": {\"duration\": 0, \"easing\": \"linear\"}}], \"label\": \"2020-02-25\", \"method\": \"animate\"}, {\"args\": [[\"2020-02-26\"], {\"frame\": {\"duration\": 0, \"redraw\": true}, \"fromcurrent\": true, \"mode\": \"immediate\", \"transition\": {\"duration\": 0, \"easing\": \"linear\"}}], \"label\": \"2020-02-26\", \"method\": \"animate\"}, {\"args\": [[\"2020-02-27\"], {\"frame\": {\"duration\": 0, \"redraw\": true}, \"fromcurrent\": true, \"mode\": \"immediate\", \"transition\": {\"duration\": 0, \"easing\": \"linear\"}}], \"label\": \"2020-02-27\", \"method\": \"animate\"}, {\"args\": [[\"2020-02-28\"], {\"frame\": {\"duration\": 0, \"redraw\": true}, \"fromcurrent\": true, \"mode\": \"immediate\", \"transition\": {\"duration\": 0, \"easing\": \"linear\"}}], \"label\": \"2020-02-28\", \"method\": \"animate\"}, {\"args\": [[\"2020-02-29\"], {\"frame\": {\"duration\": 0, \"redraw\": true}, \"fromcurrent\": true, \"mode\": \"immediate\", \"transition\": {\"duration\": 0, \"easing\": \"linear\"}}], \"label\": \"2020-02-29\", \"method\": \"animate\"}, {\"args\": [[\"2020-03-01\"], {\"frame\": {\"duration\": 0, \"redraw\": true}, \"fromcurrent\": true, \"mode\": \"immediate\", \"transition\": {\"duration\": 0, \"easing\": \"linear\"}}], \"label\": \"2020-03-01\", \"method\": \"animate\"}, {\"args\": [[\"2020-03-02\"], {\"frame\": {\"duration\": 0, \"redraw\": true}, \"fromcurrent\": true, \"mode\": \"immediate\", \"transition\": {\"duration\": 0, \"easing\": \"linear\"}}], \"label\": \"2020-03-02\", \"method\": \"animate\"}, {\"args\": [[\"2020-03-03\"], {\"frame\": {\"duration\": 0, \"redraw\": true}, \"fromcurrent\": true, \"mode\": \"immediate\", \"transition\": {\"duration\": 0, \"easing\": \"linear\"}}], \"label\": \"2020-03-03\", \"method\": \"animate\"}, {\"args\": [[\"2020-03-04\"], {\"frame\": {\"duration\": 0, \"redraw\": true}, \"fromcurrent\": true, \"mode\": \"immediate\", \"transition\": {\"duration\": 0, \"easing\": \"linear\"}}], \"label\": \"2020-03-04\", \"method\": \"animate\"}, {\"args\": [[\"2020-03-05\"], {\"frame\": {\"duration\": 0, \"redraw\": true}, \"fromcurrent\": true, \"mode\": \"immediate\", \"transition\": {\"duration\": 0, \"easing\": \"linear\"}}], \"label\": \"2020-03-05\", \"method\": \"animate\"}, {\"args\": [[\"2020-03-06\"], {\"frame\": {\"duration\": 0, \"redraw\": true}, \"fromcurrent\": true, \"mode\": \"immediate\", \"transition\": {\"duration\": 0, \"easing\": \"linear\"}}], \"label\": \"2020-03-06\", \"method\": \"animate\"}, {\"args\": [[\"2020-03-07\"], {\"frame\": {\"duration\": 0, \"redraw\": true}, \"fromcurrent\": true, \"mode\": \"immediate\", \"transition\": {\"duration\": 0, \"easing\": \"linear\"}}], \"label\": \"2020-03-07\", \"method\": \"animate\"}, {\"args\": [[\"2020-03-08\"], {\"frame\": {\"duration\": 0, \"redraw\": true}, \"fromcurrent\": true, \"mode\": \"immediate\", \"transition\": {\"duration\": 0, \"easing\": \"linear\"}}], \"label\": \"2020-03-08\", \"method\": \"animate\"}, {\"args\": [[\"2020-03-09\"], {\"frame\": {\"duration\": 0, \"redraw\": true}, \"fromcurrent\": true, \"mode\": \"immediate\", \"transition\": {\"duration\": 0, \"easing\": \"linear\"}}], \"label\": \"2020-03-09\", \"method\": \"animate\"}, {\"args\": [[\"2020-03-10\"], {\"frame\": {\"duration\": 0, \"redraw\": true}, \"fromcurrent\": true, \"mode\": \"immediate\", \"transition\": {\"duration\": 0, \"easing\": \"linear\"}}], \"label\": \"2020-03-10\", \"method\": \"animate\"}, {\"args\": [[\"2020-03-11\"], {\"frame\": {\"duration\": 0, \"redraw\": true}, \"fromcurrent\": true, \"mode\": \"immediate\", \"transition\": {\"duration\": 0, \"easing\": \"linear\"}}], \"label\": \"2020-03-11\", \"method\": \"animate\"}, {\"args\": [[\"2020-03-12\"], {\"frame\": {\"duration\": 0, \"redraw\": true}, \"fromcurrent\": true, \"mode\": \"immediate\", \"transition\": {\"duration\": 0, \"easing\": \"linear\"}}], \"label\": \"2020-03-12\", \"method\": \"animate\"}, {\"args\": [[\"2020-03-13\"], {\"frame\": {\"duration\": 0, \"redraw\": true}, \"fromcurrent\": true, \"mode\": \"immediate\", \"transition\": {\"duration\": 0, \"easing\": \"linear\"}}], \"label\": \"2020-03-13\", \"method\": \"animate\"}, {\"args\": [[\"2020-03-14\"], {\"frame\": {\"duration\": 0, \"redraw\": true}, \"fromcurrent\": true, \"mode\": \"immediate\", \"transition\": {\"duration\": 0, \"easing\": \"linear\"}}], \"label\": \"2020-03-14\", \"method\": \"animate\"}, {\"args\": [[\"2020-03-15\"], {\"frame\": {\"duration\": 0, \"redraw\": true}, \"fromcurrent\": true, \"mode\": \"immediate\", \"transition\": {\"duration\": 0, \"easing\": \"linear\"}}], \"label\": \"2020-03-15\", \"method\": \"animate\"}, {\"args\": [[\"2020-03-16\"], {\"frame\": {\"duration\": 0, \"redraw\": true}, \"fromcurrent\": true, \"mode\": \"immediate\", \"transition\": {\"duration\": 0, \"easing\": \"linear\"}}], \"label\": \"2020-03-16\", \"method\": \"animate\"}, {\"args\": [[\"2020-03-17\"], {\"frame\": {\"duration\": 0, \"redraw\": true}, \"fromcurrent\": true, \"mode\": \"immediate\", \"transition\": {\"duration\": 0, \"easing\": \"linear\"}}], \"label\": \"2020-03-17\", \"method\": \"animate\"}, {\"args\": [[\"2020-03-18\"], {\"frame\": {\"duration\": 0, \"redraw\": true}, \"fromcurrent\": true, \"mode\": \"immediate\", \"transition\": {\"duration\": 0, \"easing\": \"linear\"}}], \"label\": \"2020-03-18\", \"method\": \"animate\"}, {\"args\": [[\"2020-03-19\"], {\"frame\": {\"duration\": 0, \"redraw\": true}, \"fromcurrent\": true, \"mode\": \"immediate\", \"transition\": {\"duration\": 0, \"easing\": \"linear\"}}], \"label\": \"2020-03-19\", \"method\": \"animate\"}, {\"args\": [[\"2020-03-20\"], {\"frame\": {\"duration\": 0, \"redraw\": true}, \"fromcurrent\": true, \"mode\": \"immediate\", \"transition\": {\"duration\": 0, \"easing\": \"linear\"}}], \"label\": \"2020-03-20\", \"method\": \"animate\"}, {\"args\": [[\"2020-03-21\"], {\"frame\": {\"duration\": 0, \"redraw\": true}, \"fromcurrent\": true, \"mode\": \"immediate\", \"transition\": {\"duration\": 0, \"easing\": \"linear\"}}], \"label\": \"2020-03-21\", \"method\": \"animate\"}, {\"args\": [[\"2020-03-22\"], {\"frame\": {\"duration\": 0, \"redraw\": true}, \"fromcurrent\": true, \"mode\": \"immediate\", \"transition\": {\"duration\": 0, \"easing\": \"linear\"}}], \"label\": \"2020-03-22\", \"method\": \"animate\"}, {\"args\": [[\"2020-03-23\"], {\"frame\": {\"duration\": 0, \"redraw\": true}, \"fromcurrent\": true, \"mode\": \"immediate\", \"transition\": {\"duration\": 0, \"easing\": \"linear\"}}], \"label\": \"2020-03-23\", \"method\": \"animate\"}, {\"args\": [[\"2020-03-24\"], {\"frame\": {\"duration\": 0, \"redraw\": true}, \"fromcurrent\": true, \"mode\": \"immediate\", \"transition\": {\"duration\": 0, \"easing\": \"linear\"}}], \"label\": \"2020-03-24\", \"method\": \"animate\"}, {\"args\": [[\"2020-03-25\"], {\"frame\": {\"duration\": 0, \"redraw\": true}, \"fromcurrent\": true, \"mode\": \"immediate\", \"transition\": {\"duration\": 0, \"easing\": \"linear\"}}], \"label\": \"2020-03-25\", \"method\": \"animate\"}, {\"args\": [[\"2020-03-26\"], {\"frame\": {\"duration\": 0, \"redraw\": true}, \"fromcurrent\": true, \"mode\": \"immediate\", \"transition\": {\"duration\": 0, \"easing\": \"linear\"}}], \"label\": \"2020-03-26\", \"method\": \"animate\"}, {\"args\": [[\"2020-03-27\"], {\"frame\": {\"duration\": 0, \"redraw\": true}, \"fromcurrent\": true, \"mode\": \"immediate\", \"transition\": {\"duration\": 0, \"easing\": \"linear\"}}], \"label\": \"2020-03-27\", \"method\": \"animate\"}, {\"args\": [[\"2020-03-28\"], {\"frame\": {\"duration\": 0, \"redraw\": true}, \"fromcurrent\": true, \"mode\": \"immediate\", \"transition\": {\"duration\": 0, \"easing\": \"linear\"}}], \"label\": \"2020-03-28\", \"method\": \"animate\"}, {\"args\": [[\"2020-03-29\"], {\"frame\": {\"duration\": 0, \"redraw\": true}, \"fromcurrent\": true, \"mode\": \"immediate\", \"transition\": {\"duration\": 0, \"easing\": \"linear\"}}], \"label\": \"2020-03-29\", \"method\": \"animate\"}, {\"args\": [[\"2020-03-30\"], {\"frame\": {\"duration\": 0, \"redraw\": true}, \"fromcurrent\": true, \"mode\": \"immediate\", \"transition\": {\"duration\": 0, \"easing\": \"linear\"}}], \"label\": \"2020-03-30\", \"method\": \"animate\"}, {\"args\": [[\"2020-03-31\"], {\"frame\": {\"duration\": 0, \"redraw\": true}, \"fromcurrent\": true, \"mode\": \"immediate\", \"transition\": {\"duration\": 0, \"easing\": \"linear\"}}], \"label\": \"2020-03-31\", \"method\": \"animate\"}, {\"args\": [[\"2020-04-01\"], {\"frame\": {\"duration\": 0, \"redraw\": true}, \"fromcurrent\": true, \"mode\": \"immediate\", \"transition\": {\"duration\": 0, \"easing\": \"linear\"}}], \"label\": \"2020-04-01\", \"method\": \"animate\"}, {\"args\": [[\"2020-04-02\"], {\"frame\": {\"duration\": 0, \"redraw\": true}, \"fromcurrent\": true, \"mode\": \"immediate\", \"transition\": {\"duration\": 0, \"easing\": \"linear\"}}], \"label\": \"2020-04-02\", \"method\": \"animate\"}, {\"args\": [[\"2020-04-03\"], {\"frame\": {\"duration\": 0, \"redraw\": true}, \"fromcurrent\": true, \"mode\": \"immediate\", \"transition\": {\"duration\": 0, \"easing\": \"linear\"}}], \"label\": \"2020-04-03\", \"method\": \"animate\"}, {\"args\": [[\"2020-04-04\"], {\"frame\": {\"duration\": 0, \"redraw\": true}, \"fromcurrent\": true, \"mode\": \"immediate\", \"transition\": {\"duration\": 0, \"easing\": \"linear\"}}], \"label\": \"2020-04-04\", \"method\": \"animate\"}, {\"args\": [[\"2020-04-05\"], {\"frame\": {\"duration\": 0, \"redraw\": true}, \"fromcurrent\": true, \"mode\": \"immediate\", \"transition\": {\"duration\": 0, \"easing\": \"linear\"}}], \"label\": \"2020-04-05\", \"method\": \"animate\"}, {\"args\": [[\"2020-04-06\"], {\"frame\": {\"duration\": 0, \"redraw\": true}, \"fromcurrent\": true, \"mode\": \"immediate\", \"transition\": {\"duration\": 0, \"easing\": \"linear\"}}], \"label\": \"2020-04-06\", \"method\": \"animate\"}, {\"args\": [[\"2020-04-07\"], {\"frame\": {\"duration\": 0, \"redraw\": true}, \"fromcurrent\": true, \"mode\": \"immediate\", \"transition\": {\"duration\": 0, \"easing\": \"linear\"}}], \"label\": \"2020-04-07\", \"method\": \"animate\"}, {\"args\": [[\"2020-04-08\"], {\"frame\": {\"duration\": 0, \"redraw\": true}, \"fromcurrent\": true, \"mode\": \"immediate\", \"transition\": {\"duration\": 0, \"easing\": \"linear\"}}], \"label\": \"2020-04-08\", \"method\": \"animate\"}, {\"args\": [[\"2020-04-09\"], {\"frame\": {\"duration\": 0, \"redraw\": true}, \"fromcurrent\": true, \"mode\": \"immediate\", \"transition\": {\"duration\": 0, \"easing\": \"linear\"}}], \"label\": \"2020-04-09\", \"method\": \"animate\"}, {\"args\": [[\"2020-04-10\"], {\"frame\": {\"duration\": 0, \"redraw\": true}, \"fromcurrent\": true, \"mode\": \"immediate\", \"transition\": {\"duration\": 0, \"easing\": \"linear\"}}], \"label\": \"2020-04-10\", \"method\": \"animate\"}, {\"args\": [[\"2020-04-11\"], {\"frame\": {\"duration\": 0, \"redraw\": true}, \"fromcurrent\": true, \"mode\": \"immediate\", \"transition\": {\"duration\": 0, \"easing\": \"linear\"}}], \"label\": \"2020-04-11\", \"method\": \"animate\"}, {\"args\": [[\"2020-04-12\"], {\"frame\": {\"duration\": 0, \"redraw\": true}, \"fromcurrent\": true, \"mode\": \"immediate\", \"transition\": {\"duration\": 0, \"easing\": \"linear\"}}], \"label\": \"2020-04-12\", \"method\": \"animate\"}], \"x\": 0.1, \"xanchor\": \"left\", \"y\": 0, \"yanchor\": \"top\"}], \"template\": {\"data\": {\"bar\": [{\"error_x\": {\"color\": \"#2a3f5f\"}, \"error_y\": {\"color\": \"#2a3f5f\"}, \"marker\": {\"line\": {\"color\": \"#E5ECF6\", \"width\": 0.5}}, \"type\": \"bar\"}], \"barpolar\": [{\"marker\": {\"line\": {\"color\": \"#E5ECF6\", \"width\": 0.5}}, \"type\": \"barpolar\"}], \"carpet\": [{\"aaxis\": {\"endlinecolor\": \"#2a3f5f\", \"gridcolor\": \"white\", \"linecolor\": \"white\", \"minorgridcolor\": \"white\", \"startlinecolor\": \"#2a3f5f\"}, \"baxis\": {\"endlinecolor\": \"#2a3f5f\", \"gridcolor\": \"white\", \"linecolor\": \"white\", \"minorgridcolor\": \"white\", \"startlinecolor\": \"#2a3f5f\"}, \"type\": \"carpet\"}], \"choropleth\": [{\"colorbar\": {\"outlinewidth\": 0, \"ticks\": \"\"}, \"type\": \"choropleth\"}], \"contour\": [{\"colorbar\": {\"outlinewidth\": 0, \"ticks\": \"\"}, \"colorscale\": [[0.0, \"#0d0887\"], [0.1111111111111111, \"#46039f\"], [0.2222222222222222, \"#7201a8\"], [0.3333333333333333, \"#9c179e\"], [0.4444444444444444, \"#bd3786\"], [0.5555555555555556, \"#d8576b\"], [0.6666666666666666, \"#ed7953\"], [0.7777777777777778, \"#fb9f3a\"], [0.8888888888888888, \"#fdca26\"], [1.0, \"#f0f921\"]], \"type\": \"contour\"}], \"contourcarpet\": [{\"colorbar\": {\"outlinewidth\": 0, \"ticks\": \"\"}, \"type\": \"contourcarpet\"}], \"heatmap\": [{\"colorbar\": {\"outlinewidth\": 0, \"ticks\": \"\"}, \"colorscale\": [[0.0, \"#0d0887\"], [0.1111111111111111, \"#46039f\"], [0.2222222222222222, \"#7201a8\"], [0.3333333333333333, \"#9c179e\"], [0.4444444444444444, \"#bd3786\"], [0.5555555555555556, \"#d8576b\"], [0.6666666666666666, \"#ed7953\"], [0.7777777777777778, \"#fb9f3a\"], [0.8888888888888888, \"#fdca26\"], [1.0, \"#f0f921\"]], \"type\": \"heatmap\"}], \"heatmapgl\": [{\"colorbar\": {\"outlinewidth\": 0, \"ticks\": \"\"}, \"colorscale\": [[0.0, \"#0d0887\"], [0.1111111111111111, \"#46039f\"], [0.2222222222222222, \"#7201a8\"], [0.3333333333333333, \"#9c179e\"], [0.4444444444444444, \"#bd3786\"], [0.5555555555555556, \"#d8576b\"], [0.6666666666666666, \"#ed7953\"], [0.7777777777777778, \"#fb9f3a\"], [0.8888888888888888, \"#fdca26\"], [1.0, \"#f0f921\"]], \"type\": \"heatmapgl\"}], \"histogram\": [{\"marker\": {\"colorbar\": {\"outlinewidth\": 0, \"ticks\": \"\"}}, \"type\": \"histogram\"}], \"histogram2d\": [{\"colorbar\": {\"outlinewidth\": 0, \"ticks\": \"\"}, \"colorscale\": [[0.0, \"#0d0887\"], [0.1111111111111111, \"#46039f\"], [0.2222222222222222, \"#7201a8\"], [0.3333333333333333, \"#9c179e\"], [0.4444444444444444, \"#bd3786\"], [0.5555555555555556, \"#d8576b\"], [0.6666666666666666, \"#ed7953\"], [0.7777777777777778, \"#fb9f3a\"], [0.8888888888888888, \"#fdca26\"], [1.0, \"#f0f921\"]], \"type\": \"histogram2d\"}], \"histogram2dcontour\": [{\"colorbar\": {\"outlinewidth\": 0, \"ticks\": \"\"}, \"colorscale\": [[0.0, \"#0d0887\"], [0.1111111111111111, \"#46039f\"], [0.2222222222222222, \"#7201a8\"], [0.3333333333333333, \"#9c179e\"], [0.4444444444444444, \"#bd3786\"], [0.5555555555555556, \"#d8576b\"], [0.6666666666666666, \"#ed7953\"], [0.7777777777777778, \"#fb9f3a\"], [0.8888888888888888, \"#fdca26\"], [1.0, \"#f0f921\"]], \"type\": \"histogram2dcontour\"}], \"mesh3d\": [{\"colorbar\": {\"outlinewidth\": 0, \"ticks\": \"\"}, \"type\": \"mesh3d\"}], \"parcoords\": [{\"line\": {\"colorbar\": {\"outlinewidth\": 0, \"ticks\": \"\"}}, \"type\": \"parcoords\"}], \"pie\": [{\"automargin\": true, \"type\": \"pie\"}], \"scatter\": [{\"marker\": {\"colorbar\": {\"outlinewidth\": 0, \"ticks\": \"\"}}, \"type\": \"scatter\"}], \"scatter3d\": [{\"line\": {\"colorbar\": {\"outlinewidth\": 0, \"ticks\": \"\"}}, \"marker\": {\"colorbar\": {\"outlinewidth\": 0, \"ticks\": \"\"}}, \"type\": \"scatter3d\"}], \"scattercarpet\": [{\"marker\": {\"colorbar\": {\"outlinewidth\": 0, \"ticks\": \"\"}}, \"type\": \"scattercarpet\"}], \"scattergeo\": [{\"marker\": {\"colorbar\": {\"outlinewidth\": 0, \"ticks\": \"\"}}, \"type\": \"scattergeo\"}], \"scattergl\": [{\"marker\": {\"colorbar\": {\"outlinewidth\": 0, \"ticks\": \"\"}}, \"type\": \"scattergl\"}], \"scattermapbox\": [{\"marker\": {\"colorbar\": {\"outlinewidth\": 0, \"ticks\": \"\"}}, \"type\": \"scattermapbox\"}], \"scatterpolar\": [{\"marker\": {\"colorbar\": {\"outlinewidth\": 0, \"ticks\": \"\"}}, \"type\": \"scatterpolar\"}], \"scatterpolargl\": [{\"marker\": {\"colorbar\": {\"outlinewidth\": 0, \"ticks\": \"\"}}, \"type\": \"scatterpolargl\"}], \"scatterternary\": [{\"marker\": {\"colorbar\": {\"outlinewidth\": 0, \"ticks\": \"\"}}, \"type\": \"scatterternary\"}], \"surface\": [{\"colorbar\": {\"outlinewidth\": 0, \"ticks\": \"\"}, \"colorscale\": [[0.0, \"#0d0887\"], [0.1111111111111111, \"#46039f\"], [0.2222222222222222, \"#7201a8\"], [0.3333333333333333, \"#9c179e\"], [0.4444444444444444, \"#bd3786\"], [0.5555555555555556, \"#d8576b\"], [0.6666666666666666, \"#ed7953\"], [0.7777777777777778, \"#fb9f3a\"], [0.8888888888888888, \"#fdca26\"], [1.0, \"#f0f921\"]], \"type\": \"surface\"}], \"table\": [{\"cells\": {\"fill\": {\"color\": \"#EBF0F8\"}, \"line\": {\"color\": \"white\"}}, \"header\": {\"fill\": {\"color\": \"#C8D4E3\"}, \"line\": {\"color\": \"white\"}}, \"type\": \"table\"}]}, \"layout\": {\"annotationdefaults\": {\"arrowcolor\": \"#2a3f5f\", \"arrowhead\": 0, \"arrowwidth\": 1}, \"coloraxis\": {\"colorbar\": {\"outlinewidth\": 0, \"ticks\": \"\"}}, \"colorscale\": {\"diverging\": [[0, \"#8e0152\"], [0.1, \"#c51b7d\"], [0.2, \"#de77ae\"], [0.3, \"#f1b6da\"], [0.4, \"#fde0ef\"], [0.5, \"#f7f7f7\"], [0.6, \"#e6f5d0\"], [0.7, \"#b8e186\"], [0.8, \"#7fbc41\"], [0.9, \"#4d9221\"], [1, \"#276419\"]], \"sequential\": [[0.0, \"#0d0887\"], [0.1111111111111111, \"#46039f\"], [0.2222222222222222, \"#7201a8\"], [0.3333333333333333, \"#9c179e\"], [0.4444444444444444, \"#bd3786\"], [0.5555555555555556, \"#d8576b\"], [0.6666666666666666, \"#ed7953\"], [0.7777777777777778, \"#fb9f3a\"], [0.8888888888888888, \"#fdca26\"], [1.0, \"#f0f921\"]], \"sequentialminus\": [[0.0, \"#0d0887\"], [0.1111111111111111, \"#46039f\"], [0.2222222222222222, \"#7201a8\"], [0.3333333333333333, \"#9c179e\"], [0.4444444444444444, \"#bd3786\"], [0.5555555555555556, \"#d8576b\"], [0.6666666666666666, \"#ed7953\"], [0.7777777777777778, \"#fb9f3a\"], [0.8888888888888888, \"#fdca26\"], [1.0, \"#f0f921\"]]}, \"colorway\": [\"#636efa\", \"#EF553B\", \"#00cc96\", \"#ab63fa\", \"#FFA15A\", \"#19d3f3\", \"#FF6692\", \"#B6E880\", \"#FF97FF\", \"#FECB52\"], \"font\": {\"color\": \"#2a3f5f\"}, \"geo\": {\"bgcolor\": \"white\", \"lakecolor\": \"white\", \"landcolor\": \"#E5ECF6\", \"showlakes\": true, \"showland\": true, \"subunitcolor\": \"white\"}, \"hoverlabel\": {\"align\": \"left\"}, \"hovermode\": \"closest\", \"mapbox\": {\"style\": \"light\"}, \"paper_bgcolor\": \"white\", \"plot_bgcolor\": \"#E5ECF6\", \"polar\": {\"angularaxis\": {\"gridcolor\": \"white\", \"linecolor\": \"white\", \"ticks\": \"\"}, \"bgcolor\": \"#E5ECF6\", \"radialaxis\": {\"gridcolor\": \"white\", \"linecolor\": \"white\", \"ticks\": \"\"}}, \"scene\": {\"xaxis\": {\"backgroundcolor\": \"#E5ECF6\", \"gridcolor\": \"white\", \"gridwidth\": 2, \"linecolor\": \"white\", \"showbackground\": true, \"ticks\": \"\", \"zerolinecolor\": \"white\"}, \"yaxis\": {\"backgroundcolor\": \"#E5ECF6\", \"gridcolor\": \"white\", \"gridwidth\": 2, \"linecolor\": \"white\", \"showbackground\": true, \"ticks\": \"\", \"zerolinecolor\": \"white\"}, \"zaxis\": {\"backgroundcolor\": \"#E5ECF6\", \"gridcolor\": \"white\", \"gridwidth\": 2, \"linecolor\": \"white\", \"showbackground\": true, \"ticks\": \"\", \"zerolinecolor\": \"white\"}}, \"shapedefaults\": {\"line\": {\"color\": \"#2a3f5f\"}}, \"ternary\": {\"aaxis\": {\"gridcolor\": \"white\", \"linecolor\": \"white\", \"ticks\": \"\"}, \"baxis\": {\"gridcolor\": \"white\", \"linecolor\": \"white\", \"ticks\": \"\"}, \"bgcolor\": \"#E5ECF6\", \"caxis\": {\"gridcolor\": \"white\", \"linecolor\": \"white\", \"ticks\": \"\"}}, \"title\": {\"x\": 0.05}, \"xaxis\": {\"automargin\": true, \"gridcolor\": \"white\", \"linecolor\": \"white\", \"ticks\": \"\", \"title\": {\"standoff\": 15}, \"zerolinecolor\": \"white\", \"zerolinewidth\": 2}, \"yaxis\": {\"automargin\": true, \"gridcolor\": \"white\", \"linecolor\": \"white\", \"ticks\": \"\", \"title\": {\"standoff\": 15}, \"zerolinecolor\": \"white\", \"zerolinewidth\": 2}}}, \"title\": {\"text\": \"Inferenced Peoples In Seoul City With Animation Bar Plot\"}, \"updatemenus\": [{\"buttons\": [{\"args\": [null, {\"frame\": {\"duration\": 500, \"redraw\": true}, \"fromcurrent\": true, \"mode\": \"immediate\", \"transition\": {\"duration\": 500, \"easing\": \"linear\"}}], \"label\": \"&#9654;\", \"method\": \"animate\"}, {\"args\": [[null], {\"frame\": {\"duration\": 0, \"redraw\": true}, \"fromcurrent\": true, \"mode\": \"immediate\", \"transition\": {\"duration\": 0, \"easing\": \"linear\"}}], \"label\": \"&#9724;\", \"method\": \"animate\"}], \"direction\": \"left\", \"pad\": {\"r\": 10, \"t\": 70}, \"showactive\": false, \"type\": \"buttons\", \"x\": 0.1, \"xanchor\": \"right\", \"y\": 0, \"yanchor\": \"top\"}], \"xaxis\": {\"anchor\": \"y\", \"domain\": [0.0, 1.0], \"tickangle\": 45, \"title\": {\"text\": \"Time Axis\"}}, \"yaxis\": {\"anchor\": \"x\", \"domain\": [0.0, 1.0], \"range\": [0, 27.0], \"tickangle\": 15, \"ticksuffix\": \"\\uba85\", \"title\": {\"text\": \"Inferenced Peoples\"}}},\n",
       "                        {\"responsive\": true}\n",
       "                    ).then(function(){\n",
       "                            Plotly.addFrames('ca73b996-bb66-4daf-8ae0-742208980dfb', [{\"data\": [{\"alignmentgroup\": \"True\", \"hovertemplate\": \"confirmed_date=2020-01-20<br>city=%{x}<br>cum_count=%{y}<extra></extra>\", \"ids\": [\"\\uac15\\ud654\\uad70\", \"\\uacc4\\uc591\\uad6c\", \"\\uae30\\ud0c0\", \"\\ub0a8\\ub3d9\\uad6c\", \"\\ub3d9\\uad6c\", \"\\ubbf8\\ucd94\\ud640\\uad6c\", \"\\ubd80\\ud3c9\\uad6c\", \"\\uc11c\\uad6c\", \"\\uc5f0\\uc218\\uad6c\", \"\\uc911\\uad6c\"], \"legendgroup\": \"\", \"marker\": {\"color\": \"#636efa\"}, \"name\": \"\", \"offsetgroup\": \"\", \"orientation\": \"v\", \"showlegend\": false, \"textposition\": \"auto\", \"x\": [\"\\uac15\\ud654\\uad70\", \"\\uacc4\\uc591\\uad6c\", \"\\uae30\\ud0c0\", \"\\ub0a8\\ub3d9\\uad6c\", \"\\ub3d9\\uad6c\", \"\\ubbf8\\ucd94\\ud640\\uad6c\", \"\\ubd80\\ud3c9\\uad6c\", \"\\uc11c\\uad6c\", \"\\uc5f0\\uc218\\uad6c\", \"\\uc911\\uad6c\"], \"xaxis\": \"x\", \"y\": [0.0, 0.0, 1.0, 0.0, 0.0, 0.0, 0.0, 0.0, 0.0, 0.0], \"yaxis\": \"y\", \"type\": \"bar\"}], \"name\": \"2020-01-20\"}, {\"data\": [{\"alignmentgroup\": \"True\", \"hovertemplate\": \"confirmed_date=2020-01-21<br>city=%{x}<br>cum_count=%{y}<extra></extra>\", \"ids\": [\"\\uac15\\ud654\\uad70\", \"\\uacc4\\uc591\\uad6c\", \"\\uae30\\ud0c0\", \"\\ub0a8\\ub3d9\\uad6c\", \"\\ub3d9\\uad6c\", \"\\ubbf8\\ucd94\\ud640\\uad6c\", \"\\ubd80\\ud3c9\\uad6c\", \"\\uc11c\\uad6c\", \"\\uc5f0\\uc218\\uad6c\", \"\\uc911\\uad6c\"], \"legendgroup\": \"\", \"marker\": {\"color\": \"#636efa\"}, \"name\": \"\", \"offsetgroup\": \"\", \"orientation\": \"v\", \"showlegend\": false, \"textposition\": \"auto\", \"x\": [\"\\uac15\\ud654\\uad70\", \"\\uacc4\\uc591\\uad6c\", \"\\uae30\\ud0c0\", \"\\ub0a8\\ub3d9\\uad6c\", \"\\ub3d9\\uad6c\", \"\\ubbf8\\ucd94\\ud640\\uad6c\", \"\\ubd80\\ud3c9\\uad6c\", \"\\uc11c\\uad6c\", \"\\uc5f0\\uc218\\uad6c\", \"\\uc911\\uad6c\"], \"xaxis\": \"x\", \"y\": [0.0, 0.0, 1.0, 0.0, 0.0, 0.0, 0.0, 0.0, 0.0, 0.0], \"yaxis\": \"y\", \"type\": \"bar\"}], \"name\": \"2020-01-21\"}, {\"data\": [{\"alignmentgroup\": \"True\", \"hovertemplate\": \"confirmed_date=2020-01-22<br>city=%{x}<br>cum_count=%{y}<extra></extra>\", \"ids\": [\"\\uac15\\ud654\\uad70\", \"\\uacc4\\uc591\\uad6c\", \"\\uae30\\ud0c0\", \"\\ub0a8\\ub3d9\\uad6c\", \"\\ub3d9\\uad6c\", \"\\ubbf8\\ucd94\\ud640\\uad6c\", \"\\ubd80\\ud3c9\\uad6c\", \"\\uc11c\\uad6c\", \"\\uc5f0\\uc218\\uad6c\", \"\\uc911\\uad6c\"], \"legendgroup\": \"\", \"marker\": {\"color\": \"#636efa\"}, \"name\": \"\", \"offsetgroup\": \"\", \"orientation\": \"v\", \"showlegend\": false, \"textposition\": \"auto\", \"x\": [\"\\uac15\\ud654\\uad70\", \"\\uacc4\\uc591\\uad6c\", \"\\uae30\\ud0c0\", \"\\ub0a8\\ub3d9\\uad6c\", \"\\ub3d9\\uad6c\", \"\\ubbf8\\ucd94\\ud640\\uad6c\", \"\\ubd80\\ud3c9\\uad6c\", \"\\uc11c\\uad6c\", \"\\uc5f0\\uc218\\uad6c\", \"\\uc911\\uad6c\"], \"xaxis\": \"x\", \"y\": [0.0, 0.0, 1.0, 0.0, 0.0, 0.0, 0.0, 0.0, 0.0, 0.0], \"yaxis\": \"y\", \"type\": \"bar\"}], \"name\": \"2020-01-22\"}, {\"data\": [{\"alignmentgroup\": \"True\", \"hovertemplate\": \"confirmed_date=2020-01-23<br>city=%{x}<br>cum_count=%{y}<extra></extra>\", \"ids\": [\"\\uac15\\ud654\\uad70\", \"\\uacc4\\uc591\\uad6c\", \"\\uae30\\ud0c0\", \"\\ub0a8\\ub3d9\\uad6c\", \"\\ub3d9\\uad6c\", \"\\ubbf8\\ucd94\\ud640\\uad6c\", \"\\ubd80\\ud3c9\\uad6c\", \"\\uc11c\\uad6c\", \"\\uc5f0\\uc218\\uad6c\", \"\\uc911\\uad6c\"], \"legendgroup\": \"\", \"marker\": {\"color\": \"#636efa\"}, \"name\": \"\", \"offsetgroup\": \"\", \"orientation\": \"v\", \"showlegend\": false, \"textposition\": \"auto\", \"x\": [\"\\uac15\\ud654\\uad70\", \"\\uacc4\\uc591\\uad6c\", \"\\uae30\\ud0c0\", \"\\ub0a8\\ub3d9\\uad6c\", \"\\ub3d9\\uad6c\", \"\\ubbf8\\ucd94\\ud640\\uad6c\", \"\\ubd80\\ud3c9\\uad6c\", \"\\uc11c\\uad6c\", \"\\uc5f0\\uc218\\uad6c\", \"\\uc911\\uad6c\"], \"xaxis\": \"x\", \"y\": [0.0, 0.0, 1.0, 0.0, 0.0, 0.0, 0.0, 0.0, 0.0, 0.0], \"yaxis\": \"y\", \"type\": \"bar\"}], \"name\": \"2020-01-23\"}, {\"data\": [{\"alignmentgroup\": \"True\", \"hovertemplate\": \"confirmed_date=2020-01-24<br>city=%{x}<br>cum_count=%{y}<extra></extra>\", \"ids\": [\"\\uac15\\ud654\\uad70\", \"\\uacc4\\uc591\\uad6c\", \"\\uae30\\ud0c0\", \"\\ub0a8\\ub3d9\\uad6c\", \"\\ub3d9\\uad6c\", \"\\ubbf8\\ucd94\\ud640\\uad6c\", \"\\ubd80\\ud3c9\\uad6c\", \"\\uc11c\\uad6c\", \"\\uc5f0\\uc218\\uad6c\", \"\\uc911\\uad6c\"], \"legendgroup\": \"\", \"marker\": {\"color\": \"#636efa\"}, \"name\": \"\", \"offsetgroup\": \"\", \"orientation\": \"v\", \"showlegend\": false, \"textposition\": \"auto\", \"x\": [\"\\uac15\\ud654\\uad70\", \"\\uacc4\\uc591\\uad6c\", \"\\uae30\\ud0c0\", \"\\ub0a8\\ub3d9\\uad6c\", \"\\ub3d9\\uad6c\", \"\\ubbf8\\ucd94\\ud640\\uad6c\", \"\\ubd80\\ud3c9\\uad6c\", \"\\uc11c\\uad6c\", \"\\uc5f0\\uc218\\uad6c\", \"\\uc911\\uad6c\"], \"xaxis\": \"x\", \"y\": [0.0, 0.0, 1.0, 0.0, 0.0, 0.0, 0.0, 0.0, 0.0, 0.0], \"yaxis\": \"y\", \"type\": \"bar\"}], \"name\": \"2020-01-24\"}, {\"data\": [{\"alignmentgroup\": \"True\", \"hovertemplate\": \"confirmed_date=2020-01-25<br>city=%{x}<br>cum_count=%{y}<extra></extra>\", \"ids\": [\"\\uac15\\ud654\\uad70\", \"\\uacc4\\uc591\\uad6c\", \"\\uae30\\ud0c0\", \"\\ub0a8\\ub3d9\\uad6c\", \"\\ub3d9\\uad6c\", \"\\ubbf8\\ucd94\\ud640\\uad6c\", \"\\ubd80\\ud3c9\\uad6c\", \"\\uc11c\\uad6c\", \"\\uc5f0\\uc218\\uad6c\", \"\\uc911\\uad6c\"], \"legendgroup\": \"\", \"marker\": {\"color\": \"#636efa\"}, \"name\": \"\", \"offsetgroup\": \"\", \"orientation\": \"v\", \"showlegend\": false, \"textposition\": \"auto\", \"x\": [\"\\uac15\\ud654\\uad70\", \"\\uacc4\\uc591\\uad6c\", \"\\uae30\\ud0c0\", \"\\ub0a8\\ub3d9\\uad6c\", \"\\ub3d9\\uad6c\", \"\\ubbf8\\ucd94\\ud640\\uad6c\", \"\\ubd80\\ud3c9\\uad6c\", \"\\uc11c\\uad6c\", \"\\uc5f0\\uc218\\uad6c\", \"\\uc911\\uad6c\"], \"xaxis\": \"x\", \"y\": [0.0, 0.0, 1.0, 0.0, 0.0, 0.0, 0.0, 0.0, 0.0, 0.0], \"yaxis\": \"y\", \"type\": \"bar\"}], \"name\": \"2020-01-25\"}, {\"data\": [{\"alignmentgroup\": \"True\", \"hovertemplate\": \"confirmed_date=2020-01-26<br>city=%{x}<br>cum_count=%{y}<extra></extra>\", \"ids\": [\"\\uac15\\ud654\\uad70\", \"\\uacc4\\uc591\\uad6c\", \"\\uae30\\ud0c0\", \"\\ub0a8\\ub3d9\\uad6c\", \"\\ub3d9\\uad6c\", \"\\ubbf8\\ucd94\\ud640\\uad6c\", \"\\ubd80\\ud3c9\\uad6c\", \"\\uc11c\\uad6c\", \"\\uc5f0\\uc218\\uad6c\", \"\\uc911\\uad6c\"], \"legendgroup\": \"\", \"marker\": {\"color\": \"#636efa\"}, \"name\": \"\", \"offsetgroup\": \"\", \"orientation\": \"v\", \"showlegend\": false, \"textposition\": \"auto\", \"x\": [\"\\uac15\\ud654\\uad70\", \"\\uacc4\\uc591\\uad6c\", \"\\uae30\\ud0c0\", \"\\ub0a8\\ub3d9\\uad6c\", \"\\ub3d9\\uad6c\", \"\\ubbf8\\ucd94\\ud640\\uad6c\", \"\\ubd80\\ud3c9\\uad6c\", \"\\uc11c\\uad6c\", \"\\uc5f0\\uc218\\uad6c\", \"\\uc911\\uad6c\"], \"xaxis\": \"x\", \"y\": [0.0, 0.0, 1.0, 0.0, 0.0, 0.0, 0.0, 0.0, 0.0, 0.0], \"yaxis\": \"y\", \"type\": \"bar\"}], \"name\": \"2020-01-26\"}, {\"data\": [{\"alignmentgroup\": \"True\", \"hovertemplate\": \"confirmed_date=2020-01-27<br>city=%{x}<br>cum_count=%{y}<extra></extra>\", \"ids\": [\"\\uac15\\ud654\\uad70\", \"\\uacc4\\uc591\\uad6c\", \"\\uae30\\ud0c0\", \"\\ub0a8\\ub3d9\\uad6c\", \"\\ub3d9\\uad6c\", \"\\ubbf8\\ucd94\\ud640\\uad6c\", \"\\ubd80\\ud3c9\\uad6c\", \"\\uc11c\\uad6c\", \"\\uc5f0\\uc218\\uad6c\", \"\\uc911\\uad6c\"], \"legendgroup\": \"\", \"marker\": {\"color\": \"#636efa\"}, \"name\": \"\", \"offsetgroup\": \"\", \"orientation\": \"v\", \"showlegend\": false, \"textposition\": \"auto\", \"x\": [\"\\uac15\\ud654\\uad70\", \"\\uacc4\\uc591\\uad6c\", \"\\uae30\\ud0c0\", \"\\ub0a8\\ub3d9\\uad6c\", \"\\ub3d9\\uad6c\", \"\\ubbf8\\ucd94\\ud640\\uad6c\", \"\\ubd80\\ud3c9\\uad6c\", \"\\uc11c\\uad6c\", \"\\uc5f0\\uc218\\uad6c\", \"\\uc911\\uad6c\"], \"xaxis\": \"x\", \"y\": [0.0, 0.0, 1.0, 0.0, 0.0, 0.0, 0.0, 0.0, 0.0, 0.0], \"yaxis\": \"y\", \"type\": \"bar\"}], \"name\": \"2020-01-27\"}, {\"data\": [{\"alignmentgroup\": \"True\", \"hovertemplate\": \"confirmed_date=2020-01-28<br>city=%{x}<br>cum_count=%{y}<extra></extra>\", \"ids\": [\"\\uac15\\ud654\\uad70\", \"\\uacc4\\uc591\\uad6c\", \"\\uae30\\ud0c0\", \"\\ub0a8\\ub3d9\\uad6c\", \"\\ub3d9\\uad6c\", \"\\ubbf8\\ucd94\\ud640\\uad6c\", \"\\ubd80\\ud3c9\\uad6c\", \"\\uc11c\\uad6c\", \"\\uc5f0\\uc218\\uad6c\", \"\\uc911\\uad6c\"], \"legendgroup\": \"\", \"marker\": {\"color\": \"#636efa\"}, \"name\": \"\", \"offsetgroup\": \"\", \"orientation\": \"v\", \"showlegend\": false, \"textposition\": \"auto\", \"x\": [\"\\uac15\\ud654\\uad70\", \"\\uacc4\\uc591\\uad6c\", \"\\uae30\\ud0c0\", \"\\ub0a8\\ub3d9\\uad6c\", \"\\ub3d9\\uad6c\", \"\\ubbf8\\ucd94\\ud640\\uad6c\", \"\\ubd80\\ud3c9\\uad6c\", \"\\uc11c\\uad6c\", \"\\uc5f0\\uc218\\uad6c\", \"\\uc911\\uad6c\"], \"xaxis\": \"x\", \"y\": [0.0, 0.0, 1.0, 0.0, 0.0, 0.0, 0.0, 0.0, 0.0, 0.0], \"yaxis\": \"y\", \"type\": \"bar\"}], \"name\": \"2020-01-28\"}, {\"data\": [{\"alignmentgroup\": \"True\", \"hovertemplate\": \"confirmed_date=2020-01-29<br>city=%{x}<br>cum_count=%{y}<extra></extra>\", \"ids\": [\"\\uac15\\ud654\\uad70\", \"\\uacc4\\uc591\\uad6c\", \"\\uae30\\ud0c0\", \"\\ub0a8\\ub3d9\\uad6c\", \"\\ub3d9\\uad6c\", \"\\ubbf8\\ucd94\\ud640\\uad6c\", \"\\ubd80\\ud3c9\\uad6c\", \"\\uc11c\\uad6c\", \"\\uc5f0\\uc218\\uad6c\", \"\\uc911\\uad6c\"], \"legendgroup\": \"\", \"marker\": {\"color\": \"#636efa\"}, \"name\": \"\", \"offsetgroup\": \"\", \"orientation\": \"v\", \"showlegend\": false, \"textposition\": \"auto\", \"x\": [\"\\uac15\\ud654\\uad70\", \"\\uacc4\\uc591\\uad6c\", \"\\uae30\\ud0c0\", \"\\ub0a8\\ub3d9\\uad6c\", \"\\ub3d9\\uad6c\", \"\\ubbf8\\ucd94\\ud640\\uad6c\", \"\\ubd80\\ud3c9\\uad6c\", \"\\uc11c\\uad6c\", \"\\uc5f0\\uc218\\uad6c\", \"\\uc911\\uad6c\"], \"xaxis\": \"x\", \"y\": [0.0, 0.0, 1.0, 0.0, 0.0, 0.0, 0.0, 0.0, 0.0, 0.0], \"yaxis\": \"y\", \"type\": \"bar\"}], \"name\": \"2020-01-29\"}, {\"data\": [{\"alignmentgroup\": \"True\", \"hovertemplate\": \"confirmed_date=2020-01-30<br>city=%{x}<br>cum_count=%{y}<extra></extra>\", \"ids\": [\"\\uac15\\ud654\\uad70\", \"\\uacc4\\uc591\\uad6c\", \"\\uae30\\ud0c0\", \"\\ub0a8\\ub3d9\\uad6c\", \"\\ub3d9\\uad6c\", \"\\ubbf8\\ucd94\\ud640\\uad6c\", \"\\ubd80\\ud3c9\\uad6c\", \"\\uc11c\\uad6c\", \"\\uc5f0\\uc218\\uad6c\", \"\\uc911\\uad6c\"], \"legendgroup\": \"\", \"marker\": {\"color\": \"#636efa\"}, \"name\": \"\", \"offsetgroup\": \"\", \"orientation\": \"v\", \"showlegend\": false, \"textposition\": \"auto\", \"x\": [\"\\uac15\\ud654\\uad70\", \"\\uacc4\\uc591\\uad6c\", \"\\uae30\\ud0c0\", \"\\ub0a8\\ub3d9\\uad6c\", \"\\ub3d9\\uad6c\", \"\\ubbf8\\ucd94\\ud640\\uad6c\", \"\\ubd80\\ud3c9\\uad6c\", \"\\uc11c\\uad6c\", \"\\uc5f0\\uc218\\uad6c\", \"\\uc911\\uad6c\"], \"xaxis\": \"x\", \"y\": [0.0, 0.0, 1.0, 0.0, 0.0, 0.0, 0.0, 0.0, 0.0, 0.0], \"yaxis\": \"y\", \"type\": \"bar\"}], \"name\": \"2020-01-30\"}, {\"data\": [{\"alignmentgroup\": \"True\", \"hovertemplate\": \"confirmed_date=2020-01-31<br>city=%{x}<br>cum_count=%{y}<extra></extra>\", \"ids\": [\"\\uac15\\ud654\\uad70\", \"\\uacc4\\uc591\\uad6c\", \"\\uae30\\ud0c0\", \"\\ub0a8\\ub3d9\\uad6c\", \"\\ub3d9\\uad6c\", \"\\ubbf8\\ucd94\\ud640\\uad6c\", \"\\ubd80\\ud3c9\\uad6c\", \"\\uc11c\\uad6c\", \"\\uc5f0\\uc218\\uad6c\", \"\\uc911\\uad6c\"], \"legendgroup\": \"\", \"marker\": {\"color\": \"#636efa\"}, \"name\": \"\", \"offsetgroup\": \"\", \"orientation\": \"v\", \"showlegend\": false, \"textposition\": \"auto\", \"x\": [\"\\uac15\\ud654\\uad70\", \"\\uacc4\\uc591\\uad6c\", \"\\uae30\\ud0c0\", \"\\ub0a8\\ub3d9\\uad6c\", \"\\ub3d9\\uad6c\", \"\\ubbf8\\ucd94\\ud640\\uad6c\", \"\\ubd80\\ud3c9\\uad6c\", \"\\uc11c\\uad6c\", \"\\uc5f0\\uc218\\uad6c\", \"\\uc911\\uad6c\"], \"xaxis\": \"x\", \"y\": [0.0, 0.0, 1.0, 0.0, 0.0, 0.0, 0.0, 0.0, 0.0, 0.0], \"yaxis\": \"y\", \"type\": \"bar\"}], \"name\": \"2020-01-31\"}, {\"data\": [{\"alignmentgroup\": \"True\", \"hovertemplate\": \"confirmed_date=2020-02-01<br>city=%{x}<br>cum_count=%{y}<extra></extra>\", \"ids\": [\"\\uac15\\ud654\\uad70\", \"\\uacc4\\uc591\\uad6c\", \"\\uae30\\ud0c0\", \"\\ub0a8\\ub3d9\\uad6c\", \"\\ub3d9\\uad6c\", \"\\ubbf8\\ucd94\\ud640\\uad6c\", \"\\ubd80\\ud3c9\\uad6c\", \"\\uc11c\\uad6c\", \"\\uc5f0\\uc218\\uad6c\", \"\\uc911\\uad6c\"], \"legendgroup\": \"\", \"marker\": {\"color\": \"#636efa\"}, \"name\": \"\", \"offsetgroup\": \"\", \"orientation\": \"v\", \"showlegend\": false, \"textposition\": \"auto\", \"x\": [\"\\uac15\\ud654\\uad70\", \"\\uacc4\\uc591\\uad6c\", \"\\uae30\\ud0c0\", \"\\ub0a8\\ub3d9\\uad6c\", \"\\ub3d9\\uad6c\", \"\\ubbf8\\ucd94\\ud640\\uad6c\", \"\\ubd80\\ud3c9\\uad6c\", \"\\uc11c\\uad6c\", \"\\uc5f0\\uc218\\uad6c\", \"\\uc911\\uad6c\"], \"xaxis\": \"x\", \"y\": [0.0, 0.0, 1.0, 0.0, 0.0, 0.0, 0.0, 0.0, 0.0, 0.0], \"yaxis\": \"y\", \"type\": \"bar\"}], \"name\": \"2020-02-01\"}, {\"data\": [{\"alignmentgroup\": \"True\", \"hovertemplate\": \"confirmed_date=2020-02-02<br>city=%{x}<br>cum_count=%{y}<extra></extra>\", \"ids\": [\"\\uac15\\ud654\\uad70\", \"\\uacc4\\uc591\\uad6c\", \"\\uae30\\ud0c0\", \"\\ub0a8\\ub3d9\\uad6c\", \"\\ub3d9\\uad6c\", \"\\ubbf8\\ucd94\\ud640\\uad6c\", \"\\ubd80\\ud3c9\\uad6c\", \"\\uc11c\\uad6c\", \"\\uc5f0\\uc218\\uad6c\", \"\\uc911\\uad6c\"], \"legendgroup\": \"\", \"marker\": {\"color\": \"#636efa\"}, \"name\": \"\", \"offsetgroup\": \"\", \"orientation\": \"v\", \"showlegend\": false, \"textposition\": \"auto\", \"x\": [\"\\uac15\\ud654\\uad70\", \"\\uacc4\\uc591\\uad6c\", \"\\uae30\\ud0c0\", \"\\ub0a8\\ub3d9\\uad6c\", \"\\ub3d9\\uad6c\", \"\\ubbf8\\ucd94\\ud640\\uad6c\", \"\\ubd80\\ud3c9\\uad6c\", \"\\uc11c\\uad6c\", \"\\uc5f0\\uc218\\uad6c\", \"\\uc911\\uad6c\"], \"xaxis\": \"x\", \"y\": [0.0, 0.0, 1.0, 0.0, 0.0, 0.0, 0.0, 0.0, 0.0, 0.0], \"yaxis\": \"y\", \"type\": \"bar\"}], \"name\": \"2020-02-02\"}, {\"data\": [{\"alignmentgroup\": \"True\", \"hovertemplate\": \"confirmed_date=2020-02-03<br>city=%{x}<br>cum_count=%{y}<extra></extra>\", \"ids\": [\"\\uac15\\ud654\\uad70\", \"\\uacc4\\uc591\\uad6c\", \"\\uae30\\ud0c0\", \"\\ub0a8\\ub3d9\\uad6c\", \"\\ub3d9\\uad6c\", \"\\ubbf8\\ucd94\\ud640\\uad6c\", \"\\ubd80\\ud3c9\\uad6c\", \"\\uc11c\\uad6c\", \"\\uc5f0\\uc218\\uad6c\", \"\\uc911\\uad6c\"], \"legendgroup\": \"\", \"marker\": {\"color\": \"#636efa\"}, \"name\": \"\", \"offsetgroup\": \"\", \"orientation\": \"v\", \"showlegend\": false, \"textposition\": \"auto\", \"x\": [\"\\uac15\\ud654\\uad70\", \"\\uacc4\\uc591\\uad6c\", \"\\uae30\\ud0c0\", \"\\ub0a8\\ub3d9\\uad6c\", \"\\ub3d9\\uad6c\", \"\\ubbf8\\ucd94\\ud640\\uad6c\", \"\\ubd80\\ud3c9\\uad6c\", \"\\uc11c\\uad6c\", \"\\uc5f0\\uc218\\uad6c\", \"\\uc911\\uad6c\"], \"xaxis\": \"x\", \"y\": [0.0, 0.0, 1.0, 0.0, 0.0, 0.0, 0.0, 0.0, 0.0, 0.0], \"yaxis\": \"y\", \"type\": \"bar\"}], \"name\": \"2020-02-03\"}, {\"data\": [{\"alignmentgroup\": \"True\", \"hovertemplate\": \"confirmed_date=2020-02-04<br>city=%{x}<br>cum_count=%{y}<extra></extra>\", \"ids\": [\"\\uac15\\ud654\\uad70\", \"\\uacc4\\uc591\\uad6c\", \"\\uae30\\ud0c0\", \"\\ub0a8\\ub3d9\\uad6c\", \"\\ub3d9\\uad6c\", \"\\ubbf8\\ucd94\\ud640\\uad6c\", \"\\ubd80\\ud3c9\\uad6c\", \"\\uc11c\\uad6c\", \"\\uc5f0\\uc218\\uad6c\", \"\\uc911\\uad6c\"], \"legendgroup\": \"\", \"marker\": {\"color\": \"#636efa\"}, \"name\": \"\", \"offsetgroup\": \"\", \"orientation\": \"v\", \"showlegend\": false, \"textposition\": \"auto\", \"x\": [\"\\uac15\\ud654\\uad70\", \"\\uacc4\\uc591\\uad6c\", \"\\uae30\\ud0c0\", \"\\ub0a8\\ub3d9\\uad6c\", \"\\ub3d9\\uad6c\", \"\\ubbf8\\ucd94\\ud640\\uad6c\", \"\\ubd80\\ud3c9\\uad6c\", \"\\uc11c\\uad6c\", \"\\uc5f0\\uc218\\uad6c\", \"\\uc911\\uad6c\"], \"xaxis\": \"x\", \"y\": [0.0, 0.0, 1.0, 0.0, 0.0, 0.0, 0.0, 0.0, 0.0, 0.0], \"yaxis\": \"y\", \"type\": \"bar\"}], \"name\": \"2020-02-04\"}, {\"data\": [{\"alignmentgroup\": \"True\", \"hovertemplate\": \"confirmed_date=2020-02-05<br>city=%{x}<br>cum_count=%{y}<extra></extra>\", \"ids\": [\"\\uac15\\ud654\\uad70\", \"\\uacc4\\uc591\\uad6c\", \"\\uae30\\ud0c0\", \"\\ub0a8\\ub3d9\\uad6c\", \"\\ub3d9\\uad6c\", \"\\ubbf8\\ucd94\\ud640\\uad6c\", \"\\ubd80\\ud3c9\\uad6c\", \"\\uc11c\\uad6c\", \"\\uc5f0\\uc218\\uad6c\", \"\\uc911\\uad6c\"], \"legendgroup\": \"\", \"marker\": {\"color\": \"#636efa\"}, \"name\": \"\", \"offsetgroup\": \"\", \"orientation\": \"v\", \"showlegend\": false, \"textposition\": \"auto\", \"x\": [\"\\uac15\\ud654\\uad70\", \"\\uacc4\\uc591\\uad6c\", \"\\uae30\\ud0c0\", \"\\ub0a8\\ub3d9\\uad6c\", \"\\ub3d9\\uad6c\", \"\\ubbf8\\ucd94\\ud640\\uad6c\", \"\\ubd80\\ud3c9\\uad6c\", \"\\uc11c\\uad6c\", \"\\uc5f0\\uc218\\uad6c\", \"\\uc911\\uad6c\"], \"xaxis\": \"x\", \"y\": [0.0, 0.0, 1.0, 0.0, 0.0, 0.0, 0.0, 0.0, 0.0, 0.0], \"yaxis\": \"y\", \"type\": \"bar\"}], \"name\": \"2020-02-05\"}, {\"data\": [{\"alignmentgroup\": \"True\", \"hovertemplate\": \"confirmed_date=2020-02-06<br>city=%{x}<br>cum_count=%{y}<extra></extra>\", \"ids\": [\"\\uac15\\ud654\\uad70\", \"\\uacc4\\uc591\\uad6c\", \"\\uae30\\ud0c0\", \"\\ub0a8\\ub3d9\\uad6c\", \"\\ub3d9\\uad6c\", \"\\ubbf8\\ucd94\\ud640\\uad6c\", \"\\ubd80\\ud3c9\\uad6c\", \"\\uc11c\\uad6c\", \"\\uc5f0\\uc218\\uad6c\", \"\\uc911\\uad6c\"], \"legendgroup\": \"\", \"marker\": {\"color\": \"#636efa\"}, \"name\": \"\", \"offsetgroup\": \"\", \"orientation\": \"v\", \"showlegend\": false, \"textposition\": \"auto\", \"x\": [\"\\uac15\\ud654\\uad70\", \"\\uacc4\\uc591\\uad6c\", \"\\uae30\\ud0c0\", \"\\ub0a8\\ub3d9\\uad6c\", \"\\ub3d9\\uad6c\", \"\\ubbf8\\ucd94\\ud640\\uad6c\", \"\\ubd80\\ud3c9\\uad6c\", \"\\uc11c\\uad6c\", \"\\uc5f0\\uc218\\uad6c\", \"\\uc911\\uad6c\"], \"xaxis\": \"x\", \"y\": [0.0, 0.0, 1.0, 0.0, 0.0, 0.0, 0.0, 0.0, 0.0, 0.0], \"yaxis\": \"y\", \"type\": \"bar\"}], \"name\": \"2020-02-06\"}, {\"data\": [{\"alignmentgroup\": \"True\", \"hovertemplate\": \"confirmed_date=2020-02-07<br>city=%{x}<br>cum_count=%{y}<extra></extra>\", \"ids\": [\"\\uac15\\ud654\\uad70\", \"\\uacc4\\uc591\\uad6c\", \"\\uae30\\ud0c0\", \"\\ub0a8\\ub3d9\\uad6c\", \"\\ub3d9\\uad6c\", \"\\ubbf8\\ucd94\\ud640\\uad6c\", \"\\ubd80\\ud3c9\\uad6c\", \"\\uc11c\\uad6c\", \"\\uc5f0\\uc218\\uad6c\", \"\\uc911\\uad6c\"], \"legendgroup\": \"\", \"marker\": {\"color\": \"#636efa\"}, \"name\": \"\", \"offsetgroup\": \"\", \"orientation\": \"v\", \"showlegend\": false, \"textposition\": \"auto\", \"x\": [\"\\uac15\\ud654\\uad70\", \"\\uacc4\\uc591\\uad6c\", \"\\uae30\\ud0c0\", \"\\ub0a8\\ub3d9\\uad6c\", \"\\ub3d9\\uad6c\", \"\\ubbf8\\ucd94\\ud640\\uad6c\", \"\\ubd80\\ud3c9\\uad6c\", \"\\uc11c\\uad6c\", \"\\uc5f0\\uc218\\uad6c\", \"\\uc911\\uad6c\"], \"xaxis\": \"x\", \"y\": [0.0, 0.0, 1.0, 0.0, 0.0, 0.0, 0.0, 0.0, 0.0, 0.0], \"yaxis\": \"y\", \"type\": \"bar\"}], \"name\": \"2020-02-07\"}, {\"data\": [{\"alignmentgroup\": \"True\", \"hovertemplate\": \"confirmed_date=2020-02-08<br>city=%{x}<br>cum_count=%{y}<extra></extra>\", \"ids\": [\"\\uac15\\ud654\\uad70\", \"\\uacc4\\uc591\\uad6c\", \"\\uae30\\ud0c0\", \"\\ub0a8\\ub3d9\\uad6c\", \"\\ub3d9\\uad6c\", \"\\ubbf8\\ucd94\\ud640\\uad6c\", \"\\ubd80\\ud3c9\\uad6c\", \"\\uc11c\\uad6c\", \"\\uc5f0\\uc218\\uad6c\", \"\\uc911\\uad6c\"], \"legendgroup\": \"\", \"marker\": {\"color\": \"#636efa\"}, \"name\": \"\", \"offsetgroup\": \"\", \"orientation\": \"v\", \"showlegend\": false, \"textposition\": \"auto\", \"x\": [\"\\uac15\\ud654\\uad70\", \"\\uacc4\\uc591\\uad6c\", \"\\uae30\\ud0c0\", \"\\ub0a8\\ub3d9\\uad6c\", \"\\ub3d9\\uad6c\", \"\\ubbf8\\ucd94\\ud640\\uad6c\", \"\\ubd80\\ud3c9\\uad6c\", \"\\uc11c\\uad6c\", \"\\uc5f0\\uc218\\uad6c\", \"\\uc911\\uad6c\"], \"xaxis\": \"x\", \"y\": [0.0, 0.0, 1.0, 0.0, 0.0, 0.0, 0.0, 0.0, 0.0, 0.0], \"yaxis\": \"y\", \"type\": \"bar\"}], \"name\": \"2020-02-08\"}, {\"data\": [{\"alignmentgroup\": \"True\", \"hovertemplate\": \"confirmed_date=2020-02-09<br>city=%{x}<br>cum_count=%{y}<extra></extra>\", \"ids\": [\"\\uac15\\ud654\\uad70\", \"\\uacc4\\uc591\\uad6c\", \"\\uae30\\ud0c0\", \"\\ub0a8\\ub3d9\\uad6c\", \"\\ub3d9\\uad6c\", \"\\ubbf8\\ucd94\\ud640\\uad6c\", \"\\ubd80\\ud3c9\\uad6c\", \"\\uc11c\\uad6c\", \"\\uc5f0\\uc218\\uad6c\", \"\\uc911\\uad6c\"], \"legendgroup\": \"\", \"marker\": {\"color\": \"#636efa\"}, \"name\": \"\", \"offsetgroup\": \"\", \"orientation\": \"v\", \"showlegend\": false, \"textposition\": \"auto\", \"x\": [\"\\uac15\\ud654\\uad70\", \"\\uacc4\\uc591\\uad6c\", \"\\uae30\\ud0c0\", \"\\ub0a8\\ub3d9\\uad6c\", \"\\ub3d9\\uad6c\", \"\\ubbf8\\ucd94\\ud640\\uad6c\", \"\\ubd80\\ud3c9\\uad6c\", \"\\uc11c\\uad6c\", \"\\uc5f0\\uc218\\uad6c\", \"\\uc911\\uad6c\"], \"xaxis\": \"x\", \"y\": [0.0, 0.0, 1.0, 0.0, 0.0, 0.0, 0.0, 0.0, 0.0, 0.0], \"yaxis\": \"y\", \"type\": \"bar\"}], \"name\": \"2020-02-09\"}, {\"data\": [{\"alignmentgroup\": \"True\", \"hovertemplate\": \"confirmed_date=2020-02-10<br>city=%{x}<br>cum_count=%{y}<extra></extra>\", \"ids\": [\"\\uac15\\ud654\\uad70\", \"\\uacc4\\uc591\\uad6c\", \"\\uae30\\ud0c0\", \"\\ub0a8\\ub3d9\\uad6c\", \"\\ub3d9\\uad6c\", \"\\ubbf8\\ucd94\\ud640\\uad6c\", \"\\ubd80\\ud3c9\\uad6c\", \"\\uc11c\\uad6c\", \"\\uc5f0\\uc218\\uad6c\", \"\\uc911\\uad6c\"], \"legendgroup\": \"\", \"marker\": {\"color\": \"#636efa\"}, \"name\": \"\", \"offsetgroup\": \"\", \"orientation\": \"v\", \"showlegend\": false, \"textposition\": \"auto\", \"x\": [\"\\uac15\\ud654\\uad70\", \"\\uacc4\\uc591\\uad6c\", \"\\uae30\\ud0c0\", \"\\ub0a8\\ub3d9\\uad6c\", \"\\ub3d9\\uad6c\", \"\\ubbf8\\ucd94\\ud640\\uad6c\", \"\\ubd80\\ud3c9\\uad6c\", \"\\uc11c\\uad6c\", \"\\uc5f0\\uc218\\uad6c\", \"\\uc911\\uad6c\"], \"xaxis\": \"x\", \"y\": [0.0, 0.0, 1.0, 0.0, 0.0, 0.0, 0.0, 0.0, 0.0, 0.0], \"yaxis\": \"y\", \"type\": \"bar\"}], \"name\": \"2020-02-10\"}, {\"data\": [{\"alignmentgroup\": \"True\", \"hovertemplate\": \"confirmed_date=2020-02-11<br>city=%{x}<br>cum_count=%{y}<extra></extra>\", \"ids\": [\"\\uac15\\ud654\\uad70\", \"\\uacc4\\uc591\\uad6c\", \"\\uae30\\ud0c0\", \"\\ub0a8\\ub3d9\\uad6c\", \"\\ub3d9\\uad6c\", \"\\ubbf8\\ucd94\\ud640\\uad6c\", \"\\ubd80\\ud3c9\\uad6c\", \"\\uc11c\\uad6c\", \"\\uc5f0\\uc218\\uad6c\", \"\\uc911\\uad6c\"], \"legendgroup\": \"\", \"marker\": {\"color\": \"#636efa\"}, \"name\": \"\", \"offsetgroup\": \"\", \"orientation\": \"v\", \"showlegend\": false, \"textposition\": \"auto\", \"x\": [\"\\uac15\\ud654\\uad70\", \"\\uacc4\\uc591\\uad6c\", \"\\uae30\\ud0c0\", \"\\ub0a8\\ub3d9\\uad6c\", \"\\ub3d9\\uad6c\", \"\\ubbf8\\ucd94\\ud640\\uad6c\", \"\\ubd80\\ud3c9\\uad6c\", \"\\uc11c\\uad6c\", \"\\uc5f0\\uc218\\uad6c\", \"\\uc911\\uad6c\"], \"xaxis\": \"x\", \"y\": [0.0, 0.0, 1.0, 0.0, 0.0, 0.0, 0.0, 0.0, 0.0, 0.0], \"yaxis\": \"y\", \"type\": \"bar\"}], \"name\": \"2020-02-11\"}, {\"data\": [{\"alignmentgroup\": \"True\", \"hovertemplate\": \"confirmed_date=2020-02-12<br>city=%{x}<br>cum_count=%{y}<extra></extra>\", \"ids\": [\"\\uac15\\ud654\\uad70\", \"\\uacc4\\uc591\\uad6c\", \"\\uae30\\ud0c0\", \"\\ub0a8\\ub3d9\\uad6c\", \"\\ub3d9\\uad6c\", \"\\ubbf8\\ucd94\\ud640\\uad6c\", \"\\ubd80\\ud3c9\\uad6c\", \"\\uc11c\\uad6c\", \"\\uc5f0\\uc218\\uad6c\", \"\\uc911\\uad6c\"], \"legendgroup\": \"\", \"marker\": {\"color\": \"#636efa\"}, \"name\": \"\", \"offsetgroup\": \"\", \"orientation\": \"v\", \"showlegend\": false, \"textposition\": \"auto\", \"x\": [\"\\uac15\\ud654\\uad70\", \"\\uacc4\\uc591\\uad6c\", \"\\uae30\\ud0c0\", \"\\ub0a8\\ub3d9\\uad6c\", \"\\ub3d9\\uad6c\", \"\\ubbf8\\ucd94\\ud640\\uad6c\", \"\\ubd80\\ud3c9\\uad6c\", \"\\uc11c\\uad6c\", \"\\uc5f0\\uc218\\uad6c\", \"\\uc911\\uad6c\"], \"xaxis\": \"x\", \"y\": [0.0, 0.0, 1.0, 0.0, 0.0, 0.0, 0.0, 0.0, 0.0, 0.0], \"yaxis\": \"y\", \"type\": \"bar\"}], \"name\": \"2020-02-12\"}, {\"data\": [{\"alignmentgroup\": \"True\", \"hovertemplate\": \"confirmed_date=2020-02-13<br>city=%{x}<br>cum_count=%{y}<extra></extra>\", \"ids\": [\"\\uac15\\ud654\\uad70\", \"\\uacc4\\uc591\\uad6c\", \"\\uae30\\ud0c0\", \"\\ub0a8\\ub3d9\\uad6c\", \"\\ub3d9\\uad6c\", \"\\ubbf8\\ucd94\\ud640\\uad6c\", \"\\ubd80\\ud3c9\\uad6c\", \"\\uc11c\\uad6c\", \"\\uc5f0\\uc218\\uad6c\", \"\\uc911\\uad6c\"], \"legendgroup\": \"\", \"marker\": {\"color\": \"#636efa\"}, \"name\": \"\", \"offsetgroup\": \"\", \"orientation\": \"v\", \"showlegend\": false, \"textposition\": \"auto\", \"x\": [\"\\uac15\\ud654\\uad70\", \"\\uacc4\\uc591\\uad6c\", \"\\uae30\\ud0c0\", \"\\ub0a8\\ub3d9\\uad6c\", \"\\ub3d9\\uad6c\", \"\\ubbf8\\ucd94\\ud640\\uad6c\", \"\\ubd80\\ud3c9\\uad6c\", \"\\uc11c\\uad6c\", \"\\uc5f0\\uc218\\uad6c\", \"\\uc911\\uad6c\"], \"xaxis\": \"x\", \"y\": [0.0, 0.0, 1.0, 0.0, 0.0, 0.0, 0.0, 0.0, 0.0, 0.0], \"yaxis\": \"y\", \"type\": \"bar\"}], \"name\": \"2020-02-13\"}, {\"data\": [{\"alignmentgroup\": \"True\", \"hovertemplate\": \"confirmed_date=2020-02-14<br>city=%{x}<br>cum_count=%{y}<extra></extra>\", \"ids\": [\"\\uac15\\ud654\\uad70\", \"\\uacc4\\uc591\\uad6c\", \"\\uae30\\ud0c0\", \"\\ub0a8\\ub3d9\\uad6c\", \"\\ub3d9\\uad6c\", \"\\ubbf8\\ucd94\\ud640\\uad6c\", \"\\ubd80\\ud3c9\\uad6c\", \"\\uc11c\\uad6c\", \"\\uc5f0\\uc218\\uad6c\", \"\\uc911\\uad6c\"], \"legendgroup\": \"\", \"marker\": {\"color\": \"#636efa\"}, \"name\": \"\", \"offsetgroup\": \"\", \"orientation\": \"v\", \"showlegend\": false, \"textposition\": \"auto\", \"x\": [\"\\uac15\\ud654\\uad70\", \"\\uacc4\\uc591\\uad6c\", \"\\uae30\\ud0c0\", \"\\ub0a8\\ub3d9\\uad6c\", \"\\ub3d9\\uad6c\", \"\\ubbf8\\ucd94\\ud640\\uad6c\", \"\\ubd80\\ud3c9\\uad6c\", \"\\uc11c\\uad6c\", \"\\uc5f0\\uc218\\uad6c\", \"\\uc911\\uad6c\"], \"xaxis\": \"x\", \"y\": [0.0, 0.0, 1.0, 0.0, 0.0, 0.0, 0.0, 0.0, 0.0, 0.0], \"yaxis\": \"y\", \"type\": \"bar\"}], \"name\": \"2020-02-14\"}, {\"data\": [{\"alignmentgroup\": \"True\", \"hovertemplate\": \"confirmed_date=2020-02-15<br>city=%{x}<br>cum_count=%{y}<extra></extra>\", \"ids\": [\"\\uac15\\ud654\\uad70\", \"\\uacc4\\uc591\\uad6c\", \"\\uae30\\ud0c0\", \"\\ub0a8\\ub3d9\\uad6c\", \"\\ub3d9\\uad6c\", \"\\ubbf8\\ucd94\\ud640\\uad6c\", \"\\ubd80\\ud3c9\\uad6c\", \"\\uc11c\\uad6c\", \"\\uc5f0\\uc218\\uad6c\", \"\\uc911\\uad6c\"], \"legendgroup\": \"\", \"marker\": {\"color\": \"#636efa\"}, \"name\": \"\", \"offsetgroup\": \"\", \"orientation\": \"v\", \"showlegend\": false, \"textposition\": \"auto\", \"x\": [\"\\uac15\\ud654\\uad70\", \"\\uacc4\\uc591\\uad6c\", \"\\uae30\\ud0c0\", \"\\ub0a8\\ub3d9\\uad6c\", \"\\ub3d9\\uad6c\", \"\\ubbf8\\ucd94\\ud640\\uad6c\", \"\\ubd80\\ud3c9\\uad6c\", \"\\uc11c\\uad6c\", \"\\uc5f0\\uc218\\uad6c\", \"\\uc911\\uad6c\"], \"xaxis\": \"x\", \"y\": [0.0, 0.0, 1.0, 0.0, 0.0, 0.0, 0.0, 0.0, 0.0, 0.0], \"yaxis\": \"y\", \"type\": \"bar\"}], \"name\": \"2020-02-15\"}, {\"data\": [{\"alignmentgroup\": \"True\", \"hovertemplate\": \"confirmed_date=2020-02-16<br>city=%{x}<br>cum_count=%{y}<extra></extra>\", \"ids\": [\"\\uac15\\ud654\\uad70\", \"\\uacc4\\uc591\\uad6c\", \"\\uae30\\ud0c0\", \"\\ub0a8\\ub3d9\\uad6c\", \"\\ub3d9\\uad6c\", \"\\ubbf8\\ucd94\\ud640\\uad6c\", \"\\ubd80\\ud3c9\\uad6c\", \"\\uc11c\\uad6c\", \"\\uc5f0\\uc218\\uad6c\", \"\\uc911\\uad6c\"], \"legendgroup\": \"\", \"marker\": {\"color\": \"#636efa\"}, \"name\": \"\", \"offsetgroup\": \"\", \"orientation\": \"v\", \"showlegend\": false, \"textposition\": \"auto\", \"x\": [\"\\uac15\\ud654\\uad70\", \"\\uacc4\\uc591\\uad6c\", \"\\uae30\\ud0c0\", \"\\ub0a8\\ub3d9\\uad6c\", \"\\ub3d9\\uad6c\", \"\\ubbf8\\ucd94\\ud640\\uad6c\", \"\\ubd80\\ud3c9\\uad6c\", \"\\uc11c\\uad6c\", \"\\uc5f0\\uc218\\uad6c\", \"\\uc911\\uad6c\"], \"xaxis\": \"x\", \"y\": [0.0, 0.0, 1.0, 0.0, 0.0, 0.0, 0.0, 0.0, 0.0, 0.0], \"yaxis\": \"y\", \"type\": \"bar\"}], \"name\": \"2020-02-16\"}, {\"data\": [{\"alignmentgroup\": \"True\", \"hovertemplate\": \"confirmed_date=2020-02-17<br>city=%{x}<br>cum_count=%{y}<extra></extra>\", \"ids\": [\"\\uac15\\ud654\\uad70\", \"\\uacc4\\uc591\\uad6c\", \"\\uae30\\ud0c0\", \"\\ub0a8\\ub3d9\\uad6c\", \"\\ub3d9\\uad6c\", \"\\ubbf8\\ucd94\\ud640\\uad6c\", \"\\ubd80\\ud3c9\\uad6c\", \"\\uc11c\\uad6c\", \"\\uc5f0\\uc218\\uad6c\", \"\\uc911\\uad6c\"], \"legendgroup\": \"\", \"marker\": {\"color\": \"#636efa\"}, \"name\": \"\", \"offsetgroup\": \"\", \"orientation\": \"v\", \"showlegend\": false, \"textposition\": \"auto\", \"x\": [\"\\uac15\\ud654\\uad70\", \"\\uacc4\\uc591\\uad6c\", \"\\uae30\\ud0c0\", \"\\ub0a8\\ub3d9\\uad6c\", \"\\ub3d9\\uad6c\", \"\\ubbf8\\ucd94\\ud640\\uad6c\", \"\\ubd80\\ud3c9\\uad6c\", \"\\uc11c\\uad6c\", \"\\uc5f0\\uc218\\uad6c\", \"\\uc911\\uad6c\"], \"xaxis\": \"x\", \"y\": [0.0, 0.0, 1.0, 0.0, 0.0, 0.0, 0.0, 0.0, 0.0, 0.0], \"yaxis\": \"y\", \"type\": \"bar\"}], \"name\": \"2020-02-17\"}, {\"data\": [{\"alignmentgroup\": \"True\", \"hovertemplate\": \"confirmed_date=2020-02-18<br>city=%{x}<br>cum_count=%{y}<extra></extra>\", \"ids\": [\"\\uac15\\ud654\\uad70\", \"\\uacc4\\uc591\\uad6c\", \"\\uae30\\ud0c0\", \"\\ub0a8\\ub3d9\\uad6c\", \"\\ub3d9\\uad6c\", \"\\ubbf8\\ucd94\\ud640\\uad6c\", \"\\ubd80\\ud3c9\\uad6c\", \"\\uc11c\\uad6c\", \"\\uc5f0\\uc218\\uad6c\", \"\\uc911\\uad6c\"], \"legendgroup\": \"\", \"marker\": {\"color\": \"#636efa\"}, \"name\": \"\", \"offsetgroup\": \"\", \"orientation\": \"v\", \"showlegend\": false, \"textposition\": \"auto\", \"x\": [\"\\uac15\\ud654\\uad70\", \"\\uacc4\\uc591\\uad6c\", \"\\uae30\\ud0c0\", \"\\ub0a8\\ub3d9\\uad6c\", \"\\ub3d9\\uad6c\", \"\\ubbf8\\ucd94\\ud640\\uad6c\", \"\\ubd80\\ud3c9\\uad6c\", \"\\uc11c\\uad6c\", \"\\uc5f0\\uc218\\uad6c\", \"\\uc911\\uad6c\"], \"xaxis\": \"x\", \"y\": [0.0, 0.0, 1.0, 0.0, 0.0, 0.0, 0.0, 0.0, 0.0, 0.0], \"yaxis\": \"y\", \"type\": \"bar\"}], \"name\": \"2020-02-18\"}, {\"data\": [{\"alignmentgroup\": \"True\", \"hovertemplate\": \"confirmed_date=2020-02-19<br>city=%{x}<br>cum_count=%{y}<extra></extra>\", \"ids\": [\"\\uac15\\ud654\\uad70\", \"\\uacc4\\uc591\\uad6c\", \"\\uae30\\ud0c0\", \"\\ub0a8\\ub3d9\\uad6c\", \"\\ub3d9\\uad6c\", \"\\ubbf8\\ucd94\\ud640\\uad6c\", \"\\ubd80\\ud3c9\\uad6c\", \"\\uc11c\\uad6c\", \"\\uc5f0\\uc218\\uad6c\", \"\\uc911\\uad6c\"], \"legendgroup\": \"\", \"marker\": {\"color\": \"#636efa\"}, \"name\": \"\", \"offsetgroup\": \"\", \"orientation\": \"v\", \"showlegend\": false, \"textposition\": \"auto\", \"x\": [\"\\uac15\\ud654\\uad70\", \"\\uacc4\\uc591\\uad6c\", \"\\uae30\\ud0c0\", \"\\ub0a8\\ub3d9\\uad6c\", \"\\ub3d9\\uad6c\", \"\\ubbf8\\ucd94\\ud640\\uad6c\", \"\\ubd80\\ud3c9\\uad6c\", \"\\uc11c\\uad6c\", \"\\uc5f0\\uc218\\uad6c\", \"\\uc911\\uad6c\"], \"xaxis\": \"x\", \"y\": [0.0, 0.0, 1.0, 0.0, 0.0, 0.0, 0.0, 0.0, 0.0, 0.0], \"yaxis\": \"y\", \"type\": \"bar\"}], \"name\": \"2020-02-19\"}, {\"data\": [{\"alignmentgroup\": \"True\", \"hovertemplate\": \"confirmed_date=2020-02-20<br>city=%{x}<br>cum_count=%{y}<extra></extra>\", \"ids\": [\"\\uac15\\ud654\\uad70\", \"\\uacc4\\uc591\\uad6c\", \"\\uae30\\ud0c0\", \"\\ub0a8\\ub3d9\\uad6c\", \"\\ub3d9\\uad6c\", \"\\ubbf8\\ucd94\\ud640\\uad6c\", \"\\ubd80\\ud3c9\\uad6c\", \"\\uc11c\\uad6c\", \"\\uc5f0\\uc218\\uad6c\", \"\\uc911\\uad6c\"], \"legendgroup\": \"\", \"marker\": {\"color\": \"#636efa\"}, \"name\": \"\", \"offsetgroup\": \"\", \"orientation\": \"v\", \"showlegend\": false, \"textposition\": \"auto\", \"x\": [\"\\uac15\\ud654\\uad70\", \"\\uacc4\\uc591\\uad6c\", \"\\uae30\\ud0c0\", \"\\ub0a8\\ub3d9\\uad6c\", \"\\ub3d9\\uad6c\", \"\\ubbf8\\ucd94\\ud640\\uad6c\", \"\\ubd80\\ud3c9\\uad6c\", \"\\uc11c\\uad6c\", \"\\uc5f0\\uc218\\uad6c\", \"\\uc911\\uad6c\"], \"xaxis\": \"x\", \"y\": [0.0, 0.0, 1.0, 0.0, 0.0, 0.0, 0.0, 0.0, 0.0, 0.0], \"yaxis\": \"y\", \"type\": \"bar\"}], \"name\": \"2020-02-20\"}, {\"data\": [{\"alignmentgroup\": \"True\", \"hovertemplate\": \"confirmed_date=2020-02-21<br>city=%{x}<br>cum_count=%{y}<extra></extra>\", \"ids\": [\"\\uac15\\ud654\\uad70\", \"\\uacc4\\uc591\\uad6c\", \"\\uae30\\ud0c0\", \"\\ub0a8\\ub3d9\\uad6c\", \"\\ub3d9\\uad6c\", \"\\ubbf8\\ucd94\\ud640\\uad6c\", \"\\ubd80\\ud3c9\\uad6c\", \"\\uc11c\\uad6c\", \"\\uc5f0\\uc218\\uad6c\", \"\\uc911\\uad6c\"], \"legendgroup\": \"\", \"marker\": {\"color\": \"#636efa\"}, \"name\": \"\", \"offsetgroup\": \"\", \"orientation\": \"v\", \"showlegend\": false, \"textposition\": \"auto\", \"x\": [\"\\uac15\\ud654\\uad70\", \"\\uacc4\\uc591\\uad6c\", \"\\uae30\\ud0c0\", \"\\ub0a8\\ub3d9\\uad6c\", \"\\ub3d9\\uad6c\", \"\\ubbf8\\ucd94\\ud640\\uad6c\", \"\\ubd80\\ud3c9\\uad6c\", \"\\uc11c\\uad6c\", \"\\uc5f0\\uc218\\uad6c\", \"\\uc911\\uad6c\"], \"xaxis\": \"x\", \"y\": [0.0, 0.0, 1.0, 0.0, 0.0, 0.0, 0.0, 0.0, 0.0, 0.0], \"yaxis\": \"y\", \"type\": \"bar\"}], \"name\": \"2020-02-21\"}, {\"data\": [{\"alignmentgroup\": \"True\", \"hovertemplate\": \"confirmed_date=2020-02-22<br>city=%{x}<br>cum_count=%{y}<extra></extra>\", \"ids\": [\"\\uac15\\ud654\\uad70\", \"\\uacc4\\uc591\\uad6c\", \"\\uae30\\ud0c0\", \"\\ub0a8\\ub3d9\\uad6c\", \"\\ub3d9\\uad6c\", \"\\ubbf8\\ucd94\\ud640\\uad6c\", \"\\ubd80\\ud3c9\\uad6c\", \"\\uc11c\\uad6c\", \"\\uc5f0\\uc218\\uad6c\", \"\\uc911\\uad6c\"], \"legendgroup\": \"\", \"marker\": {\"color\": \"#636efa\"}, \"name\": \"\", \"offsetgroup\": \"\", \"orientation\": \"v\", \"showlegend\": false, \"textposition\": \"auto\", \"x\": [\"\\uac15\\ud654\\uad70\", \"\\uacc4\\uc591\\uad6c\", \"\\uae30\\ud0c0\", \"\\ub0a8\\ub3d9\\uad6c\", \"\\ub3d9\\uad6c\", \"\\ubbf8\\ucd94\\ud640\\uad6c\", \"\\ubd80\\ud3c9\\uad6c\", \"\\uc11c\\uad6c\", \"\\uc5f0\\uc218\\uad6c\", \"\\uc911\\uad6c\"], \"xaxis\": \"x\", \"y\": [0.0, 0.0, 1.0, 0.0, 0.0, 0.0, 1.0, 0.0, 0.0, 0.0], \"yaxis\": \"y\", \"type\": \"bar\"}], \"name\": \"2020-02-22\"}, {\"data\": [{\"alignmentgroup\": \"True\", \"hovertemplate\": \"confirmed_date=2020-02-23<br>city=%{x}<br>cum_count=%{y}<extra></extra>\", \"ids\": [\"\\uac15\\ud654\\uad70\", \"\\uacc4\\uc591\\uad6c\", \"\\uae30\\ud0c0\", \"\\ub0a8\\ub3d9\\uad6c\", \"\\ub3d9\\uad6c\", \"\\ubbf8\\ucd94\\ud640\\uad6c\", \"\\ubd80\\ud3c9\\uad6c\", \"\\uc11c\\uad6c\", \"\\uc5f0\\uc218\\uad6c\", \"\\uc911\\uad6c\"], \"legendgroup\": \"\", \"marker\": {\"color\": \"#636efa\"}, \"name\": \"\", \"offsetgroup\": \"\", \"orientation\": \"v\", \"showlegend\": false, \"textposition\": \"auto\", \"x\": [\"\\uac15\\ud654\\uad70\", \"\\uacc4\\uc591\\uad6c\", \"\\uae30\\ud0c0\", \"\\ub0a8\\ub3d9\\uad6c\", \"\\ub3d9\\uad6c\", \"\\ubbf8\\ucd94\\ud640\\uad6c\", \"\\ubd80\\ud3c9\\uad6c\", \"\\uc11c\\uad6c\", \"\\uc5f0\\uc218\\uad6c\", \"\\uc911\\uad6c\"], \"xaxis\": \"x\", \"y\": [0.0, 0.0, 1.0, 0.0, 0.0, 0.0, 1.0, 0.0, 0.0, 0.0], \"yaxis\": \"y\", \"type\": \"bar\"}], \"name\": \"2020-02-23\"}, {\"data\": [{\"alignmentgroup\": \"True\", \"hovertemplate\": \"confirmed_date=2020-02-24<br>city=%{x}<br>cum_count=%{y}<extra></extra>\", \"ids\": [\"\\uac15\\ud654\\uad70\", \"\\uacc4\\uc591\\uad6c\", \"\\uae30\\ud0c0\", \"\\ub0a8\\ub3d9\\uad6c\", \"\\ub3d9\\uad6c\", \"\\ubbf8\\ucd94\\ud640\\uad6c\", \"\\ubd80\\ud3c9\\uad6c\", \"\\uc11c\\uad6c\", \"\\uc5f0\\uc218\\uad6c\", \"\\uc911\\uad6c\"], \"legendgroup\": \"\", \"marker\": {\"color\": \"#636efa\"}, \"name\": \"\", \"offsetgroup\": \"\", \"orientation\": \"v\", \"showlegend\": false, \"textposition\": \"auto\", \"x\": [\"\\uac15\\ud654\\uad70\", \"\\uacc4\\uc591\\uad6c\", \"\\uae30\\ud0c0\", \"\\ub0a8\\ub3d9\\uad6c\", \"\\ub3d9\\uad6c\", \"\\ubbf8\\ucd94\\ud640\\uad6c\", \"\\ubd80\\ud3c9\\uad6c\", \"\\uc11c\\uad6c\", \"\\uc5f0\\uc218\\uad6c\", \"\\uc911\\uad6c\"], \"xaxis\": \"x\", \"y\": [0.0, 0.0, 1.0, 0.0, 0.0, 0.0, 1.0, 0.0, 0.0, 0.0], \"yaxis\": \"y\", \"type\": \"bar\"}], \"name\": \"2020-02-24\"}, {\"data\": [{\"alignmentgroup\": \"True\", \"hovertemplate\": \"confirmed_date=2020-02-25<br>city=%{x}<br>cum_count=%{y}<extra></extra>\", \"ids\": [\"\\uac15\\ud654\\uad70\", \"\\uacc4\\uc591\\uad6c\", \"\\uae30\\ud0c0\", \"\\ub0a8\\ub3d9\\uad6c\", \"\\ub3d9\\uad6c\", \"\\ubbf8\\ucd94\\ud640\\uad6c\", \"\\ubd80\\ud3c9\\uad6c\", \"\\uc11c\\uad6c\", \"\\uc5f0\\uc218\\uad6c\", \"\\uc911\\uad6c\"], \"legendgroup\": \"\", \"marker\": {\"color\": \"#636efa\"}, \"name\": \"\", \"offsetgroup\": \"\", \"orientation\": \"v\", \"showlegend\": false, \"textposition\": \"auto\", \"x\": [\"\\uac15\\ud654\\uad70\", \"\\uacc4\\uc591\\uad6c\", \"\\uae30\\ud0c0\", \"\\ub0a8\\ub3d9\\uad6c\", \"\\ub3d9\\uad6c\", \"\\ubbf8\\ucd94\\ud640\\uad6c\", \"\\ubd80\\ud3c9\\uad6c\", \"\\uc11c\\uad6c\", \"\\uc5f0\\uc218\\uad6c\", \"\\uc911\\uad6c\"], \"xaxis\": \"x\", \"y\": [0.0, 0.0, 1.0, 0.0, 0.0, 1.0, 1.0, 0.0, 0.0, 0.0], \"yaxis\": \"y\", \"type\": \"bar\"}], \"name\": \"2020-02-25\"}, {\"data\": [{\"alignmentgroup\": \"True\", \"hovertemplate\": \"confirmed_date=2020-02-26<br>city=%{x}<br>cum_count=%{y}<extra></extra>\", \"ids\": [\"\\uac15\\ud654\\uad70\", \"\\uacc4\\uc591\\uad6c\", \"\\uae30\\ud0c0\", \"\\ub0a8\\ub3d9\\uad6c\", \"\\ub3d9\\uad6c\", \"\\ubbf8\\ucd94\\ud640\\uad6c\", \"\\ubd80\\ud3c9\\uad6c\", \"\\uc11c\\uad6c\", \"\\uc5f0\\uc218\\uad6c\", \"\\uc911\\uad6c\"], \"legendgroup\": \"\", \"marker\": {\"color\": \"#636efa\"}, \"name\": \"\", \"offsetgroup\": \"\", \"orientation\": \"v\", \"showlegend\": false, \"textposition\": \"auto\", \"x\": [\"\\uac15\\ud654\\uad70\", \"\\uacc4\\uc591\\uad6c\", \"\\uae30\\ud0c0\", \"\\ub0a8\\ub3d9\\uad6c\", \"\\ub3d9\\uad6c\", \"\\ubbf8\\ucd94\\ud640\\uad6c\", \"\\ubd80\\ud3c9\\uad6c\", \"\\uc11c\\uad6c\", \"\\uc5f0\\uc218\\uad6c\", \"\\uc911\\uad6c\"], \"xaxis\": \"x\", \"y\": [0.0, 0.0, 1.0, 0.0, 0.0, 1.0, 1.0, 0.0, 0.0, 0.0], \"yaxis\": \"y\", \"type\": \"bar\"}], \"name\": \"2020-02-26\"}, {\"data\": [{\"alignmentgroup\": \"True\", \"hovertemplate\": \"confirmed_date=2020-02-27<br>city=%{x}<br>cum_count=%{y}<extra></extra>\", \"ids\": [\"\\uac15\\ud654\\uad70\", \"\\uacc4\\uc591\\uad6c\", \"\\uae30\\ud0c0\", \"\\ub0a8\\ub3d9\\uad6c\", \"\\ub3d9\\uad6c\", \"\\ubbf8\\ucd94\\ud640\\uad6c\", \"\\ubd80\\ud3c9\\uad6c\", \"\\uc11c\\uad6c\", \"\\uc5f0\\uc218\\uad6c\", \"\\uc911\\uad6c\"], \"legendgroup\": \"\", \"marker\": {\"color\": \"#636efa\"}, \"name\": \"\", \"offsetgroup\": \"\", \"orientation\": \"v\", \"showlegend\": false, \"textposition\": \"auto\", \"x\": [\"\\uac15\\ud654\\uad70\", \"\\uacc4\\uc591\\uad6c\", \"\\uae30\\ud0c0\", \"\\ub0a8\\ub3d9\\uad6c\", \"\\ub3d9\\uad6c\", \"\\ubbf8\\ucd94\\ud640\\uad6c\", \"\\ubd80\\ud3c9\\uad6c\", \"\\uc11c\\uad6c\", \"\\uc5f0\\uc218\\uad6c\", \"\\uc911\\uad6c\"], \"xaxis\": \"x\", \"y\": [0.0, 0.0, 1.0, 0.0, 0.0, 1.0, 1.0, 0.0, 0.0, 0.0], \"yaxis\": \"y\", \"type\": \"bar\"}], \"name\": \"2020-02-27\"}, {\"data\": [{\"alignmentgroup\": \"True\", \"hovertemplate\": \"confirmed_date=2020-02-28<br>city=%{x}<br>cum_count=%{y}<extra></extra>\", \"ids\": [\"\\uac15\\ud654\\uad70\", \"\\uacc4\\uc591\\uad6c\", \"\\uae30\\ud0c0\", \"\\ub0a8\\ub3d9\\uad6c\", \"\\ub3d9\\uad6c\", \"\\ubbf8\\ucd94\\ud640\\uad6c\", \"\\ubd80\\ud3c9\\uad6c\", \"\\uc11c\\uad6c\", \"\\uc5f0\\uc218\\uad6c\", \"\\uc911\\uad6c\"], \"legendgroup\": \"\", \"marker\": {\"color\": \"#636efa\"}, \"name\": \"\", \"offsetgroup\": \"\", \"orientation\": \"v\", \"showlegend\": false, \"textposition\": \"auto\", \"x\": [\"\\uac15\\ud654\\uad70\", \"\\uacc4\\uc591\\uad6c\", \"\\uae30\\ud0c0\", \"\\ub0a8\\ub3d9\\uad6c\", \"\\ub3d9\\uad6c\", \"\\ubbf8\\ucd94\\ud640\\uad6c\", \"\\ubd80\\ud3c9\\uad6c\", \"\\uc11c\\uad6c\", \"\\uc5f0\\uc218\\uad6c\", \"\\uc911\\uad6c\"], \"xaxis\": \"x\", \"y\": [0.0, 0.0, 1.0, 0.0, 0.0, 1.0, 2.0, 1.0, 1.0, 0.0], \"yaxis\": \"y\", \"type\": \"bar\"}], \"name\": \"2020-02-28\"}, {\"data\": [{\"alignmentgroup\": \"True\", \"hovertemplate\": \"confirmed_date=2020-02-29<br>city=%{x}<br>cum_count=%{y}<extra></extra>\", \"ids\": [\"\\uac15\\ud654\\uad70\", \"\\uacc4\\uc591\\uad6c\", \"\\uae30\\ud0c0\", \"\\ub0a8\\ub3d9\\uad6c\", \"\\ub3d9\\uad6c\", \"\\ubbf8\\ucd94\\ud640\\uad6c\", \"\\ubd80\\ud3c9\\uad6c\", \"\\uc11c\\uad6c\", \"\\uc5f0\\uc218\\uad6c\", \"\\uc911\\uad6c\"], \"legendgroup\": \"\", \"marker\": {\"color\": \"#636efa\"}, \"name\": \"\", \"offsetgroup\": \"\", \"orientation\": \"v\", \"showlegend\": false, \"textposition\": \"auto\", \"x\": [\"\\uac15\\ud654\\uad70\", \"\\uacc4\\uc591\\uad6c\", \"\\uae30\\ud0c0\", \"\\ub0a8\\ub3d9\\uad6c\", \"\\ub3d9\\uad6c\", \"\\ubbf8\\ucd94\\ud640\\uad6c\", \"\\ubd80\\ud3c9\\uad6c\", \"\\uc11c\\uad6c\", \"\\uc5f0\\uc218\\uad6c\", \"\\uc911\\uad6c\"], \"xaxis\": \"x\", \"y\": [0.0, 0.0, 1.0, 0.0, 0.0, 1.0, 2.0, 1.0, 1.0, 0.0], \"yaxis\": \"y\", \"type\": \"bar\"}], \"name\": \"2020-02-29\"}, {\"data\": [{\"alignmentgroup\": \"True\", \"hovertemplate\": \"confirmed_date=2020-03-01<br>city=%{x}<br>cum_count=%{y}<extra></extra>\", \"ids\": [\"\\uac15\\ud654\\uad70\", \"\\uacc4\\uc591\\uad6c\", \"\\uae30\\ud0c0\", \"\\ub0a8\\ub3d9\\uad6c\", \"\\ub3d9\\uad6c\", \"\\ubbf8\\ucd94\\ud640\\uad6c\", \"\\ubd80\\ud3c9\\uad6c\", \"\\uc11c\\uad6c\", \"\\uc5f0\\uc218\\uad6c\", \"\\uc911\\uad6c\"], \"legendgroup\": \"\", \"marker\": {\"color\": \"#636efa\"}, \"name\": \"\", \"offsetgroup\": \"\", \"orientation\": \"v\", \"showlegend\": false, \"textposition\": \"auto\", \"x\": [\"\\uac15\\ud654\\uad70\", \"\\uacc4\\uc591\\uad6c\", \"\\uae30\\ud0c0\", \"\\ub0a8\\ub3d9\\uad6c\", \"\\ub3d9\\uad6c\", \"\\ubbf8\\ucd94\\ud640\\uad6c\", \"\\ubd80\\ud3c9\\uad6c\", \"\\uc11c\\uad6c\", \"\\uc5f0\\uc218\\uad6c\", \"\\uc911\\uad6c\"], \"xaxis\": \"x\", \"y\": [0.0, 0.0, 1.0, 0.0, 0.0, 1.0, 2.0, 1.0, 2.0, 0.0], \"yaxis\": \"y\", \"type\": \"bar\"}], \"name\": \"2020-03-01\"}, {\"data\": [{\"alignmentgroup\": \"True\", \"hovertemplate\": \"confirmed_date=2020-03-02<br>city=%{x}<br>cum_count=%{y}<extra></extra>\", \"ids\": [\"\\uac15\\ud654\\uad70\", \"\\uacc4\\uc591\\uad6c\", \"\\uae30\\ud0c0\", \"\\ub0a8\\ub3d9\\uad6c\", \"\\ub3d9\\uad6c\", \"\\ubbf8\\ucd94\\ud640\\uad6c\", \"\\ubd80\\ud3c9\\uad6c\", \"\\uc11c\\uad6c\", \"\\uc5f0\\uc218\\uad6c\", \"\\uc911\\uad6c\"], \"legendgroup\": \"\", \"marker\": {\"color\": \"#636efa\"}, \"name\": \"\", \"offsetgroup\": \"\", \"orientation\": \"v\", \"showlegend\": false, \"textposition\": \"auto\", \"x\": [\"\\uac15\\ud654\\uad70\", \"\\uacc4\\uc591\\uad6c\", \"\\uae30\\ud0c0\", \"\\ub0a8\\ub3d9\\uad6c\", \"\\ub3d9\\uad6c\", \"\\ubbf8\\ucd94\\ud640\\uad6c\", \"\\ubd80\\ud3c9\\uad6c\", \"\\uc11c\\uad6c\", \"\\uc5f0\\uc218\\uad6c\", \"\\uc911\\uad6c\"], \"xaxis\": \"x\", \"y\": [0.0, 0.0, 1.0, 0.0, 0.0, 1.0, 2.0, 1.0, 2.0, 0.0], \"yaxis\": \"y\", \"type\": \"bar\"}], \"name\": \"2020-03-02\"}, {\"data\": [{\"alignmentgroup\": \"True\", \"hovertemplate\": \"confirmed_date=2020-03-03<br>city=%{x}<br>cum_count=%{y}<extra></extra>\", \"ids\": [\"\\uac15\\ud654\\uad70\", \"\\uacc4\\uc591\\uad6c\", \"\\uae30\\ud0c0\", \"\\ub0a8\\ub3d9\\uad6c\", \"\\ub3d9\\uad6c\", \"\\ubbf8\\ucd94\\ud640\\uad6c\", \"\\ubd80\\ud3c9\\uad6c\", \"\\uc11c\\uad6c\", \"\\uc5f0\\uc218\\uad6c\", \"\\uc911\\uad6c\"], \"legendgroup\": \"\", \"marker\": {\"color\": \"#636efa\"}, \"name\": \"\", \"offsetgroup\": \"\", \"orientation\": \"v\", \"showlegend\": false, \"textposition\": \"auto\", \"x\": [\"\\uac15\\ud654\\uad70\", \"\\uacc4\\uc591\\uad6c\", \"\\uae30\\ud0c0\", \"\\ub0a8\\ub3d9\\uad6c\", \"\\ub3d9\\uad6c\", \"\\ubbf8\\ucd94\\ud640\\uad6c\", \"\\ubd80\\ud3c9\\uad6c\", \"\\uc11c\\uad6c\", \"\\uc5f0\\uc218\\uad6c\", \"\\uc911\\uad6c\"], \"xaxis\": \"x\", \"y\": [0.0, 0.0, 1.0, 0.0, 0.0, 2.0, 3.0, 1.0, 2.0, 0.0], \"yaxis\": \"y\", \"type\": \"bar\"}], \"name\": \"2020-03-03\"}, {\"data\": [{\"alignmentgroup\": \"True\", \"hovertemplate\": \"confirmed_date=2020-03-04<br>city=%{x}<br>cum_count=%{y}<extra></extra>\", \"ids\": [\"\\uac15\\ud654\\uad70\", \"\\uacc4\\uc591\\uad6c\", \"\\uae30\\ud0c0\", \"\\ub0a8\\ub3d9\\uad6c\", \"\\ub3d9\\uad6c\", \"\\ubbf8\\ucd94\\ud640\\uad6c\", \"\\ubd80\\ud3c9\\uad6c\", \"\\uc11c\\uad6c\", \"\\uc5f0\\uc218\\uad6c\", \"\\uc911\\uad6c\"], \"legendgroup\": \"\", \"marker\": {\"color\": \"#636efa\"}, \"name\": \"\", \"offsetgroup\": \"\", \"orientation\": \"v\", \"showlegend\": false, \"textposition\": \"auto\", \"x\": [\"\\uac15\\ud654\\uad70\", \"\\uacc4\\uc591\\uad6c\", \"\\uae30\\ud0c0\", \"\\ub0a8\\ub3d9\\uad6c\", \"\\ub3d9\\uad6c\", \"\\ubbf8\\ucd94\\ud640\\uad6c\", \"\\ubd80\\ud3c9\\uad6c\", \"\\uc11c\\uad6c\", \"\\uc5f0\\uc218\\uad6c\", \"\\uc911\\uad6c\"], \"xaxis\": \"x\", \"y\": [0.0, 0.0, 1.0, 0.0, 0.0, 2.0, 3.0, 1.0, 2.0, 0.0], \"yaxis\": \"y\", \"type\": \"bar\"}], \"name\": \"2020-03-04\"}, {\"data\": [{\"alignmentgroup\": \"True\", \"hovertemplate\": \"confirmed_date=2020-03-05<br>city=%{x}<br>cum_count=%{y}<extra></extra>\", \"ids\": [\"\\uac15\\ud654\\uad70\", \"\\uacc4\\uc591\\uad6c\", \"\\uae30\\ud0c0\", \"\\ub0a8\\ub3d9\\uad6c\", \"\\ub3d9\\uad6c\", \"\\ubbf8\\ucd94\\ud640\\uad6c\", \"\\ubd80\\ud3c9\\uad6c\", \"\\uc11c\\uad6c\", \"\\uc5f0\\uc218\\uad6c\", \"\\uc911\\uad6c\"], \"legendgroup\": \"\", \"marker\": {\"color\": \"#636efa\"}, \"name\": \"\", \"offsetgroup\": \"\", \"orientation\": \"v\", \"showlegend\": false, \"textposition\": \"auto\", \"x\": [\"\\uac15\\ud654\\uad70\", \"\\uacc4\\uc591\\uad6c\", \"\\uae30\\ud0c0\", \"\\ub0a8\\ub3d9\\uad6c\", \"\\ub3d9\\uad6c\", \"\\ubbf8\\ucd94\\ud640\\uad6c\", \"\\ubd80\\ud3c9\\uad6c\", \"\\uc11c\\uad6c\", \"\\uc5f0\\uc218\\uad6c\", \"\\uc911\\uad6c\"], \"xaxis\": \"x\", \"y\": [0.0, 0.0, 1.0, 0.0, 0.0, 2.0, 3.0, 1.0, 2.0, 0.0], \"yaxis\": \"y\", \"type\": \"bar\"}], \"name\": \"2020-03-05\"}, {\"data\": [{\"alignmentgroup\": \"True\", \"hovertemplate\": \"confirmed_date=2020-03-06<br>city=%{x}<br>cum_count=%{y}<extra></extra>\", \"ids\": [\"\\uac15\\ud654\\uad70\", \"\\uacc4\\uc591\\uad6c\", \"\\uae30\\ud0c0\", \"\\ub0a8\\ub3d9\\uad6c\", \"\\ub3d9\\uad6c\", \"\\ubbf8\\ucd94\\ud640\\uad6c\", \"\\ubd80\\ud3c9\\uad6c\", \"\\uc11c\\uad6c\", \"\\uc5f0\\uc218\\uad6c\", \"\\uc911\\uad6c\"], \"legendgroup\": \"\", \"marker\": {\"color\": \"#636efa\"}, \"name\": \"\", \"offsetgroup\": \"\", \"orientation\": \"v\", \"showlegend\": false, \"textposition\": \"auto\", \"x\": [\"\\uac15\\ud654\\uad70\", \"\\uacc4\\uc591\\uad6c\", \"\\uae30\\ud0c0\", \"\\ub0a8\\ub3d9\\uad6c\", \"\\ub3d9\\uad6c\", \"\\ubbf8\\ucd94\\ud640\\uad6c\", \"\\ubd80\\ud3c9\\uad6c\", \"\\uc11c\\uad6c\", \"\\uc5f0\\uc218\\uad6c\", \"\\uc911\\uad6c\"], \"xaxis\": \"x\", \"y\": [0.0, 0.0, 1.0, 0.0, 0.0, 2.0, 3.0, 1.0, 2.0, 0.0], \"yaxis\": \"y\", \"type\": \"bar\"}], \"name\": \"2020-03-06\"}, {\"data\": [{\"alignmentgroup\": \"True\", \"hovertemplate\": \"confirmed_date=2020-03-07<br>city=%{x}<br>cum_count=%{y}<extra></extra>\", \"ids\": [\"\\uac15\\ud654\\uad70\", \"\\uacc4\\uc591\\uad6c\", \"\\uae30\\ud0c0\", \"\\ub0a8\\ub3d9\\uad6c\", \"\\ub3d9\\uad6c\", \"\\ubbf8\\ucd94\\ud640\\uad6c\", \"\\ubd80\\ud3c9\\uad6c\", \"\\uc11c\\uad6c\", \"\\uc5f0\\uc218\\uad6c\", \"\\uc911\\uad6c\"], \"legendgroup\": \"\", \"marker\": {\"color\": \"#636efa\"}, \"name\": \"\", \"offsetgroup\": \"\", \"orientation\": \"v\", \"showlegend\": false, \"textposition\": \"auto\", \"x\": [\"\\uac15\\ud654\\uad70\", \"\\uacc4\\uc591\\uad6c\", \"\\uae30\\ud0c0\", \"\\ub0a8\\ub3d9\\uad6c\", \"\\ub3d9\\uad6c\", \"\\ubbf8\\ucd94\\ud640\\uad6c\", \"\\ubd80\\ud3c9\\uad6c\", \"\\uc11c\\uad6c\", \"\\uc5f0\\uc218\\uad6c\", \"\\uc911\\uad6c\"], \"xaxis\": \"x\", \"y\": [0.0, 0.0, 1.0, 0.0, 0.0, 2.0, 3.0, 1.0, 2.0, 0.0], \"yaxis\": \"y\", \"type\": \"bar\"}], \"name\": \"2020-03-07\"}, {\"data\": [{\"alignmentgroup\": \"True\", \"hovertemplate\": \"confirmed_date=2020-03-08<br>city=%{x}<br>cum_count=%{y}<extra></extra>\", \"ids\": [\"\\uac15\\ud654\\uad70\", \"\\uacc4\\uc591\\uad6c\", \"\\uae30\\ud0c0\", \"\\ub0a8\\ub3d9\\uad6c\", \"\\ub3d9\\uad6c\", \"\\ubbf8\\ucd94\\ud640\\uad6c\", \"\\ubd80\\ud3c9\\uad6c\", \"\\uc11c\\uad6c\", \"\\uc5f0\\uc218\\uad6c\", \"\\uc911\\uad6c\"], \"legendgroup\": \"\", \"marker\": {\"color\": \"#636efa\"}, \"name\": \"\", \"offsetgroup\": \"\", \"orientation\": \"v\", \"showlegend\": false, \"textposition\": \"auto\", \"x\": [\"\\uac15\\ud654\\uad70\", \"\\uacc4\\uc591\\uad6c\", \"\\uae30\\ud0c0\", \"\\ub0a8\\ub3d9\\uad6c\", \"\\ub3d9\\uad6c\", \"\\ubbf8\\ucd94\\ud640\\uad6c\", \"\\ubd80\\ud3c9\\uad6c\", \"\\uc11c\\uad6c\", \"\\uc5f0\\uc218\\uad6c\", \"\\uc911\\uad6c\"], \"xaxis\": \"x\", \"y\": [0.0, 0.0, 1.0, 0.0, 0.0, 2.0, 3.0, 1.0, 2.0, 0.0], \"yaxis\": \"y\", \"type\": \"bar\"}], \"name\": \"2020-03-08\"}, {\"data\": [{\"alignmentgroup\": \"True\", \"hovertemplate\": \"confirmed_date=2020-03-09<br>city=%{x}<br>cum_count=%{y}<extra></extra>\", \"ids\": [\"\\uac15\\ud654\\uad70\", \"\\uacc4\\uc591\\uad6c\", \"\\uae30\\ud0c0\", \"\\ub0a8\\ub3d9\\uad6c\", \"\\ub3d9\\uad6c\", \"\\ubbf8\\ucd94\\ud640\\uad6c\", \"\\ubd80\\ud3c9\\uad6c\", \"\\uc11c\\uad6c\", \"\\uc5f0\\uc218\\uad6c\", \"\\uc911\\uad6c\"], \"legendgroup\": \"\", \"marker\": {\"color\": \"#636efa\"}, \"name\": \"\", \"offsetgroup\": \"\", \"orientation\": \"v\", \"showlegend\": false, \"textposition\": \"auto\", \"x\": [\"\\uac15\\ud654\\uad70\", \"\\uacc4\\uc591\\uad6c\", \"\\uae30\\ud0c0\", \"\\ub0a8\\ub3d9\\uad6c\", \"\\ub3d9\\uad6c\", \"\\ubbf8\\ucd94\\ud640\\uad6c\", \"\\ubd80\\ud3c9\\uad6c\", \"\\uc11c\\uad6c\", \"\\uc5f0\\uc218\\uad6c\", \"\\uc911\\uad6c\"], \"xaxis\": \"x\", \"y\": [0.0, 1.0, 1.0, 1.0, 0.0, 6.0, 7.0, 3.0, 3.0, 0.0], \"yaxis\": \"y\", \"type\": \"bar\"}], \"name\": \"2020-03-09\"}, {\"data\": [{\"alignmentgroup\": \"True\", \"hovertemplate\": \"confirmed_date=2020-03-10<br>city=%{x}<br>cum_count=%{y}<extra></extra>\", \"ids\": [\"\\uac15\\ud654\\uad70\", \"\\uacc4\\uc591\\uad6c\", \"\\uae30\\ud0c0\", \"\\ub0a8\\ub3d9\\uad6c\", \"\\ub3d9\\uad6c\", \"\\ubbf8\\ucd94\\ud640\\uad6c\", \"\\ubd80\\ud3c9\\uad6c\", \"\\uc11c\\uad6c\", \"\\uc5f0\\uc218\\uad6c\", \"\\uc911\\uad6c\"], \"legendgroup\": \"\", \"marker\": {\"color\": \"#636efa\"}, \"name\": \"\", \"offsetgroup\": \"\", \"orientation\": \"v\", \"showlegend\": false, \"textposition\": \"auto\", \"x\": [\"\\uac15\\ud654\\uad70\", \"\\uacc4\\uc591\\uad6c\", \"\\uae30\\ud0c0\", \"\\ub0a8\\ub3d9\\uad6c\", \"\\ub3d9\\uad6c\", \"\\ubbf8\\ucd94\\ud640\\uad6c\", \"\\ubd80\\ud3c9\\uad6c\", \"\\uc11c\\uad6c\", \"\\uc5f0\\uc218\\uad6c\", \"\\uc911\\uad6c\"], \"xaxis\": \"x\", \"y\": [0.0, 2.0, 1.0, 1.0, 0.0, 7.0, 7.0, 3.0, 4.0, 0.0], \"yaxis\": \"y\", \"type\": \"bar\"}], \"name\": \"2020-03-10\"}, {\"data\": [{\"alignmentgroup\": \"True\", \"hovertemplate\": \"confirmed_date=2020-03-11<br>city=%{x}<br>cum_count=%{y}<extra></extra>\", \"ids\": [\"\\uac15\\ud654\\uad70\", \"\\uacc4\\uc591\\uad6c\", \"\\uae30\\ud0c0\", \"\\ub0a8\\ub3d9\\uad6c\", \"\\ub3d9\\uad6c\", \"\\ubbf8\\ucd94\\ud640\\uad6c\", \"\\ubd80\\ud3c9\\uad6c\", \"\\uc11c\\uad6c\", \"\\uc5f0\\uc218\\uad6c\", \"\\uc911\\uad6c\"], \"legendgroup\": \"\", \"marker\": {\"color\": \"#636efa\"}, \"name\": \"\", \"offsetgroup\": \"\", \"orientation\": \"v\", \"showlegend\": false, \"textposition\": \"auto\", \"x\": [\"\\uac15\\ud654\\uad70\", \"\\uacc4\\uc591\\uad6c\", \"\\uae30\\ud0c0\", \"\\ub0a8\\ub3d9\\uad6c\", \"\\ub3d9\\uad6c\", \"\\ubbf8\\ucd94\\ud640\\uad6c\", \"\\ubd80\\ud3c9\\uad6c\", \"\\uc11c\\uad6c\", \"\\uc5f0\\uc218\\uad6c\", \"\\uc911\\uad6c\"], \"xaxis\": \"x\", \"y\": [0.0, 2.0, 1.0, 1.0, 0.0, 7.0, 8.0, 3.0, 4.0, 0.0], \"yaxis\": \"y\", \"type\": \"bar\"}], \"name\": \"2020-03-11\"}, {\"data\": [{\"alignmentgroup\": \"True\", \"hovertemplate\": \"confirmed_date=2020-03-12<br>city=%{x}<br>cum_count=%{y}<extra></extra>\", \"ids\": [\"\\uac15\\ud654\\uad70\", \"\\uacc4\\uc591\\uad6c\", \"\\uae30\\ud0c0\", \"\\ub0a8\\ub3d9\\uad6c\", \"\\ub3d9\\uad6c\", \"\\ubbf8\\ucd94\\ud640\\uad6c\", \"\\ubd80\\ud3c9\\uad6c\", \"\\uc11c\\uad6c\", \"\\uc5f0\\uc218\\uad6c\", \"\\uc911\\uad6c\"], \"legendgroup\": \"\", \"marker\": {\"color\": \"#636efa\"}, \"name\": \"\", \"offsetgroup\": \"\", \"orientation\": \"v\", \"showlegend\": false, \"textposition\": \"auto\", \"x\": [\"\\uac15\\ud654\\uad70\", \"\\uacc4\\uc591\\uad6c\", \"\\uae30\\ud0c0\", \"\\ub0a8\\ub3d9\\uad6c\", \"\\ub3d9\\uad6c\", \"\\ubbf8\\ucd94\\ud640\\uad6c\", \"\\ubd80\\ud3c9\\uad6c\", \"\\uc11c\\uad6c\", \"\\uc5f0\\uc218\\uad6c\", \"\\uc911\\uad6c\"], \"xaxis\": \"x\", \"y\": [0.0, 2.0, 1.0, 2.0, 0.0, 7.0, 8.0, 3.0, 4.0, 0.0], \"yaxis\": \"y\", \"type\": \"bar\"}], \"name\": \"2020-03-12\"}, {\"data\": [{\"alignmentgroup\": \"True\", \"hovertemplate\": \"confirmed_date=2020-03-13<br>city=%{x}<br>cum_count=%{y}<extra></extra>\", \"ids\": [\"\\uac15\\ud654\\uad70\", \"\\uacc4\\uc591\\uad6c\", \"\\uae30\\ud0c0\", \"\\ub0a8\\ub3d9\\uad6c\", \"\\ub3d9\\uad6c\", \"\\ubbf8\\ucd94\\ud640\\uad6c\", \"\\ubd80\\ud3c9\\uad6c\", \"\\uc11c\\uad6c\", \"\\uc5f0\\uc218\\uad6c\", \"\\uc911\\uad6c\"], \"legendgroup\": \"\", \"marker\": {\"color\": \"#636efa\"}, \"name\": \"\", \"offsetgroup\": \"\", \"orientation\": \"v\", \"showlegend\": false, \"textposition\": \"auto\", \"x\": [\"\\uac15\\ud654\\uad70\", \"\\uacc4\\uc591\\uad6c\", \"\\uae30\\ud0c0\", \"\\ub0a8\\ub3d9\\uad6c\", \"\\ub3d9\\uad6c\", \"\\ubbf8\\ucd94\\ud640\\uad6c\", \"\\ubd80\\ud3c9\\uad6c\", \"\\uc11c\\uad6c\", \"\\uc5f0\\uc218\\uad6c\", \"\\uc911\\uad6c\"], \"xaxis\": \"x\", \"y\": [0.0, 2.0, 1.0, 2.0, 0.0, 7.0, 8.0, 3.0, 5.0, 0.0], \"yaxis\": \"y\", \"type\": \"bar\"}], \"name\": \"2020-03-13\"}, {\"data\": [{\"alignmentgroup\": \"True\", \"hovertemplate\": \"confirmed_date=2020-03-14<br>city=%{x}<br>cum_count=%{y}<extra></extra>\", \"ids\": [\"\\uac15\\ud654\\uad70\", \"\\uacc4\\uc591\\uad6c\", \"\\uae30\\ud0c0\", \"\\ub0a8\\ub3d9\\uad6c\", \"\\ub3d9\\uad6c\", \"\\ubbf8\\ucd94\\ud640\\uad6c\", \"\\ubd80\\ud3c9\\uad6c\", \"\\uc11c\\uad6c\", \"\\uc5f0\\uc218\\uad6c\", \"\\uc911\\uad6c\"], \"legendgroup\": \"\", \"marker\": {\"color\": \"#636efa\"}, \"name\": \"\", \"offsetgroup\": \"\", \"orientation\": \"v\", \"showlegend\": false, \"textposition\": \"auto\", \"x\": [\"\\uac15\\ud654\\uad70\", \"\\uacc4\\uc591\\uad6c\", \"\\uae30\\ud0c0\", \"\\ub0a8\\ub3d9\\uad6c\", \"\\ub3d9\\uad6c\", \"\\ubbf8\\ucd94\\ud640\\uad6c\", \"\\ubd80\\ud3c9\\uad6c\", \"\\uc11c\\uad6c\", \"\\uc5f0\\uc218\\uad6c\", \"\\uc911\\uad6c\"], \"xaxis\": \"x\", \"y\": [0.0, 2.0, 1.0, 3.0, 0.0, 7.0, 8.0, 3.0, 5.0, 0.0], \"yaxis\": \"y\", \"type\": \"bar\"}], \"name\": \"2020-03-14\"}, {\"data\": [{\"alignmentgroup\": \"True\", \"hovertemplate\": \"confirmed_date=2020-03-15<br>city=%{x}<br>cum_count=%{y}<extra></extra>\", \"ids\": [\"\\uac15\\ud654\\uad70\", \"\\uacc4\\uc591\\uad6c\", \"\\uae30\\ud0c0\", \"\\ub0a8\\ub3d9\\uad6c\", \"\\ub3d9\\uad6c\", \"\\ubbf8\\ucd94\\ud640\\uad6c\", \"\\ubd80\\ud3c9\\uad6c\", \"\\uc11c\\uad6c\", \"\\uc5f0\\uc218\\uad6c\", \"\\uc911\\uad6c\"], \"legendgroup\": \"\", \"marker\": {\"color\": \"#636efa\"}, \"name\": \"\", \"offsetgroup\": \"\", \"orientation\": \"v\", \"showlegend\": false, \"textposition\": \"auto\", \"x\": [\"\\uac15\\ud654\\uad70\", \"\\uacc4\\uc591\\uad6c\", \"\\uae30\\ud0c0\", \"\\ub0a8\\ub3d9\\uad6c\", \"\\ub3d9\\uad6c\", \"\\ubbf8\\ucd94\\ud640\\uad6c\", \"\\ubd80\\ud3c9\\uad6c\", \"\\uc11c\\uad6c\", \"\\uc5f0\\uc218\\uad6c\", \"\\uc911\\uad6c\"], \"xaxis\": \"x\", \"y\": [0.0, 2.0, 1.0, 4.0, 0.0, 7.0, 8.0, 3.0, 5.0, 0.0], \"yaxis\": \"y\", \"type\": \"bar\"}], \"name\": \"2020-03-15\"}, {\"data\": [{\"alignmentgroup\": \"True\", \"hovertemplate\": \"confirmed_date=2020-03-16<br>city=%{x}<br>cum_count=%{y}<extra></extra>\", \"ids\": [\"\\uac15\\ud654\\uad70\", \"\\uacc4\\uc591\\uad6c\", \"\\uae30\\ud0c0\", \"\\ub0a8\\ub3d9\\uad6c\", \"\\ub3d9\\uad6c\", \"\\ubbf8\\ucd94\\ud640\\uad6c\", \"\\ubd80\\ud3c9\\uad6c\", \"\\uc11c\\uad6c\", \"\\uc5f0\\uc218\\uad6c\", \"\\uc911\\uad6c\"], \"legendgroup\": \"\", \"marker\": {\"color\": \"#636efa\"}, \"name\": \"\", \"offsetgroup\": \"\", \"orientation\": \"v\", \"showlegend\": false, \"textposition\": \"auto\", \"x\": [\"\\uac15\\ud654\\uad70\", \"\\uacc4\\uc591\\uad6c\", \"\\uae30\\ud0c0\", \"\\ub0a8\\ub3d9\\uad6c\", \"\\ub3d9\\uad6c\", \"\\ubbf8\\ucd94\\ud640\\uad6c\", \"\\ubd80\\ud3c9\\uad6c\", \"\\uc11c\\uad6c\", \"\\uc5f0\\uc218\\uad6c\", \"\\uc911\\uad6c\"], \"xaxis\": \"x\", \"y\": [0.0, 2.0, 1.0, 4.0, 0.0, 7.0, 8.0, 3.0, 6.0, 0.0], \"yaxis\": \"y\", \"type\": \"bar\"}], \"name\": \"2020-03-16\"}, {\"data\": [{\"alignmentgroup\": \"True\", \"hovertemplate\": \"confirmed_date=2020-03-17<br>city=%{x}<br>cum_count=%{y}<extra></extra>\", \"ids\": [\"\\uac15\\ud654\\uad70\", \"\\uacc4\\uc591\\uad6c\", \"\\uae30\\ud0c0\", \"\\ub0a8\\ub3d9\\uad6c\", \"\\ub3d9\\uad6c\", \"\\ubbf8\\ucd94\\ud640\\uad6c\", \"\\ubd80\\ud3c9\\uad6c\", \"\\uc11c\\uad6c\", \"\\uc5f0\\uc218\\uad6c\", \"\\uc911\\uad6c\"], \"legendgroup\": \"\", \"marker\": {\"color\": \"#636efa\"}, \"name\": \"\", \"offsetgroup\": \"\", \"orientation\": \"v\", \"showlegend\": false, \"textposition\": \"auto\", \"x\": [\"\\uac15\\ud654\\uad70\", \"\\uacc4\\uc591\\uad6c\", \"\\uae30\\ud0c0\", \"\\ub0a8\\ub3d9\\uad6c\", \"\\ub3d9\\uad6c\", \"\\ubbf8\\ucd94\\ud640\\uad6c\", \"\\ubd80\\ud3c9\\uad6c\", \"\\uc11c\\uad6c\", \"\\uc5f0\\uc218\\uad6c\", \"\\uc911\\uad6c\"], \"xaxis\": \"x\", \"y\": [0.0, 3.0, 1.0, 4.0, 0.0, 7.0, 8.0, 3.0, 6.0, 0.0], \"yaxis\": \"y\", \"type\": \"bar\"}], \"name\": \"2020-03-17\"}, {\"data\": [{\"alignmentgroup\": \"True\", \"hovertemplate\": \"confirmed_date=2020-03-18<br>city=%{x}<br>cum_count=%{y}<extra></extra>\", \"ids\": [\"\\uac15\\ud654\\uad70\", \"\\uacc4\\uc591\\uad6c\", \"\\uae30\\ud0c0\", \"\\ub0a8\\ub3d9\\uad6c\", \"\\ub3d9\\uad6c\", \"\\ubbf8\\ucd94\\ud640\\uad6c\", \"\\ubd80\\ud3c9\\uad6c\", \"\\uc11c\\uad6c\", \"\\uc5f0\\uc218\\uad6c\", \"\\uc911\\uad6c\"], \"legendgroup\": \"\", \"marker\": {\"color\": \"#636efa\"}, \"name\": \"\", \"offsetgroup\": \"\", \"orientation\": \"v\", \"showlegend\": false, \"textposition\": \"auto\", \"x\": [\"\\uac15\\ud654\\uad70\", \"\\uacc4\\uc591\\uad6c\", \"\\uae30\\ud0c0\", \"\\ub0a8\\ub3d9\\uad6c\", \"\\ub3d9\\uad6c\", \"\\ubbf8\\ucd94\\ud640\\uad6c\", \"\\ubd80\\ud3c9\\uad6c\", \"\\uc11c\\uad6c\", \"\\uc5f0\\uc218\\uad6c\", \"\\uc911\\uad6c\"], \"xaxis\": \"x\", \"y\": [0.0, 3.0, 1.0, 4.0, 0.0, 7.0, 8.0, 3.0, 6.0, 0.0], \"yaxis\": \"y\", \"type\": \"bar\"}], \"name\": \"2020-03-18\"}, {\"data\": [{\"alignmentgroup\": \"True\", \"hovertemplate\": \"confirmed_date=2020-03-19<br>city=%{x}<br>cum_count=%{y}<extra></extra>\", \"ids\": [\"\\uac15\\ud654\\uad70\", \"\\uacc4\\uc591\\uad6c\", \"\\uae30\\ud0c0\", \"\\ub0a8\\ub3d9\\uad6c\", \"\\ub3d9\\uad6c\", \"\\ubbf8\\ucd94\\ud640\\uad6c\", \"\\ubd80\\ud3c9\\uad6c\", \"\\uc11c\\uad6c\", \"\\uc5f0\\uc218\\uad6c\", \"\\uc911\\uad6c\"], \"legendgroup\": \"\", \"marker\": {\"color\": \"#636efa\"}, \"name\": \"\", \"offsetgroup\": \"\", \"orientation\": \"v\", \"showlegend\": false, \"textposition\": \"auto\", \"x\": [\"\\uac15\\ud654\\uad70\", \"\\uacc4\\uc591\\uad6c\", \"\\uae30\\ud0c0\", \"\\ub0a8\\ub3d9\\uad6c\", \"\\ub3d9\\uad6c\", \"\\ubbf8\\ucd94\\ud640\\uad6c\", \"\\ubd80\\ud3c9\\uad6c\", \"\\uc11c\\uad6c\", \"\\uc5f0\\uc218\\uad6c\", \"\\uc911\\uad6c\"], \"xaxis\": \"x\", \"y\": [0.0, 4.0, 2.0, 4.0, 2.0, 7.0, 8.0, 3.0, 9.0, 0.0], \"yaxis\": \"y\", \"type\": \"bar\"}], \"name\": \"2020-03-19\"}, {\"data\": [{\"alignmentgroup\": \"True\", \"hovertemplate\": \"confirmed_date=2020-03-20<br>city=%{x}<br>cum_count=%{y}<extra></extra>\", \"ids\": [\"\\uac15\\ud654\\uad70\", \"\\uacc4\\uc591\\uad6c\", \"\\uae30\\ud0c0\", \"\\ub0a8\\ub3d9\\uad6c\", \"\\ub3d9\\uad6c\", \"\\ubbf8\\ucd94\\ud640\\uad6c\", \"\\ubd80\\ud3c9\\uad6c\", \"\\uc11c\\uad6c\", \"\\uc5f0\\uc218\\uad6c\", \"\\uc911\\uad6c\"], \"legendgroup\": \"\", \"marker\": {\"color\": \"#636efa\"}, \"name\": \"\", \"offsetgroup\": \"\", \"orientation\": \"v\", \"showlegend\": false, \"textposition\": \"auto\", \"x\": [\"\\uac15\\ud654\\uad70\", \"\\uacc4\\uc591\\uad6c\", \"\\uae30\\ud0c0\", \"\\ub0a8\\ub3d9\\uad6c\", \"\\ub3d9\\uad6c\", \"\\ubbf8\\ucd94\\ud640\\uad6c\", \"\\ubd80\\ud3c9\\uad6c\", \"\\uc11c\\uad6c\", \"\\uc5f0\\uc218\\uad6c\", \"\\uc911\\uad6c\"], \"xaxis\": \"x\", \"y\": [0.0, 4.0, 2.0, 4.0, 2.0, 7.0, 8.0, 3.0, 10.0, 0.0], \"yaxis\": \"y\", \"type\": \"bar\"}], \"name\": \"2020-03-20\"}, {\"data\": [{\"alignmentgroup\": \"True\", \"hovertemplate\": \"confirmed_date=2020-03-21<br>city=%{x}<br>cum_count=%{y}<extra></extra>\", \"ids\": [\"\\uac15\\ud654\\uad70\", \"\\uacc4\\uc591\\uad6c\", \"\\uae30\\ud0c0\", \"\\ub0a8\\ub3d9\\uad6c\", \"\\ub3d9\\uad6c\", \"\\ubbf8\\ucd94\\ud640\\uad6c\", \"\\ubd80\\ud3c9\\uad6c\", \"\\uc11c\\uad6c\", \"\\uc5f0\\uc218\\uad6c\", \"\\uc911\\uad6c\"], \"legendgroup\": \"\", \"marker\": {\"color\": \"#636efa\"}, \"name\": \"\", \"offsetgroup\": \"\", \"orientation\": \"v\", \"showlegend\": false, \"textposition\": \"auto\", \"x\": [\"\\uac15\\ud654\\uad70\", \"\\uacc4\\uc591\\uad6c\", \"\\uae30\\ud0c0\", \"\\ub0a8\\ub3d9\\uad6c\", \"\\ub3d9\\uad6c\", \"\\ubbf8\\ucd94\\ud640\\uad6c\", \"\\ubd80\\ud3c9\\uad6c\", \"\\uc11c\\uad6c\", \"\\uc5f0\\uc218\\uad6c\", \"\\uc911\\uad6c\"], \"xaxis\": \"x\", \"y\": [0.0, 4.0, 2.0, 4.0, 2.0, 7.0, 8.0, 3.0, 10.0, 0.0], \"yaxis\": \"y\", \"type\": \"bar\"}], \"name\": \"2020-03-21\"}, {\"data\": [{\"alignmentgroup\": \"True\", \"hovertemplate\": \"confirmed_date=2020-03-22<br>city=%{x}<br>cum_count=%{y}<extra></extra>\", \"ids\": [\"\\uac15\\ud654\\uad70\", \"\\uacc4\\uc591\\uad6c\", \"\\uae30\\ud0c0\", \"\\ub0a8\\ub3d9\\uad6c\", \"\\ub3d9\\uad6c\", \"\\ubbf8\\ucd94\\ud640\\uad6c\", \"\\ubd80\\ud3c9\\uad6c\", \"\\uc11c\\uad6c\", \"\\uc5f0\\uc218\\uad6c\", \"\\uc911\\uad6c\"], \"legendgroup\": \"\", \"marker\": {\"color\": \"#636efa\"}, \"name\": \"\", \"offsetgroup\": \"\", \"orientation\": \"v\", \"showlegend\": false, \"textposition\": \"auto\", \"x\": [\"\\uac15\\ud654\\uad70\", \"\\uacc4\\uc591\\uad6c\", \"\\uae30\\ud0c0\", \"\\ub0a8\\ub3d9\\uad6c\", \"\\ub3d9\\uad6c\", \"\\ubbf8\\ucd94\\ud640\\uad6c\", \"\\ubd80\\ud3c9\\uad6c\", \"\\uc11c\\uad6c\", \"\\uc5f0\\uc218\\uad6c\", \"\\uc911\\uad6c\"], \"xaxis\": \"x\", \"y\": [0.0, 4.0, 2.0, 4.0, 2.0, 7.0, 8.0, 3.0, 10.0, 0.0], \"yaxis\": \"y\", \"type\": \"bar\"}], \"name\": \"2020-03-22\"}, {\"data\": [{\"alignmentgroup\": \"True\", \"hovertemplate\": \"confirmed_date=2020-03-23<br>city=%{x}<br>cum_count=%{y}<extra></extra>\", \"ids\": [\"\\uac15\\ud654\\uad70\", \"\\uacc4\\uc591\\uad6c\", \"\\uae30\\ud0c0\", \"\\ub0a8\\ub3d9\\uad6c\", \"\\ub3d9\\uad6c\", \"\\ubbf8\\ucd94\\ud640\\uad6c\", \"\\ubd80\\ud3c9\\uad6c\", \"\\uc11c\\uad6c\", \"\\uc5f0\\uc218\\uad6c\", \"\\uc911\\uad6c\"], \"legendgroup\": \"\", \"marker\": {\"color\": \"#636efa\"}, \"name\": \"\", \"offsetgroup\": \"\", \"orientation\": \"v\", \"showlegend\": false, \"textposition\": \"auto\", \"x\": [\"\\uac15\\ud654\\uad70\", \"\\uacc4\\uc591\\uad6c\", \"\\uae30\\ud0c0\", \"\\ub0a8\\ub3d9\\uad6c\", \"\\ub3d9\\uad6c\", \"\\ubbf8\\ucd94\\ud640\\uad6c\", \"\\ubd80\\ud3c9\\uad6c\", \"\\uc11c\\uad6c\", \"\\uc5f0\\uc218\\uad6c\", \"\\uc911\\uad6c\"], \"xaxis\": \"x\", \"y\": [0.0, 4.0, 2.0, 4.0, 2.0, 7.0, 9.0, 3.0, 11.0, 0.0], \"yaxis\": \"y\", \"type\": \"bar\"}], \"name\": \"2020-03-23\"}, {\"data\": [{\"alignmentgroup\": \"True\", \"hovertemplate\": \"confirmed_date=2020-03-24<br>city=%{x}<br>cum_count=%{y}<extra></extra>\", \"ids\": [\"\\uac15\\ud654\\uad70\", \"\\uacc4\\uc591\\uad6c\", \"\\uae30\\ud0c0\", \"\\ub0a8\\ub3d9\\uad6c\", \"\\ub3d9\\uad6c\", \"\\ubbf8\\ucd94\\ud640\\uad6c\", \"\\ubd80\\ud3c9\\uad6c\", \"\\uc11c\\uad6c\", \"\\uc5f0\\uc218\\uad6c\", \"\\uc911\\uad6c\"], \"legendgroup\": \"\", \"marker\": {\"color\": \"#636efa\"}, \"name\": \"\", \"offsetgroup\": \"\", \"orientation\": \"v\", \"showlegend\": false, \"textposition\": \"auto\", \"x\": [\"\\uac15\\ud654\\uad70\", \"\\uacc4\\uc591\\uad6c\", \"\\uae30\\ud0c0\", \"\\ub0a8\\ub3d9\\uad6c\", \"\\ub3d9\\uad6c\", \"\\ubbf8\\ucd94\\ud640\\uad6c\", \"\\ubd80\\ud3c9\\uad6c\", \"\\uc11c\\uad6c\", \"\\uc5f0\\uc218\\uad6c\", \"\\uc911\\uad6c\"], \"xaxis\": \"x\", \"y\": [0.0, 4.0, 2.0, 4.0, 2.0, 7.0, 9.0, 3.0, 11.0, 0.0], \"yaxis\": \"y\", \"type\": \"bar\"}], \"name\": \"2020-03-24\"}, {\"data\": [{\"alignmentgroup\": \"True\", \"hovertemplate\": \"confirmed_date=2020-03-25<br>city=%{x}<br>cum_count=%{y}<extra></extra>\", \"ids\": [\"\\uac15\\ud654\\uad70\", \"\\uacc4\\uc591\\uad6c\", \"\\uae30\\ud0c0\", \"\\ub0a8\\ub3d9\\uad6c\", \"\\ub3d9\\uad6c\", \"\\ubbf8\\ucd94\\ud640\\uad6c\", \"\\ubd80\\ud3c9\\uad6c\", \"\\uc11c\\uad6c\", \"\\uc5f0\\uc218\\uad6c\", \"\\uc911\\uad6c\"], \"legendgroup\": \"\", \"marker\": {\"color\": \"#636efa\"}, \"name\": \"\", \"offsetgroup\": \"\", \"orientation\": \"v\", \"showlegend\": false, \"textposition\": \"auto\", \"x\": [\"\\uac15\\ud654\\uad70\", \"\\uacc4\\uc591\\uad6c\", \"\\uae30\\ud0c0\", \"\\ub0a8\\ub3d9\\uad6c\", \"\\ub3d9\\uad6c\", \"\\ubbf8\\ucd94\\ud640\\uad6c\", \"\\ubd80\\ud3c9\\uad6c\", \"\\uc11c\\uad6c\", \"\\uc5f0\\uc218\\uad6c\", \"\\uc911\\uad6c\"], \"xaxis\": \"x\", \"y\": [0.0, 4.0, 2.0, 4.0, 2.0, 7.0, 9.0, 3.0, 12.0, 1.0], \"yaxis\": \"y\", \"type\": \"bar\"}], \"name\": \"2020-03-25\"}, {\"data\": [{\"alignmentgroup\": \"True\", \"hovertemplate\": \"confirmed_date=2020-03-26<br>city=%{x}<br>cum_count=%{y}<extra></extra>\", \"ids\": [\"\\uac15\\ud654\\uad70\", \"\\uacc4\\uc591\\uad6c\", \"\\uae30\\ud0c0\", \"\\ub0a8\\ub3d9\\uad6c\", \"\\ub3d9\\uad6c\", \"\\ubbf8\\ucd94\\ud640\\uad6c\", \"\\ubd80\\ud3c9\\uad6c\", \"\\uc11c\\uad6c\", \"\\uc5f0\\uc218\\uad6c\", \"\\uc911\\uad6c\"], \"legendgroup\": \"\", \"marker\": {\"color\": \"#636efa\"}, \"name\": \"\", \"offsetgroup\": \"\", \"orientation\": \"v\", \"showlegend\": false, \"textposition\": \"auto\", \"x\": [\"\\uac15\\ud654\\uad70\", \"\\uacc4\\uc591\\uad6c\", \"\\uae30\\ud0c0\", \"\\ub0a8\\ub3d9\\uad6c\", \"\\ub3d9\\uad6c\", \"\\ubbf8\\ucd94\\ud640\\uad6c\", \"\\ubd80\\ud3c9\\uad6c\", \"\\uc11c\\uad6c\", \"\\uc5f0\\uc218\\uad6c\", \"\\uc911\\uad6c\"], \"xaxis\": \"x\", \"y\": [0.0, 4.0, 2.0, 5.0, 2.0, 7.0, 10.0, 3.0, 13.0, 1.0], \"yaxis\": \"y\", \"type\": \"bar\"}], \"name\": \"2020-03-26\"}, {\"data\": [{\"alignmentgroup\": \"True\", \"hovertemplate\": \"confirmed_date=2020-03-27<br>city=%{x}<br>cum_count=%{y}<extra></extra>\", \"ids\": [\"\\uac15\\ud654\\uad70\", \"\\uacc4\\uc591\\uad6c\", \"\\uae30\\ud0c0\", \"\\ub0a8\\ub3d9\\uad6c\", \"\\ub3d9\\uad6c\", \"\\ubbf8\\ucd94\\ud640\\uad6c\", \"\\ubd80\\ud3c9\\uad6c\", \"\\uc11c\\uad6c\", \"\\uc5f0\\uc218\\uad6c\", \"\\uc911\\uad6c\"], \"legendgroup\": \"\", \"marker\": {\"color\": \"#636efa\"}, \"name\": \"\", \"offsetgroup\": \"\", \"orientation\": \"v\", \"showlegend\": false, \"textposition\": \"auto\", \"x\": [\"\\uac15\\ud654\\uad70\", \"\\uacc4\\uc591\\uad6c\", \"\\uae30\\ud0c0\", \"\\ub0a8\\ub3d9\\uad6c\", \"\\ub3d9\\uad6c\", \"\\ubbf8\\ucd94\\ud640\\uad6c\", \"\\ubd80\\ud3c9\\uad6c\", \"\\uc11c\\uad6c\", \"\\uc5f0\\uc218\\uad6c\", \"\\uc911\\uad6c\"], \"xaxis\": \"x\", \"y\": [0.0, 5.0, 2.0, 5.0, 2.0, 8.0, 12.0, 3.0, 14.0, 1.0], \"yaxis\": \"y\", \"type\": \"bar\"}], \"name\": \"2020-03-27\"}, {\"data\": [{\"alignmentgroup\": \"True\", \"hovertemplate\": \"confirmed_date=2020-03-28<br>city=%{x}<br>cum_count=%{y}<extra></extra>\", \"ids\": [\"\\uac15\\ud654\\uad70\", \"\\uacc4\\uc591\\uad6c\", \"\\uae30\\ud0c0\", \"\\ub0a8\\ub3d9\\uad6c\", \"\\ub3d9\\uad6c\", \"\\ubbf8\\ucd94\\ud640\\uad6c\", \"\\ubd80\\ud3c9\\uad6c\", \"\\uc11c\\uad6c\", \"\\uc5f0\\uc218\\uad6c\", \"\\uc911\\uad6c\"], \"legendgroup\": \"\", \"marker\": {\"color\": \"#636efa\"}, \"name\": \"\", \"offsetgroup\": \"\", \"orientation\": \"v\", \"showlegend\": false, \"textposition\": \"auto\", \"x\": [\"\\uac15\\ud654\\uad70\", \"\\uacc4\\uc591\\uad6c\", \"\\uae30\\ud0c0\", \"\\ub0a8\\ub3d9\\uad6c\", \"\\ub3d9\\uad6c\", \"\\ubbf8\\ucd94\\ud640\\uad6c\", \"\\ubd80\\ud3c9\\uad6c\", \"\\uc11c\\uad6c\", \"\\uc5f0\\uc218\\uad6c\", \"\\uc911\\uad6c\"], \"xaxis\": \"x\", \"y\": [0.0, 5.0, 2.0, 6.0, 2.0, 8.0, 14.0, 3.0, 16.0, 3.0], \"yaxis\": \"y\", \"type\": \"bar\"}], \"name\": \"2020-03-28\"}, {\"data\": [{\"alignmentgroup\": \"True\", \"hovertemplate\": \"confirmed_date=2020-03-29<br>city=%{x}<br>cum_count=%{y}<extra></extra>\", \"ids\": [\"\\uac15\\ud654\\uad70\", \"\\uacc4\\uc591\\uad6c\", \"\\uae30\\ud0c0\", \"\\ub0a8\\ub3d9\\uad6c\", \"\\ub3d9\\uad6c\", \"\\ubbf8\\ucd94\\ud640\\uad6c\", \"\\ubd80\\ud3c9\\uad6c\", \"\\uc11c\\uad6c\", \"\\uc5f0\\uc218\\uad6c\", \"\\uc911\\uad6c\"], \"legendgroup\": \"\", \"marker\": {\"color\": \"#636efa\"}, \"name\": \"\", \"offsetgroup\": \"\", \"orientation\": \"v\", \"showlegend\": false, \"textposition\": \"auto\", \"x\": [\"\\uac15\\ud654\\uad70\", \"\\uacc4\\uc591\\uad6c\", \"\\uae30\\ud0c0\", \"\\ub0a8\\ub3d9\\uad6c\", \"\\ub3d9\\uad6c\", \"\\ubbf8\\ucd94\\ud640\\uad6c\", \"\\ubd80\\ud3c9\\uad6c\", \"\\uc11c\\uad6c\", \"\\uc5f0\\uc218\\uad6c\", \"\\uc911\\uad6c\"], \"xaxis\": \"x\", \"y\": [0.0, 5.0, 2.0, 6.0, 2.0, 8.0, 15.0, 4.0, 16.0, 3.0], \"yaxis\": \"y\", \"type\": \"bar\"}], \"name\": \"2020-03-29\"}, {\"data\": [{\"alignmentgroup\": \"True\", \"hovertemplate\": \"confirmed_date=2020-03-30<br>city=%{x}<br>cum_count=%{y}<extra></extra>\", \"ids\": [\"\\uac15\\ud654\\uad70\", \"\\uacc4\\uc591\\uad6c\", \"\\uae30\\ud0c0\", \"\\ub0a8\\ub3d9\\uad6c\", \"\\ub3d9\\uad6c\", \"\\ubbf8\\ucd94\\ud640\\uad6c\", \"\\ubd80\\ud3c9\\uad6c\", \"\\uc11c\\uad6c\", \"\\uc5f0\\uc218\\uad6c\", \"\\uc911\\uad6c\"], \"legendgroup\": \"\", \"marker\": {\"color\": \"#636efa\"}, \"name\": \"\", \"offsetgroup\": \"\", \"orientation\": \"v\", \"showlegend\": false, \"textposition\": \"auto\", \"x\": [\"\\uac15\\ud654\\uad70\", \"\\uacc4\\uc591\\uad6c\", \"\\uae30\\ud0c0\", \"\\ub0a8\\ub3d9\\uad6c\", \"\\ub3d9\\uad6c\", \"\\ubbf8\\ucd94\\ud640\\uad6c\", \"\\ubd80\\ud3c9\\uad6c\", \"\\uc11c\\uad6c\", \"\\uc5f0\\uc218\\uad6c\", \"\\uc911\\uad6c\"], \"xaxis\": \"x\", \"y\": [0.0, 5.0, 2.0, 8.0, 2.0, 9.0, 15.0, 4.0, 16.0, 5.0], \"yaxis\": \"y\", \"type\": \"bar\"}], \"name\": \"2020-03-30\"}, {\"data\": [{\"alignmentgroup\": \"True\", \"hovertemplate\": \"confirmed_date=2020-03-31<br>city=%{x}<br>cum_count=%{y}<extra></extra>\", \"ids\": [\"\\uac15\\ud654\\uad70\", \"\\uacc4\\uc591\\uad6c\", \"\\uae30\\ud0c0\", \"\\ub0a8\\ub3d9\\uad6c\", \"\\ub3d9\\uad6c\", \"\\ubbf8\\ucd94\\ud640\\uad6c\", \"\\ubd80\\ud3c9\\uad6c\", \"\\uc11c\\uad6c\", \"\\uc5f0\\uc218\\uad6c\", \"\\uc911\\uad6c\"], \"legendgroup\": \"\", \"marker\": {\"color\": \"#636efa\"}, \"name\": \"\", \"offsetgroup\": \"\", \"orientation\": \"v\", \"showlegend\": false, \"textposition\": \"auto\", \"x\": [\"\\uac15\\ud654\\uad70\", \"\\uacc4\\uc591\\uad6c\", \"\\uae30\\ud0c0\", \"\\ub0a8\\ub3d9\\uad6c\", \"\\ub3d9\\uad6c\", \"\\ubbf8\\ucd94\\ud640\\uad6c\", \"\\ubd80\\ud3c9\\uad6c\", \"\\uc11c\\uad6c\", \"\\uc5f0\\uc218\\uad6c\", \"\\uc911\\uad6c\"], \"xaxis\": \"x\", \"y\": [0.0, 5.0, 3.0, 9.0, 2.0, 9.0, 15.0, 5.0, 17.0, 5.0], \"yaxis\": \"y\", \"type\": \"bar\"}], \"name\": \"2020-03-31\"}, {\"data\": [{\"alignmentgroup\": \"True\", \"hovertemplate\": \"confirmed_date=2020-04-01<br>city=%{x}<br>cum_count=%{y}<extra></extra>\", \"ids\": [\"\\uac15\\ud654\\uad70\", \"\\uacc4\\uc591\\uad6c\", \"\\uae30\\ud0c0\", \"\\ub0a8\\ub3d9\\uad6c\", \"\\ub3d9\\uad6c\", \"\\ubbf8\\ucd94\\ud640\\uad6c\", \"\\ubd80\\ud3c9\\uad6c\", \"\\uc11c\\uad6c\", \"\\uc5f0\\uc218\\uad6c\", \"\\uc911\\uad6c\"], \"legendgroup\": \"\", \"marker\": {\"color\": \"#636efa\"}, \"name\": \"\", \"offsetgroup\": \"\", \"orientation\": \"v\", \"showlegend\": false, \"textposition\": \"auto\", \"x\": [\"\\uac15\\ud654\\uad70\", \"\\uacc4\\uc591\\uad6c\", \"\\uae30\\ud0c0\", \"\\ub0a8\\ub3d9\\uad6c\", \"\\ub3d9\\uad6c\", \"\\ubbf8\\ucd94\\ud640\\uad6c\", \"\\ubd80\\ud3c9\\uad6c\", \"\\uc11c\\uad6c\", \"\\uc5f0\\uc218\\uad6c\", \"\\uc911\\uad6c\"], \"xaxis\": \"x\", \"y\": [0.0, 5.0, 3.0, 9.0, 2.0, 10.0, 15.0, 5.0, 20.0, 5.0], \"yaxis\": \"y\", \"type\": \"bar\"}], \"name\": \"2020-04-01\"}, {\"data\": [{\"alignmentgroup\": \"True\", \"hovertemplate\": \"confirmed_date=2020-04-02<br>city=%{x}<br>cum_count=%{y}<extra></extra>\", \"ids\": [\"\\uac15\\ud654\\uad70\", \"\\uacc4\\uc591\\uad6c\", \"\\uae30\\ud0c0\", \"\\ub0a8\\ub3d9\\uad6c\", \"\\ub3d9\\uad6c\", \"\\ubbf8\\ucd94\\ud640\\uad6c\", \"\\ubd80\\ud3c9\\uad6c\", \"\\uc11c\\uad6c\", \"\\uc5f0\\uc218\\uad6c\", \"\\uc911\\uad6c\"], \"legendgroup\": \"\", \"marker\": {\"color\": \"#636efa\"}, \"name\": \"\", \"offsetgroup\": \"\", \"orientation\": \"v\", \"showlegend\": false, \"textposition\": \"auto\", \"x\": [\"\\uac15\\ud654\\uad70\", \"\\uacc4\\uc591\\uad6c\", \"\\uae30\\ud0c0\", \"\\ub0a8\\ub3d9\\uad6c\", \"\\ub3d9\\uad6c\", \"\\ubbf8\\ucd94\\ud640\\uad6c\", \"\\ubd80\\ud3c9\\uad6c\", \"\\uc11c\\uad6c\", \"\\uc5f0\\uc218\\uad6c\", \"\\uc911\\uad6c\"], \"xaxis\": \"x\", \"y\": [0.0, 5.0, 3.0, 9.0, 2.0, 10.0, 15.0, 6.0, 20.0, 5.0], \"yaxis\": \"y\", \"type\": \"bar\"}], \"name\": \"2020-04-02\"}, {\"data\": [{\"alignmentgroup\": \"True\", \"hovertemplate\": \"confirmed_date=2020-04-03<br>city=%{x}<br>cum_count=%{y}<extra></extra>\", \"ids\": [\"\\uac15\\ud654\\uad70\", \"\\uacc4\\uc591\\uad6c\", \"\\uae30\\ud0c0\", \"\\ub0a8\\ub3d9\\uad6c\", \"\\ub3d9\\uad6c\", \"\\ubbf8\\ucd94\\ud640\\uad6c\", \"\\ubd80\\ud3c9\\uad6c\", \"\\uc11c\\uad6c\", \"\\uc5f0\\uc218\\uad6c\", \"\\uc911\\uad6c\"], \"legendgroup\": \"\", \"marker\": {\"color\": \"#636efa\"}, \"name\": \"\", \"offsetgroup\": \"\", \"orientation\": \"v\", \"showlegend\": false, \"textposition\": \"auto\", \"x\": [\"\\uac15\\ud654\\uad70\", \"\\uacc4\\uc591\\uad6c\", \"\\uae30\\ud0c0\", \"\\ub0a8\\ub3d9\\uad6c\", \"\\ub3d9\\uad6c\", \"\\ubbf8\\ucd94\\ud640\\uad6c\", \"\\ubd80\\ud3c9\\uad6c\", \"\\uc11c\\uad6c\", \"\\uc5f0\\uc218\\uad6c\", \"\\uc911\\uad6c\"], \"xaxis\": \"x\", \"y\": [0.0, 5.0, 3.0, 9.0, 2.0, 10.0, 15.0, 9.0, 20.0, 5.0], \"yaxis\": \"y\", \"type\": \"bar\"}], \"name\": \"2020-04-03\"}, {\"data\": [{\"alignmentgroup\": \"True\", \"hovertemplate\": \"confirmed_date=2020-04-04<br>city=%{x}<br>cum_count=%{y}<extra></extra>\", \"ids\": [\"\\uac15\\ud654\\uad70\", \"\\uacc4\\uc591\\uad6c\", \"\\uae30\\ud0c0\", \"\\ub0a8\\ub3d9\\uad6c\", \"\\ub3d9\\uad6c\", \"\\ubbf8\\ucd94\\ud640\\uad6c\", \"\\ubd80\\ud3c9\\uad6c\", \"\\uc11c\\uad6c\", \"\\uc5f0\\uc218\\uad6c\", \"\\uc911\\uad6c\"], \"legendgroup\": \"\", \"marker\": {\"color\": \"#636efa\"}, \"name\": \"\", \"offsetgroup\": \"\", \"orientation\": \"v\", \"showlegend\": false, \"textposition\": \"auto\", \"x\": [\"\\uac15\\ud654\\uad70\", \"\\uacc4\\uc591\\uad6c\", \"\\uae30\\ud0c0\", \"\\ub0a8\\ub3d9\\uad6c\", \"\\ub3d9\\uad6c\", \"\\ubbf8\\ucd94\\ud640\\uad6c\", \"\\ubd80\\ud3c9\\uad6c\", \"\\uc11c\\uad6c\", \"\\uc5f0\\uc218\\uad6c\", \"\\uc911\\uad6c\"], \"xaxis\": \"x\", \"y\": [0.0, 6.0, 3.0, 9.0, 2.0, 10.0, 15.0, 9.0, 20.0, 5.0], \"yaxis\": \"y\", \"type\": \"bar\"}], \"name\": \"2020-04-04\"}, {\"data\": [{\"alignmentgroup\": \"True\", \"hovertemplate\": \"confirmed_date=2020-04-05<br>city=%{x}<br>cum_count=%{y}<extra></extra>\", \"ids\": [\"\\uac15\\ud654\\uad70\", \"\\uacc4\\uc591\\uad6c\", \"\\uae30\\ud0c0\", \"\\ub0a8\\ub3d9\\uad6c\", \"\\ub3d9\\uad6c\", \"\\ubbf8\\ucd94\\ud640\\uad6c\", \"\\ubd80\\ud3c9\\uad6c\", \"\\uc11c\\uad6c\", \"\\uc5f0\\uc218\\uad6c\", \"\\uc911\\uad6c\"], \"legendgroup\": \"\", \"marker\": {\"color\": \"#636efa\"}, \"name\": \"\", \"offsetgroup\": \"\", \"orientation\": \"v\", \"showlegend\": false, \"textposition\": \"auto\", \"x\": [\"\\uac15\\ud654\\uad70\", \"\\uacc4\\uc591\\uad6c\", \"\\uae30\\ud0c0\", \"\\ub0a8\\ub3d9\\uad6c\", \"\\ub3d9\\uad6c\", \"\\ubbf8\\ucd94\\ud640\\uad6c\", \"\\ubd80\\ud3c9\\uad6c\", \"\\uc11c\\uad6c\", \"\\uc5f0\\uc218\\uad6c\", \"\\uc911\\uad6c\"], \"xaxis\": \"x\", \"y\": [0.0, 6.0, 3.0, 9.0, 2.0, 10.0, 15.0, 9.0, 21.0, 5.0], \"yaxis\": \"y\", \"type\": \"bar\"}], \"name\": \"2020-04-05\"}, {\"data\": [{\"alignmentgroup\": \"True\", \"hovertemplate\": \"confirmed_date=2020-04-06<br>city=%{x}<br>cum_count=%{y}<extra></extra>\", \"ids\": [\"\\uac15\\ud654\\uad70\", \"\\uacc4\\uc591\\uad6c\", \"\\uae30\\ud0c0\", \"\\ub0a8\\ub3d9\\uad6c\", \"\\ub3d9\\uad6c\", \"\\ubbf8\\ucd94\\ud640\\uad6c\", \"\\ubd80\\ud3c9\\uad6c\", \"\\uc11c\\uad6c\", \"\\uc5f0\\uc218\\uad6c\", \"\\uc911\\uad6c\"], \"legendgroup\": \"\", \"marker\": {\"color\": \"#636efa\"}, \"name\": \"\", \"offsetgroup\": \"\", \"orientation\": \"v\", \"showlegend\": false, \"textposition\": \"auto\", \"x\": [\"\\uac15\\ud654\\uad70\", \"\\uacc4\\uc591\\uad6c\", \"\\uae30\\ud0c0\", \"\\ub0a8\\ub3d9\\uad6c\", \"\\ub3d9\\uad6c\", \"\\ubbf8\\ucd94\\ud640\\uad6c\", \"\\ubd80\\ud3c9\\uad6c\", \"\\uc11c\\uad6c\", \"\\uc5f0\\uc218\\uad6c\", \"\\uc911\\uad6c\"], \"xaxis\": \"x\", \"y\": [0.0, 6.0, 3.0, 9.0, 2.0, 10.0, 15.0, 9.0, 21.0, 5.0], \"yaxis\": \"y\", \"type\": \"bar\"}], \"name\": \"2020-04-06\"}, {\"data\": [{\"alignmentgroup\": \"True\", \"hovertemplate\": \"confirmed_date=2020-04-07<br>city=%{x}<br>cum_count=%{y}<extra></extra>\", \"ids\": [\"\\uac15\\ud654\\uad70\", \"\\uacc4\\uc591\\uad6c\", \"\\uae30\\ud0c0\", \"\\ub0a8\\ub3d9\\uad6c\", \"\\ub3d9\\uad6c\", \"\\ubbf8\\ucd94\\ud640\\uad6c\", \"\\ubd80\\ud3c9\\uad6c\", \"\\uc11c\\uad6c\", \"\\uc5f0\\uc218\\uad6c\", \"\\uc911\\uad6c\"], \"legendgroup\": \"\", \"marker\": {\"color\": \"#636efa\"}, \"name\": \"\", \"offsetgroup\": \"\", \"orientation\": \"v\", \"showlegend\": false, \"textposition\": \"auto\", \"x\": [\"\\uac15\\ud654\\uad70\", \"\\uacc4\\uc591\\uad6c\", \"\\uae30\\ud0c0\", \"\\ub0a8\\ub3d9\\uad6c\", \"\\ub3d9\\uad6c\", \"\\ubbf8\\ucd94\\ud640\\uad6c\", \"\\ubd80\\ud3c9\\uad6c\", \"\\uc11c\\uad6c\", \"\\uc5f0\\uc218\\uad6c\", \"\\uc911\\uad6c\"], \"xaxis\": \"x\", \"y\": [0.0, 6.0, 3.0, 9.0, 2.0, 10.0, 16.0, 11.0, 21.0, 5.0], \"yaxis\": \"y\", \"type\": \"bar\"}], \"name\": \"2020-04-07\"}, {\"data\": [{\"alignmentgroup\": \"True\", \"hovertemplate\": \"confirmed_date=2020-04-08<br>city=%{x}<br>cum_count=%{y}<extra></extra>\", \"ids\": [\"\\uac15\\ud654\\uad70\", \"\\uacc4\\uc591\\uad6c\", \"\\uae30\\ud0c0\", \"\\ub0a8\\ub3d9\\uad6c\", \"\\ub3d9\\uad6c\", \"\\ubbf8\\ucd94\\ud640\\uad6c\", \"\\ubd80\\ud3c9\\uad6c\", \"\\uc11c\\uad6c\", \"\\uc5f0\\uc218\\uad6c\", \"\\uc911\\uad6c\"], \"legendgroup\": \"\", \"marker\": {\"color\": \"#636efa\"}, \"name\": \"\", \"offsetgroup\": \"\", \"orientation\": \"v\", \"showlegend\": false, \"textposition\": \"auto\", \"x\": [\"\\uac15\\ud654\\uad70\", \"\\uacc4\\uc591\\uad6c\", \"\\uae30\\ud0c0\", \"\\ub0a8\\ub3d9\\uad6c\", \"\\ub3d9\\uad6c\", \"\\ubbf8\\ucd94\\ud640\\uad6c\", \"\\ubd80\\ud3c9\\uad6c\", \"\\uc11c\\uad6c\", \"\\uc5f0\\uc218\\uad6c\", \"\\uc911\\uad6c\"], \"xaxis\": \"x\", \"y\": [0.0, 6.0, 3.0, 9.0, 2.0, 10.0, 16.0, 11.0, 21.0, 5.0], \"yaxis\": \"y\", \"type\": \"bar\"}], \"name\": \"2020-04-08\"}, {\"data\": [{\"alignmentgroup\": \"True\", \"hovertemplate\": \"confirmed_date=2020-04-09<br>city=%{x}<br>cum_count=%{y}<extra></extra>\", \"ids\": [\"\\uac15\\ud654\\uad70\", \"\\uacc4\\uc591\\uad6c\", \"\\uae30\\ud0c0\", \"\\ub0a8\\ub3d9\\uad6c\", \"\\ub3d9\\uad6c\", \"\\ubbf8\\ucd94\\ud640\\uad6c\", \"\\ubd80\\ud3c9\\uad6c\", \"\\uc11c\\uad6c\", \"\\uc5f0\\uc218\\uad6c\", \"\\uc911\\uad6c\"], \"legendgroup\": \"\", \"marker\": {\"color\": \"#636efa\"}, \"name\": \"\", \"offsetgroup\": \"\", \"orientation\": \"v\", \"showlegend\": false, \"textposition\": \"auto\", \"x\": [\"\\uac15\\ud654\\uad70\", \"\\uacc4\\uc591\\uad6c\", \"\\uae30\\ud0c0\", \"\\ub0a8\\ub3d9\\uad6c\", \"\\ub3d9\\uad6c\", \"\\ubbf8\\ucd94\\ud640\\uad6c\", \"\\ubd80\\ud3c9\\uad6c\", \"\\uc11c\\uad6c\", \"\\uc5f0\\uc218\\uad6c\", \"\\uc911\\uad6c\"], \"xaxis\": \"x\", \"y\": [0.0, 6.0, 3.0, 10.0, 2.0, 10.0, 17.0, 11.0, 21.0, 5.0], \"yaxis\": \"y\", \"type\": \"bar\"}], \"name\": \"2020-04-09\"}, {\"data\": [{\"alignmentgroup\": \"True\", \"hovertemplate\": \"confirmed_date=2020-04-10<br>city=%{x}<br>cum_count=%{y}<extra></extra>\", \"ids\": [\"\\uac15\\ud654\\uad70\", \"\\uacc4\\uc591\\uad6c\", \"\\uae30\\ud0c0\", \"\\ub0a8\\ub3d9\\uad6c\", \"\\ub3d9\\uad6c\", \"\\ubbf8\\ucd94\\ud640\\uad6c\", \"\\ubd80\\ud3c9\\uad6c\", \"\\uc11c\\uad6c\", \"\\uc5f0\\uc218\\uad6c\", \"\\uc911\\uad6c\"], \"legendgroup\": \"\", \"marker\": {\"color\": \"#636efa\"}, \"name\": \"\", \"offsetgroup\": \"\", \"orientation\": \"v\", \"showlegend\": false, \"textposition\": \"auto\", \"x\": [\"\\uac15\\ud654\\uad70\", \"\\uacc4\\uc591\\uad6c\", \"\\uae30\\ud0c0\", \"\\ub0a8\\ub3d9\\uad6c\", \"\\ub3d9\\uad6c\", \"\\ubbf8\\ucd94\\ud640\\uad6c\", \"\\ubd80\\ud3c9\\uad6c\", \"\\uc11c\\uad6c\", \"\\uc5f0\\uc218\\uad6c\", \"\\uc911\\uad6c\"], \"xaxis\": \"x\", \"y\": [1.0, 6.0, 3.0, 10.0, 2.0, 10.0, 17.0, 11.0, 21.0, 5.0], \"yaxis\": \"y\", \"type\": \"bar\"}], \"name\": \"2020-04-10\"}, {\"data\": [{\"alignmentgroup\": \"True\", \"hovertemplate\": \"confirmed_date=2020-04-11<br>city=%{x}<br>cum_count=%{y}<extra></extra>\", \"ids\": [\"\\uac15\\ud654\\uad70\", \"\\uacc4\\uc591\\uad6c\", \"\\uae30\\ud0c0\", \"\\ub0a8\\ub3d9\\uad6c\", \"\\ub3d9\\uad6c\", \"\\ubbf8\\ucd94\\ud640\\uad6c\", \"\\ubd80\\ud3c9\\uad6c\", \"\\uc11c\\uad6c\", \"\\uc5f0\\uc218\\uad6c\", \"\\uc911\\uad6c\"], \"legendgroup\": \"\", \"marker\": {\"color\": \"#636efa\"}, \"name\": \"\", \"offsetgroup\": \"\", \"orientation\": \"v\", \"showlegend\": false, \"textposition\": \"auto\", \"x\": [\"\\uac15\\ud654\\uad70\", \"\\uacc4\\uc591\\uad6c\", \"\\uae30\\ud0c0\", \"\\ub0a8\\ub3d9\\uad6c\", \"\\ub3d9\\uad6c\", \"\\ubbf8\\ucd94\\ud640\\uad6c\", \"\\ubd80\\ud3c9\\uad6c\", \"\\uc11c\\uad6c\", \"\\uc5f0\\uc218\\uad6c\", \"\\uc911\\uad6c\"], \"xaxis\": \"x\", \"y\": [1.0, 6.0, 3.0, 10.0, 2.0, 10.0, 17.0, 11.0, 21.0, 5.0], \"yaxis\": \"y\", \"type\": \"bar\"}], \"name\": \"2020-04-11\"}, {\"data\": [{\"alignmentgroup\": \"True\", \"hovertemplate\": \"confirmed_date=2020-04-12<br>city=%{x}<br>cum_count=%{y}<extra></extra>\", \"ids\": [\"\\uac15\\ud654\\uad70\", \"\\uacc4\\uc591\\uad6c\", \"\\uae30\\ud0c0\", \"\\ub0a8\\ub3d9\\uad6c\", \"\\ub3d9\\uad6c\", \"\\ubbf8\\ucd94\\ud640\\uad6c\", \"\\ubd80\\ud3c9\\uad6c\", \"\\uc11c\\uad6c\", \"\\uc5f0\\uc218\\uad6c\", \"\\uc911\\uad6c\"], \"legendgroup\": \"\", \"marker\": {\"color\": \"#636efa\"}, \"name\": \"\", \"offsetgroup\": \"\", \"orientation\": \"v\", \"showlegend\": false, \"textposition\": \"auto\", \"x\": [\"\\uac15\\ud654\\uad70\", \"\\uacc4\\uc591\\uad6c\", \"\\uae30\\ud0c0\", \"\\ub0a8\\ub3d9\\uad6c\", \"\\ub3d9\\uad6c\", \"\\ubbf8\\ucd94\\ud640\\uad6c\", \"\\ubd80\\ud3c9\\uad6c\", \"\\uc11c\\uad6c\", \"\\uc5f0\\uc218\\uad6c\", \"\\uc911\\uad6c\"], \"xaxis\": \"x\", \"y\": [1.0, 6.0, 3.0, 10.0, 2.0, 10.0, 17.0, 11.0, 22.0, 5.0], \"yaxis\": \"y\", \"type\": \"bar\"}], \"name\": \"2020-04-12\"}]);\n",
       "                        }).then(function(){\n",
       "                            \n",
       "var gd = document.getElementById('ca73b996-bb66-4daf-8ae0-742208980dfb');\n",
       "var x = new MutationObserver(function (mutations, observer) {{\n",
       "        var display = window.getComputedStyle(gd).display;\n",
       "        if (!display || display === 'none') {{\n",
       "            console.log([gd, 'removed!']);\n",
       "            Plotly.purge(gd);\n",
       "            observer.disconnect();\n",
       "        }}\n",
       "}});\n",
       "\n",
       "// Listen for the removal of the full notebook cells\n",
       "var notebookContainer = gd.closest('#notebook-container');\n",
       "if (notebookContainer) {{\n",
       "    x.observe(notebookContainer, {childList: true});\n",
       "}}\n",
       "\n",
       "// Listen for the clearing of the current output cell\n",
       "var outputEl = gd.closest('.output');\n",
       "if (outputEl) {{\n",
       "    x.observe(outputEl, {childList: true});\n",
       "}}\n",
       "\n",
       "                        })\n",
       "                };\n",
       "                });\n",
       "            </script>\n",
       "        </div>"
      ]
     },
     "metadata": {},
     "output_type": "display_data"
    }
   ],
   "source": [
    "plot_confirmed(day_incheon)"
   ]
  }
 ],
 "metadata": {
  "kernelspec": {
   "display_name": "Corona19",
   "language": "python",
   "name": "corona19"
  },
  "language_info": {
   "codemirror_mode": {
    "name": "ipython",
    "version": 3
   },
   "file_extension": ".py",
   "mimetype": "text/x-python",
   "name": "python",
   "nbconvert_exporter": "python",
   "pygments_lexer": "ipython3",
   "version": "3.8.2"
  },
  "toc": {
   "base_numbering": 1,
   "nav_menu": {},
   "number_sections": true,
   "sideBar": true,
   "skip_h1_title": false,
   "title_cell": "Table of Contents",
   "title_sidebar": "Contents",
   "toc_cell": false,
   "toc_position": {},
   "toc_section_display": true,
   "toc_window_display": false
  }
 },
 "nbformat": 4,
 "nbformat_minor": 4
}
